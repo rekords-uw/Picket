{
 "cells": [
  {
   "cell_type": "code",
   "execution_count": 1,
   "metadata": {},
   "outputs": [],
   "source": [
    "import sys\n",
    "sys.path.append('../')\n",
    "\n",
    "from picket.prepare.dataPrepare import dataPrepareTrain, dataPrepareTest\n",
    "from picket.filter.filtersTest import PK_model_prepare\n",
    "from picket.filter.filtersTest import validate_per_class_detector, printTestTimeMicroBM"
   ]
  },
  {
   "cell_type": "code",
   "execution_count": 2,
   "metadata": {},
   "outputs": [],
   "source": [
    "# dataset includes 'wine', 'adultx', 'restaurant', 'marketing', 'titanic', 'HTRU2'\n",
    "dataset = 'marketing'\n",
    "# 'random', 'system' for all datasets, 'adv' for purely numerical datasets\n",
    "noise_type = 'random'\n",
    "# Can be 'lr', 'svm', 'nn'\n",
    "downstream_model = 'lr'"
   ]
  },
  {
   "cell_type": "markdown",
   "metadata": {},
   "source": [
    "## Train-test Split and Noise Injection"
   ]
  },
  {
   "cell_type": "code",
   "execution_count": 3,
   "metadata": {},
   "outputs": [],
   "source": [
    "dataPrepareTrain(dataset)\n",
    "dataPrepareTest(dataset, adv=(noise_type=='adv'))"
   ]
  },
  {
   "cell_type": "markdown",
   "metadata": {},
   "source": [
    "## Outlier Detection at Training Time"
   ]
  },
  {
   "cell_type": "code",
   "execution_count": 4,
   "metadata": {},
   "outputs": [
    {
     "name": "stdout",
     "output_type": "stream",
     "text": [
      "Noise Type: random, Model: lr, Level: medium\n",
      "############################################\n",
      "#                    0                     #\n",
      "############################################\n",
      "Use Encoding: 1\n",
      "CrossEntropy Loss: 1.515969 MSE Loss: 0.000000 Time elapsed: 47.968990 s\n",
      "CrossEntropy Loss: 1.514279 MSE Loss: 0.000000 Time elapsed: 47.450877 s\n",
      "CrossEntropy Loss: 1.515843 MSE Loss: 0.000000 Time elapsed: 47.651375 s\n",
      "CrossEntropy Loss: 1.515222 MSE Loss: 0.000000 Time elapsed: 47.877183 s\n",
      "CrossEntropy Loss: 1.516178 MSE Loss: 0.000000 Time elapsed: 48.403550 s\n",
      "CrossEntropy Loss: 1.515350 MSE Loss: 0.000000 Time elapsed: 48.997626 s\n",
      "CrossEntropy Loss: 1.514553 MSE Loss: 0.000000 Time elapsed: 48.355517 s\n",
      "CrossEntropy Loss: 1.516589 MSE Loss: 0.000000 Time elapsed: 48.548856 s\n",
      "CrossEntropy Loss: 1.515657 MSE Loss: 0.000000 Time elapsed: 47.397773 s\n",
      "CrossEntropy Loss: 1.514566 MSE Loss: 0.000000 Time elapsed: 47.308378 s\n",
      "CrossEntropy Loss: 1.720667 MSE Loss: 0.000000 Time elapsed: 3.944968 s\n",
      "CrossEntropy Loss: 1.721146 MSE Loss: 0.000000 Time elapsed: 3.972488 s\n",
      "CrossEntropy Loss: 1.722049 MSE Loss: 0.000000 Time elapsed: 3.961355 s\n",
      "CrossEntropy Loss: 1.722782 MSE Loss: 0.000000 Time elapsed: 3.953254 s\n",
      "CrossEntropy Loss: 1.724788 MSE Loss: 0.000000 Time elapsed: 3.947376 s\n",
      "CrossEntropy Loss: 1.723466 MSE Loss: 0.000000 Time elapsed: 4.026191 s\n",
      "CrossEntropy Loss: 1.721602 MSE Loss: 0.000000 Time elapsed: 4.043815 s\n",
      "CrossEntropy Loss: 1.724519 MSE Loss: 0.000000 Time elapsed: 4.040580 s\n",
      "CrossEntropy Loss: 1.718236 MSE Loss: 0.000000 Time elapsed: 3.975990 s\n",
      "CrossEntropy Loss: 1.721471 MSE Loss: 0.000000 Time elapsed: 3.959505 s\n"
     ]
    },
    {
     "name": "stderr",
     "output_type": "stream",
     "text": [
      "/opt/conda/lib/python3.7/site-packages/sklearn/linear_model/_logistic.py:940: ConvergenceWarning: lbfgs failed to converge (status=1):\n",
      "STOP: TOTAL NO. of ITERATIONS REACHED LIMIT.\n",
      "\n",
      "Increase the number of iterations (max_iter) or scale the data as shown in:\n",
      "    https://scikit-learn.org/stable/modules/preprocessing.html\n",
      "Please also refer to the documentation for alternative solver options:\n",
      "    https://scikit-learn.org/stable/modules/linear_model.html#logistic-regression\n",
      "  extra_warning_msg=_LOGISTIC_SOLVER_CONVERGENCE_MSG)\n"
     ]
    },
    {
     "name": "stdout",
     "output_type": "stream",
     "text": [
      "Method: Raw Feature w/ PK Loss\n"
     ]
    },
    {
     "name": "stderr",
     "output_type": "stream",
     "text": [
      "/opt/conda/lib/python3.7/site-packages/sklearn/linear_model/_logistic.py:940: ConvergenceWarning: lbfgs failed to converge (status=1):\n",
      "STOP: TOTAL NO. of ITERATIONS REACHED LIMIT.\n",
      "\n",
      "Increase the number of iterations (max_iter) or scale the data as shown in:\n",
      "    https://scikit-learn.org/stable/modules/preprocessing.html\n",
      "Please also refer to the documentation for alternative solver options:\n",
      "    https://scikit-learn.org/stable/modules/linear_model.html#logistic-regression\n",
      "  extra_warning_msg=_LOGISTIC_SOLVER_CONVERGENCE_MSG)\n",
      "/opt/conda/lib/python3.7/site-packages/sklearn/linear_model/_logistic.py:940: ConvergenceWarning: lbfgs failed to converge (status=1):\n",
      "STOP: TOTAL NO. of ITERATIONS REACHED LIMIT.\n",
      "\n",
      "Increase the number of iterations (max_iter) or scale the data as shown in:\n",
      "    https://scikit-learn.org/stable/modules/preprocessing.html\n",
      "Please also refer to the documentation for alternative solver options:\n",
      "    https://scikit-learn.org/stable/modules/linear_model.html#logistic-regression\n",
      "  extra_warning_msg=_LOGISTIC_SOLVER_CONVERGENCE_MSG)\n"
     ]
    },
    {
     "name": "stdout",
     "output_type": "stream",
     "text": [
      "Method: Raw Feature w/ PK Loss\n",
      "Method: PK Loss Only\n",
      "############################################\n",
      "#                    1                     #\n",
      "############################################\n",
      "Use Encoding: 1\n",
      "CrossEntropy Loss: 1.472903 MSE Loss: 0.000000 Time elapsed: 47.675906 s\n",
      "CrossEntropy Loss: 1.471248 MSE Loss: 0.000000 Time elapsed: 48.315529 s\n",
      "CrossEntropy Loss: 1.471940 MSE Loss: 0.000000 Time elapsed: 47.620731 s\n",
      "CrossEntropy Loss: 1.472495 MSE Loss: 0.000000 Time elapsed: 47.687417 s\n",
      "CrossEntropy Loss: 1.473053 MSE Loss: 0.000000 Time elapsed: 47.740639 s\n",
      "CrossEntropy Loss: 1.472618 MSE Loss: 0.000000 Time elapsed: 47.772237 s\n",
      "CrossEntropy Loss: 1.473509 MSE Loss: 0.000000 Time elapsed: 49.019654 s\n",
      "CrossEntropy Loss: 1.472776 MSE Loss: 0.000000 Time elapsed: 47.672782 s\n",
      "CrossEntropy Loss: 1.472320 MSE Loss: 0.000000 Time elapsed: 47.738743 s\n",
      "CrossEntropy Loss: 1.472880 MSE Loss: 0.000000 Time elapsed: 49.026551 s\n",
      "CrossEntropy Loss: 1.666934 MSE Loss: 0.000000 Time elapsed: 4.104702 s\n",
      "CrossEntropy Loss: 1.671330 MSE Loss: 0.000000 Time elapsed: 4.186990 s\n",
      "CrossEntropy Loss: 1.667544 MSE Loss: 0.000000 Time elapsed: 4.053130 s\n",
      "CrossEntropy Loss: 1.668375 MSE Loss: 0.000000 Time elapsed: 4.112892 s\n",
      "CrossEntropy Loss: 1.670501 MSE Loss: 0.000000 Time elapsed: 4.048018 s\n",
      "CrossEntropy Loss: 1.677388 MSE Loss: 0.000000 Time elapsed: 4.131603 s\n",
      "CrossEntropy Loss: 1.667193 MSE Loss: 0.000000 Time elapsed: 4.008267 s\n",
      "CrossEntropy Loss: 1.664966 MSE Loss: 0.000000 Time elapsed: 4.104344 s\n",
      "CrossEntropy Loss: 1.666841 MSE Loss: 0.000000 Time elapsed: 4.053063 s\n",
      "CrossEntropy Loss: 1.668928 MSE Loss: 0.000000 Time elapsed: 4.049627 s\n"
     ]
    },
    {
     "name": "stderr",
     "output_type": "stream",
     "text": [
      "/opt/conda/lib/python3.7/site-packages/sklearn/linear_model/_logistic.py:940: ConvergenceWarning: lbfgs failed to converge (status=1):\n",
      "STOP: TOTAL NO. of ITERATIONS REACHED LIMIT.\n",
      "\n",
      "Increase the number of iterations (max_iter) or scale the data as shown in:\n",
      "    https://scikit-learn.org/stable/modules/preprocessing.html\n",
      "Please also refer to the documentation for alternative solver options:\n",
      "    https://scikit-learn.org/stable/modules/linear_model.html#logistic-regression\n",
      "  extra_warning_msg=_LOGISTIC_SOLVER_CONVERGENCE_MSG)\n"
     ]
    },
    {
     "name": "stdout",
     "output_type": "stream",
     "text": [
      "Method: Raw Feature w/ PK Loss\n"
     ]
    },
    {
     "name": "stderr",
     "output_type": "stream",
     "text": [
      "/opt/conda/lib/python3.7/site-packages/sklearn/linear_model/_logistic.py:940: ConvergenceWarning: lbfgs failed to converge (status=1):\n",
      "STOP: TOTAL NO. of ITERATIONS REACHED LIMIT.\n",
      "\n",
      "Increase the number of iterations (max_iter) or scale the data as shown in:\n",
      "    https://scikit-learn.org/stable/modules/preprocessing.html\n",
      "Please also refer to the documentation for alternative solver options:\n",
      "    https://scikit-learn.org/stable/modules/linear_model.html#logistic-regression\n",
      "  extra_warning_msg=_LOGISTIC_SOLVER_CONVERGENCE_MSG)\n",
      "/opt/conda/lib/python3.7/site-packages/sklearn/linear_model/_logistic.py:940: ConvergenceWarning: lbfgs failed to converge (status=1):\n",
      "STOP: TOTAL NO. of ITERATIONS REACHED LIMIT.\n",
      "\n",
      "Increase the number of iterations (max_iter) or scale the data as shown in:\n",
      "    https://scikit-learn.org/stable/modules/preprocessing.html\n",
      "Please also refer to the documentation for alternative solver options:\n",
      "    https://scikit-learn.org/stable/modules/linear_model.html#logistic-regression\n",
      "  extra_warning_msg=_LOGISTIC_SOLVER_CONVERGENCE_MSG)\n"
     ]
    },
    {
     "name": "stdout",
     "output_type": "stream",
     "text": [
      "Method: Raw Feature w/ PK Loss\n"
     ]
    },
    {
     "name": "stderr",
     "output_type": "stream",
     "text": [
      "/opt/conda/lib/python3.7/site-packages/sklearn/linear_model/_logistic.py:940: ConvergenceWarning: lbfgs failed to converge (status=1):\n",
      "STOP: TOTAL NO. of ITERATIONS REACHED LIMIT.\n",
      "\n",
      "Increase the number of iterations (max_iter) or scale the data as shown in:\n",
      "    https://scikit-learn.org/stable/modules/preprocessing.html\n",
      "Please also refer to the documentation for alternative solver options:\n",
      "    https://scikit-learn.org/stable/modules/linear_model.html#logistic-regression\n",
      "  extra_warning_msg=_LOGISTIC_SOLVER_CONVERGENCE_MSG)\n"
     ]
    },
    {
     "name": "stdout",
     "output_type": "stream",
     "text": [
      "Method: PK Loss Only\n",
      "############################################\n",
      "#                    2                     #\n",
      "############################################\n",
      "Use Encoding: 1\n",
      "CrossEntropy Loss: 1.488493 MSE Loss: 0.000000 Time elapsed: 49.483576 s\n",
      "CrossEntropy Loss: 1.488399 MSE Loss: 0.000000 Time elapsed: 49.266974 s\n",
      "CrossEntropy Loss: 1.487692 MSE Loss: 0.000000 Time elapsed: 48.554128 s\n",
      "CrossEntropy Loss: 1.487397 MSE Loss: 0.000000 Time elapsed: 48.968059 s\n",
      "CrossEntropy Loss: 1.486753 MSE Loss: 0.000000 Time elapsed: 49.287934 s\n",
      "CrossEntropy Loss: 1.486898 MSE Loss: 0.000000 Time elapsed: 49.103819 s\n",
      "CrossEntropy Loss: 1.486675 MSE Loss: 0.000000 Time elapsed: 49.424605 s\n",
      "CrossEntropy Loss: 1.487839 MSE Loss: 0.000000 Time elapsed: 48.252200 s\n",
      "CrossEntropy Loss: 1.486016 MSE Loss: 0.000000 Time elapsed: 47.346166 s\n",
      "CrossEntropy Loss: 1.484674 MSE Loss: 0.000000 Time elapsed: 47.237126 s\n",
      "CrossEntropy Loss: 1.704257 MSE Loss: 0.000000 Time elapsed: 3.980465 s\n",
      "CrossEntropy Loss: 1.702124 MSE Loss: 0.000000 Time elapsed: 3.974808 s\n",
      "CrossEntropy Loss: 1.709283 MSE Loss: 0.000000 Time elapsed: 3.902962 s\n",
      "CrossEntropy Loss: 1.704541 MSE Loss: 0.000000 Time elapsed: 3.895277 s\n",
      "CrossEntropy Loss: 1.703785 MSE Loss: 0.000000 Time elapsed: 3.938760 s\n",
      "CrossEntropy Loss: 1.705961 MSE Loss: 0.000000 Time elapsed: 4.020404 s\n",
      "CrossEntropy Loss: 1.698315 MSE Loss: 0.000000 Time elapsed: 4.056877 s\n",
      "CrossEntropy Loss: 1.705468 MSE Loss: 0.000000 Time elapsed: 3.901812 s\n",
      "CrossEntropy Loss: 1.704125 MSE Loss: 0.000000 Time elapsed: 3.907300 s\n",
      "CrossEntropy Loss: 1.695679 MSE Loss: 0.000000 Time elapsed: 3.903818 s\n"
     ]
    },
    {
     "name": "stderr",
     "output_type": "stream",
     "text": [
      "/opt/conda/lib/python3.7/site-packages/sklearn/linear_model/_logistic.py:940: ConvergenceWarning: lbfgs failed to converge (status=1):\n",
      "STOP: TOTAL NO. of ITERATIONS REACHED LIMIT.\n",
      "\n",
      "Increase the number of iterations (max_iter) or scale the data as shown in:\n",
      "    https://scikit-learn.org/stable/modules/preprocessing.html\n",
      "Please also refer to the documentation for alternative solver options:\n",
      "    https://scikit-learn.org/stable/modules/linear_model.html#logistic-regression\n",
      "  extra_warning_msg=_LOGISTIC_SOLVER_CONVERGENCE_MSG)\n"
     ]
    },
    {
     "name": "stdout",
     "output_type": "stream",
     "text": [
      "Method: Raw Feature w/ PK Loss\n"
     ]
    },
    {
     "name": "stderr",
     "output_type": "stream",
     "text": [
      "/opt/conda/lib/python3.7/site-packages/sklearn/linear_model/_logistic.py:940: ConvergenceWarning: lbfgs failed to converge (status=1):\n",
      "STOP: TOTAL NO. of ITERATIONS REACHED LIMIT.\n",
      "\n",
      "Increase the number of iterations (max_iter) or scale the data as shown in:\n",
      "    https://scikit-learn.org/stable/modules/preprocessing.html\n",
      "Please also refer to the documentation for alternative solver options:\n",
      "    https://scikit-learn.org/stable/modules/linear_model.html#logistic-regression\n",
      "  extra_warning_msg=_LOGISTIC_SOLVER_CONVERGENCE_MSG)\n",
      "/opt/conda/lib/python3.7/site-packages/sklearn/linear_model/_logistic.py:940: ConvergenceWarning: lbfgs failed to converge (status=1):\n",
      "STOP: TOTAL NO. of ITERATIONS REACHED LIMIT.\n",
      "\n",
      "Increase the number of iterations (max_iter) or scale the data as shown in:\n",
      "    https://scikit-learn.org/stable/modules/preprocessing.html\n",
      "Please also refer to the documentation for alternative solver options:\n",
      "    https://scikit-learn.org/stable/modules/linear_model.html#logistic-regression\n",
      "  extra_warning_msg=_LOGISTIC_SOLVER_CONVERGENCE_MSG)\n"
     ]
    },
    {
     "name": "stdout",
     "output_type": "stream",
     "text": [
      "Method: Raw Feature w/ PK Loss\n"
     ]
    },
    {
     "name": "stderr",
     "output_type": "stream",
     "text": [
      "/opt/conda/lib/python3.7/site-packages/sklearn/linear_model/_logistic.py:940: ConvergenceWarning: lbfgs failed to converge (status=1):\n",
      "STOP: TOTAL NO. of ITERATIONS REACHED LIMIT.\n",
      "\n",
      "Increase the number of iterations (max_iter) or scale the data as shown in:\n",
      "    https://scikit-learn.org/stable/modules/preprocessing.html\n",
      "Please also refer to the documentation for alternative solver options:\n",
      "    https://scikit-learn.org/stable/modules/linear_model.html#logistic-regression\n",
      "  extra_warning_msg=_LOGISTIC_SOLVER_CONVERGENCE_MSG)\n"
     ]
    },
    {
     "name": "stdout",
     "output_type": "stream",
     "text": [
      "Method: PK Loss Only\n",
      "############################################\n",
      "#                    3                     #\n",
      "############################################\n",
      "Use Encoding: 1\n",
      "CrossEntropy Loss: 1.483968 MSE Loss: 0.000000 Time elapsed: 48.915612 s\n",
      "CrossEntropy Loss: 1.484658 MSE Loss: 0.000000 Time elapsed: 49.258183 s\n",
      "CrossEntropy Loss: 1.485416 MSE Loss: 0.000000 Time elapsed: 48.896629 s\n",
      "CrossEntropy Loss: 1.484910 MSE Loss: 0.000000 Time elapsed: 49.537699 s\n",
      "CrossEntropy Loss: 1.485179 MSE Loss: 0.000000 Time elapsed: 49.377658 s\n",
      "CrossEntropy Loss: 1.485165 MSE Loss: 0.000000 Time elapsed: 49.493015 s\n",
      "CrossEntropy Loss: 1.485581 MSE Loss: 0.000000 Time elapsed: 49.275523 s\n",
      "CrossEntropy Loss: 1.485473 MSE Loss: 0.000000 Time elapsed: 48.945444 s\n",
      "CrossEntropy Loss: 1.484970 MSE Loss: 0.000000 Time elapsed: 49.917744 s\n",
      "CrossEntropy Loss: 1.484493 MSE Loss: 0.000000 Time elapsed: 49.281199 s\n",
      "CrossEntropy Loss: 1.673397 MSE Loss: 0.000000 Time elapsed: 3.977293 s\n",
      "CrossEntropy Loss: 1.671717 MSE Loss: 0.000000 Time elapsed: 3.947841 s\n",
      "CrossEntropy Loss: 1.671548 MSE Loss: 0.000000 Time elapsed: 3.962617 s\n",
      "CrossEntropy Loss: 1.675000 MSE Loss: 0.000000 Time elapsed: 4.006714 s\n",
      "CrossEntropy Loss: 1.675496 MSE Loss: 0.000000 Time elapsed: 3.963095 s\n",
      "CrossEntropy Loss: 1.671355 MSE Loss: 0.000000 Time elapsed: 3.935820 s\n",
      "CrossEntropy Loss: 1.671026 MSE Loss: 0.000000 Time elapsed: 3.941155 s\n",
      "CrossEntropy Loss: 1.666719 MSE Loss: 0.000000 Time elapsed: 3.983337 s\n",
      "CrossEntropy Loss: 1.675269 MSE Loss: 0.000000 Time elapsed: 3.953086 s\n",
      "CrossEntropy Loss: 1.670445 MSE Loss: 0.000000 Time elapsed: 3.946766 s\n"
     ]
    },
    {
     "name": "stderr",
     "output_type": "stream",
     "text": [
      "/opt/conda/lib/python3.7/site-packages/sklearn/linear_model/_logistic.py:940: ConvergenceWarning: lbfgs failed to converge (status=1):\n",
      "STOP: TOTAL NO. of ITERATIONS REACHED LIMIT.\n",
      "\n",
      "Increase the number of iterations (max_iter) or scale the data as shown in:\n",
      "    https://scikit-learn.org/stable/modules/preprocessing.html\n",
      "Please also refer to the documentation for alternative solver options:\n",
      "    https://scikit-learn.org/stable/modules/linear_model.html#logistic-regression\n",
      "  extra_warning_msg=_LOGISTIC_SOLVER_CONVERGENCE_MSG)\n"
     ]
    },
    {
     "name": "stdout",
     "output_type": "stream",
     "text": [
      "Method: Raw Feature w/ PK Loss\n"
     ]
    },
    {
     "name": "stderr",
     "output_type": "stream",
     "text": [
      "/opt/conda/lib/python3.7/site-packages/sklearn/linear_model/_logistic.py:940: ConvergenceWarning: lbfgs failed to converge (status=1):\n",
      "STOP: TOTAL NO. of ITERATIONS REACHED LIMIT.\n",
      "\n",
      "Increase the number of iterations (max_iter) or scale the data as shown in:\n",
      "    https://scikit-learn.org/stable/modules/preprocessing.html\n",
      "Please also refer to the documentation for alternative solver options:\n",
      "    https://scikit-learn.org/stable/modules/linear_model.html#logistic-regression\n",
      "  extra_warning_msg=_LOGISTIC_SOLVER_CONVERGENCE_MSG)\n",
      "/opt/conda/lib/python3.7/site-packages/sklearn/linear_model/_logistic.py:940: ConvergenceWarning: lbfgs failed to converge (status=1):\n",
      "STOP: TOTAL NO. of ITERATIONS REACHED LIMIT.\n",
      "\n",
      "Increase the number of iterations (max_iter) or scale the data as shown in:\n",
      "    https://scikit-learn.org/stable/modules/preprocessing.html\n",
      "Please also refer to the documentation for alternative solver options:\n",
      "    https://scikit-learn.org/stable/modules/linear_model.html#logistic-regression\n",
      "  extra_warning_msg=_LOGISTIC_SOLVER_CONVERGENCE_MSG)\n"
     ]
    },
    {
     "name": "stdout",
     "output_type": "stream",
     "text": [
      "Method: Raw Feature w/ PK Loss\n"
     ]
    },
    {
     "name": "stderr",
     "output_type": "stream",
     "text": [
      "/opt/conda/lib/python3.7/site-packages/sklearn/linear_model/_logistic.py:940: ConvergenceWarning: lbfgs failed to converge (status=1):\n",
      "STOP: TOTAL NO. of ITERATIONS REACHED LIMIT.\n",
      "\n",
      "Increase the number of iterations (max_iter) or scale the data as shown in:\n",
      "    https://scikit-learn.org/stable/modules/preprocessing.html\n",
      "Please also refer to the documentation for alternative solver options:\n",
      "    https://scikit-learn.org/stable/modules/linear_model.html#logistic-regression\n",
      "  extra_warning_msg=_LOGISTIC_SOLVER_CONVERGENCE_MSG)\n"
     ]
    },
    {
     "name": "stdout",
     "output_type": "stream",
     "text": [
      "Method: PK Loss Only\n",
      "############################################\n",
      "#                    4                     #\n",
      "############################################\n",
      "Use Encoding: 1\n",
      "CrossEntropy Loss: 1.501183 MSE Loss: 0.000000 Time elapsed: 48.708006 s\n",
      "CrossEntropy Loss: 1.501621 MSE Loss: 0.000000 Time elapsed: 48.641777 s\n",
      "CrossEntropy Loss: 1.504106 MSE Loss: 0.000000 Time elapsed: 49.223521 s\n",
      "CrossEntropy Loss: 1.501616 MSE Loss: 0.000000 Time elapsed: 48.741507 s\n",
      "CrossEntropy Loss: 1.501379 MSE Loss: 0.000000 Time elapsed: 49.352684 s\n",
      "CrossEntropy Loss: 1.502272 MSE Loss: 0.000000 Time elapsed: 48.901027 s\n",
      "CrossEntropy Loss: 1.502315 MSE Loss: 0.000000 Time elapsed: 47.584649 s\n",
      "CrossEntropy Loss: 1.502274 MSE Loss: 0.000000 Time elapsed: 47.671883 s\n",
      "CrossEntropy Loss: 1.505275 MSE Loss: 0.000000 Time elapsed: 47.554275 s\n",
      "CrossEntropy Loss: 1.501313 MSE Loss: 0.000000 Time elapsed: 48.199589 s\n",
      "CrossEntropy Loss: 1.676297 MSE Loss: 0.000000 Time elapsed: 4.079117 s\n",
      "CrossEntropy Loss: 1.681953 MSE Loss: 0.000000 Time elapsed: 4.165082 s\n",
      "CrossEntropy Loss: 1.673973 MSE Loss: 0.000000 Time elapsed: 4.101245 s\n",
      "CrossEntropy Loss: 1.670555 MSE Loss: 0.000000 Time elapsed: 4.097713 s\n",
      "CrossEntropy Loss: 1.680416 MSE Loss: 0.000000 Time elapsed: 4.031752 s\n",
      "CrossEntropy Loss: 1.677174 MSE Loss: 0.000000 Time elapsed: 4.093995 s\n",
      "CrossEntropy Loss: 1.674280 MSE Loss: 0.000000 Time elapsed: 4.001979 s\n",
      "CrossEntropy Loss: 1.675909 MSE Loss: 0.000000 Time elapsed: 4.033731 s\n",
      "CrossEntropy Loss: 1.673997 MSE Loss: 0.000000 Time elapsed: 4.209468 s\n",
      "CrossEntropy Loss: 1.676540 MSE Loss: 0.000000 Time elapsed: 4.113762 s\n"
     ]
    },
    {
     "name": "stderr",
     "output_type": "stream",
     "text": [
      "/opt/conda/lib/python3.7/site-packages/sklearn/linear_model/_logistic.py:940: ConvergenceWarning: lbfgs failed to converge (status=1):\n",
      "STOP: TOTAL NO. of ITERATIONS REACHED LIMIT.\n",
      "\n",
      "Increase the number of iterations (max_iter) or scale the data as shown in:\n",
      "    https://scikit-learn.org/stable/modules/preprocessing.html\n",
      "Please also refer to the documentation for alternative solver options:\n",
      "    https://scikit-learn.org/stable/modules/linear_model.html#logistic-regression\n",
      "  extra_warning_msg=_LOGISTIC_SOLVER_CONVERGENCE_MSG)\n"
     ]
    },
    {
     "name": "stdout",
     "output_type": "stream",
     "text": [
      "Method: Raw Feature w/ PK Loss\n"
     ]
    },
    {
     "name": "stderr",
     "output_type": "stream",
     "text": [
      "/opt/conda/lib/python3.7/site-packages/sklearn/linear_model/_logistic.py:940: ConvergenceWarning: lbfgs failed to converge (status=1):\n",
      "STOP: TOTAL NO. of ITERATIONS REACHED LIMIT.\n",
      "\n",
      "Increase the number of iterations (max_iter) or scale the data as shown in:\n",
      "    https://scikit-learn.org/stable/modules/preprocessing.html\n",
      "Please also refer to the documentation for alternative solver options:\n",
      "    https://scikit-learn.org/stable/modules/linear_model.html#logistic-regression\n",
      "  extra_warning_msg=_LOGISTIC_SOLVER_CONVERGENCE_MSG)\n",
      "/opt/conda/lib/python3.7/site-packages/sklearn/linear_model/_logistic.py:940: ConvergenceWarning: lbfgs failed to converge (status=1):\n",
      "STOP: TOTAL NO. of ITERATIONS REACHED LIMIT.\n",
      "\n",
      "Increase the number of iterations (max_iter) or scale the data as shown in:\n",
      "    https://scikit-learn.org/stable/modules/preprocessing.html\n",
      "Please also refer to the documentation for alternative solver options:\n",
      "    https://scikit-learn.org/stable/modules/linear_model.html#logistic-regression\n",
      "  extra_warning_msg=_LOGISTIC_SOLVER_CONVERGENCE_MSG)\n"
     ]
    },
    {
     "name": "stdout",
     "output_type": "stream",
     "text": [
      "Method: Raw Feature w/ PK Loss\n",
      "Method: PK Loss Only\n",
      "Noise Type: random, Model: svm, Level: medium\n",
      "############################################\n",
      "#                    0                     #\n",
      "############################################\n",
      "Use Encoding: 1\n",
      "CrossEntropy Loss: 1.533993 MSE Loss: 0.000000 Time elapsed: 49.116181 s\n",
      "CrossEntropy Loss: 1.534017 MSE Loss: 0.000000 Time elapsed: 48.245109 s\n",
      "CrossEntropy Loss: 1.534114 MSE Loss: 0.000000 Time elapsed: 47.656618 s\n",
      "CrossEntropy Loss: 1.534399 MSE Loss: 0.000000 Time elapsed: 47.035642 s\n",
      "CrossEntropy Loss: 1.531728 MSE Loss: 0.000000 Time elapsed: 47.576892 s\n",
      "CrossEntropy Loss: 1.533585 MSE Loss: 0.000000 Time elapsed: 47.749296 s\n",
      "CrossEntropy Loss: 1.536348 MSE Loss: 0.000000 Time elapsed: 47.776711 s\n",
      "CrossEntropy Loss: 1.535319 MSE Loss: 0.000000 Time elapsed: 47.182430 s\n",
      "CrossEntropy Loss: 1.530767 MSE Loss: 0.000000 Time elapsed: 47.652364 s\n",
      "CrossEntropy Loss: 1.533250 MSE Loss: 0.000000 Time elapsed: 47.595999 s\n",
      "CrossEntropy Loss: 1.725409 MSE Loss: 0.000000 Time elapsed: 3.954892 s\n",
      "CrossEntropy Loss: 1.722559 MSE Loss: 0.000000 Time elapsed: 3.972257 s\n",
      "CrossEntropy Loss: 1.732281 MSE Loss: 0.000000 Time elapsed: 3.931415 s\n",
      "CrossEntropy Loss: 1.725227 MSE Loss: 0.000000 Time elapsed: 4.020240 s\n",
      "CrossEntropy Loss: 1.726131 MSE Loss: 0.000000 Time elapsed: 3.950120 s\n",
      "CrossEntropy Loss: 1.715598 MSE Loss: 0.000000 Time elapsed: 4.049506 s\n",
      "CrossEntropy Loss: 1.727827 MSE Loss: 0.000000 Time elapsed: 3.972556 s\n",
      "CrossEntropy Loss: 1.723563 MSE Loss: 0.000000 Time elapsed: 4.004264 s\n",
      "CrossEntropy Loss: 1.717243 MSE Loss: 0.000000 Time elapsed: 3.981861 s\n",
      "CrossEntropy Loss: 1.728368 MSE Loss: 0.000000 Time elapsed: 3.968466 s\n",
      "Method: Raw Feature w/ PK Loss\n"
     ]
    },
    {
     "name": "stderr",
     "output_type": "stream",
     "text": [
      "/opt/conda/lib/python3.7/site-packages/sklearn/linear_model/_logistic.py:940: ConvergenceWarning: lbfgs failed to converge (status=1):\n",
      "STOP: TOTAL NO. of ITERATIONS REACHED LIMIT.\n",
      "\n",
      "Increase the number of iterations (max_iter) or scale the data as shown in:\n",
      "    https://scikit-learn.org/stable/modules/preprocessing.html\n",
      "Please also refer to the documentation for alternative solver options:\n",
      "    https://scikit-learn.org/stable/modules/linear_model.html#logistic-regression\n",
      "  extra_warning_msg=_LOGISTIC_SOLVER_CONVERGENCE_MSG)\n",
      "/opt/conda/lib/python3.7/site-packages/sklearn/linear_model/_logistic.py:940: ConvergenceWarning: lbfgs failed to converge (status=1):\n",
      "STOP: TOTAL NO. of ITERATIONS REACHED LIMIT.\n",
      "\n",
      "Increase the number of iterations (max_iter) or scale the data as shown in:\n",
      "    https://scikit-learn.org/stable/modules/preprocessing.html\n",
      "Please also refer to the documentation for alternative solver options:\n",
      "    https://scikit-learn.org/stable/modules/linear_model.html#logistic-regression\n",
      "  extra_warning_msg=_LOGISTIC_SOLVER_CONVERGENCE_MSG)\n"
     ]
    },
    {
     "name": "stdout",
     "output_type": "stream",
     "text": [
      "Method: Raw Feature w/ PK Loss\n"
     ]
    },
    {
     "name": "stderr",
     "output_type": "stream",
     "text": [
      "/opt/conda/lib/python3.7/site-packages/sklearn/linear_model/_logistic.py:940: ConvergenceWarning: lbfgs failed to converge (status=1):\n",
      "STOP: TOTAL NO. of ITERATIONS REACHED LIMIT.\n",
      "\n",
      "Increase the number of iterations (max_iter) or scale the data as shown in:\n",
      "    https://scikit-learn.org/stable/modules/preprocessing.html\n",
      "Please also refer to the documentation for alternative solver options:\n",
      "    https://scikit-learn.org/stable/modules/linear_model.html#logistic-regression\n",
      "  extra_warning_msg=_LOGISTIC_SOLVER_CONVERGENCE_MSG)\n"
     ]
    },
    {
     "name": "stdout",
     "output_type": "stream",
     "text": [
      "Method: PK Loss Only\n",
      "############################################\n",
      "#                    1                     #\n",
      "############################################\n",
      "Use Encoding: 1\n",
      "CrossEntropy Loss: 1.477940 MSE Loss: 0.000000 Time elapsed: 47.749510 s\n",
      "CrossEntropy Loss: 1.477000 MSE Loss: 0.000000 Time elapsed: 47.500743 s\n",
      "CrossEntropy Loss: 1.478685 MSE Loss: 0.000000 Time elapsed: 48.133794 s\n",
      "CrossEntropy Loss: 1.476655 MSE Loss: 0.000000 Time elapsed: 49.250284 s\n",
      "CrossEntropy Loss: 1.478415 MSE Loss: 0.000000 Time elapsed: 49.179575 s\n",
      "CrossEntropy Loss: 1.477358 MSE Loss: 0.000000 Time elapsed: 49.306281 s\n",
      "CrossEntropy Loss: 1.478455 MSE Loss: 0.000000 Time elapsed: 49.092892 s\n",
      "CrossEntropy Loss: 1.479210 MSE Loss: 0.000000 Time elapsed: 47.563543 s\n",
      "CrossEntropy Loss: 1.477316 MSE Loss: 0.000000 Time elapsed: 47.705003 s\n",
      "CrossEntropy Loss: 1.479164 MSE Loss: 0.000000 Time elapsed: 47.326539 s\n",
      "CrossEntropy Loss: 1.675979 MSE Loss: 0.000000 Time elapsed: 4.003610 s\n",
      "CrossEntropy Loss: 1.678341 MSE Loss: 0.000000 Time elapsed: 4.051778 s\n",
      "CrossEntropy Loss: 1.675306 MSE Loss: 0.000000 Time elapsed: 4.021785 s\n",
      "CrossEntropy Loss: 1.672474 MSE Loss: 0.000000 Time elapsed: 3.976705 s\n",
      "CrossEntropy Loss: 1.679344 MSE Loss: 0.000000 Time elapsed: 3.987725 s\n",
      "CrossEntropy Loss: 1.673204 MSE Loss: 0.000000 Time elapsed: 4.080997 s\n",
      "CrossEntropy Loss: 1.669404 MSE Loss: 0.000000 Time elapsed: 4.141755 s\n",
      "CrossEntropy Loss: 1.672406 MSE Loss: 0.000000 Time elapsed: 4.228058 s\n",
      "CrossEntropy Loss: 1.678741 MSE Loss: 0.000000 Time elapsed: 4.111081 s\n",
      "CrossEntropy Loss: 1.675916 MSE Loss: 0.000000 Time elapsed: 4.102491 s\n",
      "Method: Raw Feature w/ PK Loss\n"
     ]
    },
    {
     "name": "stderr",
     "output_type": "stream",
     "text": [
      "/opt/conda/lib/python3.7/site-packages/sklearn/linear_model/_logistic.py:940: ConvergenceWarning: lbfgs failed to converge (status=1):\n",
      "STOP: TOTAL NO. of ITERATIONS REACHED LIMIT.\n",
      "\n",
      "Increase the number of iterations (max_iter) or scale the data as shown in:\n",
      "    https://scikit-learn.org/stable/modules/preprocessing.html\n",
      "Please also refer to the documentation for alternative solver options:\n",
      "    https://scikit-learn.org/stable/modules/linear_model.html#logistic-regression\n",
      "  extra_warning_msg=_LOGISTIC_SOLVER_CONVERGENCE_MSG)\n",
      "/opt/conda/lib/python3.7/site-packages/sklearn/linear_model/_logistic.py:940: ConvergenceWarning: lbfgs failed to converge (status=1):\n",
      "STOP: TOTAL NO. of ITERATIONS REACHED LIMIT.\n",
      "\n",
      "Increase the number of iterations (max_iter) or scale the data as shown in:\n",
      "    https://scikit-learn.org/stable/modules/preprocessing.html\n",
      "Please also refer to the documentation for alternative solver options:\n",
      "    https://scikit-learn.org/stable/modules/linear_model.html#logistic-regression\n",
      "  extra_warning_msg=_LOGISTIC_SOLVER_CONVERGENCE_MSG)\n"
     ]
    },
    {
     "name": "stdout",
     "output_type": "stream",
     "text": [
      "Method: Raw Feature w/ PK Loss\n"
     ]
    },
    {
     "name": "stderr",
     "output_type": "stream",
     "text": [
      "/opt/conda/lib/python3.7/site-packages/sklearn/linear_model/_logistic.py:940: ConvergenceWarning: lbfgs failed to converge (status=1):\n",
      "STOP: TOTAL NO. of ITERATIONS REACHED LIMIT.\n",
      "\n",
      "Increase the number of iterations (max_iter) or scale the data as shown in:\n",
      "    https://scikit-learn.org/stable/modules/preprocessing.html\n",
      "Please also refer to the documentation for alternative solver options:\n",
      "    https://scikit-learn.org/stable/modules/linear_model.html#logistic-regression\n",
      "  extra_warning_msg=_LOGISTIC_SOLVER_CONVERGENCE_MSG)\n"
     ]
    },
    {
     "name": "stdout",
     "output_type": "stream",
     "text": [
      "Method: PK Loss Only\n",
      "############################################\n",
      "#                    2                     #\n",
      "############################################\n",
      "Use Encoding: 1\n",
      "CrossEntropy Loss: 1.493090 MSE Loss: 0.000000 Time elapsed: 48.027349 s\n",
      "CrossEntropy Loss: 1.492893 MSE Loss: 0.000000 Time elapsed: 47.792080 s\n",
      "CrossEntropy Loss: 1.492662 MSE Loss: 0.000000 Time elapsed: 47.415586 s\n",
      "CrossEntropy Loss: 1.491930 MSE Loss: 0.000000 Time elapsed: 47.799189 s\n",
      "CrossEntropy Loss: 1.491978 MSE Loss: 0.000000 Time elapsed: 49.114435 s\n",
      "CrossEntropy Loss: 1.490546 MSE Loss: 0.000000 Time elapsed: 48.958155 s\n",
      "CrossEntropy Loss: 1.492256 MSE Loss: 0.000000 Time elapsed: 48.866912 s\n",
      "CrossEntropy Loss: 1.491602 MSE Loss: 0.000000 Time elapsed: 47.894610 s\n",
      "CrossEntropy Loss: 1.492013 MSE Loss: 0.000000 Time elapsed: 47.405057 s\n",
      "CrossEntropy Loss: 1.494157 MSE Loss: 0.000000 Time elapsed: 47.766178 s\n",
      "CrossEntropy Loss: 1.701197 MSE Loss: 0.000000 Time elapsed: 3.936110 s\n",
      "CrossEntropy Loss: 1.705771 MSE Loss: 0.000000 Time elapsed: 3.970848 s\n",
      "CrossEntropy Loss: 1.697240 MSE Loss: 0.000000 Time elapsed: 3.870289 s\n",
      "CrossEntropy Loss: 1.700159 MSE Loss: 0.000000 Time elapsed: 3.888312 s\n",
      "CrossEntropy Loss: 1.707076 MSE Loss: 0.000000 Time elapsed: 3.926836 s\n",
      "CrossEntropy Loss: 1.710526 MSE Loss: 0.000000 Time elapsed: 3.885056 s\n",
      "CrossEntropy Loss: 1.704732 MSE Loss: 0.000000 Time elapsed: 3.912862 s\n",
      "CrossEntropy Loss: 1.705275 MSE Loss: 0.000000 Time elapsed: 4.013906 s\n",
      "CrossEntropy Loss: 1.698477 MSE Loss: 0.000000 Time elapsed: 3.892026 s\n",
      "CrossEntropy Loss: 1.701272 MSE Loss: 0.000000 Time elapsed: 3.921700 s\n",
      "Method: Raw Feature w/ PK Loss\n"
     ]
    },
    {
     "name": "stderr",
     "output_type": "stream",
     "text": [
      "/opt/conda/lib/python3.7/site-packages/sklearn/linear_model/_logistic.py:940: ConvergenceWarning: lbfgs failed to converge (status=1):\n",
      "STOP: TOTAL NO. of ITERATIONS REACHED LIMIT.\n",
      "\n",
      "Increase the number of iterations (max_iter) or scale the data as shown in:\n",
      "    https://scikit-learn.org/stable/modules/preprocessing.html\n",
      "Please also refer to the documentation for alternative solver options:\n",
      "    https://scikit-learn.org/stable/modules/linear_model.html#logistic-regression\n",
      "  extra_warning_msg=_LOGISTIC_SOLVER_CONVERGENCE_MSG)\n",
      "/opt/conda/lib/python3.7/site-packages/sklearn/linear_model/_logistic.py:940: ConvergenceWarning: lbfgs failed to converge (status=1):\n",
      "STOP: TOTAL NO. of ITERATIONS REACHED LIMIT.\n",
      "\n",
      "Increase the number of iterations (max_iter) or scale the data as shown in:\n",
      "    https://scikit-learn.org/stable/modules/preprocessing.html\n",
      "Please also refer to the documentation for alternative solver options:\n",
      "    https://scikit-learn.org/stable/modules/linear_model.html#logistic-regression\n",
      "  extra_warning_msg=_LOGISTIC_SOLVER_CONVERGENCE_MSG)\n"
     ]
    },
    {
     "name": "stdout",
     "output_type": "stream",
     "text": [
      "Method: Raw Feature w/ PK Loss\n"
     ]
    },
    {
     "name": "stderr",
     "output_type": "stream",
     "text": [
      "/opt/conda/lib/python3.7/site-packages/sklearn/linear_model/_logistic.py:940: ConvergenceWarning: lbfgs failed to converge (status=1):\n",
      "STOP: TOTAL NO. of ITERATIONS REACHED LIMIT.\n",
      "\n",
      "Increase the number of iterations (max_iter) or scale the data as shown in:\n",
      "    https://scikit-learn.org/stable/modules/preprocessing.html\n",
      "Please also refer to the documentation for alternative solver options:\n",
      "    https://scikit-learn.org/stable/modules/linear_model.html#logistic-regression\n",
      "  extra_warning_msg=_LOGISTIC_SOLVER_CONVERGENCE_MSG)\n"
     ]
    },
    {
     "name": "stdout",
     "output_type": "stream",
     "text": [
      "Method: PK Loss Only\n",
      "############################################\n",
      "#                    3                     #\n",
      "############################################\n",
      "Use Encoding: 1\n",
      "CrossEntropy Loss: 1.487299 MSE Loss: 0.000000 Time elapsed: 49.461295 s\n",
      "CrossEntropy Loss: 1.486605 MSE Loss: 0.000000 Time elapsed: 48.809429 s\n",
      "CrossEntropy Loss: 1.486076 MSE Loss: 0.000000 Time elapsed: 49.169768 s\n",
      "CrossEntropy Loss: 1.488719 MSE Loss: 0.000000 Time elapsed: 49.388670 s\n",
      "CrossEntropy Loss: 1.486993 MSE Loss: 0.000000 Time elapsed: 49.148774 s\n",
      "CrossEntropy Loss: 1.487887 MSE Loss: 0.000000 Time elapsed: 48.883008 s\n",
      "CrossEntropy Loss: 1.488127 MSE Loss: 0.000000 Time elapsed: 48.856451 s\n",
      "CrossEntropy Loss: 1.488088 MSE Loss: 0.000000 Time elapsed: 47.779687 s\n",
      "CrossEntropy Loss: 1.485977 MSE Loss: 0.000000 Time elapsed: 48.377593 s\n",
      "CrossEntropy Loss: 1.485873 MSE Loss: 0.000000 Time elapsed: 47.718234 s\n",
      "CrossEntropy Loss: 1.706293 MSE Loss: 0.000000 Time elapsed: 3.888680 s\n",
      "CrossEntropy Loss: 1.707635 MSE Loss: 0.000000 Time elapsed: 3.941291 s\n",
      "CrossEntropy Loss: 1.703524 MSE Loss: 0.000000 Time elapsed: 3.883277 s\n",
      "CrossEntropy Loss: 1.707623 MSE Loss: 0.000000 Time elapsed: 3.796051 s\n",
      "CrossEntropy Loss: 1.711976 MSE Loss: 0.000000 Time elapsed: 3.800592 s\n",
      "CrossEntropy Loss: 1.703329 MSE Loss: 0.000000 Time elapsed: 3.831792 s\n",
      "CrossEntropy Loss: 1.714395 MSE Loss: 0.000000 Time elapsed: 3.847852 s\n",
      "CrossEntropy Loss: 1.698989 MSE Loss: 0.000000 Time elapsed: 3.811155 s\n",
      "CrossEntropy Loss: 1.710143 MSE Loss: 0.000000 Time elapsed: 3.803455 s\n",
      "CrossEntropy Loss: 1.716511 MSE Loss: 0.000000 Time elapsed: 3.820843 s\n",
      "Method: Raw Feature w/ PK Loss\n"
     ]
    },
    {
     "name": "stderr",
     "output_type": "stream",
     "text": [
      "/opt/conda/lib/python3.7/site-packages/sklearn/linear_model/_logistic.py:940: ConvergenceWarning: lbfgs failed to converge (status=1):\n",
      "STOP: TOTAL NO. of ITERATIONS REACHED LIMIT.\n",
      "\n",
      "Increase the number of iterations (max_iter) or scale the data as shown in:\n",
      "    https://scikit-learn.org/stable/modules/preprocessing.html\n",
      "Please also refer to the documentation for alternative solver options:\n",
      "    https://scikit-learn.org/stable/modules/linear_model.html#logistic-regression\n",
      "  extra_warning_msg=_LOGISTIC_SOLVER_CONVERGENCE_MSG)\n",
      "/opt/conda/lib/python3.7/site-packages/sklearn/linear_model/_logistic.py:940: ConvergenceWarning: lbfgs failed to converge (status=1):\n",
      "STOP: TOTAL NO. of ITERATIONS REACHED LIMIT.\n",
      "\n",
      "Increase the number of iterations (max_iter) or scale the data as shown in:\n",
      "    https://scikit-learn.org/stable/modules/preprocessing.html\n",
      "Please also refer to the documentation for alternative solver options:\n",
      "    https://scikit-learn.org/stable/modules/linear_model.html#logistic-regression\n",
      "  extra_warning_msg=_LOGISTIC_SOLVER_CONVERGENCE_MSG)\n"
     ]
    },
    {
     "name": "stdout",
     "output_type": "stream",
     "text": [
      "Method: Raw Feature w/ PK Loss\n"
     ]
    },
    {
     "name": "stderr",
     "output_type": "stream",
     "text": [
      "/opt/conda/lib/python3.7/site-packages/sklearn/linear_model/_logistic.py:940: ConvergenceWarning: lbfgs failed to converge (status=1):\n",
      "STOP: TOTAL NO. of ITERATIONS REACHED LIMIT.\n",
      "\n",
      "Increase the number of iterations (max_iter) or scale the data as shown in:\n",
      "    https://scikit-learn.org/stable/modules/preprocessing.html\n",
      "Please also refer to the documentation for alternative solver options:\n",
      "    https://scikit-learn.org/stable/modules/linear_model.html#logistic-regression\n",
      "  extra_warning_msg=_LOGISTIC_SOLVER_CONVERGENCE_MSG)\n"
     ]
    },
    {
     "name": "stdout",
     "output_type": "stream",
     "text": [
      "Method: PK Loss Only\n",
      "############################################\n",
      "#                    4                     #\n",
      "############################################\n",
      "Use Encoding: 1\n",
      "CrossEntropy Loss: 1.501574 MSE Loss: 0.000000 Time elapsed: 49.304645 s\n",
      "CrossEntropy Loss: 1.502396 MSE Loss: 0.000000 Time elapsed: 47.690871 s\n",
      "CrossEntropy Loss: 1.500945 MSE Loss: 0.000000 Time elapsed: 47.347462 s\n",
      "CrossEntropy Loss: 1.501968 MSE Loss: 0.000000 Time elapsed: 47.574794 s\n",
      "CrossEntropy Loss: 1.500932 MSE Loss: 0.000000 Time elapsed: 47.228640 s\n",
      "CrossEntropy Loss: 1.501818 MSE Loss: 0.000000 Time elapsed: 49.346604 s\n",
      "CrossEntropy Loss: 1.501989 MSE Loss: 0.000000 Time elapsed: 48.266429 s\n",
      "CrossEntropy Loss: 1.503406 MSE Loss: 0.000000 Time elapsed: 47.592450 s\n",
      "CrossEntropy Loss: 1.501431 MSE Loss: 0.000000 Time elapsed: 47.209565 s\n",
      "CrossEntropy Loss: 1.502077 MSE Loss: 0.000000 Time elapsed: 47.386754 s\n",
      "CrossEntropy Loss: 1.688210 MSE Loss: 0.000000 Time elapsed: 3.998654 s\n",
      "CrossEntropy Loss: 1.688842 MSE Loss: 0.000000 Time elapsed: 4.014615 s\n",
      "CrossEntropy Loss: 1.691532 MSE Loss: 0.000000 Time elapsed: 4.060026 s\n",
      "CrossEntropy Loss: 1.694848 MSE Loss: 0.000000 Time elapsed: 4.061071 s\n",
      "CrossEntropy Loss: 1.687175 MSE Loss: 0.000000 Time elapsed: 4.079691 s\n",
      "CrossEntropy Loss: 1.683203 MSE Loss: 0.000000 Time elapsed: 4.030905 s\n",
      "CrossEntropy Loss: 1.697836 MSE Loss: 0.000000 Time elapsed: 4.055926 s\n",
      "CrossEntropy Loss: 1.695772 MSE Loss: 0.000000 Time elapsed: 4.021744 s\n",
      "CrossEntropy Loss: 1.692189 MSE Loss: 0.000000 Time elapsed: 4.040936 s\n",
      "CrossEntropy Loss: 1.694078 MSE Loss: 0.000000 Time elapsed: 3.987245 s\n",
      "Method: Raw Feature w/ PK Loss\n"
     ]
    },
    {
     "name": "stderr",
     "output_type": "stream",
     "text": [
      "/opt/conda/lib/python3.7/site-packages/sklearn/linear_model/_logistic.py:940: ConvergenceWarning: lbfgs failed to converge (status=1):\n",
      "STOP: TOTAL NO. of ITERATIONS REACHED LIMIT.\n",
      "\n",
      "Increase the number of iterations (max_iter) or scale the data as shown in:\n",
      "    https://scikit-learn.org/stable/modules/preprocessing.html\n",
      "Please also refer to the documentation for alternative solver options:\n",
      "    https://scikit-learn.org/stable/modules/linear_model.html#logistic-regression\n",
      "  extra_warning_msg=_LOGISTIC_SOLVER_CONVERGENCE_MSG)\n",
      "/opt/conda/lib/python3.7/site-packages/sklearn/linear_model/_logistic.py:940: ConvergenceWarning: lbfgs failed to converge (status=1):\n",
      "STOP: TOTAL NO. of ITERATIONS REACHED LIMIT.\n",
      "\n",
      "Increase the number of iterations (max_iter) or scale the data as shown in:\n",
      "    https://scikit-learn.org/stable/modules/preprocessing.html\n",
      "Please also refer to the documentation for alternative solver options:\n",
      "    https://scikit-learn.org/stable/modules/linear_model.html#logistic-regression\n",
      "  extra_warning_msg=_LOGISTIC_SOLVER_CONVERGENCE_MSG)\n"
     ]
    },
    {
     "name": "stdout",
     "output_type": "stream",
     "text": [
      "Method: Raw Feature w/ PK Loss\n"
     ]
    },
    {
     "name": "stderr",
     "output_type": "stream",
     "text": [
      "/opt/conda/lib/python3.7/site-packages/sklearn/linear_model/_logistic.py:940: ConvergenceWarning: lbfgs failed to converge (status=1):\n",
      "STOP: TOTAL NO. of ITERATIONS REACHED LIMIT.\n",
      "\n",
      "Increase the number of iterations (max_iter) or scale the data as shown in:\n",
      "    https://scikit-learn.org/stable/modules/preprocessing.html\n",
      "Please also refer to the documentation for alternative solver options:\n",
      "    https://scikit-learn.org/stable/modules/linear_model.html#logistic-regression\n",
      "  extra_warning_msg=_LOGISTIC_SOLVER_CONVERGENCE_MSG)\n"
     ]
    },
    {
     "name": "stdout",
     "output_type": "stream",
     "text": [
      "Method: PK Loss Only\n",
      "Noise Type: random, Model: nn, Level: medium\n",
      "############################################\n",
      "#                    0                     #\n",
      "############################################\n",
      "Use Encoding: 1\n",
      "CrossEntropy Loss: 1.446962 MSE Loss: 0.000000 Time elapsed: 60.842191 s\n",
      "CrossEntropy Loss: 1.446041 MSE Loss: 0.000000 Time elapsed: 59.035215 s\n",
      "CrossEntropy Loss: 1.446658 MSE Loss: 0.000000 Time elapsed: 59.447713 s\n",
      "CrossEntropy Loss: 1.446397 MSE Loss: 0.000000 Time elapsed: 59.037980 s\n",
      "CrossEntropy Loss: 1.447303 MSE Loss: 0.000000 Time elapsed: 59.142803 s\n",
      "CrossEntropy Loss: 1.447212 MSE Loss: 0.000000 Time elapsed: 58.803110 s\n",
      "CrossEntropy Loss: 1.448157 MSE Loss: 0.000000 Time elapsed: 58.926614 s\n",
      "CrossEntropy Loss: 1.446679 MSE Loss: 0.000000 Time elapsed: 59.520735 s\n",
      "CrossEntropy Loss: 1.446629 MSE Loss: 0.000000 Time elapsed: 60.932766 s\n",
      "CrossEntropy Loss: 1.444470 MSE Loss: 0.000000 Time elapsed: 60.493988 s\n",
      "CrossEntropy Loss: 1.665607 MSE Loss: 0.000000 Time elapsed: 3.899245 s\n",
      "CrossEntropy Loss: 1.670688 MSE Loss: 0.000000 Time elapsed: 3.952183 s\n",
      "CrossEntropy Loss: 1.669032 MSE Loss: 0.000000 Time elapsed: 3.960833 s\n",
      "CrossEntropy Loss: 1.663653 MSE Loss: 0.000000 Time elapsed: 3.878791 s\n",
      "CrossEntropy Loss: 1.677833 MSE Loss: 0.000000 Time elapsed: 3.862634 s\n",
      "CrossEntropy Loss: 1.671853 MSE Loss: 0.000000 Time elapsed: 3.849337 s\n",
      "CrossEntropy Loss: 1.668572 MSE Loss: 0.000000 Time elapsed: 3.886590 s\n",
      "CrossEntropy Loss: 1.674093 MSE Loss: 0.000000 Time elapsed: 3.827143 s\n",
      "CrossEntropy Loss: 1.668638 MSE Loss: 0.000000 Time elapsed: 3.992858 s\n",
      "CrossEntropy Loss: 1.670855 MSE Loss: 0.000000 Time elapsed: 3.922652 s\n",
      "Method: Raw Feature w/ PK Loss\n"
     ]
    },
    {
     "name": "stderr",
     "output_type": "stream",
     "text": [
      "/opt/conda/lib/python3.7/site-packages/sklearn/linear_model/_logistic.py:940: ConvergenceWarning: lbfgs failed to converge (status=1):\n",
      "STOP: TOTAL NO. of ITERATIONS REACHED LIMIT.\n",
      "\n",
      "Increase the number of iterations (max_iter) or scale the data as shown in:\n",
      "    https://scikit-learn.org/stable/modules/preprocessing.html\n",
      "Please also refer to the documentation for alternative solver options:\n",
      "    https://scikit-learn.org/stable/modules/linear_model.html#logistic-regression\n",
      "  extra_warning_msg=_LOGISTIC_SOLVER_CONVERGENCE_MSG)\n",
      "/opt/conda/lib/python3.7/site-packages/sklearn/linear_model/_logistic.py:940: ConvergenceWarning: lbfgs failed to converge (status=1):\n",
      "STOP: TOTAL NO. of ITERATIONS REACHED LIMIT.\n",
      "\n",
      "Increase the number of iterations (max_iter) or scale the data as shown in:\n",
      "    https://scikit-learn.org/stable/modules/preprocessing.html\n",
      "Please also refer to the documentation for alternative solver options:\n",
      "    https://scikit-learn.org/stable/modules/linear_model.html#logistic-regression\n",
      "  extra_warning_msg=_LOGISTIC_SOLVER_CONVERGENCE_MSG)\n"
     ]
    },
    {
     "name": "stdout",
     "output_type": "stream",
     "text": [
      "Method: Raw Feature w/ PK Loss\n",
      "Method: PK Loss Only\n",
      "############################################\n",
      "#                    1                     #\n",
      "############################################\n",
      "Use Encoding: 1\n",
      "CrossEntropy Loss: 1.407142 MSE Loss: 0.000000 Time elapsed: 59.184166 s\n",
      "CrossEntropy Loss: 1.407302 MSE Loss: 0.000000 Time elapsed: 58.958783 s\n",
      "CrossEntropy Loss: 1.404747 MSE Loss: 0.000000 Time elapsed: 59.982373 s\n",
      "CrossEntropy Loss: 1.406709 MSE Loss: 0.000000 Time elapsed: 60.790212 s\n",
      "CrossEntropy Loss: 1.406000 MSE Loss: 0.000000 Time elapsed: 59.953298 s\n",
      "CrossEntropy Loss: 1.404533 MSE Loss: 0.000000 Time elapsed: 59.233799 s\n",
      "CrossEntropy Loss: 1.405490 MSE Loss: 0.000000 Time elapsed: 59.212391 s\n",
      "CrossEntropy Loss: 1.405713 MSE Loss: 0.000000 Time elapsed: 58.808201 s\n",
      "CrossEntropy Loss: 1.405430 MSE Loss: 0.000000 Time elapsed: 58.747494 s\n",
      "CrossEntropy Loss: 1.407571 MSE Loss: 0.000000 Time elapsed: 59.067136 s\n",
      "CrossEntropy Loss: 1.632914 MSE Loss: 0.000000 Time elapsed: 3.796707 s\n",
      "CrossEntropy Loss: 1.632090 MSE Loss: 0.000000 Time elapsed: 3.768968 s\n",
      "CrossEntropy Loss: 1.625213 MSE Loss: 0.000000 Time elapsed: 3.773789 s\n",
      "CrossEntropy Loss: 1.628706 MSE Loss: 0.000000 Time elapsed: 3.749012 s\n",
      "CrossEntropy Loss: 1.631742 MSE Loss: 0.000000 Time elapsed: 3.868254 s\n",
      "CrossEntropy Loss: 1.622990 MSE Loss: 0.000000 Time elapsed: 3.854252 s\n",
      "CrossEntropy Loss: 1.627195 MSE Loss: 0.000000 Time elapsed: 3.936486 s\n",
      "CrossEntropy Loss: 1.628945 MSE Loss: 0.000000 Time elapsed: 3.823259 s\n",
      "CrossEntropy Loss: 1.635336 MSE Loss: 0.000000 Time elapsed: 3.724185 s\n",
      "CrossEntropy Loss: 1.630315 MSE Loss: 0.000000 Time elapsed: 3.843015 s\n",
      "Method: Raw Feature w/ PK Loss\n"
     ]
    },
    {
     "name": "stderr",
     "output_type": "stream",
     "text": [
      "/opt/conda/lib/python3.7/site-packages/sklearn/linear_model/_logistic.py:940: ConvergenceWarning: lbfgs failed to converge (status=1):\n",
      "STOP: TOTAL NO. of ITERATIONS REACHED LIMIT.\n",
      "\n",
      "Increase the number of iterations (max_iter) or scale the data as shown in:\n",
      "    https://scikit-learn.org/stable/modules/preprocessing.html\n",
      "Please also refer to the documentation for alternative solver options:\n",
      "    https://scikit-learn.org/stable/modules/linear_model.html#logistic-regression\n",
      "  extra_warning_msg=_LOGISTIC_SOLVER_CONVERGENCE_MSG)\n",
      "/opt/conda/lib/python3.7/site-packages/sklearn/linear_model/_logistic.py:940: ConvergenceWarning: lbfgs failed to converge (status=1):\n",
      "STOP: TOTAL NO. of ITERATIONS REACHED LIMIT.\n",
      "\n",
      "Increase the number of iterations (max_iter) or scale the data as shown in:\n",
      "    https://scikit-learn.org/stable/modules/preprocessing.html\n",
      "Please also refer to the documentation for alternative solver options:\n",
      "    https://scikit-learn.org/stable/modules/linear_model.html#logistic-regression\n",
      "  extra_warning_msg=_LOGISTIC_SOLVER_CONVERGENCE_MSG)\n"
     ]
    },
    {
     "name": "stdout",
     "output_type": "stream",
     "text": [
      "Method: Raw Feature w/ PK Loss\n"
     ]
    },
    {
     "name": "stderr",
     "output_type": "stream",
     "text": [
      "/opt/conda/lib/python3.7/site-packages/sklearn/linear_model/_logistic.py:940: ConvergenceWarning: lbfgs failed to converge (status=1):\n",
      "STOP: TOTAL NO. of ITERATIONS REACHED LIMIT.\n",
      "\n",
      "Increase the number of iterations (max_iter) or scale the data as shown in:\n",
      "    https://scikit-learn.org/stable/modules/preprocessing.html\n",
      "Please also refer to the documentation for alternative solver options:\n",
      "    https://scikit-learn.org/stable/modules/linear_model.html#logistic-regression\n",
      "  extra_warning_msg=_LOGISTIC_SOLVER_CONVERGENCE_MSG)\n"
     ]
    },
    {
     "name": "stdout",
     "output_type": "stream",
     "text": [
      "Method: PK Loss Only\n",
      "############################################\n",
      "#                    2                     #\n",
      "############################################\n",
      "Use Encoding: 1\n",
      "CrossEntropy Loss: 1.420123 MSE Loss: 0.000000 Time elapsed: 59.513474 s\n",
      "CrossEntropy Loss: 1.419760 MSE Loss: 0.000000 Time elapsed: 59.531275 s\n",
      "CrossEntropy Loss: 1.419469 MSE Loss: 0.000000 Time elapsed: 60.000525 s\n",
      "CrossEntropy Loss: 1.418435 MSE Loss: 0.000000 Time elapsed: 58.609323 s\n",
      "CrossEntropy Loss: 1.420058 MSE Loss: 0.000000 Time elapsed: 58.122776 s\n",
      "CrossEntropy Loss: 1.419749 MSE Loss: 0.000000 Time elapsed: 58.814140 s\n",
      "CrossEntropy Loss: 1.419328 MSE Loss: 0.000000 Time elapsed: 57.707665 s\n",
      "CrossEntropy Loss: 1.421339 MSE Loss: 0.000000 Time elapsed: 57.785623 s\n",
      "CrossEntropy Loss: 1.418755 MSE Loss: 0.000000 Time elapsed: 58.918665 s\n",
      "CrossEntropy Loss: 1.418884 MSE Loss: 0.000000 Time elapsed: 59.373032 s\n",
      "CrossEntropy Loss: 1.621499 MSE Loss: 0.000000 Time elapsed: 3.817722 s\n",
      "CrossEntropy Loss: 1.626829 MSE Loss: 0.000000 Time elapsed: 3.854300 s\n",
      "CrossEntropy Loss: 1.621583 MSE Loss: 0.000000 Time elapsed: 3.743765 s\n",
      "CrossEntropy Loss: 1.627243 MSE Loss: 0.000000 Time elapsed: 3.771543 s\n",
      "CrossEntropy Loss: 1.627753 MSE Loss: 0.000000 Time elapsed: 3.787627 s\n",
      "CrossEntropy Loss: 1.616780 MSE Loss: 0.000000 Time elapsed: 3.797616 s\n",
      "CrossEntropy Loss: 1.627765 MSE Loss: 0.000000 Time elapsed: 3.732777 s\n",
      "CrossEntropy Loss: 1.629581 MSE Loss: 0.000000 Time elapsed: 3.762618 s\n",
      "CrossEntropy Loss: 1.628004 MSE Loss: 0.000000 Time elapsed: 3.735612 s\n",
      "CrossEntropy Loss: 1.617571 MSE Loss: 0.000000 Time elapsed: 3.730163 s\n",
      "Method: Raw Feature w/ PK Loss\n"
     ]
    },
    {
     "name": "stderr",
     "output_type": "stream",
     "text": [
      "/opt/conda/lib/python3.7/site-packages/sklearn/linear_model/_logistic.py:940: ConvergenceWarning: lbfgs failed to converge (status=1):\n",
      "STOP: TOTAL NO. of ITERATIONS REACHED LIMIT.\n",
      "\n",
      "Increase the number of iterations (max_iter) or scale the data as shown in:\n",
      "    https://scikit-learn.org/stable/modules/preprocessing.html\n",
      "Please also refer to the documentation for alternative solver options:\n",
      "    https://scikit-learn.org/stable/modules/linear_model.html#logistic-regression\n",
      "  extra_warning_msg=_LOGISTIC_SOLVER_CONVERGENCE_MSG)\n",
      "/opt/conda/lib/python3.7/site-packages/sklearn/linear_model/_logistic.py:940: ConvergenceWarning: lbfgs failed to converge (status=1):\n",
      "STOP: TOTAL NO. of ITERATIONS REACHED LIMIT.\n",
      "\n",
      "Increase the number of iterations (max_iter) or scale the data as shown in:\n",
      "    https://scikit-learn.org/stable/modules/preprocessing.html\n",
      "Please also refer to the documentation for alternative solver options:\n",
      "    https://scikit-learn.org/stable/modules/linear_model.html#logistic-regression\n",
      "  extra_warning_msg=_LOGISTIC_SOLVER_CONVERGENCE_MSG)\n"
     ]
    },
    {
     "name": "stdout",
     "output_type": "stream",
     "text": [
      "Method: Raw Feature w/ PK Loss\n"
     ]
    },
    {
     "name": "stderr",
     "output_type": "stream",
     "text": [
      "/opt/conda/lib/python3.7/site-packages/sklearn/linear_model/_logistic.py:940: ConvergenceWarning: lbfgs failed to converge (status=1):\n",
      "STOP: TOTAL NO. of ITERATIONS REACHED LIMIT.\n",
      "\n",
      "Increase the number of iterations (max_iter) or scale the data as shown in:\n",
      "    https://scikit-learn.org/stable/modules/preprocessing.html\n",
      "Please also refer to the documentation for alternative solver options:\n",
      "    https://scikit-learn.org/stable/modules/linear_model.html#logistic-regression\n",
      "  extra_warning_msg=_LOGISTIC_SOLVER_CONVERGENCE_MSG)\n"
     ]
    },
    {
     "name": "stdout",
     "output_type": "stream",
     "text": [
      "Method: PK Loss Only\n",
      "############################################\n",
      "#                    3                     #\n",
      "############################################\n",
      "Use Encoding: 1\n",
      "CrossEntropy Loss: 1.418375 MSE Loss: 0.000000 Time elapsed: 61.090996 s\n",
      "CrossEntropy Loss: 1.417927 MSE Loss: 0.000000 Time elapsed: 60.916592 s\n",
      "CrossEntropy Loss: 1.418925 MSE Loss: 0.000000 Time elapsed: 61.046339 s\n",
      "CrossEntropy Loss: 1.418228 MSE Loss: 0.000000 Time elapsed: 61.717064 s\n",
      "CrossEntropy Loss: 1.417545 MSE Loss: 0.000000 Time elapsed: 61.354960 s\n",
      "CrossEntropy Loss: 1.419115 MSE Loss: 0.000000 Time elapsed: 59.455786 s\n",
      "CrossEntropy Loss: 1.416640 MSE Loss: 0.000000 Time elapsed: 59.369804 s\n",
      "CrossEntropy Loss: 1.417389 MSE Loss: 0.000000 Time elapsed: 59.526081 s\n",
      "CrossEntropy Loss: 1.418502 MSE Loss: 0.000000 Time elapsed: 60.476280 s\n",
      "CrossEntropy Loss: 1.418768 MSE Loss: 0.000000 Time elapsed: 59.601255 s\n",
      "CrossEntropy Loss: 1.645734 MSE Loss: 0.000000 Time elapsed: 3.757035 s\n",
      "CrossEntropy Loss: 1.636922 MSE Loss: 0.000000 Time elapsed: 3.781267 s\n",
      "CrossEntropy Loss: 1.635605 MSE Loss: 0.000000 Time elapsed: 3.778372 s\n",
      "CrossEntropy Loss: 1.632019 MSE Loss: 0.000000 Time elapsed: 3.852922 s\n",
      "CrossEntropy Loss: 1.635660 MSE Loss: 0.000000 Time elapsed: 3.823881 s\n",
      "CrossEntropy Loss: 1.636538 MSE Loss: 0.000000 Time elapsed: 3.903945 s\n",
      "CrossEntropy Loss: 1.647124 MSE Loss: 0.000000 Time elapsed: 3.800739 s\n",
      "CrossEntropy Loss: 1.639083 MSE Loss: 0.000000 Time elapsed: 3.762875 s\n",
      "CrossEntropy Loss: 1.643297 MSE Loss: 0.000000 Time elapsed: 3.794669 s\n",
      "CrossEntropy Loss: 1.634200 MSE Loss: 0.000000 Time elapsed: 3.806454 s\n",
      "Method: Raw Feature w/ PK Loss\n"
     ]
    },
    {
     "name": "stderr",
     "output_type": "stream",
     "text": [
      "/opt/conda/lib/python3.7/site-packages/sklearn/linear_model/_logistic.py:940: ConvergenceWarning: lbfgs failed to converge (status=1):\n",
      "STOP: TOTAL NO. of ITERATIONS REACHED LIMIT.\n",
      "\n",
      "Increase the number of iterations (max_iter) or scale the data as shown in:\n",
      "    https://scikit-learn.org/stable/modules/preprocessing.html\n",
      "Please also refer to the documentation for alternative solver options:\n",
      "    https://scikit-learn.org/stable/modules/linear_model.html#logistic-regression\n",
      "  extra_warning_msg=_LOGISTIC_SOLVER_CONVERGENCE_MSG)\n"
     ]
    },
    {
     "name": "stdout",
     "output_type": "stream",
     "text": [
      "Method: Raw Feature w/ PK Loss\n"
     ]
    },
    {
     "name": "stderr",
     "output_type": "stream",
     "text": [
      "/opt/conda/lib/python3.7/site-packages/sklearn/linear_model/_logistic.py:940: ConvergenceWarning: lbfgs failed to converge (status=1):\n",
      "STOP: TOTAL NO. of ITERATIONS REACHED LIMIT.\n",
      "\n",
      "Increase the number of iterations (max_iter) or scale the data as shown in:\n",
      "    https://scikit-learn.org/stable/modules/preprocessing.html\n",
      "Please also refer to the documentation for alternative solver options:\n",
      "    https://scikit-learn.org/stable/modules/linear_model.html#logistic-regression\n",
      "  extra_warning_msg=_LOGISTIC_SOLVER_CONVERGENCE_MSG)\n"
     ]
    },
    {
     "name": "stdout",
     "output_type": "stream",
     "text": [
      "Method: PK Loss Only\n",
      "############################################\n",
      "#                    4                     #\n",
      "############################################\n",
      "Use Encoding: 1\n",
      "CrossEntropy Loss: 1.421966 MSE Loss: 0.000000 Time elapsed: 60.613004 s\n",
      "CrossEntropy Loss: 1.421679 MSE Loss: 0.000000 Time elapsed: 60.877931 s\n",
      "CrossEntropy Loss: 1.420453 MSE Loss: 0.000000 Time elapsed: 59.581161 s\n",
      "CrossEntropy Loss: 1.422146 MSE Loss: 0.000000 Time elapsed: 59.235172 s\n",
      "CrossEntropy Loss: 1.420214 MSE Loss: 0.000000 Time elapsed: 59.554717 s\n",
      "CrossEntropy Loss: 1.420825 MSE Loss: 0.000000 Time elapsed: 59.138688 s\n",
      "CrossEntropy Loss: 1.421593 MSE Loss: 0.000000 Time elapsed: 59.078089 s\n",
      "CrossEntropy Loss: 1.422072 MSE Loss: 0.000000 Time elapsed: 59.253006 s\n",
      "CrossEntropy Loss: 1.420847 MSE Loss: 0.000000 Time elapsed: 61.177747 s\n",
      "CrossEntropy Loss: 1.423041 MSE Loss: 0.000000 Time elapsed: 60.762277 s\n",
      "CrossEntropy Loss: 1.624309 MSE Loss: 0.000000 Time elapsed: 3.985590 s\n",
      "CrossEntropy Loss: 1.621716 MSE Loss: 0.000000 Time elapsed: 3.865827 s\n",
      "CrossEntropy Loss: 1.627126 MSE Loss: 0.000000 Time elapsed: 3.922485 s\n",
      "CrossEntropy Loss: 1.621707 MSE Loss: 0.000000 Time elapsed: 3.993909 s\n",
      "CrossEntropy Loss: 1.622324 MSE Loss: 0.000000 Time elapsed: 3.898571 s\n",
      "CrossEntropy Loss: 1.620987 MSE Loss: 0.000000 Time elapsed: 3.939244 s\n",
      "CrossEntropy Loss: 1.623886 MSE Loss: 0.000000 Time elapsed: 3.925527 s\n",
      "CrossEntropy Loss: 1.619963 MSE Loss: 0.000000 Time elapsed: 3.869367 s\n",
      "CrossEntropy Loss: 1.620336 MSE Loss: 0.000000 Time elapsed: 3.884422 s\n",
      "CrossEntropy Loss: 1.621739 MSE Loss: 0.000000 Time elapsed: 3.956990 s\n",
      "Method: Raw Feature w/ PK Loss\n"
     ]
    },
    {
     "name": "stderr",
     "output_type": "stream",
     "text": [
      "/opt/conda/lib/python3.7/site-packages/sklearn/linear_model/_logistic.py:940: ConvergenceWarning: lbfgs failed to converge (status=1):\n",
      "STOP: TOTAL NO. of ITERATIONS REACHED LIMIT.\n",
      "\n",
      "Increase the number of iterations (max_iter) or scale the data as shown in:\n",
      "    https://scikit-learn.org/stable/modules/preprocessing.html\n",
      "Please also refer to the documentation for alternative solver options:\n",
      "    https://scikit-learn.org/stable/modules/linear_model.html#logistic-regression\n",
      "  extra_warning_msg=_LOGISTIC_SOLVER_CONVERGENCE_MSG)\n",
      "/opt/conda/lib/python3.7/site-packages/sklearn/linear_model/_logistic.py:940: ConvergenceWarning: lbfgs failed to converge (status=1):\n",
      "STOP: TOTAL NO. of ITERATIONS REACHED LIMIT.\n",
      "\n",
      "Increase the number of iterations (max_iter) or scale the data as shown in:\n",
      "    https://scikit-learn.org/stable/modules/preprocessing.html\n",
      "Please also refer to the documentation for alternative solver options:\n",
      "    https://scikit-learn.org/stable/modules/linear_model.html#logistic-regression\n",
      "  extra_warning_msg=_LOGISTIC_SOLVER_CONVERGENCE_MSG)\n"
     ]
    },
    {
     "name": "stdout",
     "output_type": "stream",
     "text": [
      "Method: Raw Feature w/ PK Loss\n"
     ]
    },
    {
     "name": "stderr",
     "output_type": "stream",
     "text": [
      "/opt/conda/lib/python3.7/site-packages/sklearn/linear_model/_logistic.py:940: ConvergenceWarning: lbfgs failed to converge (status=1):\n",
      "STOP: TOTAL NO. of ITERATIONS REACHED LIMIT.\n",
      "\n",
      "Increase the number of iterations (max_iter) or scale the data as shown in:\n",
      "    https://scikit-learn.org/stable/modules/preprocessing.html\n",
      "Please also refer to the documentation for alternative solver options:\n",
      "    https://scikit-learn.org/stable/modules/linear_model.html#logistic-regression\n",
      "  extra_warning_msg=_LOGISTIC_SOLVER_CONVERGENCE_MSG)\n"
     ]
    },
    {
     "name": "stdout",
     "output_type": "stream",
     "text": [
      "Method: PK Loss Only\n"
     ]
    }
   ],
   "source": [
    "PK_model_prepare(dataset)\n",
    "validate_per_class_detector(dataset, ntype_group = [noise_type], modelname_group = ['lr', 'svm', 'nn'])"
   ]
  },
  {
   "cell_type": "code",
   "execution_count": 5,
   "metadata": {},
   "outputs": [
    {
     "name": "stdout",
     "output_type": "stream",
     "text": [
      "F1 Scores of Victim Sample Detection\n",
      "---------------------------------------------\n",
      "Noise Type: random\n",
      "Downstream Model: lr\n",
      "Per-class Detectors: 0.8553 Unified Detector: 0.7740 Score-based Detector: 0.7343  \n",
      "F1 Scores of Victim Sample Detection\n",
      "---------------------------------------------\n",
      "Noise Type: random\n",
      "Downstream Model: svm\n",
      "Per-class Detectors: 0.8618 Unified Detector: 0.7774 Score-based Detector: 0.7361  \n",
      "F1 Scores of Victim Sample Detection\n",
      "---------------------------------------------\n",
      "Noise Type: random\n",
      "Downstream Model: nn\n",
      "Per-class Detectors: 0.8152 Unified Detector: 0.7370 Score-based Detector: 0.7174  \n"
     ]
    }
   ],
   "source": [
    "printTestTimeMicroBM(dataset, ntype=noise_type, modelname='lr')\n",
    "printTestTimeMicroBM(dataset, ntype=noise_type, modelname='svm')\n",
    "printTestTimeMicroBM(dataset, ntype=noise_type, modelname='nn')"
   ]
  },
  {
   "cell_type": "code",
   "execution_count": null,
   "metadata": {},
   "outputs": [],
   "source": []
  }
 ],
 "metadata": {
  "kernelspec": {
   "display_name": "Python 3",
   "language": "python",
   "name": "python3"
  },
  "language_info": {
   "codemirror_mode": {
    "name": "ipython",
    "version": 3
   },
   "file_extension": ".py",
   "mimetype": "text/x-python",
   "name": "python",
   "nbconvert_exporter": "python",
   "pygments_lexer": "ipython3",
   "version": "3.7.6"
  }
 },
 "nbformat": 4,
 "nbformat_minor": 4
}
