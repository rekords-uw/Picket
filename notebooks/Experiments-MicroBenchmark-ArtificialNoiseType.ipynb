{
 "cells": [
  {
   "cell_type": "code",
   "execution_count": 1,
   "metadata": {},
   "outputs": [],
   "source": [
    "import sys\n",
    "sys.path.append('../')\n",
    "\n",
    "from picket.prepare.dataPrepare import dataPrepareTrain, dataPrepareTest\n",
    "from picket.filter.filtersTest import evaluateTestTime, printResTestTime, printResTestTimeExact, PK_model_prepare"
   ]
  },
  {
   "cell_type": "code",
   "execution_count": 2,
   "metadata": {},
   "outputs": [],
   "source": [
    "# dataset includes 'wine', 'adultx', 'restaurant', 'marketing', 'titanic', 'HTRU2'\n",
    "dataset = 'wine'\n",
    "# We only consider adversarial noise for purely numerical dataset\n",
    "runAdv = True"
   ]
  },
  {
   "cell_type": "markdown",
   "metadata": {},
   "source": [
    "## Train-test Split and Noise Injection"
   ]
  },
  {
   "cell_type": "code",
   "execution_count": 3,
   "metadata": {},
   "outputs": [
    {
     "name": "stdout",
     "output_type": "stream",
     "text": [
      "############################################\n",
      "#                    0                     #\n",
      "############################################\n"
     ]
    },
    {
     "name": "stderr",
     "output_type": "stream",
     "text": [
      "/opt/conda/lib/python3.7/site-packages/sklearn/svm/_base.py:947: ConvergenceWarning: Liblinear failed to converge, increase the number of iterations.\n",
      "  \"the number of iterations.\", ConvergenceWarning)\n"
     ]
    },
    {
     "name": "stdout",
     "output_type": "stream",
     "text": [
      "Acc of the Classifier: 0.753061\n",
      "Loading Saved Model...\n",
      "Acc of the Classifier: 0.791837\n",
      "Acc of the Classifier: 0.756122\n"
     ]
    },
    {
     "name": "stderr",
     "output_type": "stream",
     "text": [
      "/opt/conda/lib/python3.7/site-packages/sklearn/svm/_base.py:947: ConvergenceWarning: Liblinear failed to converge, increase the number of iterations.\n",
      "  \"the number of iterations.\", ConvergenceWarning)\n"
     ]
    },
    {
     "name": "stdout",
     "output_type": "stream",
     "text": [
      "Acc of the Classifier: 0.753061\n"
     ]
    },
    {
     "name": "stderr",
     "output_type": "stream",
     "text": [
      "/opt/conda/lib/python3.7/site-packages/sklearn/svm/_base.py:947: ConvergenceWarning: Liblinear failed to converge, increase the number of iterations.\n",
      "  \"the number of iterations.\", ConvergenceWarning)\n"
     ]
    },
    {
     "name": "stdout",
     "output_type": "stream",
     "text": [
      "Acc of the Classifier: 0.750000\n"
     ]
    },
    {
     "name": "stderr",
     "output_type": "stream",
     "text": [
      "/opt/conda/lib/python3.7/site-packages/sklearn/svm/_base.py:947: ConvergenceWarning: Liblinear failed to converge, increase the number of iterations.\n",
      "  \"the number of iterations.\", ConvergenceWarning)\n"
     ]
    },
    {
     "name": "stdout",
     "output_type": "stream",
     "text": [
      "Acc of the Classifier: 0.753061\n",
      "Loading Saved Model...\n",
      "Acc of the Classifier: 0.791837\n",
      "Loading Saved Model...\n",
      "Acc of the Classifier: 0.791837\n",
      "Loading Saved Model...\n",
      "Acc of the Classifier: 0.791837\n",
      "Acc of the Classifier: 0.756122\n",
      "Acc of the Classifier: 0.756122\n",
      "Acc of the Classifier: 0.756122\n"
     ]
    },
    {
     "name": "stderr",
     "output_type": "stream",
     "text": [
      "/opt/conda/lib/python3.7/site-packages/sklearn/svm/_base.py:947: ConvergenceWarning: Liblinear failed to converge, increase the number of iterations.\n",
      "  \"the number of iterations.\", ConvergenceWarning)\n"
     ]
    },
    {
     "name": "stdout",
     "output_type": "stream",
     "text": [
      "Acc of the classifier: 0.753061\n",
      "Acc of the classifier: 0.791837\n",
      "Acc of the classifier: 0.756122\n"
     ]
    },
    {
     "name": "stderr",
     "output_type": "stream",
     "text": [
      "WARNING:art.classifiers.scikitlearn:Input shape not recognised. The model might not have been fitted.\n",
      "WARNING:art.classifiers.scikitlearn:Number of classes not recognised. The model might not have been fitted.\n",
      "/opt/conda/lib/python3.7/site-packages/sklearn/svm/_base.py:947: ConvergenceWarning: Liblinear failed to converge, increase the number of iterations.\n",
      "  \"the number of iterations.\", ConvergenceWarning)\n"
     ]
    },
    {
     "name": "stdout",
     "output_type": "stream",
     "text": [
      "Accuracy on benign test examples: 75.03828483920367%\n",
      "Accuracy on adversarial test examples: 69.16794282797346%\n",
      "Number of samples: 791\n",
      "Accuracy on benign test examples: 75.20408163265306%\n",
      "Accuracy on adversarial test examples: 67.55102040816327%\n",
      "Number of samples: 217\n",
      "Accuracy on benign test examples: 97.72843287391527%\n",
      "Accuracy on adversarial test examples: 32.51659009698826%\n",
      "Number of samples: 2637\n",
      "Accuracy on benign test examples: 79.18367346938776%\n"
     ]
    },
    {
     "name": "stderr",
     "output_type": "stream",
     "text": [
      "WARNING:art.classifiers.scikitlearn:Input shape not recognised. The model might not have been fitted.\n",
      "WARNING:art.classifiers.scikitlearn:Number of classes not recognised. The model might not have been fitted.\n"
     ]
    },
    {
     "name": "stdout",
     "output_type": "stream",
     "text": [
      "Accuracy on adversarial test examples: 43.06122448979592%\n",
      "Number of samples: 529\n",
      "Accuracy on benign test examples: 74.91066870852475%\n",
      "Accuracy on adversarial test examples: 68.88718734047984%\n",
      "Number of samples: 812\n",
      "Accuracy on benign test examples: 75.61224489795919%\n"
     ]
    },
    {
     "name": "stderr",
     "output_type": "stream",
     "text": [
      "WARNING:art.classifiers.scikitlearn:Input shape not recognised. The model might not have been fitted.\n",
      "WARNING:art.classifiers.scikitlearn:Number of classes not recognised. The model might not have been fitted.\n"
     ]
    },
    {
     "name": "stdout",
     "output_type": "stream",
     "text": [
      "Accuracy on adversarial test examples: 67.3469387755102%\n",
      "Number of samples: 220\n"
     ]
    },
    {
     "name": "stderr",
     "output_type": "stream",
     "text": [
      "/opt/conda/lib/python3.7/site-packages/sklearn/svm/_base.py:947: ConvergenceWarning: Liblinear failed to converge, increase the number of iterations.\n",
      "  \"the number of iterations.\", ConvergenceWarning)\n"
     ]
    },
    {
     "name": "stdout",
     "output_type": "stream",
     "text": [
      "Accuracy on benign test examples: 75.06380806533946%\n",
      "Accuracy on adversarial test examples: 73.73660030627872%\n",
      "Number of samples: 393\n",
      "Accuracy on benign test examples: 75.40816326530613%\n",
      "Accuracy on adversarial test examples: 72.44897959183673%\n",
      "Number of samples: 115\n",
      "Accuracy on benign test examples: 97.72843287391527%\n",
      "Accuracy on adversarial test examples: 68.81061766207249%\n",
      "Number of samples: 1200\n",
      "Accuracy on benign test examples: 79.18367346938776%\n"
     ]
    },
    {
     "name": "stderr",
     "output_type": "stream",
     "text": [
      "WARNING:art.classifiers.scikitlearn:Input shape not recognised. The model might not have been fitted.\n",
      "WARNING:art.classifiers.scikitlearn:Number of classes not recognised. The model might not have been fitted.\n"
     ]
    },
    {
     "name": "stdout",
     "output_type": "stream",
     "text": [
      "Accuracy on adversarial test examples: 63.163265306122454%\n",
      "Number of samples: 269\n",
      "Accuracy on benign test examples: 74.91066870852475%\n",
      "Accuracy on adversarial test examples: 73.48136804492088%\n",
      "Number of samples: 401\n",
      "Accuracy on benign test examples: 75.61224489795919%\n",
      "Accuracy on adversarial test examples: 72.55102040816327%\n",
      "Number of samples: 117\n"
     ]
    },
    {
     "name": "stderr",
     "output_type": "stream",
     "text": [
      "/opt/conda/lib/python3.7/site-packages/sklearn/svm/_base.py:947: ConvergenceWarning: Liblinear failed to converge, increase the number of iterations.\n",
      "  \"the number of iterations.\", ConvergenceWarning)\n"
     ]
    },
    {
     "name": "stdout",
     "output_type": "stream",
     "text": [
      "Acc of the Classifier: 0.754082\n",
      "Loading Saved Model...\n",
      "Acc of the Classifier: 0.791837\n",
      "Acc of the Classifier: 0.756122\n",
      "############################################\n",
      "#                    1                     #\n",
      "############################################\n"
     ]
    },
    {
     "name": "stderr",
     "output_type": "stream",
     "text": [
      "/opt/conda/lib/python3.7/site-packages/sklearn/svm/_base.py:947: ConvergenceWarning: Liblinear failed to converge, increase the number of iterations.\n",
      "  \"the number of iterations.\", ConvergenceWarning)\n"
     ]
    },
    {
     "name": "stdout",
     "output_type": "stream",
     "text": [
      "Acc of the Classifier: 0.731633\n",
      "Loading Saved Model...\n",
      "Acc of the Classifier: 0.784694\n",
      "Acc of the Classifier: 0.728571\n"
     ]
    },
    {
     "name": "stderr",
     "output_type": "stream",
     "text": [
      "/opt/conda/lib/python3.7/site-packages/sklearn/svm/_base.py:947: ConvergenceWarning: Liblinear failed to converge, increase the number of iterations.\n",
      "  \"the number of iterations.\", ConvergenceWarning)\n"
     ]
    },
    {
     "name": "stdout",
     "output_type": "stream",
     "text": [
      "Acc of the Classifier: 0.732653\n"
     ]
    },
    {
     "name": "stderr",
     "output_type": "stream",
     "text": [
      "/opt/conda/lib/python3.7/site-packages/sklearn/svm/_base.py:947: ConvergenceWarning: Liblinear failed to converge, increase the number of iterations.\n",
      "  \"the number of iterations.\", ConvergenceWarning)\n"
     ]
    },
    {
     "name": "stdout",
     "output_type": "stream",
     "text": [
      "Acc of the Classifier: 0.731633\n"
     ]
    },
    {
     "name": "stderr",
     "output_type": "stream",
     "text": [
      "/opt/conda/lib/python3.7/site-packages/sklearn/svm/_base.py:947: ConvergenceWarning: Liblinear failed to converge, increase the number of iterations.\n",
      "  \"the number of iterations.\", ConvergenceWarning)\n"
     ]
    },
    {
     "name": "stdout",
     "output_type": "stream",
     "text": [
      "Acc of the Classifier: 0.732653\n",
      "Loading Saved Model...\n",
      "Acc of the Classifier: 0.784694\n",
      "Loading Saved Model...\n",
      "Acc of the Classifier: 0.784694\n",
      "Loading Saved Model...\n",
      "Acc of the Classifier: 0.784694\n",
      "Acc of the Classifier: 0.728571\n",
      "Acc of the Classifier: 0.728571\n",
      "Acc of the Classifier: 0.728571\n"
     ]
    },
    {
     "name": "stderr",
     "output_type": "stream",
     "text": [
      "/opt/conda/lib/python3.7/site-packages/sklearn/svm/_base.py:947: ConvergenceWarning: Liblinear failed to converge, increase the number of iterations.\n",
      "  \"the number of iterations.\", ConvergenceWarning)\n"
     ]
    },
    {
     "name": "stdout",
     "output_type": "stream",
     "text": [
      "Acc of the classifier: 0.733673\n",
      "Acc of the classifier: 0.784694\n",
      "Acc of the classifier: 0.728571\n"
     ]
    },
    {
     "name": "stderr",
     "output_type": "stream",
     "text": [
      "WARNING:art.classifiers.scikitlearn:Input shape not recognised. The model might not have been fitted.\n",
      "WARNING:art.classifiers.scikitlearn:Number of classes not recognised. The model might not have been fitted.\n",
      "/opt/conda/lib/python3.7/site-packages/sklearn/svm/_base.py:947: ConvergenceWarning: Liblinear failed to converge, increase the number of iterations.\n",
      "  \"the number of iterations.\", ConvergenceWarning)\n"
     ]
    },
    {
     "name": "stdout",
     "output_type": "stream",
     "text": [
      "Accuracy on benign test examples: 75.08933129147525%\n",
      "Accuracy on adversarial test examples: 70.11230219499744%\n",
      "Number of samples: 768\n",
      "Accuracy on benign test examples: 73.36734693877551%\n",
      "Accuracy on adversarial test examples: 67.3469387755102%\n",
      "Number of samples: 206\n",
      "Accuracy on benign test examples: 96.579887697805%\n",
      "Accuracy on adversarial test examples: 40.58192955589586%\n",
      "Number of samples: 2299\n",
      "Accuracy on benign test examples: 78.46938775510203%\n"
     ]
    },
    {
     "name": "stderr",
     "output_type": "stream",
     "text": [
      "WARNING:art.classifiers.scikitlearn:Input shape not recognised. The model might not have been fitted.\n",
      "WARNING:art.classifiers.scikitlearn:Number of classes not recognised. The model might not have been fitted.\n"
     ]
    },
    {
     "name": "stdout",
     "output_type": "stream",
     "text": [
      "Accuracy on adversarial test examples: 50.0%\n",
      "Number of samples: 444\n",
      "Accuracy on benign test examples: 75.34456355283308%\n",
      "Accuracy on adversarial test examples: 69.49974476773865%\n",
      "Number of samples: 782\n",
      "Accuracy on benign test examples: 72.85714285714285%\n"
     ]
    },
    {
     "name": "stderr",
     "output_type": "stream",
     "text": [
      "WARNING:art.classifiers.scikitlearn:Input shape not recognised. The model might not have been fitted.\n",
      "WARNING:art.classifiers.scikitlearn:Number of classes not recognised. The model might not have been fitted.\n"
     ]
    },
    {
     "name": "stdout",
     "output_type": "stream",
     "text": [
      "Accuracy on adversarial test examples: 66.93877551020408%\n",
      "Number of samples: 208\n"
     ]
    },
    {
     "name": "stderr",
     "output_type": "stream",
     "text": [
      "/opt/conda/lib/python3.7/site-packages/sklearn/svm/_base.py:947: ConvergenceWarning: Liblinear failed to converge, increase the number of iterations.\n",
      "  \"the number of iterations.\", ConvergenceWarning)\n"
     ]
    },
    {
     "name": "stdout",
     "output_type": "stream",
     "text": [
      "Accuracy on benign test examples: 75.08933129147525%\n",
      "Accuracy on adversarial test examples: 74.29811128126596%\n",
      "Number of samples: 370\n",
      "Accuracy on benign test examples: 73.36734693877551%\n",
      "Accuracy on adversarial test examples: 70.3061224489796%\n",
      "Number of samples: 111\n",
      "Accuracy on benign test examples: 96.579887697805%\n",
      "Accuracy on adversarial test examples: 70.0357325165901%\n",
      "Number of samples: 1131\n",
      "Accuracy on benign test examples: 78.46938775510203%\n"
     ]
    },
    {
     "name": "stderr",
     "output_type": "stream",
     "text": [
      "WARNING:art.classifiers.scikitlearn:Input shape not recognised. The model might not have been fitted.\n",
      "WARNING:art.classifiers.scikitlearn:Number of classes not recognised. The model might not have been fitted.\n"
     ]
    },
    {
     "name": "stdout",
     "output_type": "stream",
     "text": [
      "Accuracy on adversarial test examples: 66.73469387755102%\n",
      "Number of samples: 224\n",
      "Accuracy on benign test examples: 75.34456355283308%\n",
      "Accuracy on adversarial test examples: 73.63450740173559%\n",
      "Number of samples: 404\n",
      "Accuracy on benign test examples: 72.85714285714285%\n",
      "Accuracy on adversarial test examples: 71.12244897959184%\n",
      "Number of samples: 107\n"
     ]
    },
    {
     "name": "stderr",
     "output_type": "stream",
     "text": [
      "/opt/conda/lib/python3.7/site-packages/sklearn/svm/_base.py:947: ConvergenceWarning: Liblinear failed to converge, increase the number of iterations.\n",
      "  \"the number of iterations.\", ConvergenceWarning)\n"
     ]
    },
    {
     "name": "stdout",
     "output_type": "stream",
     "text": [
      "Acc of the Classifier: 0.731633\n",
      "Loading Saved Model...\n",
      "Acc of the Classifier: 0.784694\n",
      "Acc of the Classifier: 0.728571\n",
      "############################################\n",
      "#                    2                     #\n",
      "############################################\n"
     ]
    },
    {
     "name": "stderr",
     "output_type": "stream",
     "text": [
      "/opt/conda/lib/python3.7/site-packages/sklearn/svm/_base.py:947: ConvergenceWarning: Liblinear failed to converge, increase the number of iterations.\n",
      "  \"the number of iterations.\", ConvergenceWarning)\n"
     ]
    },
    {
     "name": "stdout",
     "output_type": "stream",
     "text": [
      "Acc of the Classifier: 0.747959\n",
      "Loading Saved Model...\n",
      "Acc of the Classifier: 0.765306\n",
      "Acc of the Classifier: 0.746939\n"
     ]
    },
    {
     "name": "stderr",
     "output_type": "stream",
     "text": [
      "/opt/conda/lib/python3.7/site-packages/sklearn/svm/_base.py:947: ConvergenceWarning: Liblinear failed to converge, increase the number of iterations.\n",
      "  \"the number of iterations.\", ConvergenceWarning)\n"
     ]
    },
    {
     "name": "stdout",
     "output_type": "stream",
     "text": [
      "Acc of the Classifier: 0.747959\n"
     ]
    },
    {
     "name": "stderr",
     "output_type": "stream",
     "text": [
      "/opt/conda/lib/python3.7/site-packages/sklearn/svm/_base.py:947: ConvergenceWarning: Liblinear failed to converge, increase the number of iterations.\n",
      "  \"the number of iterations.\", ConvergenceWarning)\n"
     ]
    },
    {
     "name": "stdout",
     "output_type": "stream",
     "text": [
      "Acc of the Classifier: 0.748980\n"
     ]
    },
    {
     "name": "stderr",
     "output_type": "stream",
     "text": [
      "/opt/conda/lib/python3.7/site-packages/sklearn/svm/_base.py:947: ConvergenceWarning: Liblinear failed to converge, increase the number of iterations.\n",
      "  \"the number of iterations.\", ConvergenceWarning)\n"
     ]
    },
    {
     "name": "stdout",
     "output_type": "stream",
     "text": [
      "Acc of the Classifier: 0.750000\n",
      "Loading Saved Model...\n",
      "Acc of the Classifier: 0.765306\n",
      "Loading Saved Model...\n",
      "Acc of the Classifier: 0.765306\n",
      "Loading Saved Model...\n",
      "Acc of the Classifier: 0.765306\n",
      "Acc of the Classifier: 0.746939\n",
      "Acc of the Classifier: 0.746939\n",
      "Acc of the Classifier: 0.746939\n"
     ]
    },
    {
     "name": "stderr",
     "output_type": "stream",
     "text": [
      "/opt/conda/lib/python3.7/site-packages/sklearn/svm/_base.py:947: ConvergenceWarning: Liblinear failed to converge, increase the number of iterations.\n",
      "  \"the number of iterations.\", ConvergenceWarning)\n"
     ]
    },
    {
     "name": "stdout",
     "output_type": "stream",
     "text": [
      "Acc of the classifier: 0.750000\n",
      "Acc of the classifier: 0.765306\n",
      "Acc of the classifier: 0.746939\n"
     ]
    },
    {
     "name": "stderr",
     "output_type": "stream",
     "text": [
      "WARNING:art.classifiers.scikitlearn:Input shape not recognised. The model might not have been fitted.\n",
      "WARNING:art.classifiers.scikitlearn:Number of classes not recognised. The model might not have been fitted.\n",
      "/opt/conda/lib/python3.7/site-packages/sklearn/svm/_base.py:947: ConvergenceWarning: Liblinear failed to converge, increase the number of iterations.\n",
      "  \"the number of iterations.\", ConvergenceWarning)\n"
     ]
    },
    {
     "name": "stdout",
     "output_type": "stream",
     "text": [
      "Accuracy on benign test examples: 75.0127616130679%\n",
      "Accuracy on adversarial test examples: 69.19346605410924%\n",
      "Number of samples: 804\n",
      "Accuracy on benign test examples: 74.89795918367346%\n",
      "Accuracy on adversarial test examples: 67.44897959183673%\n",
      "Number of samples: 207\n",
      "Accuracy on benign test examples: 95.5079122001021%\n",
      "Accuracy on adversarial test examples: 34.78815722307299%\n",
      "Number of samples: 2528\n",
      "Accuracy on benign test examples: 76.53061224489795%\n"
     ]
    },
    {
     "name": "stderr",
     "output_type": "stream",
     "text": [
      "WARNING:art.classifiers.scikitlearn:Input shape not recognised. The model might not have been fitted.\n",
      "WARNING:art.classifiers.scikitlearn:Number of classes not recognised. The model might not have been fitted.\n"
     ]
    },
    {
     "name": "stdout",
     "output_type": "stream",
     "text": [
      "Accuracy on adversarial test examples: 46.02040816326531%\n",
      "Number of samples: 480\n",
      "Accuracy on benign test examples: 75.21694742215416%\n",
      "Accuracy on adversarial test examples: 69.57631444614599%\n",
      "Number of samples: 782\n",
      "Accuracy on benign test examples: 74.6938775510204%\n"
     ]
    },
    {
     "name": "stderr",
     "output_type": "stream",
     "text": [
      "WARNING:art.classifiers.scikitlearn:Input shape not recognised. The model might not have been fitted.\n",
      "WARNING:art.classifiers.scikitlearn:Number of classes not recognised. The model might not have been fitted.\n"
     ]
    },
    {
     "name": "stdout",
     "output_type": "stream",
     "text": [
      "Accuracy on adversarial test examples: 68.06122448979592%\n",
      "Number of samples: 199\n"
     ]
    },
    {
     "name": "stderr",
     "output_type": "stream",
     "text": [
      "/opt/conda/lib/python3.7/site-packages/sklearn/svm/_base.py:947: ConvergenceWarning: Liblinear failed to converge, increase the number of iterations.\n",
      "  \"the number of iterations.\", ConvergenceWarning)\n"
     ]
    },
    {
     "name": "stdout",
     "output_type": "stream",
     "text": [
      "Accuracy on benign test examples: 75.06380806533946%\n",
      "Accuracy on adversarial test examples: 73.88973966309341%\n",
      "Number of samples: 402\n",
      "Accuracy on benign test examples: 74.89795918367346%\n",
      "Accuracy on adversarial test examples: 72.55102040816327%\n",
      "Number of samples: 95\n",
      "Accuracy on benign test examples: 95.5079122001021%\n",
      "Accuracy on adversarial test examples: 68.88718734047984%\n",
      "Number of samples: 1177\n",
      "Accuracy on benign test examples: 76.53061224489795%\n"
     ]
    },
    {
     "name": "stderr",
     "output_type": "stream",
     "text": [
      "WARNING:art.classifiers.scikitlearn:Input shape not recognised. The model might not have been fitted.\n",
      "WARNING:art.classifiers.scikitlearn:Number of classes not recognised. The model might not have been fitted.\n"
     ]
    },
    {
     "name": "stdout",
     "output_type": "stream",
     "text": [
      "Accuracy on adversarial test examples: 66.12244897959184%\n",
      "Number of samples: 224\n",
      "Accuracy on benign test examples: 75.21694742215416%\n",
      "Accuracy on adversarial test examples: 73.04747320061256%\n",
      "Number of samples: 430\n",
      "Accuracy on benign test examples: 74.6938775510204%\n",
      "Accuracy on adversarial test examples: 72.55102040816327%\n",
      "Number of samples: 96\n"
     ]
    },
    {
     "name": "stderr",
     "output_type": "stream",
     "text": [
      "/opt/conda/lib/python3.7/site-packages/sklearn/svm/_base.py:947: ConvergenceWarning: Liblinear failed to converge, increase the number of iterations.\n",
      "  \"the number of iterations.\", ConvergenceWarning)\n"
     ]
    },
    {
     "name": "stdout",
     "output_type": "stream",
     "text": [
      "Acc of the Classifier: 0.748980\n",
      "Loading Saved Model...\n",
      "Acc of the Classifier: 0.765306\n",
      "Acc of the Classifier: 0.746939\n",
      "############################################\n",
      "#                    3                     #\n",
      "############################################\n"
     ]
    },
    {
     "name": "stderr",
     "output_type": "stream",
     "text": [
      "/opt/conda/lib/python3.7/site-packages/sklearn/svm/_base.py:947: ConvergenceWarning: Liblinear failed to converge, increase the number of iterations.\n",
      "  \"the number of iterations.\", ConvergenceWarning)\n"
     ]
    },
    {
     "name": "stdout",
     "output_type": "stream",
     "text": [
      "Acc of the Classifier: 0.747959\n",
      "Loading Saved Model...\n",
      "Acc of the Classifier: 0.789796\n",
      "Acc of the Classifier: 0.747959\n"
     ]
    },
    {
     "name": "stderr",
     "output_type": "stream",
     "text": [
      "/opt/conda/lib/python3.7/site-packages/sklearn/svm/_base.py:947: ConvergenceWarning: Liblinear failed to converge, increase the number of iterations.\n",
      "  \"the number of iterations.\", ConvergenceWarning)\n"
     ]
    },
    {
     "name": "stdout",
     "output_type": "stream",
     "text": [
      "Acc of the Classifier: 0.746939\n"
     ]
    },
    {
     "name": "stderr",
     "output_type": "stream",
     "text": [
      "/opt/conda/lib/python3.7/site-packages/sklearn/svm/_base.py:947: ConvergenceWarning: Liblinear failed to converge, increase the number of iterations.\n",
      "  \"the number of iterations.\", ConvergenceWarning)\n"
     ]
    },
    {
     "name": "stdout",
     "output_type": "stream",
     "text": [
      "Acc of the Classifier: 0.746939\n"
     ]
    },
    {
     "name": "stderr",
     "output_type": "stream",
     "text": [
      "/opt/conda/lib/python3.7/site-packages/sklearn/svm/_base.py:947: ConvergenceWarning: Liblinear failed to converge, increase the number of iterations.\n",
      "  \"the number of iterations.\", ConvergenceWarning)\n"
     ]
    },
    {
     "name": "stdout",
     "output_type": "stream",
     "text": [
      "Acc of the Classifier: 0.746939\n",
      "Loading Saved Model...\n",
      "Acc of the Classifier: 0.789796\n",
      "Loading Saved Model...\n",
      "Acc of the Classifier: 0.789796\n",
      "Loading Saved Model...\n",
      "Acc of the Classifier: 0.789796\n",
      "Acc of the Classifier: 0.747959\n",
      "Acc of the Classifier: 0.747959\n",
      "Acc of the Classifier: 0.747959\n"
     ]
    },
    {
     "name": "stderr",
     "output_type": "stream",
     "text": [
      "/opt/conda/lib/python3.7/site-packages/sklearn/svm/_base.py:947: ConvergenceWarning: Liblinear failed to converge, increase the number of iterations.\n",
      "  \"the number of iterations.\", ConvergenceWarning)\n"
     ]
    },
    {
     "name": "stdout",
     "output_type": "stream",
     "text": [
      "Acc of the classifier: 0.745918\n",
      "Acc of the classifier: 0.789796\n",
      "Acc of the classifier: 0.747959\n"
     ]
    },
    {
     "name": "stderr",
     "output_type": "stream",
     "text": [
      "WARNING:art.classifiers.scikitlearn:Input shape not recognised. The model might not have been fitted.\n",
      "WARNING:art.classifiers.scikitlearn:Number of classes not recognised. The model might not have been fitted.\n",
      "/opt/conda/lib/python3.7/site-packages/sklearn/svm/_base.py:947: ConvergenceWarning: Liblinear failed to converge, increase the number of iterations.\n",
      "  \"the number of iterations.\", ConvergenceWarning)\n"
     ]
    },
    {
     "name": "stdout",
     "output_type": "stream",
     "text": [
      "Accuracy on benign test examples: 75.44665645737622%\n",
      "Accuracy on adversarial test examples: 68.45329249617151%\n",
      "Number of samples: 835\n",
      "Accuracy on benign test examples: 74.59183673469387%\n",
      "Accuracy on adversarial test examples: 67.3469387755102%\n",
      "Number of samples: 214\n",
      "Accuracy on benign test examples: 98.41755997958141%\n",
      "Accuracy on adversarial test examples: 33.30781010719755%\n",
      "Number of samples: 2597\n",
      "Accuracy on benign test examples: 78.9795918367347%\n"
     ]
    },
    {
     "name": "stderr",
     "output_type": "stream",
     "text": [
      "WARNING:art.classifiers.scikitlearn:Input shape not recognised. The model might not have been fitted.\n",
      "WARNING:art.classifiers.scikitlearn:Number of classes not recognised. The model might not have been fitted.\n"
     ]
    },
    {
     "name": "stdout",
     "output_type": "stream",
     "text": [
      "Accuracy on adversarial test examples: 44.59183673469388%\n",
      "Number of samples: 508\n",
      "Accuracy on benign test examples: 75.472179683512%\n",
      "Accuracy on adversarial test examples: 68.3256763654926%\n",
      "Number of samples: 844\n",
      "Accuracy on benign test examples: 74.79591836734694%\n"
     ]
    },
    {
     "name": "stderr",
     "output_type": "stream",
     "text": [
      "WARNING:art.classifiers.scikitlearn:Input shape not recognised. The model might not have been fitted.\n",
      "WARNING:art.classifiers.scikitlearn:Number of classes not recognised. The model might not have been fitted.\n"
     ]
    },
    {
     "name": "stdout",
     "output_type": "stream",
     "text": [
      "Accuracy on adversarial test examples: 67.14285714285714%\n",
      "Number of samples: 216\n"
     ]
    },
    {
     "name": "stderr",
     "output_type": "stream",
     "text": [
      "/opt/conda/lib/python3.7/site-packages/sklearn/svm/_base.py:947: ConvergenceWarning: Liblinear failed to converge, increase the number of iterations.\n",
      "  \"the number of iterations.\", ConvergenceWarning)\n"
     ]
    },
    {
     "name": "stdout",
     "output_type": "stream",
     "text": [
      "Accuracy on benign test examples: 75.54874936191935%\n",
      "Accuracy on adversarial test examples: 73.04747320061256%\n",
      "Number of samples: 414\n",
      "Accuracy on benign test examples: 74.6938775510204%\n",
      "Accuracy on adversarial test examples: 72.24489795918367%\n",
      "Number of samples: 110\n",
      "Accuracy on benign test examples: 98.41755997958141%\n",
      "Accuracy on adversarial test examples: 68.40224604389995%\n",
      "Number of samples: 1219\n",
      "Accuracy on benign test examples: 78.9795918367347%\n"
     ]
    },
    {
     "name": "stderr",
     "output_type": "stream",
     "text": [
      "WARNING:art.classifiers.scikitlearn:Input shape not recognised. The model might not have been fitted.\n",
      "WARNING:art.classifiers.scikitlearn:Number of classes not recognised. The model might not have been fitted.\n"
     ]
    },
    {
     "name": "stdout",
     "output_type": "stream",
     "text": [
      "Accuracy on adversarial test examples: 66.3265306122449%\n",
      "Number of samples: 243\n",
      "Accuracy on benign test examples: 75.472179683512%\n",
      "Accuracy on adversarial test examples: 73.20061255742726%\n",
      "Number of samples: 422\n",
      "Accuracy on benign test examples: 74.79591836734694%\n",
      "Accuracy on adversarial test examples: 72.55102040816327%\n",
      "Number of samples: 112\n"
     ]
    },
    {
     "name": "stderr",
     "output_type": "stream",
     "text": [
      "/opt/conda/lib/python3.7/site-packages/sklearn/svm/_base.py:947: ConvergenceWarning: Liblinear failed to converge, increase the number of iterations.\n",
      "  \"the number of iterations.\", ConvergenceWarning)\n"
     ]
    },
    {
     "name": "stdout",
     "output_type": "stream",
     "text": [
      "Acc of the Classifier: 0.748980\n",
      "Loading Saved Model...\n",
      "Acc of the Classifier: 0.789796\n",
      "Acc of the Classifier: 0.747959\n",
      "############################################\n",
      "#                    4                     #\n",
      "############################################\n"
     ]
    },
    {
     "name": "stderr",
     "output_type": "stream",
     "text": [
      "/opt/conda/lib/python3.7/site-packages/sklearn/svm/_base.py:947: ConvergenceWarning: Liblinear failed to converge, increase the number of iterations.\n",
      "  \"the number of iterations.\", ConvergenceWarning)\n"
     ]
    },
    {
     "name": "stdout",
     "output_type": "stream",
     "text": [
      "Acc of the Classifier: 0.751020\n",
      "Loading Saved Model...\n",
      "Acc of the Classifier: 0.817347\n",
      "Acc of the Classifier: 0.748980\n"
     ]
    },
    {
     "name": "stderr",
     "output_type": "stream",
     "text": [
      "/opt/conda/lib/python3.7/site-packages/sklearn/svm/_base.py:947: ConvergenceWarning: Liblinear failed to converge, increase the number of iterations.\n",
      "  \"the number of iterations.\", ConvergenceWarning)\n"
     ]
    },
    {
     "name": "stdout",
     "output_type": "stream",
     "text": [
      "Acc of the Classifier: 0.752041\n"
     ]
    },
    {
     "name": "stderr",
     "output_type": "stream",
     "text": [
      "/opt/conda/lib/python3.7/site-packages/sklearn/svm/_base.py:947: ConvergenceWarning: Liblinear failed to converge, increase the number of iterations.\n",
      "  \"the number of iterations.\", ConvergenceWarning)\n"
     ]
    },
    {
     "name": "stdout",
     "output_type": "stream",
     "text": [
      "Acc of the Classifier: 0.753061\n"
     ]
    },
    {
     "name": "stderr",
     "output_type": "stream",
     "text": [
      "/opt/conda/lib/python3.7/site-packages/sklearn/svm/_base.py:947: ConvergenceWarning: Liblinear failed to converge, increase the number of iterations.\n",
      "  \"the number of iterations.\", ConvergenceWarning)\n"
     ]
    },
    {
     "name": "stdout",
     "output_type": "stream",
     "text": [
      "Acc of the Classifier: 0.750000\n",
      "Loading Saved Model...\n",
      "Acc of the Classifier: 0.817347\n",
      "Loading Saved Model...\n",
      "Acc of the Classifier: 0.817347\n",
      "Loading Saved Model...\n",
      "Acc of the Classifier: 0.817347\n",
      "Acc of the Classifier: 0.748980\n",
      "Acc of the Classifier: 0.748980\n",
      "Acc of the Classifier: 0.748980\n"
     ]
    },
    {
     "name": "stderr",
     "output_type": "stream",
     "text": [
      "/opt/conda/lib/python3.7/site-packages/sklearn/svm/_base.py:947: ConvergenceWarning: Liblinear failed to converge, increase the number of iterations.\n",
      "  \"the number of iterations.\", ConvergenceWarning)\n"
     ]
    },
    {
     "name": "stdout",
     "output_type": "stream",
     "text": [
      "Acc of the classifier: 0.751020\n",
      "Acc of the classifier: 0.817347\n",
      "Acc of the classifier: 0.748980\n"
     ]
    },
    {
     "name": "stderr",
     "output_type": "stream",
     "text": [
      "WARNING:art.classifiers.scikitlearn:Input shape not recognised. The model might not have been fitted.\n",
      "WARNING:art.classifiers.scikitlearn:Number of classes not recognised. The model might not have been fitted.\n",
      "/opt/conda/lib/python3.7/site-packages/sklearn/svm/_base.py:947: ConvergenceWarning: Liblinear failed to converge, increase the number of iterations.\n",
      "  \"the number of iterations.\", ConvergenceWarning)\n"
     ]
    },
    {
     "name": "stdout",
     "output_type": "stream",
     "text": [
      "Accuracy on benign test examples: 75.06380806533946%\n",
      "Accuracy on adversarial test examples: 68.75957120980092%\n",
      "Number of samples: 800\n",
      "Accuracy on benign test examples: 75.0%\n",
      "Accuracy on adversarial test examples: 70.51020408163265%\n",
      "Number of samples: 185\n",
      "Accuracy on benign test examples: 96.8861664114344%\n",
      "Accuracy on adversarial test examples: 37.21286370597244%\n",
      "Number of samples: 2420\n",
      "Accuracy on benign test examples: 81.73469387755102%\n"
     ]
    },
    {
     "name": "stderr",
     "output_type": "stream",
     "text": [
      "WARNING:art.classifiers.scikitlearn:Input shape not recognised. The model might not have been fitted.\n",
      "WARNING:art.classifiers.scikitlearn:Number of classes not recognised. The model might not have been fitted.\n"
     ]
    },
    {
     "name": "stdout",
     "output_type": "stream",
     "text": [
      "Accuracy on adversarial test examples: 45.51020408163266%\n",
      "Number of samples: 496\n",
      "Accuracy on benign test examples: 75.1659009698826%\n",
      "Accuracy on adversarial test examples: 68.70852475752936%\n",
      "Number of samples: 807\n",
      "Accuracy on benign test examples: 74.89795918367346%\n"
     ]
    },
    {
     "name": "stderr",
     "output_type": "stream",
     "text": [
      "WARNING:art.classifiers.scikitlearn:Input shape not recognised. The model might not have been fitted.\n",
      "WARNING:art.classifiers.scikitlearn:Number of classes not recognised. The model might not have been fitted.\n"
     ]
    },
    {
     "name": "stdout",
     "output_type": "stream",
     "text": [
      "Accuracy on adversarial test examples: 70.91836734693877%\n",
      "Number of samples: 183\n"
     ]
    },
    {
     "name": "stderr",
     "output_type": "stream",
     "text": [
      "/opt/conda/lib/python3.7/site-packages/sklearn/svm/_base.py:947: ConvergenceWarning: Liblinear failed to converge, increase the number of iterations.\n",
      "  \"the number of iterations.\", ConvergenceWarning)\n"
     ]
    },
    {
     "name": "stdout",
     "output_type": "stream",
     "text": [
      "Accuracy on benign test examples: 75.26799387442573%\n",
      "Accuracy on adversarial test examples: 73.4303215926493%\n",
      "Number of samples: 402\n",
      "Accuracy on benign test examples: 75.3061224489796%\n",
      "Accuracy on adversarial test examples: 73.16326530612245%\n",
      "Number of samples: 97\n",
      "Accuracy on benign test examples: 96.8861664114344%\n",
      "Accuracy on adversarial test examples: 70.41858090862685%\n",
      "Number of samples: 1106\n",
      "Accuracy on benign test examples: 81.73469387755102%\n"
     ]
    },
    {
     "name": "stderr",
     "output_type": "stream",
     "text": [
      "WARNING:art.classifiers.scikitlearn:Input shape not recognised. The model might not have been fitted.\n",
      "WARNING:art.classifiers.scikitlearn:Number of classes not recognised. The model might not have been fitted.\n"
     ]
    },
    {
     "name": "stdout",
     "output_type": "stream",
     "text": [
      "Accuracy on adversarial test examples: 67.55102040816327%\n",
      "Number of samples: 232\n",
      "Accuracy on benign test examples: 75.1659009698826%\n",
      "Accuracy on adversarial test examples: 73.22613578356304%\n",
      "Number of samples: 405\n",
      "Accuracy on benign test examples: 74.89795918367346%\n",
      "Accuracy on adversarial test examples: 73.36734693877551%\n",
      "Number of samples: 95\n"
     ]
    },
    {
     "name": "stderr",
     "output_type": "stream",
     "text": [
      "/opt/conda/lib/python3.7/site-packages/sklearn/svm/_base.py:947: ConvergenceWarning: Liblinear failed to converge, increase the number of iterations.\n",
      "  \"the number of iterations.\", ConvergenceWarning)\n"
     ]
    },
    {
     "name": "stdout",
     "output_type": "stream",
     "text": [
      "Acc of the Classifier: 0.752041\n",
      "Loading Saved Model...\n",
      "Acc of the Classifier: 0.817347\n",
      "Acc of the Classifier: 0.748980\n"
     ]
    }
   ],
   "source": [
    "#dataPrepareTrain(dataset)\n",
    "dataPrepareTest(dataset, adv=runAdv, artificial=True)"
   ]
  },
  {
   "cell_type": "code",
   "execution_count": 4,
   "metadata": {},
   "outputs": [],
   "source": [
    "#PK_model_prepare(dataset)"
   ]
  },
  {
   "cell_type": "markdown",
   "metadata": {},
   "source": [
    "## Mixed"
   ]
  },
  {
   "cell_type": "code",
   "execution_count": 5,
   "metadata": {},
   "outputs": [
    {
     "name": "stdout",
     "output_type": "stream",
     "text": [
      "Noise Type: random, Model: nn, Level: medium\n",
      "############################################\n",
      "#                    0                     #\n",
      "############################################\n",
      "Use Encoding: 1\n",
      "CrossEntropy Loss: 0.000000 MSE Loss: 3.193279 Time elapsed: 12.771308 s\n",
      "CrossEntropy Loss: 0.000000 MSE Loss: 3.980535 Time elapsed: 1.015618 s\n",
      "Method: Raw Feature w/o PK Loss\n",
      "Method: Raw Feature w/ PK Loss\n",
      "Method: PK Loss Only\n"
     ]
    },
    {
     "name": "stderr",
     "output_type": "stream",
     "text": [
      "/opt/conda/lib/python3.7/site-packages/sklearn/svm/_base.py:947: ConvergenceWarning: Liblinear failed to converge, increase the number of iterations.\n",
      "  \"the number of iterations.\", ConvergenceWarning)\n"
     ]
    },
    {
     "name": "stdout",
     "output_type": "stream",
     "text": [
      "0 / 45948\n",
      "2297 / 45948\n",
      "4594 / 45948\n",
      "6891 / 45948\n",
      "9188 / 45948\n",
      "11485 / 45948\n",
      "13782 / 45948\n",
      "16079 / 45948\n",
      "18376 / 45948\n",
      "20673 / 45948\n",
      "22970 / 45948\n",
      "25267 / 45948\n",
      "27564 / 45948\n",
      "29861 / 45948\n",
      "32158 / 45948\n",
      "34455 / 45948\n",
      "36752 / 45948\n",
      "39049 / 45948\n",
      "41346 / 45948\n",
      "43643 / 45948\n",
      "45940 / 45948\n"
     ]
    },
    {
     "name": "stderr",
     "output_type": "stream",
     "text": [
      "/opt/conda/lib/python3.7/site-packages/sklearn/svm/_base.py:947: ConvergenceWarning: Liblinear failed to converge, increase the number of iterations.\n",
      "  \"the number of iterations.\", ConvergenceWarning)\n"
     ]
    },
    {
     "name": "stdout",
     "output_type": "stream",
     "text": [
      "0 / 3104\n",
      "155 / 3104\n",
      "310 / 3104\n",
      "465 / 3104\n",
      "620 / 3104\n",
      "775 / 3104\n",
      "930 / 3104\n",
      "1085 / 3104\n",
      "1240 / 3104\n",
      "1395 / 3104\n",
      "1550 / 3104\n",
      "1705 / 3104\n",
      "1860 / 3104\n",
      "2015 / 3104\n",
      "2170 / 3104\n",
      "2325 / 3104\n",
      "2480 / 3104\n",
      "2635 / 3104\n",
      "2790 / 3104\n",
      "2945 / 3104\n",
      "3100 / 3104\n",
      "Method: Nearest Neighbour w/o PK Loss\n",
      "RVAE w/ Raw Feature\n",
      "Method: MWOC w/o PK Loss\n",
      "Method: MWOC w/ PK Loss\n",
      "noise type: normal magnitude: 0.100000\n",
      "noise type: normal magnitude: 0.500000\n",
      "noise type: uniform magnitude: 0.100000\n",
      "noise type: uniform magnitude: 0.500000\n",
      "noise type: uniform magnitude: -0.100000\n",
      "noise type: uniform magnitude: -0.500000\n",
      "noise type: bernoulli magnitude: 0.100000\n",
      "noise type: bernoulli magnitude: 0.500000\n",
      "noise type: bernoulli magnitude: -0.100000\n",
      "noise type: bernoulli magnitude: -0.500000\n",
      "Method: Calibrated Confidence Score w/o PK Loss\n",
      "############################################\n",
      "#                    1                     #\n",
      "############################################\n",
      "Use Encoding: 1\n",
      "CrossEntropy Loss: 0.000000 MSE Loss: 3.339676 Time elapsed: 12.725662 s\n",
      "CrossEntropy Loss: 0.000000 MSE Loss: 4.009732 Time elapsed: 0.987423 s\n",
      "Method: Raw Feature w/o PK Loss\n",
      "Method: Raw Feature w/ PK Loss\n",
      "Method: PK Loss Only\n"
     ]
    },
    {
     "name": "stderr",
     "output_type": "stream",
     "text": [
      "/opt/conda/lib/python3.7/site-packages/sklearn/svm/_base.py:947: ConvergenceWarning: Liblinear failed to converge, increase the number of iterations.\n",
      "  \"the number of iterations.\", ConvergenceWarning)\n"
     ]
    },
    {
     "name": "stdout",
     "output_type": "stream",
     "text": [
      "0 / 45408\n",
      "2270 / 45408\n",
      "4540 / 45408\n",
      "6810 / 45408\n",
      "9080 / 45408\n",
      "11350 / 45408\n",
      "13620 / 45408\n",
      "15890 / 45408\n",
      "18160 / 45408\n",
      "20430 / 45408\n",
      "22700 / 45408\n",
      "24970 / 45408\n",
      "27240 / 45408\n",
      "29510 / 45408\n",
      "31780 / 45408\n",
      "34050 / 45408\n",
      "36320 / 45408\n",
      "38590 / 45408\n",
      "40860 / 45408\n",
      "43130 / 45408\n",
      "45400 / 45408\n"
     ]
    },
    {
     "name": "stderr",
     "output_type": "stream",
     "text": [
      "/opt/conda/lib/python3.7/site-packages/sklearn/svm/_base.py:947: ConvergenceWarning: Liblinear failed to converge, increase the number of iterations.\n",
      "  \"the number of iterations.\", ConvergenceWarning)\n"
     ]
    },
    {
     "name": "stdout",
     "output_type": "stream",
     "text": [
      "0 / 3076\n",
      "153 / 3076\n",
      "306 / 3076\n",
      "459 / 3076\n",
      "612 / 3076\n",
      "765 / 3076\n",
      "918 / 3076\n",
      "1071 / 3076\n",
      "1224 / 3076\n",
      "1377 / 3076\n",
      "1530 / 3076\n",
      "1683 / 3076\n",
      "1836 / 3076\n",
      "1989 / 3076\n",
      "2142 / 3076\n",
      "2295 / 3076\n",
      "2448 / 3076\n",
      "2601 / 3076\n",
      "2754 / 3076\n",
      "2907 / 3076\n",
      "3060 / 3076\n",
      "Method: Nearest Neighbour w/o PK Loss\n",
      "RVAE w/ Raw Feature\n",
      "Method: MWOC w/o PK Loss\n",
      "Method: MWOC w/ PK Loss\n",
      "noise type: normal magnitude: 0.100000\n",
      "noise type: normal magnitude: 0.500000\n",
      "noise type: uniform magnitude: 0.100000\n",
      "noise type: uniform magnitude: 0.500000\n",
      "noise type: uniform magnitude: -0.100000\n",
      "noise type: uniform magnitude: -0.500000\n",
      "noise type: bernoulli magnitude: 0.100000\n",
      "noise type: bernoulli magnitude: 0.500000\n",
      "noise type: bernoulli magnitude: -0.100000\n",
      "noise type: bernoulli magnitude: -0.500000\n",
      "Method: Calibrated Confidence Score w/o PK Loss\n",
      "############################################\n",
      "#                    2                     #\n",
      "############################################\n",
      "Use Encoding: 1\n",
      "CrossEntropy Loss: 0.000000 MSE Loss: 3.165572 Time elapsed: 12.485869 s\n",
      "CrossEntropy Loss: 0.000000 MSE Loss: 3.496520 Time elapsed: 0.850085 s\n",
      "Method: Raw Feature w/o PK Loss\n",
      "Method: Raw Feature w/ PK Loss\n",
      "Method: PK Loss Only\n"
     ]
    },
    {
     "name": "stderr",
     "output_type": "stream",
     "text": [
      "/opt/conda/lib/python3.7/site-packages/sklearn/svm/_base.py:947: ConvergenceWarning: Liblinear failed to converge, increase the number of iterations.\n",
      "  \"the number of iterations.\", ConvergenceWarning)\n"
     ]
    },
    {
     "name": "stdout",
     "output_type": "stream",
     "text": [
      "0 / 44904\n",
      "2245 / 44904\n",
      "4490 / 44904\n",
      "6735 / 44904\n",
      "8980 / 44904\n",
      "11225 / 44904\n",
      "13470 / 44904\n",
      "15715 / 44904\n",
      "17960 / 44904\n",
      "20205 / 44904\n",
      "22450 / 44904\n",
      "24695 / 44904\n",
      "26940 / 44904\n",
      "29185 / 44904\n",
      "31430 / 44904\n",
      "33675 / 44904\n",
      "35920 / 44904\n",
      "38165 / 44904\n",
      "40410 / 44904\n",
      "42655 / 44904\n",
      "44900 / 44904\n"
     ]
    },
    {
     "name": "stderr",
     "output_type": "stream",
     "text": [
      "/opt/conda/lib/python3.7/site-packages/sklearn/svm/_base.py:947: ConvergenceWarning: Liblinear failed to converge, increase the number of iterations.\n",
      "  \"the number of iterations.\", ConvergenceWarning)\n"
     ]
    },
    {
     "name": "stdout",
     "output_type": "stream",
     "text": [
      "0 / 3000\n",
      "150 / 3000\n",
      "300 / 3000\n",
      "450 / 3000\n",
      "600 / 3000\n",
      "750 / 3000\n",
      "900 / 3000\n",
      "1050 / 3000\n",
      "1200 / 3000\n",
      "1350 / 3000\n",
      "1500 / 3000\n",
      "1650 / 3000\n",
      "1800 / 3000\n",
      "1950 / 3000\n",
      "2100 / 3000\n",
      "2250 / 3000\n",
      "2400 / 3000\n",
      "2550 / 3000\n",
      "2700 / 3000\n",
      "2850 / 3000\n",
      "Method: Nearest Neighbour w/o PK Loss\n",
      "RVAE w/ Raw Feature\n",
      "Method: MWOC w/o PK Loss\n",
      "Method: MWOC w/ PK Loss\n",
      "noise type: normal magnitude: 0.100000\n",
      "noise type: normal magnitude: 0.500000\n",
      "noise type: uniform magnitude: 0.100000\n",
      "noise type: uniform magnitude: 0.500000\n",
      "noise type: uniform magnitude: -0.100000\n",
      "noise type: uniform magnitude: -0.500000\n",
      "noise type: bernoulli magnitude: 0.100000\n",
      "noise type: bernoulli magnitude: 0.500000\n",
      "noise type: bernoulli magnitude: -0.100000\n",
      "noise type: bernoulli magnitude: -0.500000\n",
      "Method: Calibrated Confidence Score w/o PK Loss\n",
      "############################################\n",
      "#                    3                     #\n",
      "############################################\n",
      "Use Encoding: 1\n",
      "CrossEntropy Loss: 0.000000 MSE Loss: 3.483341 Time elapsed: 12.910014 s\n",
      "CrossEntropy Loss: 0.000000 MSE Loss: 4.160967 Time elapsed: 0.980745 s\n",
      "Method: Raw Feature w/o PK Loss\n",
      "Method: Raw Feature w/ PK Loss\n",
      "Method: PK Loss Only\n"
     ]
    },
    {
     "name": "stderr",
     "output_type": "stream",
     "text": [
      "/opt/conda/lib/python3.7/site-packages/sklearn/svm/_base.py:947: ConvergenceWarning: Liblinear failed to converge, increase the number of iterations.\n",
      "  \"the number of iterations.\", ConvergenceWarning)\n"
     ]
    },
    {
     "name": "stdout",
     "output_type": "stream",
     "text": [
      "0 / 46272\n",
      "2313 / 46272\n",
      "4626 / 46272\n",
      "6939 / 46272\n",
      "9252 / 46272\n",
      "11565 / 46272\n",
      "13878 / 46272\n",
      "16191 / 46272\n",
      "18504 / 46272\n",
      "20817 / 46272\n",
      "23130 / 46272\n",
      "25443 / 46272\n",
      "27756 / 46272\n",
      "30069 / 46272\n",
      "32382 / 46272\n",
      "34695 / 46272\n",
      "37008 / 46272\n",
      "39321 / 46272\n",
      "41634 / 46272\n",
      "43947 / 46272\n",
      "46260 / 46272\n"
     ]
    },
    {
     "name": "stderr",
     "output_type": "stream",
     "text": [
      "/opt/conda/lib/python3.7/site-packages/sklearn/svm/_base.py:947: ConvergenceWarning: Liblinear failed to converge, increase the number of iterations.\n",
      "  \"the number of iterations.\", ConvergenceWarning)\n"
     ]
    },
    {
     "name": "stdout",
     "output_type": "stream",
     "text": [
      "0 / 3096\n",
      "154 / 3096\n",
      "308 / 3096\n",
      "462 / 3096\n",
      "616 / 3096\n",
      "770 / 3096\n",
      "924 / 3096\n",
      "1078 / 3096\n",
      "1232 / 3096\n",
      "1386 / 3096\n",
      "1540 / 3096\n",
      "1694 / 3096\n",
      "1848 / 3096\n",
      "2002 / 3096\n",
      "2156 / 3096\n",
      "2310 / 3096\n",
      "2464 / 3096\n",
      "2618 / 3096\n",
      "2772 / 3096\n",
      "2926 / 3096\n",
      "3080 / 3096\n",
      "Method: Nearest Neighbour w/o PK Loss\n",
      "RVAE w/ Raw Feature\n",
      "Method: MWOC w/o PK Loss\n",
      "Method: MWOC w/ PK Loss\n",
      "noise type: normal magnitude: 0.100000\n",
      "noise type: normal magnitude: 0.500000\n",
      "noise type: uniform magnitude: 0.100000\n",
      "noise type: uniform magnitude: 0.500000\n",
      "noise type: uniform magnitude: -0.100000\n",
      "noise type: uniform magnitude: -0.500000\n",
      "noise type: bernoulli magnitude: 0.100000\n",
      "noise type: bernoulli magnitude: 0.500000\n",
      "noise type: bernoulli magnitude: -0.100000\n",
      "noise type: bernoulli magnitude: -0.500000\n",
      "Method: Calibrated Confidence Score w/o PK Loss\n",
      "############################################\n",
      "#                    4                     #\n",
      "############################################\n",
      "Use Encoding: 1\n",
      "CrossEntropy Loss: 0.000000 MSE Loss: 3.151997 Time elapsed: 12.678365 s\n",
      "CrossEntropy Loss: 0.000000 MSE Loss: 3.746628 Time elapsed: 0.970194 s\n",
      "Method: Raw Feature w/o PK Loss\n",
      "Method: Raw Feature w/ PK Loss\n",
      "Method: PK Loss Only\n"
     ]
    },
    {
     "name": "stderr",
     "output_type": "stream",
     "text": [
      "/opt/conda/lib/python3.7/site-packages/sklearn/svm/_base.py:947: ConvergenceWarning: Liblinear failed to converge, increase the number of iterations.\n",
      "  \"the number of iterations.\", ConvergenceWarning)\n"
     ]
    },
    {
     "name": "stdout",
     "output_type": "stream",
     "text": [
      "0 / 45552\n",
      "2277 / 45552\n",
      "4554 / 45552\n",
      "6831 / 45552\n",
      "9108 / 45552\n",
      "11385 / 45552\n",
      "13662 / 45552\n",
      "15939 / 45552\n",
      "18216 / 45552\n",
      "20493 / 45552\n",
      "22770 / 45552\n",
      "25047 / 45552\n",
      "27324 / 45552\n",
      "29601 / 45552\n",
      "31878 / 45552\n",
      "34155 / 45552\n",
      "36432 / 45552\n",
      "38709 / 45552\n",
      "40986 / 45552\n",
      "43263 / 45552\n",
      "45540 / 45552\n"
     ]
    },
    {
     "name": "stderr",
     "output_type": "stream",
     "text": [
      "/opt/conda/lib/python3.7/site-packages/sklearn/svm/_base.py:947: ConvergenceWarning: Liblinear failed to converge, increase the number of iterations.\n",
      "  \"the number of iterations.\", ConvergenceWarning)\n"
     ]
    },
    {
     "name": "stdout",
     "output_type": "stream",
     "text": [
      "0 / 3204\n",
      "160 / 3204\n",
      "320 / 3204\n",
      "480 / 3204\n",
      "640 / 3204\n",
      "800 / 3204\n",
      "960 / 3204\n",
      "1120 / 3204\n",
      "1280 / 3204\n",
      "1440 / 3204\n",
      "1600 / 3204\n",
      "1760 / 3204\n",
      "1920 / 3204\n",
      "2080 / 3204\n",
      "2240 / 3204\n",
      "2400 / 3204\n",
      "2560 / 3204\n",
      "2720 / 3204\n",
      "2880 / 3204\n",
      "3040 / 3204\n",
      "3200 / 3204\n",
      "Method: Nearest Neighbour w/o PK Loss\n",
      "RVAE w/ Raw Feature\n",
      "Method: MWOC w/o PK Loss\n",
      "Method: MWOC w/ PK Loss\n",
      "noise type: normal magnitude: 0.100000\n",
      "noise type: normal magnitude: 0.500000\n",
      "noise type: uniform magnitude: 0.100000\n",
      "noise type: uniform magnitude: 0.500000\n",
      "noise type: uniform magnitude: -0.100000\n",
      "noise type: uniform magnitude: -0.500000\n",
      "noise type: bernoulli magnitude: 0.100000\n",
      "noise type: bernoulli magnitude: 0.500000\n",
      "noise type: bernoulli magnitude: -0.100000\n",
      "noise type: bernoulli magnitude: -0.500000\n",
      "Method: Calibrated Confidence Score w/o PK Loss\n",
      "Noise Type: random, Model: svm, Level: medium\n",
      "############################################\n",
      "#                    0                     #\n",
      "############################################\n",
      "Use Encoding: 1\n",
      "CrossEntropy Loss: 0.000000 MSE Loss: 3.516112 Time elapsed: 9.934472 s\n",
      "CrossEntropy Loss: 0.000000 MSE Loss: 3.743377 Time elapsed: 0.841260 s\n"
     ]
    },
    {
     "name": "stderr",
     "output_type": "stream",
     "text": [
      "/opt/conda/lib/python3.7/site-packages/sklearn/svm/_base.py:947: ConvergenceWarning: Liblinear failed to converge, increase the number of iterations.\n",
      "  \"the number of iterations.\", ConvergenceWarning)\n"
     ]
    },
    {
     "name": "stdout",
     "output_type": "stream",
     "text": [
      "Method: Raw Feature w/o PK Loss\n",
      "Method: Raw Feature w/ PK Loss\n",
      "Method: PK Loss Only\n"
     ]
    },
    {
     "name": "stderr",
     "output_type": "stream",
     "text": [
      "/opt/conda/lib/python3.7/site-packages/sklearn/svm/_base.py:947: ConvergenceWarning: Liblinear failed to converge, increase the number of iterations.\n",
      "  \"the number of iterations.\", ConvergenceWarning)\n"
     ]
    },
    {
     "name": "stdout",
     "output_type": "stream",
     "text": [
      "0 / 35280\n",
      "1764 / 35280\n",
      "3528 / 35280\n",
      "5292 / 35280\n",
      "7056 / 35280\n",
      "8820 / 35280\n",
      "10584 / 35280\n",
      "12348 / 35280\n",
      "14112 / 35280\n",
      "15876 / 35280\n",
      "17640 / 35280\n",
      "19404 / 35280\n",
      "21168 / 35280\n",
      "22932 / 35280\n",
      "24696 / 35280\n",
      "26460 / 35280\n",
      "28224 / 35280\n",
      "29988 / 35280\n",
      "31752 / 35280\n",
      "33516 / 35280\n"
     ]
    },
    {
     "name": "stderr",
     "output_type": "stream",
     "text": [
      "/opt/conda/lib/python3.7/site-packages/sklearn/svm/_base.py:947: ConvergenceWarning: Liblinear failed to converge, increase the number of iterations.\n",
      "  \"the number of iterations.\", ConvergenceWarning)\n"
     ]
    },
    {
     "name": "stdout",
     "output_type": "stream",
     "text": [
      "0 / 2952\n",
      "147 / 2952\n",
      "294 / 2952\n",
      "441 / 2952\n",
      "588 / 2952\n",
      "735 / 2952\n",
      "882 / 2952\n",
      "1029 / 2952\n",
      "1176 / 2952\n",
      "1323 / 2952\n",
      "1470 / 2952\n",
      "1617 / 2952\n",
      "1764 / 2952\n",
      "1911 / 2952\n",
      "2058 / 2952\n",
      "2205 / 2952\n",
      "2352 / 2952\n",
      "2499 / 2952\n",
      "2646 / 2952\n",
      "2793 / 2952\n",
      "2940 / 2952\n",
      "Method: Nearest Neighbour w/o PK Loss\n",
      "RVAE w/ Raw Feature\n",
      "Method: MWOC w/o PK Loss\n"
     ]
    },
    {
     "name": "stderr",
     "output_type": "stream",
     "text": [
      "/opt/conda/lib/python3.7/site-packages/sklearn/svm/_base.py:947: ConvergenceWarning: Liblinear failed to converge, increase the number of iterations.\n",
      "  \"the number of iterations.\", ConvergenceWarning)\n"
     ]
    },
    {
     "name": "stdout",
     "output_type": "stream",
     "text": [
      "Method: MWOC w/ PK Loss\n"
     ]
    },
    {
     "name": "stderr",
     "output_type": "stream",
     "text": [
      "/opt/conda/lib/python3.7/site-packages/sklearn/svm/_base.py:947: ConvergenceWarning: Liblinear failed to converge, increase the number of iterations.\n",
      "  \"the number of iterations.\", ConvergenceWarning)\n"
     ]
    },
    {
     "name": "stdout",
     "output_type": "stream",
     "text": [
      "noise type: normal magnitude: 0.100000\n",
      "noise type: normal magnitude: 0.500000\n",
      "noise type: uniform magnitude: 0.100000\n",
      "noise type: uniform magnitude: 0.500000\n",
      "noise type: uniform magnitude: -0.100000\n",
      "noise type: uniform magnitude: -0.500000\n",
      "noise type: bernoulli magnitude: 0.100000\n",
      "noise type: bernoulli magnitude: 0.500000\n",
      "noise type: bernoulli magnitude: -0.100000\n",
      "noise type: bernoulli magnitude: -0.500000\n"
     ]
    },
    {
     "name": "stderr",
     "output_type": "stream",
     "text": [
      "/opt/conda/lib/python3.7/site-packages/sklearn/svm/_base.py:947: ConvergenceWarning: Liblinear failed to converge, increase the number of iterations.\n",
      "  \"the number of iterations.\", ConvergenceWarning)\n",
      "/opt/conda/lib/python3.7/site-packages/sklearn/svm/_base.py:947: ConvergenceWarning: Liblinear failed to converge, increase the number of iterations.\n",
      "  \"the number of iterations.\", ConvergenceWarning)\n",
      "/opt/conda/lib/python3.7/site-packages/sklearn/svm/_base.py:947: ConvergenceWarning: Liblinear failed to converge, increase the number of iterations.\n",
      "  \"the number of iterations.\", ConvergenceWarning)\n",
      "/opt/conda/lib/python3.7/site-packages/sklearn/svm/_base.py:947: ConvergenceWarning: Liblinear failed to converge, increase the number of iterations.\n",
      "  \"the number of iterations.\", ConvergenceWarning)\n",
      "/opt/conda/lib/python3.7/site-packages/sklearn/svm/_base.py:947: ConvergenceWarning: Liblinear failed to converge, increase the number of iterations.\n",
      "  \"the number of iterations.\", ConvergenceWarning)\n"
     ]
    },
    {
     "name": "stdout",
     "output_type": "stream",
     "text": [
      "Method: Calibrated Confidence Score w/o PK Loss\n",
      "############################################\n",
      "#                    1                     #\n",
      "############################################\n",
      "Use Encoding: 1\n",
      "CrossEntropy Loss: 0.000000 MSE Loss: 3.594696 Time elapsed: 9.801724 s\n",
      "CrossEntropy Loss: 0.000000 MSE Loss: 3.781838 Time elapsed: 0.827107 s\n"
     ]
    },
    {
     "name": "stderr",
     "output_type": "stream",
     "text": [
      "/opt/conda/lib/python3.7/site-packages/sklearn/svm/_base.py:947: ConvergenceWarning: Liblinear failed to converge, increase the number of iterations.\n",
      "  \"the number of iterations.\", ConvergenceWarning)\n"
     ]
    },
    {
     "name": "stdout",
     "output_type": "stream",
     "text": [
      "Method: Raw Feature w/o PK Loss\n",
      "Method: Raw Feature w/ PK Loss\n",
      "Method: PK Loss Only\n"
     ]
    },
    {
     "name": "stderr",
     "output_type": "stream",
     "text": [
      "/opt/conda/lib/python3.7/site-packages/sklearn/svm/_base.py:947: ConvergenceWarning: Liblinear failed to converge, increase the number of iterations.\n",
      "  \"the number of iterations.\", ConvergenceWarning)\n"
     ]
    },
    {
     "name": "stdout",
     "output_type": "stream",
     "text": [
      "0 / 35284\n",
      "1764 / 35284\n",
      "3528 / 35284\n",
      "5292 / 35284\n",
      "7056 / 35284\n",
      "8820 / 35284\n",
      "10584 / 35284\n",
      "12348 / 35284\n",
      "14112 / 35284\n",
      "15876 / 35284\n",
      "17640 / 35284\n",
      "19404 / 35284\n",
      "21168 / 35284\n",
      "22932 / 35284\n",
      "24696 / 35284\n",
      "26460 / 35284\n",
      "28224 / 35284\n",
      "29988 / 35284\n",
      "31752 / 35284\n",
      "33516 / 35284\n",
      "35280 / 35284\n"
     ]
    },
    {
     "name": "stderr",
     "output_type": "stream",
     "text": [
      "/opt/conda/lib/python3.7/site-packages/sklearn/svm/_base.py:947: ConvergenceWarning: Liblinear failed to converge, increase the number of iterations.\n",
      "  \"the number of iterations.\", ConvergenceWarning)\n"
     ]
    },
    {
     "name": "stdout",
     "output_type": "stream",
     "text": [
      "0 / 2868\n",
      "143 / 2868\n",
      "286 / 2868\n",
      "429 / 2868\n",
      "572 / 2868\n",
      "715 / 2868\n",
      "858 / 2868\n",
      "1001 / 2868\n",
      "1144 / 2868\n",
      "1287 / 2868\n",
      "1430 / 2868\n",
      "1573 / 2868\n",
      "1716 / 2868\n",
      "1859 / 2868\n",
      "2002 / 2868\n",
      "2145 / 2868\n",
      "2288 / 2868\n",
      "2431 / 2868\n",
      "2574 / 2868\n",
      "2717 / 2868\n",
      "2860 / 2868\n",
      "Method: Nearest Neighbour w/o PK Loss\n",
      "RVAE w/ Raw Feature\n",
      "Method: MWOC w/o PK Loss\n"
     ]
    },
    {
     "name": "stderr",
     "output_type": "stream",
     "text": [
      "/opt/conda/lib/python3.7/site-packages/sklearn/svm/_base.py:947: ConvergenceWarning: Liblinear failed to converge, increase the number of iterations.\n",
      "  \"the number of iterations.\", ConvergenceWarning)\n"
     ]
    },
    {
     "name": "stdout",
     "output_type": "stream",
     "text": [
      "Method: MWOC w/ PK Loss\n"
     ]
    },
    {
     "name": "stderr",
     "output_type": "stream",
     "text": [
      "/opt/conda/lib/python3.7/site-packages/sklearn/svm/_base.py:947: ConvergenceWarning: Liblinear failed to converge, increase the number of iterations.\n",
      "  \"the number of iterations.\", ConvergenceWarning)\n"
     ]
    },
    {
     "name": "stdout",
     "output_type": "stream",
     "text": [
      "noise type: normal magnitude: 0.100000\n",
      "noise type: normal magnitude: 0.500000\n",
      "noise type: uniform magnitude: 0.100000\n",
      "noise type: uniform magnitude: 0.500000\n",
      "noise type: uniform magnitude: -0.100000\n",
      "noise type: uniform magnitude: -0.500000\n",
      "noise type: bernoulli magnitude: 0.100000\n",
      "noise type: bernoulli magnitude: 0.500000\n",
      "noise type: bernoulli magnitude: -0.100000\n",
      "noise type: bernoulli magnitude: -0.500000\n"
     ]
    },
    {
     "name": "stderr",
     "output_type": "stream",
     "text": [
      "/opt/conda/lib/python3.7/site-packages/sklearn/svm/_base.py:947: ConvergenceWarning: Liblinear failed to converge, increase the number of iterations.\n",
      "  \"the number of iterations.\", ConvergenceWarning)\n",
      "/opt/conda/lib/python3.7/site-packages/sklearn/svm/_base.py:947: ConvergenceWarning: Liblinear failed to converge, increase the number of iterations.\n",
      "  \"the number of iterations.\", ConvergenceWarning)\n",
      "/opt/conda/lib/python3.7/site-packages/sklearn/svm/_base.py:947: ConvergenceWarning: Liblinear failed to converge, increase the number of iterations.\n",
      "  \"the number of iterations.\", ConvergenceWarning)\n",
      "/opt/conda/lib/python3.7/site-packages/sklearn/svm/_base.py:947: ConvergenceWarning: Liblinear failed to converge, increase the number of iterations.\n",
      "  \"the number of iterations.\", ConvergenceWarning)\n",
      "/opt/conda/lib/python3.7/site-packages/sklearn/svm/_base.py:947: ConvergenceWarning: Liblinear failed to converge, increase the number of iterations.\n",
      "  \"the number of iterations.\", ConvergenceWarning)\n"
     ]
    },
    {
     "name": "stdout",
     "output_type": "stream",
     "text": [
      "Method: Calibrated Confidence Score w/o PK Loss\n",
      "############################################\n",
      "#                    2                     #\n",
      "############################################\n",
      "Use Encoding: 1\n",
      "CrossEntropy Loss: 0.000000 MSE Loss: 3.449471 Time elapsed: 9.843746 s\n",
      "CrossEntropy Loss: 0.000000 MSE Loss: 3.678129 Time elapsed: 0.814346 s\n"
     ]
    },
    {
     "name": "stderr",
     "output_type": "stream",
     "text": [
      "/opt/conda/lib/python3.7/site-packages/sklearn/svm/_base.py:947: ConvergenceWarning: Liblinear failed to converge, increase the number of iterations.\n",
      "  \"the number of iterations.\", ConvergenceWarning)\n"
     ]
    },
    {
     "name": "stdout",
     "output_type": "stream",
     "text": [
      "Method: Raw Feature w/o PK Loss\n",
      "Method: Raw Feature w/ PK Loss\n",
      "Method: PK Loss Only\n"
     ]
    },
    {
     "name": "stderr",
     "output_type": "stream",
     "text": [
      "/opt/conda/lib/python3.7/site-packages/sklearn/svm/_base.py:947: ConvergenceWarning: Liblinear failed to converge, increase the number of iterations.\n",
      "  \"the number of iterations.\", ConvergenceWarning)\n"
     ]
    },
    {
     "name": "stdout",
     "output_type": "stream",
     "text": [
      "0 / 35292\n",
      "1764 / 35292\n",
      "3528 / 35292\n",
      "5292 / 35292\n",
      "7056 / 35292\n",
      "8820 / 35292\n",
      "10584 / 35292\n",
      "12348 / 35292\n",
      "14112 / 35292\n",
      "15876 / 35292\n",
      "17640 / 35292\n",
      "19404 / 35292\n",
      "21168 / 35292\n",
      "22932 / 35292\n",
      "24696 / 35292\n",
      "26460 / 35292\n",
      "28224 / 35292\n",
      "29988 / 35292\n",
      "31752 / 35292\n",
      "33516 / 35292\n",
      "35280 / 35292\n"
     ]
    },
    {
     "name": "stderr",
     "output_type": "stream",
     "text": [
      "/opt/conda/lib/python3.7/site-packages/sklearn/svm/_base.py:947: ConvergenceWarning: Liblinear failed to converge, increase the number of iterations.\n",
      "  \"the number of iterations.\", ConvergenceWarning)\n"
     ]
    },
    {
     "name": "stdout",
     "output_type": "stream",
     "text": [
      "0 / 2932\n",
      "146 / 2932\n",
      "292 / 2932\n",
      "438 / 2932\n",
      "584 / 2932\n",
      "730 / 2932\n",
      "876 / 2932\n",
      "1022 / 2932\n",
      "1168 / 2932\n",
      "1314 / 2932\n",
      "1460 / 2932\n",
      "1606 / 2932\n",
      "1752 / 2932\n",
      "1898 / 2932\n",
      "2044 / 2932\n",
      "2190 / 2932\n",
      "2336 / 2932\n",
      "2482 / 2932\n",
      "2628 / 2932\n",
      "2774 / 2932\n",
      "2920 / 2932\n",
      "Method: Nearest Neighbour w/o PK Loss\n",
      "RVAE w/ Raw Feature\n",
      "Method: MWOC w/o PK Loss\n"
     ]
    },
    {
     "name": "stderr",
     "output_type": "stream",
     "text": [
      "/opt/conda/lib/python3.7/site-packages/sklearn/svm/_base.py:947: ConvergenceWarning: Liblinear failed to converge, increase the number of iterations.\n",
      "  \"the number of iterations.\", ConvergenceWarning)\n"
     ]
    },
    {
     "name": "stdout",
     "output_type": "stream",
     "text": [
      "Method: MWOC w/ PK Loss\n"
     ]
    },
    {
     "name": "stderr",
     "output_type": "stream",
     "text": [
      "/opt/conda/lib/python3.7/site-packages/sklearn/svm/_base.py:947: ConvergenceWarning: Liblinear failed to converge, increase the number of iterations.\n",
      "  \"the number of iterations.\", ConvergenceWarning)\n"
     ]
    },
    {
     "name": "stdout",
     "output_type": "stream",
     "text": [
      "noise type: normal magnitude: 0.100000\n",
      "noise type: normal magnitude: 0.500000\n",
      "noise type: uniform magnitude: 0.100000\n",
      "noise type: uniform magnitude: 0.500000\n",
      "noise type: uniform magnitude: -0.100000\n",
      "noise type: uniform magnitude: -0.500000\n",
      "noise type: bernoulli magnitude: 0.100000\n",
      "noise type: bernoulli magnitude: 0.500000\n",
      "noise type: bernoulli magnitude: -0.100000\n",
      "noise type: bernoulli magnitude: -0.500000\n"
     ]
    },
    {
     "name": "stderr",
     "output_type": "stream",
     "text": [
      "/opt/conda/lib/python3.7/site-packages/sklearn/svm/_base.py:947: ConvergenceWarning: Liblinear failed to converge, increase the number of iterations.\n",
      "  \"the number of iterations.\", ConvergenceWarning)\n",
      "/opt/conda/lib/python3.7/site-packages/sklearn/svm/_base.py:947: ConvergenceWarning: Liblinear failed to converge, increase the number of iterations.\n",
      "  \"the number of iterations.\", ConvergenceWarning)\n",
      "/opt/conda/lib/python3.7/site-packages/sklearn/svm/_base.py:947: ConvergenceWarning: Liblinear failed to converge, increase the number of iterations.\n",
      "  \"the number of iterations.\", ConvergenceWarning)\n",
      "/opt/conda/lib/python3.7/site-packages/sklearn/svm/_base.py:947: ConvergenceWarning: Liblinear failed to converge, increase the number of iterations.\n",
      "  \"the number of iterations.\", ConvergenceWarning)\n",
      "/opt/conda/lib/python3.7/site-packages/sklearn/svm/_base.py:947: ConvergenceWarning: Liblinear failed to converge, increase the number of iterations.\n",
      "  \"the number of iterations.\", ConvergenceWarning)\n"
     ]
    },
    {
     "name": "stdout",
     "output_type": "stream",
     "text": [
      "Method: Calibrated Confidence Score w/o PK Loss\n",
      "############################################\n",
      "#                    3                     #\n",
      "############################################\n",
      "Use Encoding: 1\n",
      "CrossEntropy Loss: 0.000000 MSE Loss: 3.745042 Time elapsed: 10.013532 s\n",
      "CrossEntropy Loss: 0.000000 MSE Loss: 4.000282 Time elapsed: 0.823721 s\n"
     ]
    },
    {
     "name": "stderr",
     "output_type": "stream",
     "text": [
      "/opt/conda/lib/python3.7/site-packages/sklearn/svm/_base.py:947: ConvergenceWarning: Liblinear failed to converge, increase the number of iterations.\n",
      "  \"the number of iterations.\", ConvergenceWarning)\n"
     ]
    },
    {
     "name": "stdout",
     "output_type": "stream",
     "text": [
      "Method: Raw Feature w/o PK Loss\n",
      "Method: Raw Feature w/ PK Loss\n",
      "Method: PK Loss Only\n"
     ]
    },
    {
     "name": "stderr",
     "output_type": "stream",
     "text": [
      "/opt/conda/lib/python3.7/site-packages/sklearn/svm/_base.py:947: ConvergenceWarning: Liblinear failed to converge, increase the number of iterations.\n",
      "  \"the number of iterations.\", ConvergenceWarning)\n"
     ]
    },
    {
     "name": "stdout",
     "output_type": "stream",
     "text": [
      "0 / 35520\n",
      "1776 / 35520\n",
      "3552 / 35520\n",
      "5328 / 35520\n",
      "7104 / 35520\n",
      "8880 / 35520\n",
      "10656 / 35520\n",
      "12432 / 35520\n",
      "14208 / 35520\n",
      "15984 / 35520\n",
      "17760 / 35520\n",
      "19536 / 35520\n",
      "21312 / 35520\n",
      "23088 / 35520\n",
      "24864 / 35520\n",
      "26640 / 35520\n",
      "28416 / 35520\n",
      "30192 / 35520\n",
      "31968 / 35520\n",
      "33744 / 35520\n"
     ]
    },
    {
     "name": "stderr",
     "output_type": "stream",
     "text": [
      "/opt/conda/lib/python3.7/site-packages/sklearn/svm/_base.py:947: ConvergenceWarning: Liblinear failed to converge, increase the number of iterations.\n",
      "  \"the number of iterations.\", ConvergenceWarning)\n"
     ]
    },
    {
     "name": "stdout",
     "output_type": "stream",
     "text": [
      "0 / 2932\n",
      "146 / 2932\n",
      "292 / 2932\n",
      "438 / 2932\n",
      "584 / 2932\n",
      "730 / 2932\n",
      "876 / 2932\n",
      "1022 / 2932\n",
      "1168 / 2932\n",
      "1314 / 2932\n",
      "1460 / 2932\n",
      "1606 / 2932\n",
      "1752 / 2932\n",
      "1898 / 2932\n",
      "2044 / 2932\n",
      "2190 / 2932\n",
      "2336 / 2932\n",
      "2482 / 2932\n",
      "2628 / 2932\n",
      "2774 / 2932\n",
      "2920 / 2932\n",
      "Method: Nearest Neighbour w/o PK Loss\n",
      "RVAE w/ Raw Feature\n",
      "Method: MWOC w/o PK Loss\n"
     ]
    },
    {
     "name": "stderr",
     "output_type": "stream",
     "text": [
      "/opt/conda/lib/python3.7/site-packages/sklearn/svm/_base.py:947: ConvergenceWarning: Liblinear failed to converge, increase the number of iterations.\n",
      "  \"the number of iterations.\", ConvergenceWarning)\n"
     ]
    },
    {
     "name": "stdout",
     "output_type": "stream",
     "text": [
      "Method: MWOC w/ PK Loss\n"
     ]
    },
    {
     "name": "stderr",
     "output_type": "stream",
     "text": [
      "/opt/conda/lib/python3.7/site-packages/sklearn/svm/_base.py:947: ConvergenceWarning: Liblinear failed to converge, increase the number of iterations.\n",
      "  \"the number of iterations.\", ConvergenceWarning)\n"
     ]
    },
    {
     "name": "stdout",
     "output_type": "stream",
     "text": [
      "noise type: normal magnitude: 0.100000\n",
      "noise type: normal magnitude: 0.500000\n",
      "noise type: uniform magnitude: 0.100000\n",
      "noise type: uniform magnitude: 0.500000\n",
      "noise type: uniform magnitude: -0.100000\n",
      "noise type: uniform magnitude: -0.500000\n",
      "noise type: bernoulli magnitude: 0.100000\n",
      "noise type: bernoulli magnitude: 0.500000\n",
      "noise type: bernoulli magnitude: -0.100000\n",
      "noise type: bernoulli magnitude: -0.500000\n"
     ]
    },
    {
     "name": "stderr",
     "output_type": "stream",
     "text": [
      "/opt/conda/lib/python3.7/site-packages/sklearn/svm/_base.py:947: ConvergenceWarning: Liblinear failed to converge, increase the number of iterations.\n",
      "  \"the number of iterations.\", ConvergenceWarning)\n",
      "/opt/conda/lib/python3.7/site-packages/sklearn/svm/_base.py:947: ConvergenceWarning: Liblinear failed to converge, increase the number of iterations.\n",
      "  \"the number of iterations.\", ConvergenceWarning)\n",
      "/opt/conda/lib/python3.7/site-packages/sklearn/svm/_base.py:947: ConvergenceWarning: Liblinear failed to converge, increase the number of iterations.\n",
      "  \"the number of iterations.\", ConvergenceWarning)\n",
      "/opt/conda/lib/python3.7/site-packages/sklearn/svm/_base.py:947: ConvergenceWarning: Liblinear failed to converge, increase the number of iterations.\n",
      "  \"the number of iterations.\", ConvergenceWarning)\n",
      "/opt/conda/lib/python3.7/site-packages/sklearn/svm/_base.py:947: ConvergenceWarning: Liblinear failed to converge, increase the number of iterations.\n",
      "  \"the number of iterations.\", ConvergenceWarning)\n"
     ]
    },
    {
     "name": "stdout",
     "output_type": "stream",
     "text": [
      "Method: Calibrated Confidence Score w/o PK Loss\n",
      "############################################\n",
      "#                    4                     #\n",
      "############################################\n",
      "Use Encoding: 1\n",
      "CrossEntropy Loss: 0.000000 MSE Loss: 3.432871 Time elapsed: 9.953153 s\n",
      "CrossEntropy Loss: 0.000000 MSE Loss: 3.547342 Time elapsed: 0.817472 s\n"
     ]
    },
    {
     "name": "stderr",
     "output_type": "stream",
     "text": [
      "/opt/conda/lib/python3.7/site-packages/sklearn/svm/_base.py:947: ConvergenceWarning: Liblinear failed to converge, increase the number of iterations.\n",
      "  \"the number of iterations.\", ConvergenceWarning)\n"
     ]
    },
    {
     "name": "stdout",
     "output_type": "stream",
     "text": [
      "Method: Raw Feature w/o PK Loss\n",
      "Method: Raw Feature w/ PK Loss\n",
      "Method: PK Loss Only\n"
     ]
    },
    {
     "name": "stderr",
     "output_type": "stream",
     "text": [
      "/opt/conda/lib/python3.7/site-packages/sklearn/svm/_base.py:947: ConvergenceWarning: Liblinear failed to converge, increase the number of iterations.\n",
      "  \"the number of iterations.\", ConvergenceWarning)\n"
     ]
    },
    {
     "name": "stdout",
     "output_type": "stream",
     "text": [
      "0 / 35328\n",
      "1766 / 35328\n",
      "3532 / 35328\n",
      "5298 / 35328\n",
      "7064 / 35328\n",
      "8830 / 35328\n",
      "10596 / 35328\n",
      "12362 / 35328\n",
      "14128 / 35328\n",
      "15894 / 35328\n",
      "17660 / 35328\n",
      "19426 / 35328\n",
      "21192 / 35328\n",
      "22958 / 35328\n",
      "24724 / 35328\n",
      "26490 / 35328\n",
      "28256 / 35328\n",
      "30022 / 35328\n",
      "31788 / 35328\n",
      "33554 / 35328\n",
      "35320 / 35328\n"
     ]
    },
    {
     "name": "stderr",
     "output_type": "stream",
     "text": [
      "/opt/conda/lib/python3.7/site-packages/sklearn/svm/_base.py:947: ConvergenceWarning: Liblinear failed to converge, increase the number of iterations.\n",
      "  \"the number of iterations.\", ConvergenceWarning)\n"
     ]
    },
    {
     "name": "stdout",
     "output_type": "stream",
     "text": [
      "0 / 2944\n",
      "147 / 2944\n",
      "294 / 2944\n",
      "441 / 2944\n",
      "588 / 2944\n",
      "735 / 2944\n",
      "882 / 2944\n",
      "1029 / 2944\n",
      "1176 / 2944\n",
      "1323 / 2944\n",
      "1470 / 2944\n",
      "1617 / 2944\n",
      "1764 / 2944\n",
      "1911 / 2944\n",
      "2058 / 2944\n",
      "2205 / 2944\n",
      "2352 / 2944\n",
      "2499 / 2944\n",
      "2646 / 2944\n",
      "2793 / 2944\n",
      "2940 / 2944\n",
      "Method: Nearest Neighbour w/o PK Loss\n",
      "RVAE w/ Raw Feature\n",
      "Method: MWOC w/o PK Loss\n"
     ]
    },
    {
     "name": "stderr",
     "output_type": "stream",
     "text": [
      "/opt/conda/lib/python3.7/site-packages/sklearn/svm/_base.py:947: ConvergenceWarning: Liblinear failed to converge, increase the number of iterations.\n",
      "  \"the number of iterations.\", ConvergenceWarning)\n"
     ]
    },
    {
     "name": "stdout",
     "output_type": "stream",
     "text": [
      "Method: MWOC w/ PK Loss\n"
     ]
    },
    {
     "name": "stderr",
     "output_type": "stream",
     "text": [
      "/opt/conda/lib/python3.7/site-packages/sklearn/svm/_base.py:947: ConvergenceWarning: Liblinear failed to converge, increase the number of iterations.\n",
      "  \"the number of iterations.\", ConvergenceWarning)\n"
     ]
    },
    {
     "name": "stdout",
     "output_type": "stream",
     "text": [
      "noise type: normal magnitude: 0.100000\n",
      "noise type: normal magnitude: 0.500000\n",
      "noise type: uniform magnitude: 0.100000\n",
      "noise type: uniform magnitude: 0.500000\n",
      "noise type: uniform magnitude: -0.100000\n",
      "noise type: uniform magnitude: -0.500000\n",
      "noise type: bernoulli magnitude: 0.100000\n",
      "noise type: bernoulli magnitude: 0.500000\n",
      "noise type: bernoulli magnitude: -0.100000\n",
      "noise type: bernoulli magnitude: -0.500000\n"
     ]
    },
    {
     "name": "stderr",
     "output_type": "stream",
     "text": [
      "/opt/conda/lib/python3.7/site-packages/sklearn/svm/_base.py:947: ConvergenceWarning: Liblinear failed to converge, increase the number of iterations.\n",
      "  \"the number of iterations.\", ConvergenceWarning)\n",
      "/opt/conda/lib/python3.7/site-packages/sklearn/svm/_base.py:947: ConvergenceWarning: Liblinear failed to converge, increase the number of iterations.\n",
      "  \"the number of iterations.\", ConvergenceWarning)\n",
      "/opt/conda/lib/python3.7/site-packages/sklearn/svm/_base.py:947: ConvergenceWarning: Liblinear failed to converge, increase the number of iterations.\n",
      "  \"the number of iterations.\", ConvergenceWarning)\n",
      "/opt/conda/lib/python3.7/site-packages/sklearn/svm/_base.py:947: ConvergenceWarning: Liblinear failed to converge, increase the number of iterations.\n",
      "  \"the number of iterations.\", ConvergenceWarning)\n",
      "/opt/conda/lib/python3.7/site-packages/sklearn/svm/_base.py:947: ConvergenceWarning: Liblinear failed to converge, increase the number of iterations.\n",
      "  \"the number of iterations.\", ConvergenceWarning)\n"
     ]
    },
    {
     "name": "stdout",
     "output_type": "stream",
     "text": [
      "Method: Calibrated Confidence Score w/o PK Loss\n",
      "Noise Type: random, Model: lr, Level: medium\n",
      "############################################\n",
      "#                    0                     #\n",
      "############################################\n",
      "Use Encoding: 1\n",
      "CrossEntropy Loss: 0.000000 MSE Loss: 3.505951 Time elapsed: 9.837585 s\n",
      "CrossEntropy Loss: 0.000000 MSE Loss: 3.734994 Time elapsed: 0.844070 s\n",
      "Method: Raw Feature w/o PK Loss\n",
      "Method: Raw Feature w/ PK Loss\n",
      "Method: PK Loss Only\n"
     ]
    },
    {
     "name": "stderr",
     "output_type": "stream",
     "text": [
      "/opt/conda/lib/python3.7/site-packages/sklearn/svm/_base.py:947: ConvergenceWarning: Liblinear failed to converge, increase the number of iterations.\n",
      "  \"the number of iterations.\", ConvergenceWarning)\n"
     ]
    },
    {
     "name": "stdout",
     "output_type": "stream",
     "text": [
      "0 / 35220\n",
      "1761 / 35220\n",
      "3522 / 35220\n",
      "5283 / 35220\n",
      "7044 / 35220\n",
      "8805 / 35220\n",
      "10566 / 35220\n",
      "12327 / 35220\n",
      "14088 / 35220\n",
      "15849 / 35220\n",
      "17610 / 35220\n",
      "19371 / 35220\n",
      "21132 / 35220\n",
      "22893 / 35220\n",
      "24654 / 35220\n",
      "26415 / 35220\n",
      "28176 / 35220\n",
      "29937 / 35220\n",
      "31698 / 35220\n",
      "33459 / 35220\n"
     ]
    },
    {
     "name": "stderr",
     "output_type": "stream",
     "text": [
      "/opt/conda/lib/python3.7/site-packages/sklearn/svm/_base.py:947: ConvergenceWarning: Liblinear failed to converge, increase the number of iterations.\n",
      "  \"the number of iterations.\", ConvergenceWarning)\n"
     ]
    },
    {
     "name": "stdout",
     "output_type": "stream",
     "text": [
      "0 / 2964\n",
      "148 / 2964\n",
      "296 / 2964\n",
      "444 / 2964\n",
      "592 / 2964\n",
      "740 / 2964\n",
      "888 / 2964\n",
      "1036 / 2964\n",
      "1184 / 2964\n",
      "1332 / 2964\n",
      "1480 / 2964\n",
      "1628 / 2964\n",
      "1776 / 2964\n",
      "1924 / 2964\n",
      "2072 / 2964\n",
      "2220 / 2964\n",
      "2368 / 2964\n",
      "2516 / 2964\n",
      "2664 / 2964\n",
      "2812 / 2964\n",
      "2960 / 2964\n",
      "Method: Nearest Neighbour w/o PK Loss\n",
      "RVAE w/ Raw Feature\n",
      "Method: MWOC w/o PK Loss\n",
      "Method: MWOC w/ PK Loss\n"
     ]
    },
    {
     "name": "stderr",
     "output_type": "stream",
     "text": [
      "/opt/conda/lib/python3.7/site-packages/sklearn/linear_model/_logistic.py:940: ConvergenceWarning: lbfgs failed to converge (status=1):\n",
      "STOP: TOTAL NO. of ITERATIONS REACHED LIMIT.\n",
      "\n",
      "Increase the number of iterations (max_iter) or scale the data as shown in:\n",
      "    https://scikit-learn.org/stable/modules/preprocessing.html\n",
      "Please also refer to the documentation for alternative solver options:\n",
      "    https://scikit-learn.org/stable/modules/linear_model.html#logistic-regression\n",
      "  extra_warning_msg=_LOGISTIC_SOLVER_CONVERGENCE_MSG)\n"
     ]
    },
    {
     "name": "stdout",
     "output_type": "stream",
     "text": [
      "noise type: normal magnitude: 0.100000\n",
      "noise type: normal magnitude: 0.500000\n",
      "noise type: uniform magnitude: 0.100000\n",
      "noise type: uniform magnitude: 0.500000\n",
      "noise type: uniform magnitude: -0.100000\n",
      "noise type: uniform magnitude: -0.500000\n",
      "noise type: bernoulli magnitude: 0.100000\n",
      "noise type: bernoulli magnitude: 0.500000\n",
      "noise type: bernoulli magnitude: -0.100000\n",
      "noise type: bernoulli magnitude: -0.500000\n",
      "Method: Calibrated Confidence Score w/o PK Loss\n",
      "############################################\n",
      "#                    1                     #\n",
      "############################################\n",
      "Use Encoding: 1\n",
      "CrossEntropy Loss: 0.000000 MSE Loss: 3.564561 Time elapsed: 9.761686 s\n",
      "CrossEntropy Loss: 0.000000 MSE Loss: 3.908504 Time elapsed: 0.803918 s\n",
      "Method: Raw Feature w/o PK Loss\n",
      "Method: Raw Feature w/ PK Loss\n",
      "Method: PK Loss Only\n"
     ]
    },
    {
     "name": "stderr",
     "output_type": "stream",
     "text": [
      "/opt/conda/lib/python3.7/site-packages/sklearn/svm/_base.py:947: ConvergenceWarning: Liblinear failed to converge, increase the number of iterations.\n",
      "  \"the number of iterations.\", ConvergenceWarning)\n"
     ]
    },
    {
     "name": "stdout",
     "output_type": "stream",
     "text": [
      "0 / 35424\n",
      "1771 / 35424\n",
      "3542 / 35424\n",
      "5313 / 35424\n",
      "7084 / 35424\n",
      "8855 / 35424\n",
      "10626 / 35424\n",
      "12397 / 35424\n",
      "14168 / 35424\n",
      "15939 / 35424\n",
      "17710 / 35424\n",
      "19481 / 35424\n",
      "21252 / 35424\n",
      "23023 / 35424\n",
      "24794 / 35424\n",
      "26565 / 35424\n",
      "28336 / 35424\n",
      "30107 / 35424\n",
      "31878 / 35424\n",
      "33649 / 35424\n",
      "35420 / 35424\n"
     ]
    },
    {
     "name": "stderr",
     "output_type": "stream",
     "text": [
      "/opt/conda/lib/python3.7/site-packages/sklearn/svm/_base.py:947: ConvergenceWarning: Liblinear failed to converge, increase the number of iterations.\n",
      "  \"the number of iterations.\", ConvergenceWarning)\n"
     ]
    },
    {
     "name": "stdout",
     "output_type": "stream",
     "text": [
      "0 / 2856\n",
      "142 / 2856\n",
      "284 / 2856\n",
      "426 / 2856\n",
      "568 / 2856\n",
      "710 / 2856\n",
      "852 / 2856\n",
      "994 / 2856\n",
      "1136 / 2856\n",
      "1278 / 2856\n",
      "1420 / 2856\n",
      "1562 / 2856\n",
      "1704 / 2856\n",
      "1846 / 2856\n",
      "1988 / 2856\n",
      "2130 / 2856\n",
      "2272 / 2856\n",
      "2414 / 2856\n",
      "2556 / 2856\n",
      "2698 / 2856\n",
      "2840 / 2856\n",
      "Method: Nearest Neighbour w/o PK Loss\n",
      "RVAE w/ Raw Feature\n",
      "Method: MWOC w/o PK Loss\n",
      "Method: MWOC w/ PK Loss\n"
     ]
    },
    {
     "name": "stderr",
     "output_type": "stream",
     "text": [
      "/opt/conda/lib/python3.7/site-packages/sklearn/linear_model/_logistic.py:940: ConvergenceWarning: lbfgs failed to converge (status=1):\n",
      "STOP: TOTAL NO. of ITERATIONS REACHED LIMIT.\n",
      "\n",
      "Increase the number of iterations (max_iter) or scale the data as shown in:\n",
      "    https://scikit-learn.org/stable/modules/preprocessing.html\n",
      "Please also refer to the documentation for alternative solver options:\n",
      "    https://scikit-learn.org/stable/modules/linear_model.html#logistic-regression\n",
      "  extra_warning_msg=_LOGISTIC_SOLVER_CONVERGENCE_MSG)\n"
     ]
    },
    {
     "name": "stdout",
     "output_type": "stream",
     "text": [
      "noise type: normal magnitude: 0.100000\n",
      "noise type: normal magnitude: 0.500000\n",
      "noise type: uniform magnitude: 0.100000\n",
      "noise type: uniform magnitude: 0.500000\n",
      "noise type: uniform magnitude: -0.100000\n",
      "noise type: uniform magnitude: -0.500000\n",
      "noise type: bernoulli magnitude: 0.100000\n",
      "noise type: bernoulli magnitude: 0.500000\n",
      "noise type: bernoulli magnitude: -0.100000\n",
      "noise type: bernoulli magnitude: -0.500000\n",
      "Method: Calibrated Confidence Score w/o PK Loss\n",
      "############################################\n",
      "#                    2                     #\n",
      "############################################\n",
      "Use Encoding: 1\n",
      "CrossEntropy Loss: 0.000000 MSE Loss: 3.446254 Time elapsed: 9.969667 s\n",
      "CrossEntropy Loss: 0.000000 MSE Loss: 3.710589 Time elapsed: 0.843264 s\n",
      "Method: Raw Feature w/o PK Loss\n",
      "Method: Raw Feature w/ PK Loss\n",
      "Method: PK Loss Only\n"
     ]
    },
    {
     "name": "stderr",
     "output_type": "stream",
     "text": [
      "/opt/conda/lib/python3.7/site-packages/sklearn/svm/_base.py:947: ConvergenceWarning: Liblinear failed to converge, increase the number of iterations.\n",
      "  \"the number of iterations.\", ConvergenceWarning)\n"
     ]
    },
    {
     "name": "stdout",
     "output_type": "stream",
     "text": [
      "0 / 35364\n",
      "1768 / 35364\n",
      "3536 / 35364\n",
      "5304 / 35364\n",
      "7072 / 35364\n",
      "8840 / 35364\n",
      "10608 / 35364\n",
      "12376 / 35364\n",
      "14144 / 35364\n",
      "15912 / 35364\n",
      "17680 / 35364\n",
      "19448 / 35364\n",
      "21216 / 35364\n",
      "22984 / 35364\n",
      "24752 / 35364\n",
      "26520 / 35364\n",
      "28288 / 35364\n",
      "30056 / 35364\n",
      "31824 / 35364\n",
      "33592 / 35364\n",
      "35360 / 35364\n"
     ]
    },
    {
     "name": "stderr",
     "output_type": "stream",
     "text": [
      "/opt/conda/lib/python3.7/site-packages/sklearn/svm/_base.py:947: ConvergenceWarning: Liblinear failed to converge, increase the number of iterations.\n",
      "  \"the number of iterations.\", ConvergenceWarning)\n"
     ]
    },
    {
     "name": "stdout",
     "output_type": "stream",
     "text": [
      "0 / 2928\n",
      "146 / 2928\n",
      "292 / 2928\n",
      "438 / 2928\n",
      "584 / 2928\n",
      "730 / 2928\n",
      "876 / 2928\n",
      "1022 / 2928\n",
      "1168 / 2928\n",
      "1314 / 2928\n",
      "1460 / 2928\n",
      "1606 / 2928\n",
      "1752 / 2928\n",
      "1898 / 2928\n",
      "2044 / 2928\n",
      "2190 / 2928\n",
      "2336 / 2928\n",
      "2482 / 2928\n",
      "2628 / 2928\n",
      "2774 / 2928\n",
      "2920 / 2928\n",
      "Method: Nearest Neighbour w/o PK Loss\n",
      "RVAE w/ Raw Feature\n",
      "Method: MWOC w/o PK Loss\n",
      "Method: MWOC w/ PK Loss\n"
     ]
    },
    {
     "name": "stderr",
     "output_type": "stream",
     "text": [
      "/opt/conda/lib/python3.7/site-packages/sklearn/linear_model/_logistic.py:940: ConvergenceWarning: lbfgs failed to converge (status=1):\n",
      "STOP: TOTAL NO. of ITERATIONS REACHED LIMIT.\n",
      "\n",
      "Increase the number of iterations (max_iter) or scale the data as shown in:\n",
      "    https://scikit-learn.org/stable/modules/preprocessing.html\n",
      "Please also refer to the documentation for alternative solver options:\n",
      "    https://scikit-learn.org/stable/modules/linear_model.html#logistic-regression\n",
      "  extra_warning_msg=_LOGISTIC_SOLVER_CONVERGENCE_MSG)\n"
     ]
    },
    {
     "name": "stdout",
     "output_type": "stream",
     "text": [
      "noise type: normal magnitude: 0.100000\n",
      "noise type: normal magnitude: 0.500000\n",
      "noise type: uniform magnitude: 0.100000\n",
      "noise type: uniform magnitude: 0.500000\n",
      "noise type: uniform magnitude: -0.100000\n",
      "noise type: uniform magnitude: -0.500000\n",
      "noise type: bernoulli magnitude: 0.100000\n",
      "noise type: bernoulli magnitude: 0.500000\n",
      "noise type: bernoulli magnitude: -0.100000\n",
      "noise type: bernoulli magnitude: -0.500000\n",
      "Method: Calibrated Confidence Score w/o PK Loss\n",
      "############################################\n",
      "#                    3                     #\n",
      "############################################\n",
      "Use Encoding: 1\n",
      "CrossEntropy Loss: 0.000000 MSE Loss: 3.739341 Time elapsed: 9.889310 s\n",
      "CrossEntropy Loss: 0.000000 MSE Loss: 4.029637 Time elapsed: 0.810229 s\n",
      "Method: Raw Feature w/o PK Loss\n",
      "Method: Raw Feature w/ PK Loss\n",
      "Method: PK Loss Only\n"
     ]
    },
    {
     "name": "stderr",
     "output_type": "stream",
     "text": [
      "/opt/conda/lib/python3.7/site-packages/sklearn/svm/_base.py:947: ConvergenceWarning: Liblinear failed to converge, increase the number of iterations.\n",
      "  \"the number of iterations.\", ConvergenceWarning)\n"
     ]
    },
    {
     "name": "stdout",
     "output_type": "stream",
     "text": [
      "0 / 35484\n",
      "1774 / 35484\n",
      "3548 / 35484\n",
      "5322 / 35484\n",
      "7096 / 35484\n",
      "8870 / 35484\n",
      "10644 / 35484\n",
      "12418 / 35484\n",
      "14192 / 35484\n",
      "15966 / 35484\n",
      "17740 / 35484\n",
      "19514 / 35484\n",
      "21288 / 35484\n",
      "23062 / 35484\n",
      "24836 / 35484\n",
      "26610 / 35484\n",
      "28384 / 35484\n",
      "30158 / 35484\n",
      "31932 / 35484\n",
      "33706 / 35484\n",
      "35480 / 35484\n"
     ]
    },
    {
     "name": "stderr",
     "output_type": "stream",
     "text": [
      "/opt/conda/lib/python3.7/site-packages/sklearn/svm/_base.py:947: ConvergenceWarning: Liblinear failed to converge, increase the number of iterations.\n",
      "  \"the number of iterations.\", ConvergenceWarning)\n"
     ]
    },
    {
     "name": "stdout",
     "output_type": "stream",
     "text": [
      "0 / 2932\n",
      "146 / 2932\n",
      "292 / 2932\n",
      "438 / 2932\n",
      "584 / 2932\n",
      "730 / 2932\n",
      "876 / 2932\n",
      "1022 / 2932\n",
      "1168 / 2932\n",
      "1314 / 2932\n",
      "1460 / 2932\n",
      "1606 / 2932\n",
      "1752 / 2932\n",
      "1898 / 2932\n",
      "2044 / 2932\n",
      "2190 / 2932\n",
      "2336 / 2932\n",
      "2482 / 2932\n",
      "2628 / 2932\n",
      "2774 / 2932\n",
      "2920 / 2932\n",
      "Method: Nearest Neighbour w/o PK Loss\n",
      "RVAE w/ Raw Feature\n",
      "Method: MWOC w/o PK Loss\n",
      "Method: MWOC w/ PK Loss\n"
     ]
    },
    {
     "name": "stderr",
     "output_type": "stream",
     "text": [
      "/opt/conda/lib/python3.7/site-packages/sklearn/linear_model/_logistic.py:940: ConvergenceWarning: lbfgs failed to converge (status=1):\n",
      "STOP: TOTAL NO. of ITERATIONS REACHED LIMIT.\n",
      "\n",
      "Increase the number of iterations (max_iter) or scale the data as shown in:\n",
      "    https://scikit-learn.org/stable/modules/preprocessing.html\n",
      "Please also refer to the documentation for alternative solver options:\n",
      "    https://scikit-learn.org/stable/modules/linear_model.html#logistic-regression\n",
      "  extra_warning_msg=_LOGISTIC_SOLVER_CONVERGENCE_MSG)\n"
     ]
    },
    {
     "name": "stdout",
     "output_type": "stream",
     "text": [
      "noise type: normal magnitude: 0.100000\n",
      "noise type: normal magnitude: 0.500000\n",
      "noise type: uniform magnitude: 0.100000\n",
      "noise type: uniform magnitude: 0.500000\n",
      "noise type: uniform magnitude: -0.100000\n",
      "noise type: uniform magnitude: -0.500000\n",
      "noise type: bernoulli magnitude: 0.100000\n",
      "noise type: bernoulli magnitude: 0.500000\n",
      "noise type: bernoulli magnitude: -0.100000\n",
      "noise type: bernoulli magnitude: -0.500000\n",
      "Method: Calibrated Confidence Score w/o PK Loss\n",
      "############################################\n",
      "#                    4                     #\n",
      "############################################\n",
      "Use Encoding: 1\n",
      "CrossEntropy Loss: 0.000000 MSE Loss: 3.394140 Time elapsed: 9.873240 s\n",
      "CrossEntropy Loss: 0.000000 MSE Loss: 3.556378 Time elapsed: 0.812091 s\n",
      "Method: Raw Feature w/o PK Loss\n",
      "Method: Raw Feature w/ PK Loss\n",
      "Method: PK Loss Only\n"
     ]
    },
    {
     "name": "stderr",
     "output_type": "stream",
     "text": [
      "/opt/conda/lib/python3.7/site-packages/sklearn/svm/_base.py:947: ConvergenceWarning: Liblinear failed to converge, increase the number of iterations.\n",
      "  \"the number of iterations.\", ConvergenceWarning)\n"
     ]
    },
    {
     "name": "stdout",
     "output_type": "stream",
     "text": [
      "0 / 35340\n",
      "1767 / 35340\n",
      "3534 / 35340\n",
      "5301 / 35340\n",
      "7068 / 35340\n",
      "8835 / 35340\n",
      "10602 / 35340\n",
      "12369 / 35340\n",
      "14136 / 35340\n",
      "15903 / 35340\n",
      "17670 / 35340\n",
      "19437 / 35340\n",
      "21204 / 35340\n",
      "22971 / 35340\n",
      "24738 / 35340\n",
      "26505 / 35340\n",
      "28272 / 35340\n",
      "30039 / 35340\n",
      "31806 / 35340\n",
      "33573 / 35340\n"
     ]
    },
    {
     "name": "stderr",
     "output_type": "stream",
     "text": [
      "/opt/conda/lib/python3.7/site-packages/sklearn/svm/_base.py:947: ConvergenceWarning: Liblinear failed to converge, increase the number of iterations.\n",
      "  \"the number of iterations.\", ConvergenceWarning)\n"
     ]
    },
    {
     "name": "stdout",
     "output_type": "stream",
     "text": [
      "0 / 2936\n",
      "146 / 2936\n",
      "292 / 2936\n",
      "438 / 2936\n",
      "584 / 2936\n",
      "730 / 2936\n",
      "876 / 2936\n",
      "1022 / 2936\n",
      "1168 / 2936\n",
      "1314 / 2936\n",
      "1460 / 2936\n",
      "1606 / 2936\n",
      "1752 / 2936\n",
      "1898 / 2936\n",
      "2044 / 2936\n",
      "2190 / 2936\n",
      "2336 / 2936\n",
      "2482 / 2936\n",
      "2628 / 2936\n",
      "2774 / 2936\n",
      "2920 / 2936\n",
      "Method: Nearest Neighbour w/o PK Loss\n",
      "RVAE w/ Raw Feature\n",
      "Method: MWOC w/o PK Loss\n",
      "Method: MWOC w/ PK Loss\n"
     ]
    },
    {
     "name": "stderr",
     "output_type": "stream",
     "text": [
      "/opt/conda/lib/python3.7/site-packages/sklearn/linear_model/_logistic.py:940: ConvergenceWarning: lbfgs failed to converge (status=1):\n",
      "STOP: TOTAL NO. of ITERATIONS REACHED LIMIT.\n",
      "\n",
      "Increase the number of iterations (max_iter) or scale the data as shown in:\n",
      "    https://scikit-learn.org/stable/modules/preprocessing.html\n",
      "Please also refer to the documentation for alternative solver options:\n",
      "    https://scikit-learn.org/stable/modules/linear_model.html#logistic-regression\n",
      "  extra_warning_msg=_LOGISTIC_SOLVER_CONVERGENCE_MSG)\n"
     ]
    },
    {
     "name": "stdout",
     "output_type": "stream",
     "text": [
      "noise type: normal magnitude: 0.100000\n",
      "noise type: normal magnitude: 0.500000\n",
      "noise type: uniform magnitude: 0.100000\n",
      "noise type: uniform magnitude: 0.500000\n",
      "noise type: uniform magnitude: -0.100000\n",
      "noise type: uniform magnitude: -0.500000\n",
      "noise type: bernoulli magnitude: 0.100000\n",
      "noise type: bernoulli magnitude: 0.500000\n",
      "noise type: bernoulli magnitude: -0.100000\n",
      "noise type: bernoulli magnitude: -0.500000\n",
      "Method: Calibrated Confidence Score w/o PK Loss\n",
      "Noise Type: system, Model: nn, Level: medium\n",
      "############################################\n",
      "#                    0                     #\n",
      "############################################\n",
      "Use Encoding: 1\n",
      "CrossEntropy Loss: 0.000000 MSE Loss: 3.193279 Time elapsed: 12.913731 s\n",
      "CrossEntropy Loss: 0.000000 MSE Loss: 0.945915 Time elapsed: 0.976913 s\n",
      "Method: Raw Feature w/o PK Loss\n",
      "Method: Raw Feature w/ PK Loss\n",
      "Method: PK Loss Only\n"
     ]
    },
    {
     "name": "stderr",
     "output_type": "stream",
     "text": [
      "/opt/conda/lib/python3.7/site-packages/sklearn/svm/_base.py:947: ConvergenceWarning: Liblinear failed to converge, increase the number of iterations.\n",
      "  \"the number of iterations.\", ConvergenceWarning)\n"
     ]
    },
    {
     "name": "stdout",
     "output_type": "stream",
     "text": [
      "0 / 45948\n",
      "2297 / 45948\n",
      "4594 / 45948\n",
      "6891 / 45948\n",
      "9188 / 45948\n",
      "11485 / 45948\n",
      "13782 / 45948\n",
      "16079 / 45948\n",
      "18376 / 45948\n",
      "20673 / 45948\n",
      "22970 / 45948\n",
      "25267 / 45948\n",
      "27564 / 45948\n",
      "29861 / 45948\n",
      "32158 / 45948\n",
      "34455 / 45948\n",
      "36752 / 45948\n",
      "39049 / 45948\n",
      "41346 / 45948\n",
      "43643 / 45948\n",
      "45940 / 45948\n"
     ]
    },
    {
     "name": "stderr",
     "output_type": "stream",
     "text": [
      "/opt/conda/lib/python3.7/site-packages/sklearn/svm/_base.py:947: ConvergenceWarning: Liblinear failed to converge, increase the number of iterations.\n",
      "  \"the number of iterations.\", ConvergenceWarning)\n"
     ]
    },
    {
     "name": "stdout",
     "output_type": "stream",
     "text": [
      "0 / 3104\n",
      "155 / 3104\n",
      "310 / 3104\n",
      "465 / 3104\n",
      "620 / 3104\n",
      "775 / 3104\n",
      "930 / 3104\n",
      "1085 / 3104\n",
      "1240 / 3104\n",
      "1395 / 3104\n",
      "1550 / 3104\n",
      "1705 / 3104\n",
      "1860 / 3104\n",
      "2015 / 3104\n",
      "2170 / 3104\n",
      "2325 / 3104\n",
      "2480 / 3104\n",
      "2635 / 3104\n",
      "2790 / 3104\n",
      "2945 / 3104\n",
      "3100 / 3104\n",
      "Method: Nearest Neighbour w/o PK Loss\n",
      "RVAE w/ Raw Feature\n",
      "Method: MWOC w/o PK Loss\n",
      "Method: MWOC w/ PK Loss\n",
      "noise type: normal magnitude: 0.100000\n",
      "noise type: normal magnitude: 0.500000\n",
      "noise type: uniform magnitude: 0.100000\n",
      "noise type: uniform magnitude: 0.500000\n",
      "noise type: uniform magnitude: -0.100000\n",
      "noise type: uniform magnitude: -0.500000\n",
      "noise type: bernoulli magnitude: 0.100000\n",
      "noise type: bernoulli magnitude: 0.500000\n",
      "noise type: bernoulli magnitude: -0.100000\n",
      "noise type: bernoulli magnitude: -0.500000\n",
      "Method: Calibrated Confidence Score w/o PK Loss\n",
      "############################################\n",
      "#                    1                     #\n",
      "############################################\n",
      "Use Encoding: 1\n",
      "CrossEntropy Loss: 0.000000 MSE Loss: 3.339676 Time elapsed: 12.766743 s\n",
      "CrossEntropy Loss: 0.000000 MSE Loss: 0.939231 Time elapsed: 0.958086 s\n",
      "Method: Raw Feature w/o PK Loss\n",
      "Method: Raw Feature w/ PK Loss\n",
      "Method: PK Loss Only\n"
     ]
    },
    {
     "name": "stderr",
     "output_type": "stream",
     "text": [
      "/opt/conda/lib/python3.7/site-packages/sklearn/svm/_base.py:947: ConvergenceWarning: Liblinear failed to converge, increase the number of iterations.\n",
      "  \"the number of iterations.\", ConvergenceWarning)\n"
     ]
    },
    {
     "name": "stdout",
     "output_type": "stream",
     "text": [
      "0 / 45408\n",
      "2270 / 45408\n",
      "4540 / 45408\n",
      "6810 / 45408\n",
      "9080 / 45408\n",
      "11350 / 45408\n",
      "13620 / 45408\n",
      "15890 / 45408\n",
      "18160 / 45408\n",
      "20430 / 45408\n",
      "22700 / 45408\n",
      "24970 / 45408\n",
      "27240 / 45408\n",
      "29510 / 45408\n",
      "31780 / 45408\n",
      "34050 / 45408\n",
      "36320 / 45408\n",
      "38590 / 45408\n",
      "40860 / 45408\n",
      "43130 / 45408\n",
      "45400 / 45408\n"
     ]
    },
    {
     "name": "stderr",
     "output_type": "stream",
     "text": [
      "/opt/conda/lib/python3.7/site-packages/sklearn/svm/_base.py:947: ConvergenceWarning: Liblinear failed to converge, increase the number of iterations.\n",
      "  \"the number of iterations.\", ConvergenceWarning)\n"
     ]
    },
    {
     "name": "stdout",
     "output_type": "stream",
     "text": [
      "0 / 3076\n",
      "153 / 3076\n",
      "306 / 3076\n",
      "459 / 3076\n",
      "612 / 3076\n",
      "765 / 3076\n",
      "918 / 3076\n",
      "1071 / 3076\n",
      "1224 / 3076\n",
      "1377 / 3076\n",
      "1530 / 3076\n",
      "1683 / 3076\n",
      "1836 / 3076\n",
      "1989 / 3076\n",
      "2142 / 3076\n",
      "2295 / 3076\n",
      "2448 / 3076\n",
      "2601 / 3076\n",
      "2754 / 3076\n",
      "2907 / 3076\n",
      "3060 / 3076\n",
      "Method: Nearest Neighbour w/o PK Loss\n",
      "RVAE w/ Raw Feature\n",
      "Method: MWOC w/o PK Loss\n",
      "Method: MWOC w/ PK Loss\n",
      "noise type: normal magnitude: 0.100000\n",
      "noise type: normal magnitude: 0.500000\n",
      "noise type: uniform magnitude: 0.100000\n",
      "noise type: uniform magnitude: 0.500000\n",
      "noise type: uniform magnitude: -0.100000\n",
      "noise type: uniform magnitude: -0.500000\n",
      "noise type: bernoulli magnitude: 0.100000\n",
      "noise type: bernoulli magnitude: 0.500000\n",
      "noise type: bernoulli magnitude: -0.100000\n",
      "noise type: bernoulli magnitude: -0.500000\n",
      "Method: Calibrated Confidence Score w/o PK Loss\n",
      "############################################\n",
      "#                    2                     #\n",
      "############################################\n",
      "Use Encoding: 1\n",
      "CrossEntropy Loss: 0.000000 MSE Loss: 3.165572 Time elapsed: 12.467335 s\n",
      "CrossEntropy Loss: 0.000000 MSE Loss: 0.925062 Time elapsed: 0.835026 s\n",
      "Method: Raw Feature w/o PK Loss\n",
      "Method: Raw Feature w/ PK Loss\n",
      "Method: PK Loss Only\n"
     ]
    },
    {
     "name": "stderr",
     "output_type": "stream",
     "text": [
      "/opt/conda/lib/python3.7/site-packages/sklearn/svm/_base.py:947: ConvergenceWarning: Liblinear failed to converge, increase the number of iterations.\n",
      "  \"the number of iterations.\", ConvergenceWarning)\n"
     ]
    },
    {
     "name": "stdout",
     "output_type": "stream",
     "text": [
      "0 / 44904\n",
      "2245 / 44904\n",
      "4490 / 44904\n",
      "6735 / 44904\n",
      "8980 / 44904\n",
      "11225 / 44904\n",
      "13470 / 44904\n",
      "15715 / 44904\n",
      "17960 / 44904\n",
      "20205 / 44904\n",
      "22450 / 44904\n",
      "24695 / 44904\n",
      "26940 / 44904\n",
      "29185 / 44904\n",
      "31430 / 44904\n",
      "33675 / 44904\n",
      "35920 / 44904\n",
      "38165 / 44904\n",
      "40410 / 44904\n",
      "42655 / 44904\n",
      "44900 / 44904\n"
     ]
    },
    {
     "name": "stderr",
     "output_type": "stream",
     "text": [
      "/opt/conda/lib/python3.7/site-packages/sklearn/svm/_base.py:947: ConvergenceWarning: Liblinear failed to converge, increase the number of iterations.\n",
      "  \"the number of iterations.\", ConvergenceWarning)\n"
     ]
    },
    {
     "name": "stdout",
     "output_type": "stream",
     "text": [
      "0 / 3000\n",
      "150 / 3000\n",
      "300 / 3000\n",
      "450 / 3000\n",
      "600 / 3000\n",
      "750 / 3000\n",
      "900 / 3000\n",
      "1050 / 3000\n",
      "1200 / 3000\n",
      "1350 / 3000\n",
      "1500 / 3000\n",
      "1650 / 3000\n",
      "1800 / 3000\n",
      "1950 / 3000\n",
      "2100 / 3000\n",
      "2250 / 3000\n",
      "2400 / 3000\n",
      "2550 / 3000\n",
      "2700 / 3000\n",
      "2850 / 3000\n",
      "Method: Nearest Neighbour w/o PK Loss\n",
      "RVAE w/ Raw Feature\n",
      "Method: MWOC w/o PK Loss\n",
      "Method: MWOC w/ PK Loss\n",
      "noise type: normal magnitude: 0.100000\n",
      "noise type: normal magnitude: 0.500000\n",
      "noise type: uniform magnitude: 0.100000\n",
      "noise type: uniform magnitude: 0.500000\n",
      "noise type: uniform magnitude: -0.100000\n",
      "noise type: uniform magnitude: -0.500000\n",
      "noise type: bernoulli magnitude: 0.100000\n",
      "noise type: bernoulli magnitude: 0.500000\n",
      "noise type: bernoulli magnitude: -0.100000\n",
      "noise type: bernoulli magnitude: -0.500000\n",
      "Method: Calibrated Confidence Score w/o PK Loss\n",
      "############################################\n",
      "#                    3                     #\n",
      "############################################\n",
      "Use Encoding: 1\n",
      "CrossEntropy Loss: 0.000000 MSE Loss: 3.483341 Time elapsed: 12.919209 s\n",
      "CrossEntropy Loss: 0.000000 MSE Loss: 1.050738 Time elapsed: 0.956389 s\n",
      "Method: Raw Feature w/o PK Loss\n",
      "Method: Raw Feature w/ PK Loss\n",
      "Method: PK Loss Only\n"
     ]
    },
    {
     "name": "stderr",
     "output_type": "stream",
     "text": [
      "/opt/conda/lib/python3.7/site-packages/sklearn/svm/_base.py:947: ConvergenceWarning: Liblinear failed to converge, increase the number of iterations.\n",
      "  \"the number of iterations.\", ConvergenceWarning)\n"
     ]
    },
    {
     "name": "stdout",
     "output_type": "stream",
     "text": [
      "0 / 46272\n",
      "2313 / 46272\n",
      "4626 / 46272\n",
      "6939 / 46272\n",
      "9252 / 46272\n",
      "11565 / 46272\n",
      "13878 / 46272\n",
      "16191 / 46272\n",
      "18504 / 46272\n",
      "20817 / 46272\n",
      "23130 / 46272\n",
      "25443 / 46272\n",
      "27756 / 46272\n",
      "30069 / 46272\n",
      "32382 / 46272\n",
      "34695 / 46272\n",
      "37008 / 46272\n",
      "39321 / 46272\n",
      "41634 / 46272\n",
      "43947 / 46272\n",
      "46260 / 46272\n"
     ]
    },
    {
     "name": "stderr",
     "output_type": "stream",
     "text": [
      "/opt/conda/lib/python3.7/site-packages/sklearn/svm/_base.py:947: ConvergenceWarning: Liblinear failed to converge, increase the number of iterations.\n",
      "  \"the number of iterations.\", ConvergenceWarning)\n"
     ]
    },
    {
     "name": "stdout",
     "output_type": "stream",
     "text": [
      "0 / 3096\n",
      "154 / 3096\n",
      "308 / 3096\n",
      "462 / 3096\n",
      "616 / 3096\n",
      "770 / 3096\n",
      "924 / 3096\n",
      "1078 / 3096\n",
      "1232 / 3096\n",
      "1386 / 3096\n",
      "1540 / 3096\n",
      "1694 / 3096\n",
      "1848 / 3096\n",
      "2002 / 3096\n",
      "2156 / 3096\n",
      "2310 / 3096\n",
      "2464 / 3096\n",
      "2618 / 3096\n",
      "2772 / 3096\n",
      "2926 / 3096\n",
      "3080 / 3096\n",
      "Method: Nearest Neighbour w/o PK Loss\n",
      "RVAE w/ Raw Feature\n",
      "Method: MWOC w/o PK Loss\n",
      "Method: MWOC w/ PK Loss\n",
      "noise type: normal magnitude: 0.100000\n",
      "noise type: normal magnitude: 0.500000\n",
      "noise type: uniform magnitude: 0.100000\n",
      "noise type: uniform magnitude: 0.500000\n",
      "noise type: uniform magnitude: -0.100000\n",
      "noise type: uniform magnitude: -0.500000\n",
      "noise type: bernoulli magnitude: 0.100000\n",
      "noise type: bernoulli magnitude: 0.500000\n",
      "noise type: bernoulli magnitude: -0.100000\n",
      "noise type: bernoulli magnitude: -0.500000\n",
      "Method: Calibrated Confidence Score w/o PK Loss\n",
      "############################################\n",
      "#                    4                     #\n",
      "############################################\n",
      "Use Encoding: 1\n",
      "CrossEntropy Loss: 0.000000 MSE Loss: 3.151997 Time elapsed: 12.627116 s\n",
      "CrossEntropy Loss: 0.000000 MSE Loss: 0.932492 Time elapsed: 0.984224 s\n",
      "Method: Raw Feature w/o PK Loss\n",
      "Method: Raw Feature w/ PK Loss\n",
      "Method: PK Loss Only\n"
     ]
    },
    {
     "name": "stderr",
     "output_type": "stream",
     "text": [
      "/opt/conda/lib/python3.7/site-packages/sklearn/svm/_base.py:947: ConvergenceWarning: Liblinear failed to converge, increase the number of iterations.\n",
      "  \"the number of iterations.\", ConvergenceWarning)\n"
     ]
    },
    {
     "name": "stdout",
     "output_type": "stream",
     "text": [
      "0 / 45552\n",
      "2277 / 45552\n",
      "4554 / 45552\n",
      "6831 / 45552\n",
      "9108 / 45552\n",
      "11385 / 45552\n",
      "13662 / 45552\n",
      "15939 / 45552\n",
      "18216 / 45552\n",
      "20493 / 45552\n",
      "22770 / 45552\n",
      "25047 / 45552\n",
      "27324 / 45552\n",
      "29601 / 45552\n",
      "31878 / 45552\n",
      "34155 / 45552\n",
      "36432 / 45552\n",
      "38709 / 45552\n",
      "40986 / 45552\n",
      "43263 / 45552\n",
      "45540 / 45552\n"
     ]
    },
    {
     "name": "stderr",
     "output_type": "stream",
     "text": [
      "/opt/conda/lib/python3.7/site-packages/sklearn/svm/_base.py:947: ConvergenceWarning: Liblinear failed to converge, increase the number of iterations.\n",
      "  \"the number of iterations.\", ConvergenceWarning)\n"
     ]
    },
    {
     "name": "stdout",
     "output_type": "stream",
     "text": [
      "0 / 3204\n",
      "160 / 3204\n",
      "320 / 3204\n",
      "480 / 3204\n",
      "640 / 3204\n",
      "800 / 3204\n",
      "960 / 3204\n",
      "1120 / 3204\n",
      "1280 / 3204\n",
      "1440 / 3204\n",
      "1600 / 3204\n",
      "1760 / 3204\n",
      "1920 / 3204\n",
      "2080 / 3204\n",
      "2240 / 3204\n",
      "2400 / 3204\n",
      "2560 / 3204\n",
      "2720 / 3204\n",
      "2880 / 3204\n",
      "3040 / 3204\n",
      "3200 / 3204\n",
      "Method: Nearest Neighbour w/o PK Loss\n",
      "RVAE w/ Raw Feature\n",
      "Method: MWOC w/o PK Loss\n",
      "Method: MWOC w/ PK Loss\n",
      "noise type: normal magnitude: 0.100000\n",
      "noise type: normal magnitude: 0.500000\n",
      "noise type: uniform magnitude: 0.100000\n",
      "noise type: uniform magnitude: 0.500000\n",
      "noise type: uniform magnitude: -0.100000\n",
      "noise type: uniform magnitude: -0.500000\n",
      "noise type: bernoulli magnitude: 0.100000\n",
      "noise type: bernoulli magnitude: 0.500000\n",
      "noise type: bernoulli magnitude: -0.100000\n",
      "noise type: bernoulli magnitude: -0.500000\n",
      "Method: Calibrated Confidence Score w/o PK Loss\n",
      "Noise Type: system, Model: svm, Level: medium\n",
      "############################################\n",
      "#                    0                     #\n",
      "############################################\n",
      "Use Encoding: 1\n",
      "CrossEntropy Loss: 0.000000 MSE Loss: 3.516112 Time elapsed: 9.856034 s\n",
      "CrossEntropy Loss: 0.000000 MSE Loss: 0.929405 Time elapsed: 0.831212 s\n"
     ]
    },
    {
     "name": "stderr",
     "output_type": "stream",
     "text": [
      "/opt/conda/lib/python3.7/site-packages/sklearn/svm/_base.py:947: ConvergenceWarning: Liblinear failed to converge, increase the number of iterations.\n",
      "  \"the number of iterations.\", ConvergenceWarning)\n"
     ]
    },
    {
     "name": "stdout",
     "output_type": "stream",
     "text": [
      "Method: Raw Feature w/o PK Loss\n",
      "Method: Raw Feature w/ PK Loss\n",
      "Method: PK Loss Only\n"
     ]
    },
    {
     "name": "stderr",
     "output_type": "stream",
     "text": [
      "/opt/conda/lib/python3.7/site-packages/sklearn/svm/_base.py:947: ConvergenceWarning: Liblinear failed to converge, increase the number of iterations.\n",
      "  \"the number of iterations.\", ConvergenceWarning)\n"
     ]
    },
    {
     "name": "stdout",
     "output_type": "stream",
     "text": [
      "0 / 35280\n",
      "1764 / 35280\n",
      "3528 / 35280\n",
      "5292 / 35280\n",
      "7056 / 35280\n",
      "8820 / 35280\n",
      "10584 / 35280\n",
      "12348 / 35280\n",
      "14112 / 35280\n",
      "15876 / 35280\n",
      "17640 / 35280\n",
      "19404 / 35280\n",
      "21168 / 35280\n",
      "22932 / 35280\n",
      "24696 / 35280\n",
      "26460 / 35280\n",
      "28224 / 35280\n",
      "29988 / 35280\n",
      "31752 / 35280\n",
      "33516 / 35280\n"
     ]
    },
    {
     "name": "stderr",
     "output_type": "stream",
     "text": [
      "/opt/conda/lib/python3.7/site-packages/sklearn/svm/_base.py:947: ConvergenceWarning: Liblinear failed to converge, increase the number of iterations.\n",
      "  \"the number of iterations.\", ConvergenceWarning)\n"
     ]
    },
    {
     "name": "stdout",
     "output_type": "stream",
     "text": [
      "0 / 2952\n",
      "147 / 2952\n",
      "294 / 2952\n",
      "441 / 2952\n",
      "588 / 2952\n",
      "735 / 2952\n",
      "882 / 2952\n",
      "1029 / 2952\n",
      "1176 / 2952\n",
      "1323 / 2952\n",
      "1470 / 2952\n",
      "1617 / 2952\n",
      "1764 / 2952\n",
      "1911 / 2952\n",
      "2058 / 2952\n",
      "2205 / 2952\n",
      "2352 / 2952\n",
      "2499 / 2952\n",
      "2646 / 2952\n",
      "2793 / 2952\n",
      "2940 / 2952\n",
      "Method: Nearest Neighbour w/o PK Loss\n",
      "RVAE w/ Raw Feature\n",
      "Method: MWOC w/o PK Loss\n"
     ]
    },
    {
     "name": "stderr",
     "output_type": "stream",
     "text": [
      "/opt/conda/lib/python3.7/site-packages/sklearn/svm/_base.py:947: ConvergenceWarning: Liblinear failed to converge, increase the number of iterations.\n",
      "  \"the number of iterations.\", ConvergenceWarning)\n"
     ]
    },
    {
     "name": "stdout",
     "output_type": "stream",
     "text": [
      "Method: MWOC w/ PK Loss\n"
     ]
    },
    {
     "name": "stderr",
     "output_type": "stream",
     "text": [
      "/opt/conda/lib/python3.7/site-packages/sklearn/svm/_base.py:947: ConvergenceWarning: Liblinear failed to converge, increase the number of iterations.\n",
      "  \"the number of iterations.\", ConvergenceWarning)\n"
     ]
    },
    {
     "name": "stdout",
     "output_type": "stream",
     "text": [
      "noise type: normal magnitude: 0.100000\n",
      "noise type: normal magnitude: 0.500000\n",
      "noise type: uniform magnitude: 0.100000\n",
      "noise type: uniform magnitude: 0.500000\n",
      "noise type: uniform magnitude: -0.100000\n",
      "noise type: uniform magnitude: -0.500000\n",
      "noise type: bernoulli magnitude: 0.100000\n",
      "noise type: bernoulli magnitude: 0.500000\n",
      "noise type: bernoulli magnitude: -0.100000\n",
      "noise type: bernoulli magnitude: -0.500000\n"
     ]
    },
    {
     "name": "stderr",
     "output_type": "stream",
     "text": [
      "/opt/conda/lib/python3.7/site-packages/sklearn/svm/_base.py:947: ConvergenceWarning: Liblinear failed to converge, increase the number of iterations.\n",
      "  \"the number of iterations.\", ConvergenceWarning)\n",
      "/opt/conda/lib/python3.7/site-packages/sklearn/svm/_base.py:947: ConvergenceWarning: Liblinear failed to converge, increase the number of iterations.\n",
      "  \"the number of iterations.\", ConvergenceWarning)\n",
      "/opt/conda/lib/python3.7/site-packages/sklearn/svm/_base.py:947: ConvergenceWarning: Liblinear failed to converge, increase the number of iterations.\n",
      "  \"the number of iterations.\", ConvergenceWarning)\n",
      "/opt/conda/lib/python3.7/site-packages/sklearn/svm/_base.py:947: ConvergenceWarning: Liblinear failed to converge, increase the number of iterations.\n",
      "  \"the number of iterations.\", ConvergenceWarning)\n",
      "/opt/conda/lib/python3.7/site-packages/sklearn/svm/_base.py:947: ConvergenceWarning: Liblinear failed to converge, increase the number of iterations.\n",
      "  \"the number of iterations.\", ConvergenceWarning)\n"
     ]
    },
    {
     "name": "stdout",
     "output_type": "stream",
     "text": [
      "Method: Calibrated Confidence Score w/o PK Loss\n",
      "############################################\n",
      "#                    1                     #\n",
      "############################################\n",
      "Use Encoding: 1\n",
      "CrossEntropy Loss: 0.000000 MSE Loss: 3.594696 Time elapsed: 10.081974 s\n",
      "CrossEntropy Loss: 0.000000 MSE Loss: 0.978231 Time elapsed: 0.821835 s\n"
     ]
    },
    {
     "name": "stderr",
     "output_type": "stream",
     "text": [
      "/opt/conda/lib/python3.7/site-packages/sklearn/svm/_base.py:947: ConvergenceWarning: Liblinear failed to converge, increase the number of iterations.\n",
      "  \"the number of iterations.\", ConvergenceWarning)\n"
     ]
    },
    {
     "name": "stdout",
     "output_type": "stream",
     "text": [
      "Method: Raw Feature w/o PK Loss\n",
      "Method: Raw Feature w/ PK Loss\n",
      "Method: PK Loss Only\n"
     ]
    },
    {
     "name": "stderr",
     "output_type": "stream",
     "text": [
      "/opt/conda/lib/python3.7/site-packages/sklearn/svm/_base.py:947: ConvergenceWarning: Liblinear failed to converge, increase the number of iterations.\n",
      "  \"the number of iterations.\", ConvergenceWarning)\n"
     ]
    },
    {
     "name": "stdout",
     "output_type": "stream",
     "text": [
      "0 / 35284\n",
      "1764 / 35284\n",
      "3528 / 35284\n",
      "5292 / 35284\n",
      "7056 / 35284\n",
      "8820 / 35284\n",
      "10584 / 35284\n",
      "12348 / 35284\n",
      "14112 / 35284\n",
      "15876 / 35284\n",
      "17640 / 35284\n",
      "19404 / 35284\n",
      "21168 / 35284\n",
      "22932 / 35284\n",
      "24696 / 35284\n",
      "26460 / 35284\n",
      "28224 / 35284\n",
      "29988 / 35284\n",
      "31752 / 35284\n",
      "33516 / 35284\n",
      "35280 / 35284\n"
     ]
    },
    {
     "name": "stderr",
     "output_type": "stream",
     "text": [
      "/opt/conda/lib/python3.7/site-packages/sklearn/svm/_base.py:947: ConvergenceWarning: Liblinear failed to converge, increase the number of iterations.\n",
      "  \"the number of iterations.\", ConvergenceWarning)\n"
     ]
    },
    {
     "name": "stdout",
     "output_type": "stream",
     "text": [
      "0 / 2876\n",
      "143 / 2876\n",
      "286 / 2876\n",
      "429 / 2876\n",
      "572 / 2876\n",
      "715 / 2876\n",
      "858 / 2876\n",
      "1001 / 2876\n",
      "1144 / 2876\n",
      "1287 / 2876\n",
      "1430 / 2876\n",
      "1573 / 2876\n",
      "1716 / 2876\n",
      "1859 / 2876\n",
      "2002 / 2876\n",
      "2145 / 2876\n",
      "2288 / 2876\n",
      "2431 / 2876\n",
      "2574 / 2876\n",
      "2717 / 2876\n",
      "2860 / 2876\n",
      "Method: Nearest Neighbour w/o PK Loss\n",
      "RVAE w/ Raw Feature\n",
      "Method: MWOC w/o PK Loss\n"
     ]
    },
    {
     "name": "stderr",
     "output_type": "stream",
     "text": [
      "/opt/conda/lib/python3.7/site-packages/sklearn/svm/_base.py:947: ConvergenceWarning: Liblinear failed to converge, increase the number of iterations.\n",
      "  \"the number of iterations.\", ConvergenceWarning)\n"
     ]
    },
    {
     "name": "stdout",
     "output_type": "stream",
     "text": [
      "Method: MWOC w/ PK Loss\n"
     ]
    },
    {
     "name": "stderr",
     "output_type": "stream",
     "text": [
      "/opt/conda/lib/python3.7/site-packages/sklearn/svm/_base.py:947: ConvergenceWarning: Liblinear failed to converge, increase the number of iterations.\n",
      "  \"the number of iterations.\", ConvergenceWarning)\n"
     ]
    },
    {
     "name": "stdout",
     "output_type": "stream",
     "text": [
      "noise type: normal magnitude: 0.100000\n",
      "noise type: normal magnitude: 0.500000\n",
      "noise type: uniform magnitude: 0.100000\n",
      "noise type: uniform magnitude: 0.500000\n",
      "noise type: uniform magnitude: -0.100000\n",
      "noise type: uniform magnitude: -0.500000\n",
      "noise type: bernoulli magnitude: 0.100000\n",
      "noise type: bernoulli magnitude: 0.500000\n",
      "noise type: bernoulli magnitude: -0.100000\n",
      "noise type: bernoulli magnitude: -0.500000\n"
     ]
    },
    {
     "name": "stderr",
     "output_type": "stream",
     "text": [
      "/opt/conda/lib/python3.7/site-packages/sklearn/svm/_base.py:947: ConvergenceWarning: Liblinear failed to converge, increase the number of iterations.\n",
      "  \"the number of iterations.\", ConvergenceWarning)\n",
      "/opt/conda/lib/python3.7/site-packages/sklearn/svm/_base.py:947: ConvergenceWarning: Liblinear failed to converge, increase the number of iterations.\n",
      "  \"the number of iterations.\", ConvergenceWarning)\n",
      "/opt/conda/lib/python3.7/site-packages/sklearn/svm/_base.py:947: ConvergenceWarning: Liblinear failed to converge, increase the number of iterations.\n",
      "  \"the number of iterations.\", ConvergenceWarning)\n",
      "/opt/conda/lib/python3.7/site-packages/sklearn/svm/_base.py:947: ConvergenceWarning: Liblinear failed to converge, increase the number of iterations.\n",
      "  \"the number of iterations.\", ConvergenceWarning)\n",
      "/opt/conda/lib/python3.7/site-packages/sklearn/svm/_base.py:947: ConvergenceWarning: Liblinear failed to converge, increase the number of iterations.\n",
      "  \"the number of iterations.\", ConvergenceWarning)\n"
     ]
    },
    {
     "name": "stdout",
     "output_type": "stream",
     "text": [
      "Method: Calibrated Confidence Score w/o PK Loss\n",
      "############################################\n",
      "#                    2                     #\n",
      "############################################\n",
      "Use Encoding: 1\n",
      "CrossEntropy Loss: 0.000000 MSE Loss: 3.449471 Time elapsed: 9.985591 s\n",
      "CrossEntropy Loss: 0.000000 MSE Loss: 0.960537 Time elapsed: 0.833429 s\n"
     ]
    },
    {
     "name": "stderr",
     "output_type": "stream",
     "text": [
      "/opt/conda/lib/python3.7/site-packages/sklearn/svm/_base.py:947: ConvergenceWarning: Liblinear failed to converge, increase the number of iterations.\n",
      "  \"the number of iterations.\", ConvergenceWarning)\n"
     ]
    },
    {
     "name": "stdout",
     "output_type": "stream",
     "text": [
      "Method: Raw Feature w/o PK Loss\n",
      "Method: Raw Feature w/ PK Loss\n",
      "Method: PK Loss Only\n"
     ]
    },
    {
     "name": "stderr",
     "output_type": "stream",
     "text": [
      "/opt/conda/lib/python3.7/site-packages/sklearn/svm/_base.py:947: ConvergenceWarning: Liblinear failed to converge, increase the number of iterations.\n",
      "  \"the number of iterations.\", ConvergenceWarning)\n"
     ]
    },
    {
     "name": "stdout",
     "output_type": "stream",
     "text": [
      "0 / 35292\n",
      "1764 / 35292\n",
      "3528 / 35292\n",
      "5292 / 35292\n",
      "7056 / 35292\n",
      "8820 / 35292\n",
      "10584 / 35292\n",
      "12348 / 35292\n",
      "14112 / 35292\n",
      "15876 / 35292\n",
      "17640 / 35292\n",
      "19404 / 35292\n",
      "21168 / 35292\n",
      "22932 / 35292\n",
      "24696 / 35292\n",
      "26460 / 35292\n",
      "28224 / 35292\n",
      "29988 / 35292\n",
      "31752 / 35292\n",
      "33516 / 35292\n",
      "35280 / 35292\n"
     ]
    },
    {
     "name": "stderr",
     "output_type": "stream",
     "text": [
      "/opt/conda/lib/python3.7/site-packages/sklearn/svm/_base.py:947: ConvergenceWarning: Liblinear failed to converge, increase the number of iterations.\n",
      "  \"the number of iterations.\", ConvergenceWarning)\n"
     ]
    },
    {
     "name": "stdout",
     "output_type": "stream",
     "text": [
      "0 / 2940\n",
      "147 / 2940\n",
      "294 / 2940\n",
      "441 / 2940\n",
      "588 / 2940\n",
      "735 / 2940\n",
      "882 / 2940\n",
      "1029 / 2940\n",
      "1176 / 2940\n",
      "1323 / 2940\n",
      "1470 / 2940\n",
      "1617 / 2940\n",
      "1764 / 2940\n",
      "1911 / 2940\n",
      "2058 / 2940\n",
      "2205 / 2940\n",
      "2352 / 2940\n",
      "2499 / 2940\n",
      "2646 / 2940\n",
      "2793 / 2940\n",
      "Method: Nearest Neighbour w/o PK Loss\n",
      "RVAE w/ Raw Feature\n",
      "Method: MWOC w/o PK Loss\n"
     ]
    },
    {
     "name": "stderr",
     "output_type": "stream",
     "text": [
      "/opt/conda/lib/python3.7/site-packages/sklearn/svm/_base.py:947: ConvergenceWarning: Liblinear failed to converge, increase the number of iterations.\n",
      "  \"the number of iterations.\", ConvergenceWarning)\n"
     ]
    },
    {
     "name": "stdout",
     "output_type": "stream",
     "text": [
      "Method: MWOC w/ PK Loss\n"
     ]
    },
    {
     "name": "stderr",
     "output_type": "stream",
     "text": [
      "/opt/conda/lib/python3.7/site-packages/sklearn/svm/_base.py:947: ConvergenceWarning: Liblinear failed to converge, increase the number of iterations.\n",
      "  \"the number of iterations.\", ConvergenceWarning)\n"
     ]
    },
    {
     "name": "stdout",
     "output_type": "stream",
     "text": [
      "noise type: normal magnitude: 0.100000\n",
      "noise type: normal magnitude: 0.500000\n",
      "noise type: uniform magnitude: 0.100000\n",
      "noise type: uniform magnitude: 0.500000\n",
      "noise type: uniform magnitude: -0.100000\n",
      "noise type: uniform magnitude: -0.500000\n",
      "noise type: bernoulli magnitude: 0.100000\n",
      "noise type: bernoulli magnitude: 0.500000\n",
      "noise type: bernoulli magnitude: -0.100000\n",
      "noise type: bernoulli magnitude: -0.500000\n"
     ]
    },
    {
     "name": "stderr",
     "output_type": "stream",
     "text": [
      "/opt/conda/lib/python3.7/site-packages/sklearn/svm/_base.py:947: ConvergenceWarning: Liblinear failed to converge, increase the number of iterations.\n",
      "  \"the number of iterations.\", ConvergenceWarning)\n",
      "/opt/conda/lib/python3.7/site-packages/sklearn/svm/_base.py:947: ConvergenceWarning: Liblinear failed to converge, increase the number of iterations.\n",
      "  \"the number of iterations.\", ConvergenceWarning)\n",
      "/opt/conda/lib/python3.7/site-packages/sklearn/svm/_base.py:947: ConvergenceWarning: Liblinear failed to converge, increase the number of iterations.\n",
      "  \"the number of iterations.\", ConvergenceWarning)\n",
      "/opt/conda/lib/python3.7/site-packages/sklearn/svm/_base.py:947: ConvergenceWarning: Liblinear failed to converge, increase the number of iterations.\n",
      "  \"the number of iterations.\", ConvergenceWarning)\n",
      "/opt/conda/lib/python3.7/site-packages/sklearn/svm/_base.py:947: ConvergenceWarning: Liblinear failed to converge, increase the number of iterations.\n",
      "  \"the number of iterations.\", ConvergenceWarning)\n"
     ]
    },
    {
     "name": "stdout",
     "output_type": "stream",
     "text": [
      "Method: Calibrated Confidence Score w/o PK Loss\n",
      "############################################\n",
      "#                    3                     #\n",
      "############################################\n",
      "Use Encoding: 1\n",
      "CrossEntropy Loss: 0.000000 MSE Loss: 3.745042 Time elapsed: 9.883001 s\n",
      "CrossEntropy Loss: 0.000000 MSE Loss: 0.968804 Time elapsed: 0.820285 s\n"
     ]
    },
    {
     "name": "stderr",
     "output_type": "stream",
     "text": [
      "/opt/conda/lib/python3.7/site-packages/sklearn/svm/_base.py:947: ConvergenceWarning: Liblinear failed to converge, increase the number of iterations.\n",
      "  \"the number of iterations.\", ConvergenceWarning)\n"
     ]
    },
    {
     "name": "stdout",
     "output_type": "stream",
     "text": [
      "Method: Raw Feature w/o PK Loss\n",
      "Method: Raw Feature w/ PK Loss\n",
      "Method: PK Loss Only\n"
     ]
    },
    {
     "name": "stderr",
     "output_type": "stream",
     "text": [
      "/opt/conda/lib/python3.7/site-packages/sklearn/svm/_base.py:947: ConvergenceWarning: Liblinear failed to converge, increase the number of iterations.\n",
      "  \"the number of iterations.\", ConvergenceWarning)\n"
     ]
    },
    {
     "name": "stdout",
     "output_type": "stream",
     "text": [
      "0 / 35520\n",
      "1776 / 35520\n",
      "3552 / 35520\n",
      "5328 / 35520\n",
      "7104 / 35520\n",
      "8880 / 35520\n",
      "10656 / 35520\n",
      "12432 / 35520\n",
      "14208 / 35520\n",
      "15984 / 35520\n",
      "17760 / 35520\n",
      "19536 / 35520\n",
      "21312 / 35520\n",
      "23088 / 35520\n",
      "24864 / 35520\n",
      "26640 / 35520\n",
      "28416 / 35520\n",
      "30192 / 35520\n",
      "31968 / 35520\n",
      "33744 / 35520\n"
     ]
    },
    {
     "name": "stderr",
     "output_type": "stream",
     "text": [
      "/opt/conda/lib/python3.7/site-packages/sklearn/svm/_base.py:947: ConvergenceWarning: Liblinear failed to converge, increase the number of iterations.\n",
      "  \"the number of iterations.\", ConvergenceWarning)\n"
     ]
    },
    {
     "name": "stdout",
     "output_type": "stream",
     "text": [
      "0 / 2924\n",
      "146 / 2924\n",
      "292 / 2924\n",
      "438 / 2924\n",
      "584 / 2924\n",
      "730 / 2924\n",
      "876 / 2924\n",
      "1022 / 2924\n",
      "1168 / 2924\n",
      "1314 / 2924\n",
      "1460 / 2924\n",
      "1606 / 2924\n",
      "1752 / 2924\n",
      "1898 / 2924\n",
      "2044 / 2924\n",
      "2190 / 2924\n",
      "2336 / 2924\n",
      "2482 / 2924\n",
      "2628 / 2924\n",
      "2774 / 2924\n",
      "2920 / 2924\n",
      "Method: Nearest Neighbour w/o PK Loss\n",
      "RVAE w/ Raw Feature\n",
      "Method: MWOC w/o PK Loss\n"
     ]
    },
    {
     "name": "stderr",
     "output_type": "stream",
     "text": [
      "/opt/conda/lib/python3.7/site-packages/sklearn/svm/_base.py:947: ConvergenceWarning: Liblinear failed to converge, increase the number of iterations.\n",
      "  \"the number of iterations.\", ConvergenceWarning)\n"
     ]
    },
    {
     "name": "stdout",
     "output_type": "stream",
     "text": [
      "Method: MWOC w/ PK Loss\n"
     ]
    },
    {
     "name": "stderr",
     "output_type": "stream",
     "text": [
      "/opt/conda/lib/python3.7/site-packages/sklearn/svm/_base.py:947: ConvergenceWarning: Liblinear failed to converge, increase the number of iterations.\n",
      "  \"the number of iterations.\", ConvergenceWarning)\n"
     ]
    },
    {
     "name": "stdout",
     "output_type": "stream",
     "text": [
      "noise type: normal magnitude: 0.100000\n",
      "noise type: normal magnitude: 0.500000\n",
      "noise type: uniform magnitude: 0.100000\n",
      "noise type: uniform magnitude: 0.500000\n",
      "noise type: uniform magnitude: -0.100000\n",
      "noise type: uniform magnitude: -0.500000\n",
      "noise type: bernoulli magnitude: 0.100000\n",
      "noise type: bernoulli magnitude: 0.500000\n",
      "noise type: bernoulli magnitude: -0.100000\n",
      "noise type: bernoulli magnitude: -0.500000\n"
     ]
    },
    {
     "name": "stderr",
     "output_type": "stream",
     "text": [
      "/opt/conda/lib/python3.7/site-packages/sklearn/svm/_base.py:947: ConvergenceWarning: Liblinear failed to converge, increase the number of iterations.\n",
      "  \"the number of iterations.\", ConvergenceWarning)\n",
      "/opt/conda/lib/python3.7/site-packages/sklearn/svm/_base.py:947: ConvergenceWarning: Liblinear failed to converge, increase the number of iterations.\n",
      "  \"the number of iterations.\", ConvergenceWarning)\n",
      "/opt/conda/lib/python3.7/site-packages/sklearn/svm/_base.py:947: ConvergenceWarning: Liblinear failed to converge, increase the number of iterations.\n",
      "  \"the number of iterations.\", ConvergenceWarning)\n",
      "/opt/conda/lib/python3.7/site-packages/sklearn/svm/_base.py:947: ConvergenceWarning: Liblinear failed to converge, increase the number of iterations.\n",
      "  \"the number of iterations.\", ConvergenceWarning)\n",
      "/opt/conda/lib/python3.7/site-packages/sklearn/svm/_base.py:947: ConvergenceWarning: Liblinear failed to converge, increase the number of iterations.\n",
      "  \"the number of iterations.\", ConvergenceWarning)\n"
     ]
    },
    {
     "name": "stdout",
     "output_type": "stream",
     "text": [
      "Method: Calibrated Confidence Score w/o PK Loss\n",
      "############################################\n",
      "#                    4                     #\n",
      "############################################\n",
      "Use Encoding: 1\n",
      "CrossEntropy Loss: 0.000000 MSE Loss: 3.432871 Time elapsed: 9.816388 s\n",
      "CrossEntropy Loss: 0.000000 MSE Loss: 0.912792 Time elapsed: 0.814628 s\n"
     ]
    },
    {
     "name": "stderr",
     "output_type": "stream",
     "text": [
      "/opt/conda/lib/python3.7/site-packages/sklearn/svm/_base.py:947: ConvergenceWarning: Liblinear failed to converge, increase the number of iterations.\n",
      "  \"the number of iterations.\", ConvergenceWarning)\n"
     ]
    },
    {
     "name": "stdout",
     "output_type": "stream",
     "text": [
      "Method: Raw Feature w/o PK Loss\n",
      "Method: Raw Feature w/ PK Loss\n",
      "Method: PK Loss Only\n"
     ]
    },
    {
     "name": "stderr",
     "output_type": "stream",
     "text": [
      "/opt/conda/lib/python3.7/site-packages/sklearn/svm/_base.py:947: ConvergenceWarning: Liblinear failed to converge, increase the number of iterations.\n",
      "  \"the number of iterations.\", ConvergenceWarning)\n"
     ]
    },
    {
     "name": "stdout",
     "output_type": "stream",
     "text": [
      "0 / 35328\n",
      "1766 / 35328\n",
      "3532 / 35328\n",
      "5298 / 35328\n",
      "7064 / 35328\n",
      "8830 / 35328\n",
      "10596 / 35328\n",
      "12362 / 35328\n",
      "14128 / 35328\n",
      "15894 / 35328\n",
      "17660 / 35328\n",
      "19426 / 35328\n",
      "21192 / 35328\n",
      "22958 / 35328\n",
      "24724 / 35328\n",
      "26490 / 35328\n",
      "28256 / 35328\n",
      "30022 / 35328\n",
      "31788 / 35328\n",
      "33554 / 35328\n",
      "35320 / 35328\n"
     ]
    },
    {
     "name": "stderr",
     "output_type": "stream",
     "text": [
      "/opt/conda/lib/python3.7/site-packages/sklearn/svm/_base.py:947: ConvergenceWarning: Liblinear failed to converge, increase the number of iterations.\n",
      "  \"the number of iterations.\", ConvergenceWarning)\n"
     ]
    },
    {
     "name": "stdout",
     "output_type": "stream",
     "text": [
      "0 / 2944\n",
      "147 / 2944\n",
      "294 / 2944\n",
      "441 / 2944\n",
      "588 / 2944\n",
      "735 / 2944\n",
      "882 / 2944\n",
      "1029 / 2944\n",
      "1176 / 2944\n",
      "1323 / 2944\n",
      "1470 / 2944\n",
      "1617 / 2944\n",
      "1764 / 2944\n",
      "1911 / 2944\n",
      "2058 / 2944\n",
      "2205 / 2944\n",
      "2352 / 2944\n",
      "2499 / 2944\n",
      "2646 / 2944\n",
      "2793 / 2944\n",
      "2940 / 2944\n",
      "Method: Nearest Neighbour w/o PK Loss\n",
      "RVAE w/ Raw Feature\n",
      "Method: MWOC w/o PK Loss\n"
     ]
    },
    {
     "name": "stderr",
     "output_type": "stream",
     "text": [
      "/opt/conda/lib/python3.7/site-packages/sklearn/svm/_base.py:947: ConvergenceWarning: Liblinear failed to converge, increase the number of iterations.\n",
      "  \"the number of iterations.\", ConvergenceWarning)\n"
     ]
    },
    {
     "name": "stdout",
     "output_type": "stream",
     "text": [
      "Method: MWOC w/ PK Loss\n"
     ]
    },
    {
     "name": "stderr",
     "output_type": "stream",
     "text": [
      "/opt/conda/lib/python3.7/site-packages/sklearn/svm/_base.py:947: ConvergenceWarning: Liblinear failed to converge, increase the number of iterations.\n",
      "  \"the number of iterations.\", ConvergenceWarning)\n"
     ]
    },
    {
     "name": "stdout",
     "output_type": "stream",
     "text": [
      "noise type: normal magnitude: 0.100000\n",
      "noise type: normal magnitude: 0.500000\n",
      "noise type: uniform magnitude: 0.100000\n",
      "noise type: uniform magnitude: 0.500000\n",
      "noise type: uniform magnitude: -0.100000\n",
      "noise type: uniform magnitude: -0.500000\n",
      "noise type: bernoulli magnitude: 0.100000\n",
      "noise type: bernoulli magnitude: 0.500000\n",
      "noise type: bernoulli magnitude: -0.100000\n",
      "noise type: bernoulli magnitude: -0.500000\n"
     ]
    },
    {
     "name": "stderr",
     "output_type": "stream",
     "text": [
      "/opt/conda/lib/python3.7/site-packages/sklearn/svm/_base.py:947: ConvergenceWarning: Liblinear failed to converge, increase the number of iterations.\n",
      "  \"the number of iterations.\", ConvergenceWarning)\n",
      "/opt/conda/lib/python3.7/site-packages/sklearn/svm/_base.py:947: ConvergenceWarning: Liblinear failed to converge, increase the number of iterations.\n",
      "  \"the number of iterations.\", ConvergenceWarning)\n",
      "/opt/conda/lib/python3.7/site-packages/sklearn/svm/_base.py:947: ConvergenceWarning: Liblinear failed to converge, increase the number of iterations.\n",
      "  \"the number of iterations.\", ConvergenceWarning)\n",
      "/opt/conda/lib/python3.7/site-packages/sklearn/svm/_base.py:947: ConvergenceWarning: Liblinear failed to converge, increase the number of iterations.\n",
      "  \"the number of iterations.\", ConvergenceWarning)\n",
      "/opt/conda/lib/python3.7/site-packages/sklearn/svm/_base.py:947: ConvergenceWarning: Liblinear failed to converge, increase the number of iterations.\n",
      "  \"the number of iterations.\", ConvergenceWarning)\n"
     ]
    },
    {
     "name": "stdout",
     "output_type": "stream",
     "text": [
      "Method: Calibrated Confidence Score w/o PK Loss\n",
      "Noise Type: system, Model: lr, Level: medium\n",
      "############################################\n",
      "#                    0                     #\n",
      "############################################\n",
      "Use Encoding: 1\n",
      "CrossEntropy Loss: 0.000000 MSE Loss: 3.505951 Time elapsed: 9.886248 s\n",
      "CrossEntropy Loss: 0.000000 MSE Loss: 0.953959 Time elapsed: 0.828057 s\n",
      "Method: Raw Feature w/o PK Loss\n",
      "Method: Raw Feature w/ PK Loss\n",
      "Method: PK Loss Only\n"
     ]
    },
    {
     "name": "stderr",
     "output_type": "stream",
     "text": [
      "/opt/conda/lib/python3.7/site-packages/sklearn/svm/_base.py:947: ConvergenceWarning: Liblinear failed to converge, increase the number of iterations.\n",
      "  \"the number of iterations.\", ConvergenceWarning)\n"
     ]
    },
    {
     "name": "stdout",
     "output_type": "stream",
     "text": [
      "0 / 35220\n",
      "1761 / 35220\n",
      "3522 / 35220\n",
      "5283 / 35220\n",
      "7044 / 35220\n",
      "8805 / 35220\n",
      "10566 / 35220\n",
      "12327 / 35220\n",
      "14088 / 35220\n",
      "15849 / 35220\n",
      "17610 / 35220\n",
      "19371 / 35220\n",
      "21132 / 35220\n",
      "22893 / 35220\n",
      "24654 / 35220\n",
      "26415 / 35220\n",
      "28176 / 35220\n",
      "29937 / 35220\n",
      "31698 / 35220\n",
      "33459 / 35220\n"
     ]
    },
    {
     "name": "stderr",
     "output_type": "stream",
     "text": [
      "/opt/conda/lib/python3.7/site-packages/sklearn/svm/_base.py:947: ConvergenceWarning: Liblinear failed to converge, increase the number of iterations.\n",
      "  \"the number of iterations.\", ConvergenceWarning)\n"
     ]
    },
    {
     "name": "stdout",
     "output_type": "stream",
     "text": [
      "0 / 2964\n",
      "148 / 2964\n",
      "296 / 2964\n",
      "444 / 2964\n",
      "592 / 2964\n",
      "740 / 2964\n",
      "888 / 2964\n",
      "1036 / 2964\n",
      "1184 / 2964\n",
      "1332 / 2964\n",
      "1480 / 2964\n",
      "1628 / 2964\n",
      "1776 / 2964\n",
      "1924 / 2964\n",
      "2072 / 2964\n",
      "2220 / 2964\n",
      "2368 / 2964\n",
      "2516 / 2964\n",
      "2664 / 2964\n",
      "2812 / 2964\n",
      "2960 / 2964\n",
      "Method: Nearest Neighbour w/o PK Loss\n",
      "RVAE w/ Raw Feature\n",
      "Method: MWOC w/o PK Loss\n",
      "Method: MWOC w/ PK Loss\n"
     ]
    },
    {
     "name": "stderr",
     "output_type": "stream",
     "text": [
      "/opt/conda/lib/python3.7/site-packages/sklearn/linear_model/_logistic.py:940: ConvergenceWarning: lbfgs failed to converge (status=1):\n",
      "STOP: TOTAL NO. of ITERATIONS REACHED LIMIT.\n",
      "\n",
      "Increase the number of iterations (max_iter) or scale the data as shown in:\n",
      "    https://scikit-learn.org/stable/modules/preprocessing.html\n",
      "Please also refer to the documentation for alternative solver options:\n",
      "    https://scikit-learn.org/stable/modules/linear_model.html#logistic-regression\n",
      "  extra_warning_msg=_LOGISTIC_SOLVER_CONVERGENCE_MSG)\n"
     ]
    },
    {
     "name": "stdout",
     "output_type": "stream",
     "text": [
      "noise type: normal magnitude: 0.100000\n",
      "noise type: normal magnitude: 0.500000\n",
      "noise type: uniform magnitude: 0.100000\n",
      "noise type: uniform magnitude: 0.500000\n",
      "noise type: uniform magnitude: -0.100000\n",
      "noise type: uniform magnitude: -0.500000\n",
      "noise type: bernoulli magnitude: 0.100000\n",
      "noise type: bernoulli magnitude: 0.500000\n",
      "noise type: bernoulli magnitude: -0.100000\n",
      "noise type: bernoulli magnitude: -0.500000\n",
      "Method: Calibrated Confidence Score w/o PK Loss\n",
      "############################################\n",
      "#                    1                     #\n",
      "############################################\n",
      "Use Encoding: 1\n",
      "CrossEntropy Loss: 0.000000 MSE Loss: 3.564561 Time elapsed: 9.862348 s\n",
      "CrossEntropy Loss: 0.000000 MSE Loss: 0.944657 Time elapsed: 0.800166 s\n",
      "Method: Raw Feature w/o PK Loss\n",
      "Method: Raw Feature w/ PK Loss\n",
      "Method: PK Loss Only\n"
     ]
    },
    {
     "name": "stderr",
     "output_type": "stream",
     "text": [
      "/opt/conda/lib/python3.7/site-packages/sklearn/svm/_base.py:947: ConvergenceWarning: Liblinear failed to converge, increase the number of iterations.\n",
      "  \"the number of iterations.\", ConvergenceWarning)\n"
     ]
    },
    {
     "name": "stdout",
     "output_type": "stream",
     "text": [
      "0 / 35424\n",
      "1771 / 35424\n",
      "3542 / 35424\n",
      "5313 / 35424\n",
      "7084 / 35424\n",
      "8855 / 35424\n",
      "10626 / 35424\n",
      "12397 / 35424\n",
      "14168 / 35424\n",
      "15939 / 35424\n",
      "17710 / 35424\n",
      "19481 / 35424\n",
      "21252 / 35424\n",
      "23023 / 35424\n",
      "24794 / 35424\n",
      "26565 / 35424\n",
      "28336 / 35424\n",
      "30107 / 35424\n",
      "31878 / 35424\n",
      "33649 / 35424\n",
      "35420 / 35424\n"
     ]
    },
    {
     "name": "stderr",
     "output_type": "stream",
     "text": [
      "/opt/conda/lib/python3.7/site-packages/sklearn/svm/_base.py:947: ConvergenceWarning: Liblinear failed to converge, increase the number of iterations.\n",
      "  \"the number of iterations.\", ConvergenceWarning)\n"
     ]
    },
    {
     "name": "stdout",
     "output_type": "stream",
     "text": [
      "0 / 2856\n",
      "142 / 2856\n",
      "284 / 2856\n",
      "426 / 2856\n",
      "568 / 2856\n",
      "710 / 2856\n",
      "852 / 2856\n",
      "994 / 2856\n",
      "1136 / 2856\n",
      "1278 / 2856\n",
      "1420 / 2856\n",
      "1562 / 2856\n",
      "1704 / 2856\n",
      "1846 / 2856\n",
      "1988 / 2856\n",
      "2130 / 2856\n",
      "2272 / 2856\n",
      "2414 / 2856\n",
      "2556 / 2856\n",
      "2698 / 2856\n",
      "2840 / 2856\n",
      "Method: Nearest Neighbour w/o PK Loss\n",
      "RVAE w/ Raw Feature\n",
      "Method: MWOC w/o PK Loss\n",
      "Method: MWOC w/ PK Loss\n"
     ]
    },
    {
     "name": "stderr",
     "output_type": "stream",
     "text": [
      "/opt/conda/lib/python3.7/site-packages/sklearn/linear_model/_logistic.py:940: ConvergenceWarning: lbfgs failed to converge (status=1):\n",
      "STOP: TOTAL NO. of ITERATIONS REACHED LIMIT.\n",
      "\n",
      "Increase the number of iterations (max_iter) or scale the data as shown in:\n",
      "    https://scikit-learn.org/stable/modules/preprocessing.html\n",
      "Please also refer to the documentation for alternative solver options:\n",
      "    https://scikit-learn.org/stable/modules/linear_model.html#logistic-regression\n",
      "  extra_warning_msg=_LOGISTIC_SOLVER_CONVERGENCE_MSG)\n"
     ]
    },
    {
     "name": "stdout",
     "output_type": "stream",
     "text": [
      "noise type: normal magnitude: 0.100000\n",
      "noise type: normal magnitude: 0.500000\n",
      "noise type: uniform magnitude: 0.100000\n",
      "noise type: uniform magnitude: 0.500000\n",
      "noise type: uniform magnitude: -0.100000\n",
      "noise type: uniform magnitude: -0.500000\n",
      "noise type: bernoulli magnitude: 0.100000\n",
      "noise type: bernoulli magnitude: 0.500000\n",
      "noise type: bernoulli magnitude: -0.100000\n",
      "noise type: bernoulli magnitude: -0.500000\n",
      "Method: Calibrated Confidence Score w/o PK Loss\n",
      "############################################\n",
      "#                    2                     #\n",
      "############################################\n",
      "Use Encoding: 1\n",
      "CrossEntropy Loss: 0.000000 MSE Loss: 3.446254 Time elapsed: 9.837633 s\n",
      "CrossEntropy Loss: 0.000000 MSE Loss: 0.946117 Time elapsed: 0.820317 s\n",
      "Method: Raw Feature w/o PK Loss\n",
      "Method: Raw Feature w/ PK Loss\n",
      "Method: PK Loss Only\n"
     ]
    },
    {
     "name": "stderr",
     "output_type": "stream",
     "text": [
      "/opt/conda/lib/python3.7/site-packages/sklearn/svm/_base.py:947: ConvergenceWarning: Liblinear failed to converge, increase the number of iterations.\n",
      "  \"the number of iterations.\", ConvergenceWarning)\n"
     ]
    },
    {
     "name": "stdout",
     "output_type": "stream",
     "text": [
      "0 / 35364\n",
      "1768 / 35364\n",
      "3536 / 35364\n",
      "5304 / 35364\n",
      "7072 / 35364\n",
      "8840 / 35364\n",
      "10608 / 35364\n",
      "12376 / 35364\n",
      "14144 / 35364\n",
      "15912 / 35364\n",
      "17680 / 35364\n",
      "19448 / 35364\n",
      "21216 / 35364\n",
      "22984 / 35364\n",
      "24752 / 35364\n",
      "26520 / 35364\n",
      "28288 / 35364\n",
      "30056 / 35364\n",
      "31824 / 35364\n",
      "33592 / 35364\n",
      "35360 / 35364\n"
     ]
    },
    {
     "name": "stderr",
     "output_type": "stream",
     "text": [
      "/opt/conda/lib/python3.7/site-packages/sklearn/svm/_base.py:947: ConvergenceWarning: Liblinear failed to converge, increase the number of iterations.\n",
      "  \"the number of iterations.\", ConvergenceWarning)\n"
     ]
    },
    {
     "name": "stdout",
     "output_type": "stream",
     "text": [
      "0 / 2928\n",
      "146 / 2928\n",
      "292 / 2928\n",
      "438 / 2928\n",
      "584 / 2928\n",
      "730 / 2928\n",
      "876 / 2928\n",
      "1022 / 2928\n",
      "1168 / 2928\n",
      "1314 / 2928\n",
      "1460 / 2928\n",
      "1606 / 2928\n",
      "1752 / 2928\n",
      "1898 / 2928\n",
      "2044 / 2928\n",
      "2190 / 2928\n",
      "2336 / 2928\n",
      "2482 / 2928\n",
      "2628 / 2928\n",
      "2774 / 2928\n",
      "2920 / 2928\n",
      "Method: Nearest Neighbour w/o PK Loss\n",
      "RVAE w/ Raw Feature\n",
      "Method: MWOC w/o PK Loss\n",
      "Method: MWOC w/ PK Loss\n"
     ]
    },
    {
     "name": "stderr",
     "output_type": "stream",
     "text": [
      "/opt/conda/lib/python3.7/site-packages/sklearn/linear_model/_logistic.py:940: ConvergenceWarning: lbfgs failed to converge (status=1):\n",
      "STOP: TOTAL NO. of ITERATIONS REACHED LIMIT.\n",
      "\n",
      "Increase the number of iterations (max_iter) or scale the data as shown in:\n",
      "    https://scikit-learn.org/stable/modules/preprocessing.html\n",
      "Please also refer to the documentation for alternative solver options:\n",
      "    https://scikit-learn.org/stable/modules/linear_model.html#logistic-regression\n",
      "  extra_warning_msg=_LOGISTIC_SOLVER_CONVERGENCE_MSG)\n"
     ]
    },
    {
     "name": "stdout",
     "output_type": "stream",
     "text": [
      "noise type: normal magnitude: 0.100000\n",
      "noise type: normal magnitude: 0.500000\n",
      "noise type: uniform magnitude: 0.100000\n",
      "noise type: uniform magnitude: 0.500000\n",
      "noise type: uniform magnitude: -0.100000\n",
      "noise type: uniform magnitude: -0.500000\n",
      "noise type: bernoulli magnitude: 0.100000\n",
      "noise type: bernoulli magnitude: 0.500000\n",
      "noise type: bernoulli magnitude: -0.100000\n",
      "noise type: bernoulli magnitude: -0.500000\n",
      "Method: Calibrated Confidence Score w/o PK Loss\n",
      "############################################\n",
      "#                    3                     #\n",
      "############################################\n",
      "Use Encoding: 1\n",
      "CrossEntropy Loss: 0.000000 MSE Loss: 3.739341 Time elapsed: 9.846742 s\n",
      "CrossEntropy Loss: 0.000000 MSE Loss: 0.946674 Time elapsed: 0.812728 s\n",
      "Method: Raw Feature w/o PK Loss\n",
      "Method: Raw Feature w/ PK Loss\n",
      "Method: PK Loss Only\n"
     ]
    },
    {
     "name": "stderr",
     "output_type": "stream",
     "text": [
      "/opt/conda/lib/python3.7/site-packages/sklearn/svm/_base.py:947: ConvergenceWarning: Liblinear failed to converge, increase the number of iterations.\n",
      "  \"the number of iterations.\", ConvergenceWarning)\n"
     ]
    },
    {
     "name": "stdout",
     "output_type": "stream",
     "text": [
      "0 / 35484\n",
      "1774 / 35484\n",
      "3548 / 35484\n",
      "5322 / 35484\n",
      "7096 / 35484\n",
      "8870 / 35484\n",
      "10644 / 35484\n",
      "12418 / 35484\n",
      "14192 / 35484\n",
      "15966 / 35484\n",
      "17740 / 35484\n",
      "19514 / 35484\n",
      "21288 / 35484\n",
      "23062 / 35484\n",
      "24836 / 35484\n",
      "26610 / 35484\n",
      "28384 / 35484\n",
      "30158 / 35484\n",
      "31932 / 35484\n",
      "33706 / 35484\n",
      "35480 / 35484\n"
     ]
    },
    {
     "name": "stderr",
     "output_type": "stream",
     "text": [
      "/opt/conda/lib/python3.7/site-packages/sklearn/svm/_base.py:947: ConvergenceWarning: Liblinear failed to converge, increase the number of iterations.\n",
      "  \"the number of iterations.\", ConvergenceWarning)\n"
     ]
    },
    {
     "name": "stdout",
     "output_type": "stream",
     "text": [
      "0 / 2932\n",
      "146 / 2932\n",
      "292 / 2932\n",
      "438 / 2932\n",
      "584 / 2932\n",
      "730 / 2932\n",
      "876 / 2932\n",
      "1022 / 2932\n",
      "1168 / 2932\n",
      "1314 / 2932\n",
      "1460 / 2932\n",
      "1606 / 2932\n",
      "1752 / 2932\n",
      "1898 / 2932\n",
      "2044 / 2932\n",
      "2190 / 2932\n",
      "2336 / 2932\n",
      "2482 / 2932\n",
      "2628 / 2932\n",
      "2774 / 2932\n",
      "2920 / 2932\n",
      "Method: Nearest Neighbour w/o PK Loss\n",
      "RVAE w/ Raw Feature\n",
      "Method: MWOC w/o PK Loss\n",
      "Method: MWOC w/ PK Loss\n"
     ]
    },
    {
     "name": "stderr",
     "output_type": "stream",
     "text": [
      "/opt/conda/lib/python3.7/site-packages/sklearn/linear_model/_logistic.py:940: ConvergenceWarning: lbfgs failed to converge (status=1):\n",
      "STOP: TOTAL NO. of ITERATIONS REACHED LIMIT.\n",
      "\n",
      "Increase the number of iterations (max_iter) or scale the data as shown in:\n",
      "    https://scikit-learn.org/stable/modules/preprocessing.html\n",
      "Please also refer to the documentation for alternative solver options:\n",
      "    https://scikit-learn.org/stable/modules/linear_model.html#logistic-regression\n",
      "  extra_warning_msg=_LOGISTIC_SOLVER_CONVERGENCE_MSG)\n"
     ]
    },
    {
     "name": "stdout",
     "output_type": "stream",
     "text": [
      "noise type: normal magnitude: 0.100000\n",
      "noise type: normal magnitude: 0.500000\n",
      "noise type: uniform magnitude: 0.100000\n",
      "noise type: uniform magnitude: 0.500000\n",
      "noise type: uniform magnitude: -0.100000\n",
      "noise type: uniform magnitude: -0.500000\n",
      "noise type: bernoulli magnitude: 0.100000\n",
      "noise type: bernoulli magnitude: 0.500000\n",
      "noise type: bernoulli magnitude: -0.100000\n",
      "noise type: bernoulli magnitude: -0.500000\n",
      "Method: Calibrated Confidence Score w/o PK Loss\n",
      "############################################\n",
      "#                    4                     #\n",
      "############################################\n",
      "Use Encoding: 1\n",
      "CrossEntropy Loss: 0.000000 MSE Loss: 3.394140 Time elapsed: 10.031965 s\n",
      "CrossEntropy Loss: 0.000000 MSE Loss: 0.926175 Time elapsed: 0.813031 s\n",
      "Method: Raw Feature w/o PK Loss\n",
      "Method: Raw Feature w/ PK Loss\n",
      "Method: PK Loss Only\n"
     ]
    },
    {
     "name": "stderr",
     "output_type": "stream",
     "text": [
      "/opt/conda/lib/python3.7/site-packages/sklearn/svm/_base.py:947: ConvergenceWarning: Liblinear failed to converge, increase the number of iterations.\n",
      "  \"the number of iterations.\", ConvergenceWarning)\n"
     ]
    },
    {
     "name": "stdout",
     "output_type": "stream",
     "text": [
      "0 / 35340\n",
      "1767 / 35340\n",
      "3534 / 35340\n",
      "5301 / 35340\n",
      "7068 / 35340\n",
      "8835 / 35340\n",
      "10602 / 35340\n",
      "12369 / 35340\n",
      "14136 / 35340\n",
      "15903 / 35340\n",
      "17670 / 35340\n",
      "19437 / 35340\n",
      "21204 / 35340\n",
      "22971 / 35340\n",
      "24738 / 35340\n",
      "26505 / 35340\n",
      "28272 / 35340\n",
      "30039 / 35340\n",
      "31806 / 35340\n",
      "33573 / 35340\n"
     ]
    },
    {
     "name": "stderr",
     "output_type": "stream",
     "text": [
      "/opt/conda/lib/python3.7/site-packages/sklearn/svm/_base.py:947: ConvergenceWarning: Liblinear failed to converge, increase the number of iterations.\n",
      "  \"the number of iterations.\", ConvergenceWarning)\n"
     ]
    },
    {
     "name": "stdout",
     "output_type": "stream",
     "text": [
      "0 / 2936\n",
      "146 / 2936\n",
      "292 / 2936\n",
      "438 / 2936\n",
      "584 / 2936\n",
      "730 / 2936\n",
      "876 / 2936\n",
      "1022 / 2936\n",
      "1168 / 2936\n",
      "1314 / 2936\n",
      "1460 / 2936\n",
      "1606 / 2936\n",
      "1752 / 2936\n",
      "1898 / 2936\n",
      "2044 / 2936\n",
      "2190 / 2936\n",
      "2336 / 2936\n",
      "2482 / 2936\n",
      "2628 / 2936\n",
      "2774 / 2936\n",
      "2920 / 2936\n",
      "Method: Nearest Neighbour w/o PK Loss\n",
      "RVAE w/ Raw Feature\n",
      "Method: MWOC w/o PK Loss\n",
      "Method: MWOC w/ PK Loss\n"
     ]
    },
    {
     "name": "stderr",
     "output_type": "stream",
     "text": [
      "/opt/conda/lib/python3.7/site-packages/sklearn/linear_model/_logistic.py:940: ConvergenceWarning: lbfgs failed to converge (status=1):\n",
      "STOP: TOTAL NO. of ITERATIONS REACHED LIMIT.\n",
      "\n",
      "Increase the number of iterations (max_iter) or scale the data as shown in:\n",
      "    https://scikit-learn.org/stable/modules/preprocessing.html\n",
      "Please also refer to the documentation for alternative solver options:\n",
      "    https://scikit-learn.org/stable/modules/linear_model.html#logistic-regression\n",
      "  extra_warning_msg=_LOGISTIC_SOLVER_CONVERGENCE_MSG)\n"
     ]
    },
    {
     "name": "stdout",
     "output_type": "stream",
     "text": [
      "noise type: normal magnitude: 0.100000\n",
      "noise type: normal magnitude: 0.500000\n",
      "noise type: uniform magnitude: 0.100000\n",
      "noise type: uniform magnitude: 0.500000\n",
      "noise type: uniform magnitude: -0.100000\n",
      "noise type: uniform magnitude: -0.500000\n",
      "noise type: bernoulli magnitude: 0.100000\n",
      "noise type: bernoulli magnitude: 0.500000\n",
      "noise type: bernoulli magnitude: -0.100000\n",
      "noise type: bernoulli magnitude: -0.500000\n",
      "Method: Calibrated Confidence Score w/o PK Loss\n",
      "Noise Type: adv, Model: nn, Level: medium\n",
      "############################################\n",
      "#                    0                     #\n",
      "############################################\n",
      "Use Encoding: 1\n",
      "CrossEntropy Loss: 0.000000 MSE Loss: 2.078978 Time elapsed: 21.348913 s\n",
      "CrossEntropy Loss: 0.000000 MSE Loss: 0.464353 Time elapsed: 0.404968 s\n",
      "Method: Raw Feature w/o PK Loss\n",
      "Method: Raw Feature w/ PK Loss\n",
      "Method: PK Loss Only\n"
     ]
    },
    {
     "name": "stderr",
     "output_type": "stream",
     "text": [
      "/opt/conda/lib/python3.7/site-packages/sklearn/svm/_base.py:947: ConvergenceWarning: Liblinear failed to converge, increase the number of iterations.\n",
      "  \"the number of iterations.\", ConvergenceWarning)\n"
     ]
    },
    {
     "name": "stdout",
     "output_type": "stream",
     "text": [
      "0 / 76580\n",
      "3829 / 76580\n",
      "7658 / 76580\n",
      "11487 / 76580\n",
      "15316 / 76580\n",
      "19145 / 76580\n",
      "22974 / 76580\n",
      "26803 / 76580\n",
      "30632 / 76580\n",
      "34461 / 76580\n",
      "38290 / 76580\n",
      "42119 / 76580\n",
      "45948 / 76580\n",
      "49777 / 76580\n",
      "53606 / 76580\n",
      "57435 / 76580\n",
      "61264 / 76580\n",
      "65093 / 76580\n",
      "68922 / 76580\n",
      "72751 / 76580\n"
     ]
    },
    {
     "name": "stderr",
     "output_type": "stream",
     "text": [
      "/opt/conda/lib/python3.7/site-packages/sklearn/svm/_base.py:947: ConvergenceWarning: Liblinear failed to converge, increase the number of iterations.\n",
      "  \"the number of iterations.\", ConvergenceWarning)\n"
     ]
    },
    {
     "name": "stdout",
     "output_type": "stream",
     "text": [
      "0 / 1058\n",
      "52 / 1058\n",
      "104 / 1058\n",
      "156 / 1058\n",
      "208 / 1058\n",
      "260 / 1058\n",
      "312 / 1058\n",
      "364 / 1058\n",
      "416 / 1058\n",
      "468 / 1058\n",
      "520 / 1058\n",
      "572 / 1058\n",
      "624 / 1058\n",
      "676 / 1058\n",
      "728 / 1058\n",
      "780 / 1058\n",
      "832 / 1058\n",
      "884 / 1058\n",
      "936 / 1058\n",
      "988 / 1058\n",
      "1040 / 1058\n",
      "Method: Nearest Neighbour w/o PK Loss\n",
      "RVAE w/ Raw Feature\n",
      "Method: MWOC w/o PK Loss\n",
      "Method: MWOC w/ PK Loss\n",
      "noise type: normal magnitude: 0.100000\n",
      "noise type: normal magnitude: 0.500000\n",
      "noise type: uniform magnitude: 0.100000\n",
      "noise type: uniform magnitude: 0.500000\n",
      "noise type: uniform magnitude: -0.100000\n",
      "noise type: uniform magnitude: -0.500000\n",
      "noise type: bernoulli magnitude: 0.100000\n",
      "noise type: bernoulli magnitude: 0.500000\n",
      "noise type: bernoulli magnitude: -0.100000\n",
      "noise type: bernoulli magnitude: -0.500000\n",
      "Method: Calibrated Confidence Score w/o PK Loss\n",
      "############################################\n",
      "#                    1                     #\n",
      "############################################\n",
      "Use Encoding: 1\n",
      "CrossEntropy Loss: 0.000000 MSE Loss: 2.132282 Time elapsed: 21.110151 s\n",
      "CrossEntropy Loss: 0.000000 MSE Loss: 0.470898 Time elapsed: 0.247627 s\n",
      "Method: Raw Feature w/o PK Loss\n",
      "Method: Raw Feature w/ PK Loss\n",
      "Method: PK Loss Only\n"
     ]
    },
    {
     "name": "stderr",
     "output_type": "stream",
     "text": [
      "/opt/conda/lib/python3.7/site-packages/sklearn/svm/_base.py:947: ConvergenceWarning: Liblinear failed to converge, increase the number of iterations.\n",
      "  \"the number of iterations.\", ConvergenceWarning)\n"
     ]
    },
    {
     "name": "stdout",
     "output_type": "stream",
     "text": [
      "0 / 75680\n",
      "3784 / 75680\n",
      "7568 / 75680\n",
      "11352 / 75680\n",
      "15136 / 75680\n",
      "18920 / 75680\n",
      "22704 / 75680\n",
      "26488 / 75680\n",
      "30272 / 75680\n",
      "34056 / 75680\n",
      "37840 / 75680\n",
      "41624 / 75680\n",
      "45408 / 75680\n",
      "49192 / 75680\n",
      "52976 / 75680\n",
      "56760 / 75680\n",
      "60544 / 75680\n",
      "64328 / 75680\n",
      "68112 / 75680\n",
      "71896 / 75680\n"
     ]
    },
    {
     "name": "stderr",
     "output_type": "stream",
     "text": [
      "/opt/conda/lib/python3.7/site-packages/sklearn/svm/_base.py:947: ConvergenceWarning: Liblinear failed to converge, increase the number of iterations.\n",
      "  \"the number of iterations.\", ConvergenceWarning)\n"
     ]
    },
    {
     "name": "stdout",
     "output_type": "stream",
     "text": [
      "0 / 888\n",
      "44 / 888\n",
      "88 / 888\n",
      "132 / 888\n",
      "176 / 888\n",
      "220 / 888\n",
      "264 / 888\n",
      "308 / 888\n",
      "352 / 888\n",
      "396 / 888\n",
      "440 / 888\n",
      "484 / 888\n",
      "528 / 888\n",
      "572 / 888\n",
      "616 / 888\n",
      "660 / 888\n",
      "704 / 888\n",
      "748 / 888\n",
      "792 / 888\n",
      "836 / 888\n",
      "880 / 888\n",
      "Method: Nearest Neighbour w/o PK Loss\n",
      "RVAE w/ Raw Feature\n",
      "Method: MWOC w/o PK Loss\n",
      "Method: MWOC w/ PK Loss\n",
      "noise type: normal magnitude: 0.100000\n",
      "noise type: normal magnitude: 0.500000\n",
      "noise type: uniform magnitude: 0.100000\n",
      "noise type: uniform magnitude: 0.500000\n",
      "noise type: uniform magnitude: -0.100000\n",
      "noise type: uniform magnitude: -0.500000\n",
      "noise type: bernoulli magnitude: 0.100000\n",
      "noise type: bernoulli magnitude: 0.500000\n",
      "noise type: bernoulli magnitude: -0.100000\n",
      "noise type: bernoulli magnitude: -0.500000\n",
      "Method: Calibrated Confidence Score w/o PK Loss\n",
      "############################################\n",
      "#                    2                     #\n",
      "############################################\n",
      "Use Encoding: 1\n",
      "CrossEntropy Loss: 0.000000 MSE Loss: 2.072627 Time elapsed: 20.837590 s\n",
      "CrossEntropy Loss: 0.000000 MSE Loss: 0.437654 Time elapsed: 0.276431 s\n",
      "Method: Raw Feature w/o PK Loss\n",
      "Method: Raw Feature w/ PK Loss\n",
      "Method: PK Loss Only\n"
     ]
    },
    {
     "name": "stderr",
     "output_type": "stream",
     "text": [
      "/opt/conda/lib/python3.7/site-packages/sklearn/svm/_base.py:947: ConvergenceWarning: Liblinear failed to converge, increase the number of iterations.\n",
      "  \"the number of iterations.\", ConvergenceWarning)\n"
     ]
    },
    {
     "name": "stdout",
     "output_type": "stream",
     "text": [
      "0 / 74840\n",
      "3742 / 74840\n",
      "7484 / 74840\n",
      "11226 / 74840\n",
      "14968 / 74840\n",
      "18710 / 74840\n",
      "22452 / 74840\n",
      "26194 / 74840\n",
      "29936 / 74840\n",
      "33678 / 74840\n",
      "37420 / 74840\n",
      "41162 / 74840\n",
      "44904 / 74840\n",
      "48646 / 74840\n",
      "52388 / 74840\n",
      "56130 / 74840\n",
      "59872 / 74840\n",
      "63614 / 74840\n",
      "67356 / 74840\n",
      "71098 / 74840\n"
     ]
    },
    {
     "name": "stderr",
     "output_type": "stream",
     "text": [
      "/opt/conda/lib/python3.7/site-packages/sklearn/svm/_base.py:947: ConvergenceWarning: Liblinear failed to converge, increase the number of iterations.\n",
      "  \"the number of iterations.\", ConvergenceWarning)\n"
     ]
    },
    {
     "name": "stdout",
     "output_type": "stream",
     "text": [
      "0 / 960\n",
      "48 / 960\n",
      "96 / 960\n",
      "144 / 960\n",
      "192 / 960\n",
      "240 / 960\n",
      "288 / 960\n",
      "336 / 960\n",
      "384 / 960\n",
      "432 / 960\n",
      "480 / 960\n",
      "528 / 960\n",
      "576 / 960\n",
      "624 / 960\n",
      "672 / 960\n",
      "720 / 960\n",
      "768 / 960\n",
      "816 / 960\n",
      "864 / 960\n",
      "912 / 960\n",
      "Method: Nearest Neighbour w/o PK Loss\n",
      "RVAE w/ Raw Feature\n",
      "Method: MWOC w/o PK Loss\n",
      "Method: MWOC w/ PK Loss\n",
      "noise type: normal magnitude: 0.100000\n",
      "noise type: normal magnitude: 0.500000\n",
      "noise type: uniform magnitude: 0.100000\n",
      "noise type: uniform magnitude: 0.500000\n",
      "noise type: uniform magnitude: -0.100000\n",
      "noise type: uniform magnitude: -0.500000\n",
      "noise type: bernoulli magnitude: 0.100000\n",
      "noise type: bernoulli magnitude: 0.500000\n",
      "noise type: bernoulli magnitude: -0.100000\n",
      "noise type: bernoulli magnitude: -0.500000\n",
      "Method: Calibrated Confidence Score w/o PK Loss\n",
      "############################################\n",
      "#                    3                     #\n",
      "############################################\n",
      "Use Encoding: 1\n",
      "CrossEntropy Loss: 0.000000 MSE Loss: 2.190595 Time elapsed: 21.438545 s\n",
      "CrossEntropy Loss: 0.000000 MSE Loss: 0.425750 Time elapsed: 0.405639 s\n",
      "Method: Raw Feature w/o PK Loss\n",
      "Method: Raw Feature w/ PK Loss\n",
      "Method: PK Loss Only\n"
     ]
    },
    {
     "name": "stderr",
     "output_type": "stream",
     "text": [
      "/opt/conda/lib/python3.7/site-packages/sklearn/svm/_base.py:947: ConvergenceWarning: Liblinear failed to converge, increase the number of iterations.\n",
      "  \"the number of iterations.\", ConvergenceWarning)\n"
     ]
    },
    {
     "name": "stdout",
     "output_type": "stream",
     "text": [
      "0 / 77120\n",
      "3856 / 77120\n",
      "7712 / 77120\n",
      "11568 / 77120\n",
      "15424 / 77120\n",
      "19280 / 77120\n",
      "23136 / 77120\n",
      "26992 / 77120\n",
      "30848 / 77120\n",
      "34704 / 77120\n",
      "38560 / 77120\n",
      "42416 / 77120\n",
      "46272 / 77120\n",
      "50128 / 77120\n",
      "53984 / 77120\n",
      "57840 / 77120\n",
      "61696 / 77120\n",
      "65552 / 77120\n",
      "69408 / 77120\n",
      "73264 / 77120\n"
     ]
    },
    {
     "name": "stderr",
     "output_type": "stream",
     "text": [
      "/opt/conda/lib/python3.7/site-packages/sklearn/svm/_base.py:947: ConvergenceWarning: Liblinear failed to converge, increase the number of iterations.\n",
      "  \"the number of iterations.\", ConvergenceWarning)\n"
     ]
    },
    {
     "name": "stdout",
     "output_type": "stream",
     "text": [
      "0 / 1016\n",
      "50 / 1016\n",
      "100 / 1016\n",
      "150 / 1016\n",
      "200 / 1016\n",
      "250 / 1016\n",
      "300 / 1016\n",
      "350 / 1016\n",
      "400 / 1016\n",
      "450 / 1016\n",
      "500 / 1016\n",
      "550 / 1016\n",
      "600 / 1016\n",
      "650 / 1016\n",
      "700 / 1016\n",
      "750 / 1016\n",
      "800 / 1016\n",
      "850 / 1016\n",
      "900 / 1016\n",
      "950 / 1016\n",
      "1000 / 1016\n",
      "Method: Nearest Neighbour w/o PK Loss\n",
      "RVAE w/ Raw Feature\n",
      "Method: MWOC w/o PK Loss\n",
      "Method: MWOC w/ PK Loss\n",
      "noise type: normal magnitude: 0.100000\n",
      "noise type: normal magnitude: 0.500000\n",
      "noise type: uniform magnitude: 0.100000\n",
      "noise type: uniform magnitude: 0.500000\n",
      "noise type: uniform magnitude: -0.100000\n",
      "noise type: uniform magnitude: -0.500000\n",
      "noise type: bernoulli magnitude: 0.100000\n",
      "noise type: bernoulli magnitude: 0.500000\n",
      "noise type: bernoulli magnitude: -0.100000\n",
      "noise type: bernoulli magnitude: -0.500000\n",
      "Method: Calibrated Confidence Score w/o PK Loss\n",
      "############################################\n",
      "#                    4                     #\n",
      "############################################\n",
      "Use Encoding: 1\n",
      "CrossEntropy Loss: 0.000000 MSE Loss: 2.030018 Time elapsed: 20.833837 s\n",
      "CrossEntropy Loss: 0.000000 MSE Loss: 0.435694 Time elapsed: 0.274101 s\n",
      "Method: Raw Feature w/o PK Loss\n",
      "Method: Raw Feature w/ PK Loss\n",
      "Method: PK Loss Only\n"
     ]
    },
    {
     "name": "stderr",
     "output_type": "stream",
     "text": [
      "/opt/conda/lib/python3.7/site-packages/sklearn/svm/_base.py:947: ConvergenceWarning: Liblinear failed to converge, increase the number of iterations.\n",
      "  \"the number of iterations.\", ConvergenceWarning)\n"
     ]
    },
    {
     "name": "stdout",
     "output_type": "stream",
     "text": [
      "0 / 75920\n",
      "3796 / 75920\n",
      "7592 / 75920\n",
      "11388 / 75920\n",
      "15184 / 75920\n",
      "18980 / 75920\n",
      "22776 / 75920\n",
      "26572 / 75920\n",
      "30368 / 75920\n",
      "34164 / 75920\n",
      "37960 / 75920\n",
      "41756 / 75920\n",
      "45552 / 75920\n",
      "49348 / 75920\n",
      "53144 / 75920\n",
      "56940 / 75920\n",
      "60736 / 75920\n",
      "64532 / 75920\n",
      "68328 / 75920\n",
      "72124 / 75920\n"
     ]
    },
    {
     "name": "stderr",
     "output_type": "stream",
     "text": [
      "/opt/conda/lib/python3.7/site-packages/sklearn/svm/_base.py:947: ConvergenceWarning: Liblinear failed to converge, increase the number of iterations.\n",
      "  \"the number of iterations.\", ConvergenceWarning)\n"
     ]
    },
    {
     "name": "stdout",
     "output_type": "stream",
     "text": [
      "0 / 992\n",
      "49 / 992\n",
      "98 / 992\n",
      "147 / 992\n",
      "196 / 992\n",
      "245 / 992\n",
      "294 / 992\n",
      "343 / 992\n",
      "392 / 992\n",
      "441 / 992\n",
      "490 / 992\n",
      "539 / 992\n",
      "588 / 992\n",
      "637 / 992\n",
      "686 / 992\n",
      "735 / 992\n",
      "784 / 992\n",
      "833 / 992\n",
      "882 / 992\n",
      "931 / 992\n",
      "980 / 992\n",
      "Method: Nearest Neighbour w/o PK Loss\n",
      "RVAE w/ Raw Feature\n",
      "Method: MWOC w/o PK Loss\n",
      "Method: MWOC w/ PK Loss\n",
      "noise type: normal magnitude: 0.100000\n",
      "noise type: normal magnitude: 0.500000\n",
      "noise type: uniform magnitude: 0.100000\n",
      "noise type: uniform magnitude: 0.500000\n",
      "noise type: uniform magnitude: -0.100000\n",
      "noise type: uniform magnitude: -0.500000\n",
      "noise type: bernoulli magnitude: 0.100000\n",
      "noise type: bernoulli magnitude: 0.500000\n",
      "noise type: bernoulli magnitude: -0.100000\n",
      "noise type: bernoulli magnitude: -0.500000\n",
      "Method: Calibrated Confidence Score w/o PK Loss\n",
      "Noise Type: adv, Model: svm, Level: medium\n",
      "############################################\n",
      "#                    0                     #\n",
      "############################################\n",
      "Use Encoding: 1\n",
      "CrossEntropy Loss: 0.000000 MSE Loss: 2.212953 Time elapsed: 16.242776 s\n",
      "CrossEntropy Loss: 0.000000 MSE Loss: 0.512581 Time elapsed: 0.151835 s\n"
     ]
    },
    {
     "name": "stderr",
     "output_type": "stream",
     "text": [
      "/opt/conda/lib/python3.7/site-packages/sklearn/svm/_base.py:947: ConvergenceWarning: Liblinear failed to converge, increase the number of iterations.\n",
      "  \"the number of iterations.\", ConvergenceWarning)\n"
     ]
    },
    {
     "name": "stdout",
     "output_type": "stream",
     "text": [
      "Method: Raw Feature w/o PK Loss\n",
      "Method: Raw Feature w/ PK Loss\n",
      "Method: PK Loss Only\n"
     ]
    },
    {
     "name": "stderr",
     "output_type": "stream",
     "text": [
      "/opt/conda/lib/python3.7/site-packages/sklearn/svm/_base.py:947: ConvergenceWarning: Liblinear failed to converge, increase the number of iterations.\n",
      "  \"the number of iterations.\", ConvergenceWarning)\n"
     ]
    },
    {
     "name": "stdout",
     "output_type": "stream",
     "text": [
      "0 / 58808\n",
      "2940 / 58808\n",
      "5880 / 58808\n",
      "8820 / 58808\n",
      "11760 / 58808\n",
      "14700 / 58808\n",
      "17640 / 58808\n",
      "20580 / 58808\n",
      "23520 / 58808\n",
      "26460 / 58808\n",
      "29400 / 58808\n",
      "32340 / 58808\n",
      "35280 / 58808\n",
      "38220 / 58808\n",
      "41160 / 58808\n",
      "44100 / 58808\n",
      "47040 / 58808\n",
      "49980 / 58808\n",
      "52920 / 58808\n",
      "55860 / 58808\n",
      "58800 / 58808\n"
     ]
    },
    {
     "name": "stderr",
     "output_type": "stream",
     "text": [
      "/opt/conda/lib/python3.7/site-packages/sklearn/svm/_base.py:947: ConvergenceWarning: Liblinear failed to converge, increase the number of iterations.\n",
      "  \"the number of iterations.\", ConvergenceWarning)\n"
     ]
    },
    {
     "name": "stdout",
     "output_type": "stream",
     "text": [
      "0 / 434\n",
      "21 / 434\n",
      "42 / 434\n",
      "63 / 434\n",
      "84 / 434\n",
      "105 / 434\n",
      "126 / 434\n",
      "147 / 434\n",
      "168 / 434\n",
      "189 / 434\n",
      "210 / 434\n",
      "231 / 434\n",
      "252 / 434\n",
      "273 / 434\n",
      "294 / 434\n",
      "315 / 434\n",
      "336 / 434\n",
      "357 / 434\n",
      "378 / 434\n",
      "399 / 434\n",
      "420 / 434\n",
      "Method: Nearest Neighbour w/o PK Loss\n",
      "RVAE w/ Raw Feature\n"
     ]
    },
    {
     "name": "stderr",
     "output_type": "stream",
     "text": [
      "/opt/conda/lib/python3.7/site-packages/sklearn/linear_model/_logistic.py:940: ConvergenceWarning: lbfgs failed to converge (status=1):\n",
      "STOP: TOTAL NO. of ITERATIONS REACHED LIMIT.\n",
      "\n",
      "Increase the number of iterations (max_iter) or scale the data as shown in:\n",
      "    https://scikit-learn.org/stable/modules/preprocessing.html\n",
      "Please also refer to the documentation for alternative solver options:\n",
      "    https://scikit-learn.org/stable/modules/linear_model.html#logistic-regression\n",
      "  extra_warning_msg=_LOGISTIC_SOLVER_CONVERGENCE_MSG)\n"
     ]
    },
    {
     "name": "stdout",
     "output_type": "stream",
     "text": [
      "Method: MWOC w/o PK Loss\n"
     ]
    },
    {
     "name": "stderr",
     "output_type": "stream",
     "text": [
      "/opt/conda/lib/python3.7/site-packages/sklearn/svm/_base.py:947: ConvergenceWarning: Liblinear failed to converge, increase the number of iterations.\n",
      "  \"the number of iterations.\", ConvergenceWarning)\n"
     ]
    },
    {
     "name": "stdout",
     "output_type": "stream",
     "text": [
      "Method: MWOC w/ PK Loss\n"
     ]
    },
    {
     "name": "stderr",
     "output_type": "stream",
     "text": [
      "/opt/conda/lib/python3.7/site-packages/sklearn/svm/_base.py:947: ConvergenceWarning: Liblinear failed to converge, increase the number of iterations.\n",
      "  \"the number of iterations.\", ConvergenceWarning)\n"
     ]
    },
    {
     "name": "stdout",
     "output_type": "stream",
     "text": [
      "noise type: normal magnitude: 0.100000\n",
      "noise type: normal magnitude: 0.500000\n",
      "noise type: uniform magnitude: 0.100000\n",
      "noise type: uniform magnitude: 0.500000\n",
      "noise type: uniform magnitude: -0.100000\n",
      "noise type: uniform magnitude: -0.500000\n",
      "noise type: bernoulli magnitude: 0.100000\n",
      "noise type: bernoulli magnitude: 0.500000\n",
      "noise type: bernoulli magnitude: -0.100000\n",
      "noise type: bernoulli magnitude: -0.500000\n"
     ]
    },
    {
     "name": "stderr",
     "output_type": "stream",
     "text": [
      "/opt/conda/lib/python3.7/site-packages/sklearn/svm/_base.py:947: ConvergenceWarning: Liblinear failed to converge, increase the number of iterations.\n",
      "  \"the number of iterations.\", ConvergenceWarning)\n",
      "/opt/conda/lib/python3.7/site-packages/sklearn/svm/_base.py:947: ConvergenceWarning: Liblinear failed to converge, increase the number of iterations.\n",
      "  \"the number of iterations.\", ConvergenceWarning)\n",
      "/opt/conda/lib/python3.7/site-packages/sklearn/svm/_base.py:947: ConvergenceWarning: Liblinear failed to converge, increase the number of iterations.\n",
      "  \"the number of iterations.\", ConvergenceWarning)\n",
      "/opt/conda/lib/python3.7/site-packages/sklearn/svm/_base.py:947: ConvergenceWarning: Liblinear failed to converge, increase the number of iterations.\n",
      "  \"the number of iterations.\", ConvergenceWarning)\n",
      "/opt/conda/lib/python3.7/site-packages/sklearn/svm/_base.py:947: ConvergenceWarning: Liblinear failed to converge, increase the number of iterations.\n",
      "  \"the number of iterations.\", ConvergenceWarning)\n"
     ]
    },
    {
     "name": "stdout",
     "output_type": "stream",
     "text": [
      "Method: Calibrated Confidence Score w/o PK Loss\n",
      "############################################\n",
      "#                    1                     #\n",
      "############################################\n",
      "Use Encoding: 1\n",
      "CrossEntropy Loss: 0.000000 MSE Loss: 2.264526 Time elapsed: 41.783466 s\n",
      "CrossEntropy Loss: 0.000000 MSE Loss: 0.494346 Time elapsed: 0.430499 s\n"
     ]
    },
    {
     "name": "stderr",
     "output_type": "stream",
     "text": [
      "/opt/conda/lib/python3.7/site-packages/sklearn/svm/_base.py:947: ConvergenceWarning: Liblinear failed to converge, increase the number of iterations.\n",
      "  \"the number of iterations.\", ConvergenceWarning)\n"
     ]
    },
    {
     "name": "stdout",
     "output_type": "stream",
     "text": [
      "Method: Raw Feature w/o PK Loss\n",
      "Method: Raw Feature w/ PK Loss\n",
      "Method: PK Loss Only\n"
     ]
    },
    {
     "name": "stderr",
     "output_type": "stream",
     "text": [
      "/opt/conda/lib/python3.7/site-packages/sklearn/svm/_base.py:947: ConvergenceWarning: Liblinear failed to converge, increase the number of iterations.\n",
      "  \"the number of iterations.\", ConvergenceWarning)\n"
     ]
    },
    {
     "name": "stdout",
     "output_type": "stream",
     "text": [
      "0 / 58824\n",
      "2941 / 58824\n",
      "5882 / 58824\n",
      "8823 / 58824\n",
      "11764 / 58824\n",
      "14705 / 58824\n",
      "17646 / 58824\n",
      "20587 / 58824\n",
      "23528 / 58824\n",
      "26469 / 58824\n",
      "29410 / 58824\n",
      "32351 / 58824\n",
      "35292 / 58824\n",
      "38233 / 58824\n",
      "41174 / 58824\n",
      "44115 / 58824\n",
      "47056 / 58824\n",
      "49997 / 58824\n",
      "52938 / 58824\n",
      "55879 / 58824\n",
      "58820 / 58824\n"
     ]
    },
    {
     "name": "stderr",
     "output_type": "stream",
     "text": [
      "/opt/conda/lib/python3.7/site-packages/sklearn/svm/_base.py:947: ConvergenceWarning: Liblinear failed to converge, increase the number of iterations.\n",
      "  \"the number of iterations.\", ConvergenceWarning)\n"
     ]
    },
    {
     "name": "stdout",
     "output_type": "stream",
     "text": [
      "0 / 412\n",
      "20 / 412\n",
      "40 / 412\n",
      "60 / 412\n",
      "80 / 412\n",
      "100 / 412\n",
      "120 / 412\n",
      "140 / 412\n",
      "160 / 412\n",
      "180 / 412\n",
      "200 / 412\n",
      "220 / 412\n",
      "240 / 412\n",
      "260 / 412\n",
      "280 / 412\n",
      "300 / 412\n",
      "320 / 412\n",
      "340 / 412\n",
      "360 / 412\n",
      "380 / 412\n",
      "400 / 412\n",
      "Method: Nearest Neighbour w/o PK Loss\n",
      "RVAE w/ Raw Feature\n"
     ]
    },
    {
     "name": "stderr",
     "output_type": "stream",
     "text": [
      "/opt/conda/lib/python3.7/site-packages/sklearn/linear_model/_logistic.py:940: ConvergenceWarning: lbfgs failed to converge (status=1):\n",
      "STOP: TOTAL NO. of ITERATIONS REACHED LIMIT.\n",
      "\n",
      "Increase the number of iterations (max_iter) or scale the data as shown in:\n",
      "    https://scikit-learn.org/stable/modules/preprocessing.html\n",
      "Please also refer to the documentation for alternative solver options:\n",
      "    https://scikit-learn.org/stable/modules/linear_model.html#logistic-regression\n",
      "  extra_warning_msg=_LOGISTIC_SOLVER_CONVERGENCE_MSG)\n"
     ]
    },
    {
     "name": "stdout",
     "output_type": "stream",
     "text": [
      "Method: MWOC w/o PK Loss\n"
     ]
    },
    {
     "name": "stderr",
     "output_type": "stream",
     "text": [
      "/opt/conda/lib/python3.7/site-packages/sklearn/svm/_base.py:947: ConvergenceWarning: Liblinear failed to converge, increase the number of iterations.\n",
      "  \"the number of iterations.\", ConvergenceWarning)\n"
     ]
    },
    {
     "name": "stdout",
     "output_type": "stream",
     "text": [
      "Method: MWOC w/ PK Loss\n"
     ]
    },
    {
     "name": "stderr",
     "output_type": "stream",
     "text": [
      "/opt/conda/lib/python3.7/site-packages/sklearn/svm/_base.py:947: ConvergenceWarning: Liblinear failed to converge, increase the number of iterations.\n",
      "  \"the number of iterations.\", ConvergenceWarning)\n"
     ]
    },
    {
     "name": "stdout",
     "output_type": "stream",
     "text": [
      "noise type: normal magnitude: 0.100000\n",
      "noise type: normal magnitude: 0.500000\n",
      "noise type: uniform magnitude: 0.100000\n",
      "noise type: uniform magnitude: 0.500000\n",
      "noise type: uniform magnitude: -0.100000\n",
      "noise type: uniform magnitude: -0.500000\n",
      "noise type: bernoulli magnitude: 0.100000\n",
      "noise type: bernoulli magnitude: 0.500000\n",
      "noise type: bernoulli magnitude: -0.100000\n",
      "noise type: bernoulli magnitude: -0.500000\n"
     ]
    },
    {
     "name": "stderr",
     "output_type": "stream",
     "text": [
      "/opt/conda/lib/python3.7/site-packages/sklearn/svm/_base.py:947: ConvergenceWarning: Liblinear failed to converge, increase the number of iterations.\n",
      "  \"the number of iterations.\", ConvergenceWarning)\n",
      "/opt/conda/lib/python3.7/site-packages/sklearn/svm/_base.py:947: ConvergenceWarning: Liblinear failed to converge, increase the number of iterations.\n",
      "  \"the number of iterations.\", ConvergenceWarning)\n",
      "/opt/conda/lib/python3.7/site-packages/sklearn/svm/_base.py:947: ConvergenceWarning: Liblinear failed to converge, increase the number of iterations.\n",
      "  \"the number of iterations.\", ConvergenceWarning)\n",
      "/opt/conda/lib/python3.7/site-packages/sklearn/svm/_base.py:947: ConvergenceWarning: Liblinear failed to converge, increase the number of iterations.\n",
      "  \"the number of iterations.\", ConvergenceWarning)\n",
      "/opt/conda/lib/python3.7/site-packages/sklearn/svm/_base.py:947: ConvergenceWarning: Liblinear failed to converge, increase the number of iterations.\n",
      "  \"the number of iterations.\", ConvergenceWarning)\n"
     ]
    },
    {
     "name": "stdout",
     "output_type": "stream",
     "text": [
      "Method: Calibrated Confidence Score w/o PK Loss\n",
      "############################################\n",
      "#                    2                     #\n",
      "############################################\n",
      "Use Encoding: 1\n",
      "CrossEntropy Loss: 0.000000 MSE Loss: 2.180779 Time elapsed: 42.218763 s\n",
      "CrossEntropy Loss: 0.000000 MSE Loss: 0.501437 Time elapsed: 0.430103 s\n"
     ]
    },
    {
     "name": "stderr",
     "output_type": "stream",
     "text": [
      "/opt/conda/lib/python3.7/site-packages/sklearn/svm/_base.py:947: ConvergenceWarning: Liblinear failed to converge, increase the number of iterations.\n",
      "  \"the number of iterations.\", ConvergenceWarning)\n"
     ]
    },
    {
     "name": "stdout",
     "output_type": "stream",
     "text": [
      "Method: Raw Feature w/o PK Loss\n",
      "Method: Raw Feature w/ PK Loss\n",
      "Method: PK Loss Only\n"
     ]
    },
    {
     "name": "stderr",
     "output_type": "stream",
     "text": [
      "/opt/conda/lib/python3.7/site-packages/sklearn/svm/_base.py:947: ConvergenceWarning: Liblinear failed to converge, increase the number of iterations.\n",
      "  \"the number of iterations.\", ConvergenceWarning)\n"
     ]
    },
    {
     "name": "stdout",
     "output_type": "stream",
     "text": [
      "0 / 58816\n",
      "2940 / 58816\n",
      "5880 / 58816\n",
      "8820 / 58816\n",
      "11760 / 58816\n",
      "14700 / 58816\n",
      "17640 / 58816\n",
      "20580 / 58816\n",
      "23520 / 58816\n",
      "26460 / 58816\n",
      "29400 / 58816\n",
      "32340 / 58816\n",
      "35280 / 58816\n",
      "38220 / 58816\n",
      "41160 / 58816\n",
      "44100 / 58816\n",
      "47040 / 58816\n",
      "49980 / 58816\n",
      "52920 / 58816\n",
      "55860 / 58816\n",
      "58800 / 58816\n"
     ]
    },
    {
     "name": "stderr",
     "output_type": "stream",
     "text": [
      "/opt/conda/lib/python3.7/site-packages/sklearn/svm/_base.py:947: ConvergenceWarning: Liblinear failed to converge, increase the number of iterations.\n",
      "  \"the number of iterations.\", ConvergenceWarning)\n"
     ]
    },
    {
     "name": "stdout",
     "output_type": "stream",
     "text": [
      "0 / 414\n",
      "20 / 414\n",
      "40 / 414\n",
      "60 / 414\n",
      "80 / 414\n",
      "100 / 414\n",
      "120 / 414\n",
      "140 / 414\n",
      "160 / 414\n",
      "180 / 414\n",
      "200 / 414\n",
      "220 / 414\n",
      "240 / 414\n",
      "260 / 414\n",
      "280 / 414\n",
      "300 / 414\n",
      "320 / 414\n",
      "340 / 414\n",
      "360 / 414\n",
      "380 / 414\n",
      "400 / 414\n",
      "Method: Nearest Neighbour w/o PK Loss\n",
      "RVAE w/ Raw Feature\n"
     ]
    },
    {
     "name": "stderr",
     "output_type": "stream",
     "text": [
      "/opt/conda/lib/python3.7/site-packages/sklearn/linear_model/_logistic.py:940: ConvergenceWarning: lbfgs failed to converge (status=1):\n",
      "STOP: TOTAL NO. of ITERATIONS REACHED LIMIT.\n",
      "\n",
      "Increase the number of iterations (max_iter) or scale the data as shown in:\n",
      "    https://scikit-learn.org/stable/modules/preprocessing.html\n",
      "Please also refer to the documentation for alternative solver options:\n",
      "    https://scikit-learn.org/stable/modules/linear_model.html#logistic-regression\n",
      "  extra_warning_msg=_LOGISTIC_SOLVER_CONVERGENCE_MSG)\n"
     ]
    },
    {
     "name": "stdout",
     "output_type": "stream",
     "text": [
      "Method: MWOC w/o PK Loss\n"
     ]
    },
    {
     "name": "stderr",
     "output_type": "stream",
     "text": [
      "/opt/conda/lib/python3.7/site-packages/sklearn/svm/_base.py:947: ConvergenceWarning: Liblinear failed to converge, increase the number of iterations.\n",
      "  \"the number of iterations.\", ConvergenceWarning)\n"
     ]
    },
    {
     "name": "stdout",
     "output_type": "stream",
     "text": [
      "Method: MWOC w/ PK Loss\n"
     ]
    },
    {
     "name": "stderr",
     "output_type": "stream",
     "text": [
      "/opt/conda/lib/python3.7/site-packages/sklearn/svm/_base.py:947: ConvergenceWarning: Liblinear failed to converge, increase the number of iterations.\n",
      "  \"the number of iterations.\", ConvergenceWarning)\n"
     ]
    },
    {
     "name": "stdout",
     "output_type": "stream",
     "text": [
      "noise type: normal magnitude: 0.100000\n",
      "noise type: normal magnitude: 0.500000\n",
      "noise type: uniform magnitude: 0.100000\n",
      "noise type: uniform magnitude: 0.500000\n",
      "noise type: uniform magnitude: -0.100000\n",
      "noise type: uniform magnitude: -0.500000\n",
      "noise type: bernoulli magnitude: 0.100000\n",
      "noise type: bernoulli magnitude: 0.500000\n",
      "noise type: bernoulli magnitude: -0.100000\n",
      "noise type: bernoulli magnitude: -0.500000\n"
     ]
    },
    {
     "name": "stderr",
     "output_type": "stream",
     "text": [
      "/opt/conda/lib/python3.7/site-packages/sklearn/svm/_base.py:947: ConvergenceWarning: Liblinear failed to converge, increase the number of iterations.\n",
      "  \"the number of iterations.\", ConvergenceWarning)\n",
      "/opt/conda/lib/python3.7/site-packages/sklearn/svm/_base.py:947: ConvergenceWarning: Liblinear failed to converge, increase the number of iterations.\n",
      "  \"the number of iterations.\", ConvergenceWarning)\n",
      "/opt/conda/lib/python3.7/site-packages/sklearn/svm/_base.py:947: ConvergenceWarning: Liblinear failed to converge, increase the number of iterations.\n",
      "  \"the number of iterations.\", ConvergenceWarning)\n",
      "/opt/conda/lib/python3.7/site-packages/sklearn/svm/_base.py:947: ConvergenceWarning: Liblinear failed to converge, increase the number of iterations.\n",
      "  \"the number of iterations.\", ConvergenceWarning)\n",
      "/opt/conda/lib/python3.7/site-packages/sklearn/svm/_base.py:947: ConvergenceWarning: Liblinear failed to converge, increase the number of iterations.\n",
      "  \"the number of iterations.\", ConvergenceWarning)\n"
     ]
    },
    {
     "name": "stdout",
     "output_type": "stream",
     "text": [
      "Method: Calibrated Confidence Score w/o PK Loss\n",
      "############################################\n",
      "#                    3                     #\n",
      "############################################\n",
      "Use Encoding: 1\n",
      "CrossEntropy Loss: 0.000000 MSE Loss: 2.368698 Time elapsed: 42.671734 s\n",
      "CrossEntropy Loss: 0.000000 MSE Loss: 0.503767 Time elapsed: 0.429111 s\n"
     ]
    },
    {
     "name": "stderr",
     "output_type": "stream",
     "text": [
      "/opt/conda/lib/python3.7/site-packages/sklearn/svm/_base.py:947: ConvergenceWarning: Liblinear failed to converge, increase the number of iterations.\n",
      "  \"the number of iterations.\", ConvergenceWarning)\n"
     ]
    },
    {
     "name": "stdout",
     "output_type": "stream",
     "text": [
      "Method: Raw Feature w/o PK Loss\n",
      "Method: Raw Feature w/ PK Loss\n",
      "Method: PK Loss Only\n"
     ]
    },
    {
     "name": "stderr",
     "output_type": "stream",
     "text": [
      "/opt/conda/lib/python3.7/site-packages/sklearn/svm/_base.py:947: ConvergenceWarning: Liblinear failed to converge, increase the number of iterations.\n",
      "  \"the number of iterations.\", ConvergenceWarning)\n"
     ]
    },
    {
     "name": "stdout",
     "output_type": "stream",
     "text": [
      "0 / 59212\n",
      "2960 / 59212\n",
      "5920 / 59212\n",
      "8880 / 59212\n",
      "11840 / 59212\n",
      "14800 / 59212\n",
      "17760 / 59212\n",
      "20720 / 59212\n",
      "23680 / 59212\n",
      "26640 / 59212\n",
      "29600 / 59212\n",
      "32560 / 59212\n",
      "35520 / 59212\n",
      "38480 / 59212\n",
      "41440 / 59212\n",
      "44400 / 59212\n",
      "47360 / 59212\n",
      "50320 / 59212\n",
      "53280 / 59212\n",
      "56240 / 59212\n",
      "59200 / 59212\n"
     ]
    },
    {
     "name": "stderr",
     "output_type": "stream",
     "text": [
      "/opt/conda/lib/python3.7/site-packages/sklearn/svm/_base.py:947: ConvergenceWarning: Liblinear failed to converge, increase the number of iterations.\n",
      "  \"the number of iterations.\", ConvergenceWarning)\n"
     ]
    },
    {
     "name": "stdout",
     "output_type": "stream",
     "text": [
      "0 / 428\n",
      "21 / 428\n",
      "42 / 428\n",
      "63 / 428\n",
      "84 / 428\n",
      "105 / 428\n",
      "126 / 428\n",
      "147 / 428\n",
      "168 / 428\n",
      "189 / 428\n",
      "210 / 428\n",
      "231 / 428\n",
      "252 / 428\n",
      "273 / 428\n",
      "294 / 428\n",
      "315 / 428\n",
      "336 / 428\n",
      "357 / 428\n",
      "378 / 428\n",
      "399 / 428\n",
      "420 / 428\n",
      "Method: Nearest Neighbour w/o PK Loss\n",
      "RVAE w/ Raw Feature\n",
      "Method: MWOC w/o PK Loss\n"
     ]
    },
    {
     "name": "stderr",
     "output_type": "stream",
     "text": [
      "/opt/conda/lib/python3.7/site-packages/sklearn/svm/_base.py:947: ConvergenceWarning: Liblinear failed to converge, increase the number of iterations.\n",
      "  \"the number of iterations.\", ConvergenceWarning)\n"
     ]
    },
    {
     "name": "stdout",
     "output_type": "stream",
     "text": [
      "Method: MWOC w/ PK Loss\n"
     ]
    },
    {
     "name": "stderr",
     "output_type": "stream",
     "text": [
      "/opt/conda/lib/python3.7/site-packages/sklearn/svm/_base.py:947: ConvergenceWarning: Liblinear failed to converge, increase the number of iterations.\n",
      "  \"the number of iterations.\", ConvergenceWarning)\n"
     ]
    },
    {
     "name": "stdout",
     "output_type": "stream",
     "text": [
      "noise type: normal magnitude: 0.100000\n",
      "noise type: normal magnitude: 0.500000\n",
      "noise type: uniform magnitude: 0.100000\n",
      "noise type: uniform magnitude: 0.500000\n",
      "noise type: uniform magnitude: -0.100000\n",
      "noise type: uniform magnitude: -0.500000\n",
      "noise type: bernoulli magnitude: 0.100000\n",
      "noise type: bernoulli magnitude: 0.500000\n",
      "noise type: bernoulli magnitude: -0.100000\n",
      "noise type: bernoulli magnitude: -0.500000\n"
     ]
    },
    {
     "name": "stderr",
     "output_type": "stream",
     "text": [
      "/opt/conda/lib/python3.7/site-packages/sklearn/svm/_base.py:947: ConvergenceWarning: Liblinear failed to converge, increase the number of iterations.\n",
      "  \"the number of iterations.\", ConvergenceWarning)\n",
      "/opt/conda/lib/python3.7/site-packages/sklearn/svm/_base.py:947: ConvergenceWarning: Liblinear failed to converge, increase the number of iterations.\n",
      "  \"the number of iterations.\", ConvergenceWarning)\n",
      "/opt/conda/lib/python3.7/site-packages/sklearn/svm/_base.py:947: ConvergenceWarning: Liblinear failed to converge, increase the number of iterations.\n",
      "  \"the number of iterations.\", ConvergenceWarning)\n",
      "/opt/conda/lib/python3.7/site-packages/sklearn/svm/_base.py:947: ConvergenceWarning: Liblinear failed to converge, increase the number of iterations.\n",
      "  \"the number of iterations.\", ConvergenceWarning)\n",
      "/opt/conda/lib/python3.7/site-packages/sklearn/svm/_base.py:947: ConvergenceWarning: Liblinear failed to converge, increase the number of iterations.\n",
      "  \"the number of iterations.\", ConvergenceWarning)\n"
     ]
    },
    {
     "name": "stdout",
     "output_type": "stream",
     "text": [
      "Method: Calibrated Confidence Score w/o PK Loss\n",
      "############################################\n",
      "#                    4                     #\n",
      "############################################\n",
      "Use Encoding: 1\n",
      "CrossEntropy Loss: 0.000000 MSE Loss: 2.172026 Time elapsed: 41.417130 s\n",
      "CrossEntropy Loss: 0.000000 MSE Loss: 0.510463 Time elapsed: 0.395568 s\n"
     ]
    },
    {
     "name": "stderr",
     "output_type": "stream",
     "text": [
      "/opt/conda/lib/python3.7/site-packages/sklearn/svm/_base.py:947: ConvergenceWarning: Liblinear failed to converge, increase the number of iterations.\n",
      "  \"the number of iterations.\", ConvergenceWarning)\n"
     ]
    },
    {
     "name": "stdout",
     "output_type": "stream",
     "text": [
      "Method: Raw Feature w/o PK Loss\n",
      "Method: Raw Feature w/ PK Loss\n",
      "Method: PK Loss Only\n"
     ]
    },
    {
     "name": "stderr",
     "output_type": "stream",
     "text": [
      "/opt/conda/lib/python3.7/site-packages/sklearn/svm/_base.py:947: ConvergenceWarning: Liblinear failed to converge, increase the number of iterations.\n",
      "  \"the number of iterations.\", ConvergenceWarning)\n"
     ]
    },
    {
     "name": "stdout",
     "output_type": "stream",
     "text": [
      "0 / 58884\n",
      "2944 / 58884\n",
      "5888 / 58884\n",
      "8832 / 58884\n",
      "11776 / 58884\n",
      "14720 / 58884\n",
      "17664 / 58884\n",
      "20608 / 58884\n",
      "23552 / 58884\n",
      "26496 / 58884\n",
      "29440 / 58884\n",
      "32384 / 58884\n",
      "35328 / 58884\n",
      "38272 / 58884\n",
      "41216 / 58884\n",
      "44160 / 58884\n",
      "47104 / 58884\n",
      "50048 / 58884\n",
      "52992 / 58884\n",
      "55936 / 58884\n",
      "58880 / 58884\n"
     ]
    },
    {
     "name": "stderr",
     "output_type": "stream",
     "text": [
      "/opt/conda/lib/python3.7/site-packages/sklearn/svm/_base.py:947: ConvergenceWarning: Liblinear failed to converge, increase the number of iterations.\n",
      "  \"the number of iterations.\", ConvergenceWarning)\n"
     ]
    },
    {
     "name": "stdout",
     "output_type": "stream",
     "text": [
      "0 / 370\n",
      "18 / 370\n",
      "36 / 370\n",
      "54 / 370\n",
      "72 / 370\n",
      "90 / 370\n",
      "108 / 370\n",
      "126 / 370\n",
      "144 / 370\n",
      "162 / 370\n",
      "180 / 370\n",
      "198 / 370\n",
      "216 / 370\n",
      "234 / 370\n",
      "252 / 370\n",
      "270 / 370\n",
      "288 / 370\n",
      "306 / 370\n",
      "324 / 370\n",
      "342 / 370\n",
      "360 / 370\n",
      "Method: Nearest Neighbour w/o PK Loss\n",
      "RVAE w/ Raw Feature\n",
      "Method: MWOC w/o PK Loss\n"
     ]
    },
    {
     "name": "stderr",
     "output_type": "stream",
     "text": [
      "/opt/conda/lib/python3.7/site-packages/sklearn/svm/_base.py:947: ConvergenceWarning: Liblinear failed to converge, increase the number of iterations.\n",
      "  \"the number of iterations.\", ConvergenceWarning)\n"
     ]
    },
    {
     "name": "stdout",
     "output_type": "stream",
     "text": [
      "Method: MWOC w/ PK Loss\n"
     ]
    },
    {
     "name": "stderr",
     "output_type": "stream",
     "text": [
      "/opt/conda/lib/python3.7/site-packages/sklearn/svm/_base.py:947: ConvergenceWarning: Liblinear failed to converge, increase the number of iterations.\n",
      "  \"the number of iterations.\", ConvergenceWarning)\n"
     ]
    },
    {
     "name": "stdout",
     "output_type": "stream",
     "text": [
      "noise type: normal magnitude: 0.100000\n",
      "noise type: normal magnitude: 0.500000\n",
      "noise type: uniform magnitude: 0.100000\n",
      "noise type: uniform magnitude: 0.500000\n",
      "noise type: uniform magnitude: -0.100000\n",
      "noise type: uniform magnitude: -0.500000\n",
      "noise type: bernoulli magnitude: 0.100000\n",
      "noise type: bernoulli magnitude: 0.500000\n",
      "noise type: bernoulli magnitude: -0.100000\n",
      "noise type: bernoulli magnitude: -0.500000\n"
     ]
    },
    {
     "name": "stderr",
     "output_type": "stream",
     "text": [
      "/opt/conda/lib/python3.7/site-packages/sklearn/svm/_base.py:947: ConvergenceWarning: Liblinear failed to converge, increase the number of iterations.\n",
      "  \"the number of iterations.\", ConvergenceWarning)\n",
      "/opt/conda/lib/python3.7/site-packages/sklearn/svm/_base.py:947: ConvergenceWarning: Liblinear failed to converge, increase the number of iterations.\n",
      "  \"the number of iterations.\", ConvergenceWarning)\n",
      "/opt/conda/lib/python3.7/site-packages/sklearn/svm/_base.py:947: ConvergenceWarning: Liblinear failed to converge, increase the number of iterations.\n",
      "  \"the number of iterations.\", ConvergenceWarning)\n",
      "/opt/conda/lib/python3.7/site-packages/sklearn/svm/_base.py:947: ConvergenceWarning: Liblinear failed to converge, increase the number of iterations.\n",
      "  \"the number of iterations.\", ConvergenceWarning)\n",
      "/opt/conda/lib/python3.7/site-packages/sklearn/svm/_base.py:947: ConvergenceWarning: Liblinear failed to converge, increase the number of iterations.\n",
      "  \"the number of iterations.\", ConvergenceWarning)\n"
     ]
    },
    {
     "name": "stdout",
     "output_type": "stream",
     "text": [
      "Method: Calibrated Confidence Score w/o PK Loss\n",
      "Noise Type: adv, Model: lr, Level: medium\n",
      "############################################\n",
      "#                    0                     #\n",
      "############################################\n",
      "Use Encoding: 1\n",
      "CrossEntropy Loss: 0.000000 MSE Loss: 2.198118 Time elapsed: 41.731272 s\n",
      "CrossEntropy Loss: 0.000000 MSE Loss: 0.440787 Time elapsed: 0.440279 s\n",
      "Method: Raw Feature w/o PK Loss\n",
      "Method: Raw Feature w/ PK Loss\n",
      "Method: PK Loss Only\n"
     ]
    },
    {
     "name": "stderr",
     "output_type": "stream",
     "text": [
      "/opt/conda/lib/python3.7/site-packages/sklearn/svm/_base.py:947: ConvergenceWarning: Liblinear failed to converge, increase the number of iterations.\n",
      "  \"the number of iterations.\", ConvergenceWarning)\n"
     ]
    },
    {
     "name": "stdout",
     "output_type": "stream",
     "text": [
      "0 / 58700\n",
      "2935 / 58700\n",
      "5870 / 58700\n",
      "8805 / 58700\n",
      "11740 / 58700\n",
      "14675 / 58700\n",
      "17610 / 58700\n",
      "20545 / 58700\n",
      "23480 / 58700\n",
      "26415 / 58700\n",
      "29350 / 58700\n",
      "32285 / 58700\n",
      "35220 / 58700\n",
      "38155 / 58700\n",
      "41090 / 58700\n",
      "44025 / 58700\n",
      "46960 / 58700\n",
      "49895 / 58700\n",
      "52830 / 58700\n",
      "55765 / 58700\n"
     ]
    },
    {
     "name": "stderr",
     "output_type": "stream",
     "text": [
      "/opt/conda/lib/python3.7/site-packages/sklearn/svm/_base.py:947: ConvergenceWarning: Liblinear failed to converge, increase the number of iterations.\n",
      "  \"the number of iterations.\", ConvergenceWarning)\n"
     ]
    },
    {
     "name": "stdout",
     "output_type": "stream",
     "text": [
      "0 / 440\n",
      "22 / 440\n",
      "44 / 440\n",
      "66 / 440\n",
      "88 / 440\n",
      "110 / 440\n",
      "132 / 440\n",
      "154 / 440\n",
      "176 / 440\n",
      "198 / 440\n",
      "220 / 440\n",
      "242 / 440\n",
      "264 / 440\n",
      "286 / 440\n",
      "308 / 440\n",
      "330 / 440\n",
      "352 / 440\n",
      "374 / 440\n",
      "396 / 440\n",
      "418 / 440\n",
      "Method: Nearest Neighbour w/o PK Loss\n",
      "RVAE w/ Raw Feature\n",
      "Method: MWOC w/o PK Loss\n",
      "Method: MWOC w/ PK Loss\n"
     ]
    },
    {
     "name": "stderr",
     "output_type": "stream",
     "text": [
      "/opt/conda/lib/python3.7/site-packages/sklearn/linear_model/_logistic.py:940: ConvergenceWarning: lbfgs failed to converge (status=1):\n",
      "STOP: TOTAL NO. of ITERATIONS REACHED LIMIT.\n",
      "\n",
      "Increase the number of iterations (max_iter) or scale the data as shown in:\n",
      "    https://scikit-learn.org/stable/modules/preprocessing.html\n",
      "Please also refer to the documentation for alternative solver options:\n",
      "    https://scikit-learn.org/stable/modules/linear_model.html#logistic-regression\n",
      "  extra_warning_msg=_LOGISTIC_SOLVER_CONVERGENCE_MSG)\n"
     ]
    },
    {
     "name": "stdout",
     "output_type": "stream",
     "text": [
      "noise type: normal magnitude: 0.100000\n",
      "noise type: normal magnitude: 0.500000\n",
      "noise type: uniform magnitude: 0.100000\n",
      "noise type: uniform magnitude: 0.500000\n",
      "noise type: uniform magnitude: -0.100000\n",
      "noise type: uniform magnitude: -0.500000\n",
      "noise type: bernoulli magnitude: 0.100000\n",
      "noise type: bernoulli magnitude: 0.500000\n",
      "noise type: bernoulli magnitude: -0.100000\n",
      "noise type: bernoulli magnitude: -0.500000\n",
      "Method: Calibrated Confidence Score w/o PK Loss\n",
      "############################################\n",
      "#                    1                     #\n",
      "############################################\n",
      "Use Encoding: 1\n",
      "CrossEntropy Loss: 0.000000 MSE Loss: 2.241079 Time elapsed: 41.191014 s\n",
      "CrossEntropy Loss: 0.000000 MSE Loss: 0.449286 Time elapsed: 0.426472 s\n",
      "Method: Raw Feature w/o PK Loss\n",
      "Method: Raw Feature w/ PK Loss\n",
      "Method: PK Loss Only\n"
     ]
    },
    {
     "name": "stderr",
     "output_type": "stream",
     "text": [
      "/opt/conda/lib/python3.7/site-packages/sklearn/svm/_base.py:947: ConvergenceWarning: Liblinear failed to converge, increase the number of iterations.\n",
      "  \"the number of iterations.\", ConvergenceWarning)\n"
     ]
    },
    {
     "name": "stdout",
     "output_type": "stream",
     "text": [
      "0 / 59040\n",
      "2952 / 59040\n",
      "5904 / 59040\n",
      "8856 / 59040\n",
      "11808 / 59040\n",
      "14760 / 59040\n",
      "17712 / 59040\n",
      "20664 / 59040\n",
      "23616 / 59040\n",
      "26568 / 59040\n",
      "29520 / 59040\n",
      "32472 / 59040\n",
      "35424 / 59040\n",
      "38376 / 59040\n",
      "41328 / 59040\n",
      "44280 / 59040\n",
      "47232 / 59040\n",
      "50184 / 59040\n",
      "53136 / 59040\n",
      "56088 / 59040\n"
     ]
    },
    {
     "name": "stderr",
     "output_type": "stream",
     "text": [
      "/opt/conda/lib/python3.7/site-packages/sklearn/svm/_base.py:947: ConvergenceWarning: Liblinear failed to converge, increase the number of iterations.\n",
      "  \"the number of iterations.\", ConvergenceWarning)\n"
     ]
    },
    {
     "name": "stdout",
     "output_type": "stream",
     "text": [
      "0 / 416\n",
      "20 / 416\n",
      "40 / 416\n",
      "60 / 416\n",
      "80 / 416\n",
      "100 / 416\n",
      "120 / 416\n",
      "140 / 416\n",
      "160 / 416\n",
      "180 / 416\n",
      "200 / 416\n",
      "220 / 416\n",
      "240 / 416\n",
      "260 / 416\n",
      "280 / 416\n",
      "300 / 416\n",
      "320 / 416\n",
      "340 / 416\n",
      "360 / 416\n",
      "380 / 416\n",
      "400 / 416\n",
      "Method: Nearest Neighbour w/o PK Loss\n",
      "RVAE w/ Raw Feature\n",
      "Method: MWOC w/o PK Loss\n",
      "Method: MWOC w/ PK Loss\n"
     ]
    },
    {
     "name": "stderr",
     "output_type": "stream",
     "text": [
      "/opt/conda/lib/python3.7/site-packages/sklearn/linear_model/_logistic.py:940: ConvergenceWarning: lbfgs failed to converge (status=1):\n",
      "STOP: TOTAL NO. of ITERATIONS REACHED LIMIT.\n",
      "\n",
      "Increase the number of iterations (max_iter) or scale the data as shown in:\n",
      "    https://scikit-learn.org/stable/modules/preprocessing.html\n",
      "Please also refer to the documentation for alternative solver options:\n",
      "    https://scikit-learn.org/stable/modules/linear_model.html#logistic-regression\n",
      "  extra_warning_msg=_LOGISTIC_SOLVER_CONVERGENCE_MSG)\n"
     ]
    },
    {
     "name": "stdout",
     "output_type": "stream",
     "text": [
      "noise type: normal magnitude: 0.100000\n",
      "noise type: normal magnitude: 0.500000\n",
      "noise type: uniform magnitude: 0.100000\n",
      "noise type: uniform magnitude: 0.500000\n",
      "noise type: uniform magnitude: -0.100000\n",
      "noise type: uniform magnitude: -0.500000\n",
      "noise type: bernoulli magnitude: 0.100000\n",
      "noise type: bernoulli magnitude: 0.500000\n",
      "noise type: bernoulli magnitude: -0.100000\n",
      "noise type: bernoulli magnitude: -0.500000\n",
      "Method: Calibrated Confidence Score w/o PK Loss\n",
      "############################################\n",
      "#                    2                     #\n",
      "############################################\n",
      "Use Encoding: 1\n",
      "CrossEntropy Loss: 0.000000 MSE Loss: 2.188617 Time elapsed: 16.147048 s\n",
      "CrossEntropy Loss: 0.000000 MSE Loss: 0.487718 Time elapsed: 0.178005 s\n",
      "Method: Raw Feature w/o PK Loss\n",
      "Method: Raw Feature w/ PK Loss\n",
      "Method: PK Loss Only\n"
     ]
    },
    {
     "name": "stderr",
     "output_type": "stream",
     "text": [
      "/opt/conda/lib/python3.7/site-packages/sklearn/svm/_base.py:947: ConvergenceWarning: Liblinear failed to converge, increase the number of iterations.\n",
      "  \"the number of iterations.\", ConvergenceWarning)\n"
     ]
    },
    {
     "name": "stdout",
     "output_type": "stream",
     "text": [
      "0 / 58940\n",
      "2947 / 58940\n",
      "5894 / 58940\n",
      "8841 / 58940\n",
      "11788 / 58940\n",
      "14735 / 58940\n",
      "17682 / 58940\n",
      "20629 / 58940\n",
      "23576 / 58940\n",
      "26523 / 58940\n",
      "29470 / 58940\n",
      "32417 / 58940\n",
      "35364 / 58940\n",
      "38311 / 58940\n",
      "41258 / 58940\n",
      "44205 / 58940\n",
      "47152 / 58940\n",
      "50099 / 58940\n",
      "53046 / 58940\n",
      "55993 / 58940\n"
     ]
    },
    {
     "name": "stderr",
     "output_type": "stream",
     "text": [
      "/opt/conda/lib/python3.7/site-packages/sklearn/svm/_base.py:947: ConvergenceWarning: Liblinear failed to converge, increase the number of iterations.\n",
      "  \"the number of iterations.\", ConvergenceWarning)\n"
     ]
    },
    {
     "name": "stdout",
     "output_type": "stream",
     "text": [
      "0 / 398\n",
      "19 / 398\n",
      "38 / 398\n",
      "57 / 398\n",
      "76 / 398\n",
      "95 / 398\n",
      "114 / 398\n",
      "133 / 398\n",
      "152 / 398\n",
      "171 / 398\n",
      "190 / 398\n",
      "209 / 398\n",
      "228 / 398\n",
      "247 / 398\n",
      "266 / 398\n",
      "285 / 398\n",
      "304 / 398\n",
      "323 / 398\n",
      "342 / 398\n",
      "361 / 398\n",
      "380 / 398\n",
      "Method: Nearest Neighbour w/o PK Loss\n",
      "RVAE w/ Raw Feature\n",
      "Method: MWOC w/o PK Loss\n",
      "Method: MWOC w/ PK Loss\n"
     ]
    },
    {
     "name": "stderr",
     "output_type": "stream",
     "text": [
      "/opt/conda/lib/python3.7/site-packages/sklearn/linear_model/_logistic.py:940: ConvergenceWarning: lbfgs failed to converge (status=1):\n",
      "STOP: TOTAL NO. of ITERATIONS REACHED LIMIT.\n",
      "\n",
      "Increase the number of iterations (max_iter) or scale the data as shown in:\n",
      "    https://scikit-learn.org/stable/modules/preprocessing.html\n",
      "Please also refer to the documentation for alternative solver options:\n",
      "    https://scikit-learn.org/stable/modules/linear_model.html#logistic-regression\n",
      "  extra_warning_msg=_LOGISTIC_SOLVER_CONVERGENCE_MSG)\n"
     ]
    },
    {
     "name": "stdout",
     "output_type": "stream",
     "text": [
      "noise type: normal magnitude: 0.100000\n",
      "noise type: normal magnitude: 0.500000\n",
      "noise type: uniform magnitude: 0.100000\n",
      "noise type: uniform magnitude: 0.500000\n",
      "noise type: uniform magnitude: -0.100000\n",
      "noise type: uniform magnitude: -0.500000\n",
      "noise type: bernoulli magnitude: 0.100000\n",
      "noise type: bernoulli magnitude: 0.500000\n",
      "noise type: bernoulli magnitude: -0.100000\n",
      "noise type: bernoulli magnitude: -0.500000\n"
     ]
    },
    {
     "name": "stderr",
     "output_type": "stream",
     "text": [
      "../picket/filter/filtersTest.py:464: RuntimeWarning: overflow encountered in exp\n",
      "  L = 1./(1+np.exp(-y*Z/T[0]))\n",
      "../picket/filter/filtersTest.py:465: RuntimeWarning: divide by zero encountered in log\n",
      "  NLL_all = -np.log(L)\n",
      "/opt/conda/lib/python3.7/site-packages/scipy/optimize/optimize.py:697: RuntimeWarning: invalid value encountered in double_scalars\n",
      "  df = (f(*((xk + d,) + args)) - f0) / d[k]\n"
     ]
    },
    {
     "name": "stdout",
     "output_type": "stream",
     "text": [
      "Method: Calibrated Confidence Score w/o PK Loss\n",
      "############################################\n",
      "#                    3                     #\n",
      "############################################\n",
      "Use Encoding: 1\n",
      "CrossEntropy Loss: 0.000000 MSE Loss: 2.354459 Time elapsed: 33.169586 s\n",
      "CrossEntropy Loss: 0.000000 MSE Loss: 0.515536 Time elapsed: 0.170573 s\n",
      "Method: Raw Feature w/o PK Loss\n",
      "Method: Raw Feature w/ PK Loss\n",
      "Method: PK Loss Only\n"
     ]
    },
    {
     "name": "stderr",
     "output_type": "stream",
     "text": [
      "/opt/conda/lib/python3.7/site-packages/sklearn/svm/_base.py:947: ConvergenceWarning: Liblinear failed to converge, increase the number of iterations.\n",
      "  \"the number of iterations.\", ConvergenceWarning)\n"
     ]
    },
    {
     "name": "stdout",
     "output_type": "stream",
     "text": [
      "0 / 59140\n",
      "2957 / 59140\n",
      "5914 / 59140\n",
      "8871 / 59140\n",
      "11828 / 59140\n",
      "14785 / 59140\n",
      "17742 / 59140\n",
      "20699 / 59140\n",
      "23656 / 59140\n",
      "26613 / 59140\n",
      "29570 / 59140\n",
      "32527 / 59140\n",
      "35484 / 59140\n",
      "38441 / 59140\n",
      "41398 / 59140\n",
      "44355 / 59140\n",
      "47312 / 59140\n",
      "50269 / 59140\n",
      "53226 / 59140\n",
      "56183 / 59140\n"
     ]
    },
    {
     "name": "stderr",
     "output_type": "stream",
     "text": [
      "/opt/conda/lib/python3.7/site-packages/sklearn/svm/_base.py:947: ConvergenceWarning: Liblinear failed to converge, increase the number of iterations.\n",
      "  \"the number of iterations.\", ConvergenceWarning)\n"
     ]
    },
    {
     "name": "stdout",
     "output_type": "stream",
     "text": [
      "0 / 432\n",
      "21 / 432\n",
      "42 / 432\n",
      "63 / 432\n",
      "84 / 432\n",
      "105 / 432\n",
      "126 / 432\n",
      "147 / 432\n",
      "168 / 432\n",
      "189 / 432\n",
      "210 / 432\n",
      "231 / 432\n",
      "252 / 432\n",
      "273 / 432\n",
      "294 / 432\n",
      "315 / 432\n",
      "336 / 432\n",
      "357 / 432\n",
      "378 / 432\n",
      "399 / 432\n",
      "420 / 432\n",
      "Method: Nearest Neighbour w/o PK Loss\n",
      "RVAE w/ Raw Feature\n",
      "Method: MWOC w/o PK Loss\n",
      "Method: MWOC w/ PK Loss\n"
     ]
    },
    {
     "name": "stderr",
     "output_type": "stream",
     "text": [
      "/opt/conda/lib/python3.7/site-packages/sklearn/linear_model/_logistic.py:940: ConvergenceWarning: lbfgs failed to converge (status=1):\n",
      "STOP: TOTAL NO. of ITERATIONS REACHED LIMIT.\n",
      "\n",
      "Increase the number of iterations (max_iter) or scale the data as shown in:\n",
      "    https://scikit-learn.org/stable/modules/preprocessing.html\n",
      "Please also refer to the documentation for alternative solver options:\n",
      "    https://scikit-learn.org/stable/modules/linear_model.html#logistic-regression\n",
      "  extra_warning_msg=_LOGISTIC_SOLVER_CONVERGENCE_MSG)\n"
     ]
    },
    {
     "name": "stdout",
     "output_type": "stream",
     "text": [
      "noise type: normal magnitude: 0.100000\n",
      "noise type: normal magnitude: 0.500000\n",
      "noise type: uniform magnitude: 0.100000\n",
      "noise type: uniform magnitude: 0.500000\n",
      "noise type: uniform magnitude: -0.100000\n",
      "noise type: uniform magnitude: -0.500000\n",
      "noise type: bernoulli magnitude: 0.100000\n",
      "noise type: bernoulli magnitude: 0.500000\n",
      "noise type: bernoulli magnitude: -0.100000\n",
      "noise type: bernoulli magnitude: -0.500000\n",
      "Method: Calibrated Confidence Score w/o PK Loss\n",
      "############################################\n",
      "#                    4                     #\n",
      "############################################\n",
      "Use Encoding: 1\n",
      "CrossEntropy Loss: 0.000000 MSE Loss: 2.142487 Time elapsed: 40.986759 s\n",
      "CrossEntropy Loss: 0.000000 MSE Loss: 0.399084 Time elapsed: 0.414554 s\n",
      "Method: Raw Feature w/o PK Loss\n",
      "Method: Raw Feature w/ PK Loss\n",
      "Method: PK Loss Only\n"
     ]
    },
    {
     "name": "stderr",
     "output_type": "stream",
     "text": [
      "/opt/conda/lib/python3.7/site-packages/sklearn/svm/_base.py:947: ConvergenceWarning: Liblinear failed to converge, increase the number of iterations.\n",
      "  \"the number of iterations.\", ConvergenceWarning)\n"
     ]
    },
    {
     "name": "stdout",
     "output_type": "stream",
     "text": [
      "0 / 58900\n",
      "2945 / 58900\n",
      "5890 / 58900\n",
      "8835 / 58900\n",
      "11780 / 58900\n",
      "14725 / 58900\n",
      "17670 / 58900\n",
      "20615 / 58900\n",
      "23560 / 58900\n",
      "26505 / 58900\n",
      "29450 / 58900\n",
      "32395 / 58900\n",
      "35340 / 58900\n",
      "38285 / 58900\n",
      "41230 / 58900\n",
      "44175 / 58900\n",
      "47120 / 58900\n",
      "50065 / 58900\n",
      "53010 / 58900\n",
      "55955 / 58900\n"
     ]
    },
    {
     "name": "stderr",
     "output_type": "stream",
     "text": [
      "/opt/conda/lib/python3.7/site-packages/sklearn/svm/_base.py:947: ConvergenceWarning: Liblinear failed to converge, increase the number of iterations.\n",
      "  \"the number of iterations.\", ConvergenceWarning)\n"
     ]
    },
    {
     "name": "stdout",
     "output_type": "stream",
     "text": [
      "0 / 366\n",
      "18 / 366\n",
      "36 / 366\n",
      "54 / 366\n",
      "72 / 366\n",
      "90 / 366\n",
      "108 / 366\n",
      "126 / 366\n",
      "144 / 366\n",
      "162 / 366\n",
      "180 / 366\n",
      "198 / 366\n",
      "216 / 366\n",
      "234 / 366\n",
      "252 / 366\n",
      "270 / 366\n",
      "288 / 366\n",
      "306 / 366\n",
      "324 / 366\n",
      "342 / 366\n",
      "360 / 366\n",
      "Method: Nearest Neighbour w/o PK Loss\n",
      "RVAE w/ Raw Feature\n",
      "Method: MWOC w/o PK Loss\n",
      "Method: MWOC w/ PK Loss\n"
     ]
    },
    {
     "name": "stderr",
     "output_type": "stream",
     "text": [
      "/opt/conda/lib/python3.7/site-packages/sklearn/linear_model/_logistic.py:940: ConvergenceWarning: lbfgs failed to converge (status=1):\n",
      "STOP: TOTAL NO. of ITERATIONS REACHED LIMIT.\n",
      "\n",
      "Increase the number of iterations (max_iter) or scale the data as shown in:\n",
      "    https://scikit-learn.org/stable/modules/preprocessing.html\n",
      "Please also refer to the documentation for alternative solver options:\n",
      "    https://scikit-learn.org/stable/modules/linear_model.html#logistic-regression\n",
      "  extra_warning_msg=_LOGISTIC_SOLVER_CONVERGENCE_MSG)\n"
     ]
    },
    {
     "name": "stdout",
     "output_type": "stream",
     "text": [
      "noise type: normal magnitude: 0.100000\n",
      "noise type: normal magnitude: 0.500000\n",
      "noise type: uniform magnitude: 0.100000\n",
      "noise type: uniform magnitude: 0.500000\n",
      "noise type: uniform magnitude: -0.100000\n",
      "noise type: uniform magnitude: -0.500000\n",
      "noise type: bernoulli magnitude: 0.100000\n",
      "noise type: bernoulli magnitude: 0.500000\n",
      "noise type: bernoulli magnitude: -0.100000\n",
      "noise type: bernoulli magnitude: -0.500000\n",
      "Method: Calibrated Confidence Score w/o PK Loss\n"
     ]
    }
   ],
   "source": [
    "evaluateTestTime(dataset, level='medium', runAdv=runAdv, mix_artificial=True)"
   ]
  },
  {
   "cell_type": "code",
   "execution_count": 7,
   "metadata": {},
   "outputs": [
    {
     "name": "stdout",
     "output_type": "stream",
     "text": [
      "F1 Scores of Victim Sample Detection\n",
      "---------------------------------------------\n",
      "Noise Type: random\n",
      "Downstream Model: lr\n",
      "RF: 0.7815 RVAE: 0.7879 RVAE+: 0.8241 CCS: 0.6667 KNN: 0.6683 TOAO: 0.7106 MWOC: 0.7245 Picket: 0.8168  \n",
      "& 0.7815 & 0.7879 & 0.8241 & 0.6667 & 0.6683 & 0.7106 & 0.7245 & 0.8168  \n",
      "Downstream Model: svm\n",
      "RF: 0.7813 RVAE: 0.7899 RVAE+: 0.8247 CCS: 0.6667 KNN: 0.6790 TOAO: 0.7020 MWOC: 0.7579 Picket: 0.8128  \n",
      "& 0.7813 & 0.7899 & 0.8247 & 0.6667 & 0.6790 & 0.7020 & 0.7579 & 0.8128  \n",
      "Downstream Model: nn\n",
      "RF: 0.7090 RVAE: 0.7437 RVAE+: 0.7827 CCS: 0.5849 KNN: 0.6653 TOAO: 0.5014 MWOC: 0.6915 Picket: 0.7628  \n",
      "& 0.7090 & 0.7437 & 0.7827 & 0.5849 & 0.6653 & 0.5014 & 0.6915 & 0.7628  \n",
      "---------------------------------------------\n",
      "Noise Type: system\n",
      "Downstream Model: lr\n",
      "RF: 0.6812 RVAE: 0.4918 RVAE+: 0.6659 CCS: 0.6667 KNN: 0.6456 TOAO: 0.4226 MWOC: 0.7980 Picket: 0.6998  \n",
      "& 0.6812 & 0.4918 & 0.6659 & 0.6667 & 0.6456 & 0.4226 & 0.7980 & 0.6998  \n",
      "Downstream Model: svm\n",
      "RF: 0.6735 RVAE: 0.5050 RVAE+: 0.6604 CCS: 0.6667 KNN: 0.6397 TOAO: 0.4736 MWOC: 0.7837 Picket: 0.6936  \n",
      "& 0.6735 & 0.5050 & 0.6604 & 0.6667 & 0.6397 & 0.4736 & 0.7837 & 0.6936  \n",
      "Downstream Model: nn\n",
      "RF: 0.6753 RVAE: 0.6016 RVAE+: 0.5625 CCS: 0.6876 KNN: 0.6651 TOAO: 0.4839 MWOC: 0.7307 Picket: 0.6051  \n",
      "& 0.6753 & 0.6016 & 0.5625 & 0.6876 & 0.6651 & 0.4839 & 0.7307 & 0.6051  \n",
      "---------------------------------------------\n",
      "Noise Type: adv\n",
      "Downstream Model: lr\n",
      "RF: 0.7921 RVAE: 0.6821 RVAE+: 0.7960 CCS: 0.8134 KNN: 0.6645 TOAO: 0.6003 MWOC: 0.8278 Picket: 0.8169  \n",
      "& 0.7921 & 0.6821 & 0.7960 & 0.8134 & 0.6645 & 0.6003 & 0.8278 & 0.8169  \n",
      "Downstream Model: svm\n",
      "RF: 0.7961 RVAE: 0.6758 RVAE+: 0.8024 CCS: 0.8201 KNN: 0.6670 TOAO: 0.6227 MWOC: 0.8124 Picket: 0.8333  \n",
      "& 0.7961 & 0.6758 & 0.8024 & 0.8201 & 0.6670 & 0.6227 & 0.8124 & 0.8333  \n",
      "Downstream Model: nn\n",
      "RF: 0.7456 RVAE: 0.6970 RVAE+: 0.7343 CCS: 0.6811 KNN: 0.6651 TOAO: 0.6716 MWOC: 0.3832 Picket: 0.7529  \n",
      "& 0.7456 & 0.6970 & 0.7343 & 0.6811 & 0.6651 & 0.6716 & 0.3832 & 0.7529  \n"
     ]
    }
   ],
   "source": [
    "printResTestTime(dataset, level='medium')"
   ]
  },
  {
   "cell_type": "markdown",
   "metadata": {},
   "source": [
    "## Exact"
   ]
  },
  {
   "cell_type": "code",
   "execution_count": 8,
   "metadata": {},
   "outputs": [
    {
     "name": "stdout",
     "output_type": "stream",
     "text": [
      "Noise Type: random, Model: nn, Level: medium\n",
      "############################################\n",
      "#                    0                     #\n",
      "############################################\n",
      "Use Encoding: 1\n",
      "CrossEntropy Loss: 0.000000 MSE Loss: 3.552904 Time elapsed: 4.268673 s\n",
      "CrossEntropy Loss: 0.000000 MSE Loss: 3.980535 Time elapsed: 0.940416 s\n",
      "Method: Raw Feature w/o PK Loss\n",
      "Method: Raw Feature w/ PK Loss\n",
      "Method: PK Loss Only\n"
     ]
    },
    {
     "name": "stderr",
     "output_type": "stream",
     "text": [
      "/opt/conda/lib/python3.7/site-packages/sklearn/svm/_base.py:947: ConvergenceWarning: Liblinear failed to converge, increase the number of iterations.\n",
      "  \"the number of iterations.\", ConvergenceWarning)\n"
     ]
    },
    {
     "name": "stdout",
     "output_type": "stream",
     "text": [
      "0 / 15316\n",
      "765 / 15316\n",
      "1530 / 15316\n",
      "2295 / 15316\n",
      "3060 / 15316\n",
      "3825 / 15316\n",
      "4590 / 15316\n",
      "5355 / 15316\n",
      "6120 / 15316\n",
      "6885 / 15316\n",
      "7650 / 15316\n",
      "8415 / 15316\n",
      "9180 / 15316\n",
      "9945 / 15316\n",
      "10710 / 15316\n",
      "11475 / 15316\n",
      "12240 / 15316\n",
      "13005 / 15316\n",
      "13770 / 15316\n",
      "14535 / 15316\n",
      "15300 / 15316\n"
     ]
    },
    {
     "name": "stderr",
     "output_type": "stream",
     "text": [
      "/opt/conda/lib/python3.7/site-packages/sklearn/svm/_base.py:947: ConvergenceWarning: Liblinear failed to converge, increase the number of iterations.\n",
      "  \"the number of iterations.\", ConvergenceWarning)\n"
     ]
    },
    {
     "name": "stdout",
     "output_type": "stream",
     "text": [
      "0 / 3104\n",
      "155 / 3104\n",
      "310 / 3104\n",
      "465 / 3104\n",
      "620 / 3104\n",
      "775 / 3104\n",
      "930 / 3104\n",
      "1085 / 3104\n",
      "1240 / 3104\n",
      "1395 / 3104\n",
      "1550 / 3104\n",
      "1705 / 3104\n",
      "1860 / 3104\n",
      "2015 / 3104\n",
      "2170 / 3104\n",
      "2325 / 3104\n",
      "2480 / 3104\n",
      "2635 / 3104\n",
      "2790 / 3104\n",
      "2945 / 3104\n",
      "3100 / 3104\n",
      "Method: Nearest Neighbour w/o PK Loss\n",
      "RVAE w/ Raw Feature\n",
      "Method: MWOC w/o PK Loss\n",
      "Method: MWOC w/ PK Loss\n",
      "noise type: normal magnitude: 0.100000\n",
      "noise type: normal magnitude: 0.500000\n",
      "noise type: uniform magnitude: 0.100000\n",
      "noise type: uniform magnitude: 0.500000\n",
      "noise type: uniform magnitude: -0.100000\n",
      "noise type: uniform magnitude: -0.500000\n",
      "noise type: bernoulli magnitude: 0.100000\n",
      "noise type: bernoulli magnitude: 0.500000\n",
      "noise type: bernoulli magnitude: -0.100000\n",
      "noise type: bernoulli magnitude: -0.500000\n",
      "Method: Calibrated Confidence Score w/o PK Loss\n",
      "############################################\n",
      "#                    1                     #\n",
      "############################################\n",
      "Use Encoding: 1\n",
      "CrossEntropy Loss: 0.000000 MSE Loss: 3.630508 Time elapsed: 4.339160 s\n",
      "CrossEntropy Loss: 0.000000 MSE Loss: 4.009732 Time elapsed: 0.963324 s\n",
      "Method: Raw Feature w/o PK Loss\n",
      "Method: Raw Feature w/ PK Loss\n",
      "Method: PK Loss Only\n"
     ]
    },
    {
     "name": "stderr",
     "output_type": "stream",
     "text": [
      "/opt/conda/lib/python3.7/site-packages/sklearn/svm/_base.py:947: ConvergenceWarning: Liblinear failed to converge, increase the number of iterations.\n",
      "  \"the number of iterations.\", ConvergenceWarning)\n"
     ]
    },
    {
     "name": "stdout",
     "output_type": "stream",
     "text": [
      "0 / 15136\n",
      "756 / 15136\n",
      "1512 / 15136\n",
      "2268 / 15136\n",
      "3024 / 15136\n",
      "3780 / 15136\n",
      "4536 / 15136\n",
      "5292 / 15136\n",
      "6048 / 15136\n",
      "6804 / 15136\n",
      "7560 / 15136\n",
      "8316 / 15136\n",
      "9072 / 15136\n",
      "9828 / 15136\n",
      "10584 / 15136\n",
      "11340 / 15136\n",
      "12096 / 15136\n",
      "12852 / 15136\n",
      "13608 / 15136\n",
      "14364 / 15136\n",
      "15120 / 15136\n"
     ]
    },
    {
     "name": "stderr",
     "output_type": "stream",
     "text": [
      "/opt/conda/lib/python3.7/site-packages/sklearn/svm/_base.py:947: ConvergenceWarning: Liblinear failed to converge, increase the number of iterations.\n",
      "  \"the number of iterations.\", ConvergenceWarning)\n"
     ]
    },
    {
     "name": "stdout",
     "output_type": "stream",
     "text": [
      "0 / 3076\n",
      "153 / 3076\n",
      "306 / 3076\n",
      "459 / 3076\n",
      "612 / 3076\n",
      "765 / 3076\n",
      "918 / 3076\n",
      "1071 / 3076\n",
      "1224 / 3076\n",
      "1377 / 3076\n",
      "1530 / 3076\n",
      "1683 / 3076\n",
      "1836 / 3076\n",
      "1989 / 3076\n",
      "2142 / 3076\n",
      "2295 / 3076\n",
      "2448 / 3076\n",
      "2601 / 3076\n",
      "2754 / 3076\n",
      "2907 / 3076\n",
      "3060 / 3076\n",
      "Method: Nearest Neighbour w/o PK Loss\n",
      "RVAE w/ Raw Feature\n",
      "Method: MWOC w/o PK Loss\n",
      "Method: MWOC w/ PK Loss\n",
      "noise type: normal magnitude: 0.100000\n",
      "noise type: normal magnitude: 0.500000\n",
      "noise type: uniform magnitude: 0.100000\n",
      "noise type: uniform magnitude: 0.500000\n",
      "noise type: uniform magnitude: -0.100000\n",
      "noise type: uniform magnitude: -0.500000\n",
      "noise type: bernoulli magnitude: 0.100000\n",
      "noise type: bernoulli magnitude: 0.500000\n",
      "noise type: bernoulli magnitude: -0.100000\n",
      "noise type: bernoulli magnitude: -0.500000\n",
      "Method: Calibrated Confidence Score w/o PK Loss\n",
      "############################################\n",
      "#                    2                     #\n",
      "############################################\n",
      "Use Encoding: 1\n",
      "CrossEntropy Loss: 0.000000 MSE Loss: 3.397494 Time elapsed: 4.122732 s\n",
      "CrossEntropy Loss: 0.000000 MSE Loss: 3.496520 Time elapsed: 0.818427 s\n",
      "Method: Raw Feature w/o PK Loss\n",
      "Method: Raw Feature w/ PK Loss\n",
      "Method: PK Loss Only\n"
     ]
    },
    {
     "name": "stderr",
     "output_type": "stream",
     "text": [
      "/opt/conda/lib/python3.7/site-packages/sklearn/svm/_base.py:947: ConvergenceWarning: Liblinear failed to converge, increase the number of iterations.\n",
      "  \"the number of iterations.\", ConvergenceWarning)\n"
     ]
    },
    {
     "name": "stdout",
     "output_type": "stream",
     "text": [
      "0 / 14968\n",
      "748 / 14968\n",
      "1496 / 14968\n",
      "2244 / 14968\n",
      "2992 / 14968\n",
      "3740 / 14968\n",
      "4488 / 14968\n",
      "5236 / 14968\n",
      "5984 / 14968\n",
      "6732 / 14968\n",
      "7480 / 14968\n",
      "8228 / 14968\n",
      "8976 / 14968\n",
      "9724 / 14968\n",
      "10472 / 14968\n",
      "11220 / 14968\n",
      "11968 / 14968\n",
      "12716 / 14968\n",
      "13464 / 14968\n",
      "14212 / 14968\n",
      "14960 / 14968\n"
     ]
    },
    {
     "name": "stderr",
     "output_type": "stream",
     "text": [
      "/opt/conda/lib/python3.7/site-packages/sklearn/svm/_base.py:947: ConvergenceWarning: Liblinear failed to converge, increase the number of iterations.\n",
      "  \"the number of iterations.\", ConvergenceWarning)\n"
     ]
    },
    {
     "name": "stdout",
     "output_type": "stream",
     "text": [
      "0 / 3000\n",
      "150 / 3000\n",
      "300 / 3000\n",
      "450 / 3000\n",
      "600 / 3000\n",
      "750 / 3000\n",
      "900 / 3000\n",
      "1050 / 3000\n",
      "1200 / 3000\n",
      "1350 / 3000\n",
      "1500 / 3000\n",
      "1650 / 3000\n",
      "1800 / 3000\n",
      "1950 / 3000\n",
      "2100 / 3000\n",
      "2250 / 3000\n",
      "2400 / 3000\n",
      "2550 / 3000\n",
      "2700 / 3000\n",
      "2850 / 3000\n",
      "Method: Nearest Neighbour w/o PK Loss\n",
      "RVAE w/ Raw Feature\n",
      "Method: MWOC w/o PK Loss\n",
      "Method: MWOC w/ PK Loss\n",
      "noise type: normal magnitude: 0.100000\n",
      "noise type: normal magnitude: 0.500000\n",
      "noise type: uniform magnitude: 0.100000\n",
      "noise type: uniform magnitude: 0.500000\n",
      "noise type: uniform magnitude: -0.100000\n",
      "noise type: uniform magnitude: -0.500000\n",
      "noise type: bernoulli magnitude: 0.100000\n",
      "noise type: bernoulli magnitude: 0.500000\n",
      "noise type: bernoulli magnitude: -0.100000\n",
      "noise type: bernoulli magnitude: -0.500000\n",
      "Method: Calibrated Confidence Score w/o PK Loss\n",
      "############################################\n",
      "#                    3                     #\n",
      "############################################\n",
      "Use Encoding: 1\n",
      "CrossEntropy Loss: 0.000000 MSE Loss: 3.660306 Time elapsed: 4.332187 s\n",
      "CrossEntropy Loss: 0.000000 MSE Loss: 4.160967 Time elapsed: 0.987969 s\n",
      "Method: Raw Feature w/o PK Loss\n",
      "Method: Raw Feature w/ PK Loss\n",
      "Method: PK Loss Only\n"
     ]
    },
    {
     "name": "stderr",
     "output_type": "stream",
     "text": [
      "/opt/conda/lib/python3.7/site-packages/sklearn/svm/_base.py:947: ConvergenceWarning: Liblinear failed to converge, increase the number of iterations.\n",
      "  \"the number of iterations.\", ConvergenceWarning)\n"
     ]
    },
    {
     "name": "stdout",
     "output_type": "stream",
     "text": [
      "0 / 15424\n",
      "771 / 15424\n",
      "1542 / 15424\n",
      "2313 / 15424\n",
      "3084 / 15424\n",
      "3855 / 15424\n",
      "4626 / 15424\n",
      "5397 / 15424\n",
      "6168 / 15424\n",
      "6939 / 15424\n",
      "7710 / 15424\n",
      "8481 / 15424\n",
      "9252 / 15424\n",
      "10023 / 15424\n",
      "10794 / 15424\n",
      "11565 / 15424\n",
      "12336 / 15424\n",
      "13107 / 15424\n",
      "13878 / 15424\n",
      "14649 / 15424\n",
      "15420 / 15424\n"
     ]
    },
    {
     "name": "stderr",
     "output_type": "stream",
     "text": [
      "/opt/conda/lib/python3.7/site-packages/sklearn/svm/_base.py:947: ConvergenceWarning: Liblinear failed to converge, increase the number of iterations.\n",
      "  \"the number of iterations.\", ConvergenceWarning)\n"
     ]
    },
    {
     "name": "stdout",
     "output_type": "stream",
     "text": [
      "0 / 3096\n",
      "154 / 3096\n",
      "308 / 3096\n",
      "462 / 3096\n",
      "616 / 3096\n",
      "770 / 3096\n",
      "924 / 3096\n",
      "1078 / 3096\n",
      "1232 / 3096\n",
      "1386 / 3096\n",
      "1540 / 3096\n",
      "1694 / 3096\n",
      "1848 / 3096\n",
      "2002 / 3096\n",
      "2156 / 3096\n",
      "2310 / 3096\n",
      "2464 / 3096\n",
      "2618 / 3096\n",
      "2772 / 3096\n",
      "2926 / 3096\n",
      "3080 / 3096\n",
      "Method: Nearest Neighbour w/o PK Loss\n",
      "RVAE w/ Raw Feature\n",
      "Method: MWOC w/o PK Loss\n",
      "Method: MWOC w/ PK Loss\n",
      "noise type: normal magnitude: 0.100000\n",
      "noise type: normal magnitude: 0.500000\n",
      "noise type: uniform magnitude: 0.100000\n",
      "noise type: uniform magnitude: 0.500000\n",
      "noise type: uniform magnitude: -0.100000\n",
      "noise type: uniform magnitude: -0.500000\n",
      "noise type: bernoulli magnitude: 0.100000\n",
      "noise type: bernoulli magnitude: 0.500000\n",
      "noise type: bernoulli magnitude: -0.100000\n",
      "noise type: bernoulli magnitude: -0.500000\n",
      "Method: Calibrated Confidence Score w/o PK Loss\n",
      "############################################\n",
      "#                    4                     #\n",
      "############################################\n",
      "Use Encoding: 1\n",
      "CrossEntropy Loss: 0.000000 MSE Loss: 3.397612 Time elapsed: 4.318055 s\n",
      "CrossEntropy Loss: 0.000000 MSE Loss: 3.746628 Time elapsed: 0.960064 s\n",
      "Method: Raw Feature w/o PK Loss\n",
      "Method: Raw Feature w/ PK Loss\n",
      "Method: PK Loss Only\n"
     ]
    },
    {
     "name": "stderr",
     "output_type": "stream",
     "text": [
      "/opt/conda/lib/python3.7/site-packages/sklearn/svm/_base.py:947: ConvergenceWarning: Liblinear failed to converge, increase the number of iterations.\n",
      "  \"the number of iterations.\", ConvergenceWarning)\n"
     ]
    },
    {
     "name": "stdout",
     "output_type": "stream",
     "text": [
      "0 / 15184\n",
      "759 / 15184\n",
      "1518 / 15184\n",
      "2277 / 15184\n",
      "3036 / 15184\n",
      "3795 / 15184\n",
      "4554 / 15184\n",
      "5313 / 15184\n",
      "6072 / 15184\n",
      "6831 / 15184\n",
      "7590 / 15184\n",
      "8349 / 15184\n",
      "9108 / 15184\n",
      "9867 / 15184\n",
      "10626 / 15184\n",
      "11385 / 15184\n",
      "12144 / 15184\n",
      "12903 / 15184\n",
      "13662 / 15184\n",
      "14421 / 15184\n",
      "15180 / 15184\n"
     ]
    },
    {
     "name": "stderr",
     "output_type": "stream",
     "text": [
      "/opt/conda/lib/python3.7/site-packages/sklearn/svm/_base.py:947: ConvergenceWarning: Liblinear failed to converge, increase the number of iterations.\n",
      "  \"the number of iterations.\", ConvergenceWarning)\n"
     ]
    },
    {
     "name": "stdout",
     "output_type": "stream",
     "text": [
      "0 / 3204\n",
      "160 / 3204\n",
      "320 / 3204\n",
      "480 / 3204\n",
      "640 / 3204\n",
      "800 / 3204\n",
      "960 / 3204\n",
      "1120 / 3204\n",
      "1280 / 3204\n",
      "1440 / 3204\n",
      "1600 / 3204\n",
      "1760 / 3204\n",
      "1920 / 3204\n",
      "2080 / 3204\n",
      "2240 / 3204\n",
      "2400 / 3204\n",
      "2560 / 3204\n",
      "2720 / 3204\n",
      "2880 / 3204\n",
      "3040 / 3204\n",
      "3200 / 3204\n",
      "Method: Nearest Neighbour w/o PK Loss\n",
      "RVAE w/ Raw Feature\n",
      "Method: MWOC w/o PK Loss\n",
      "Method: MWOC w/ PK Loss\n",
      "noise type: normal magnitude: 0.100000\n",
      "noise type: normal magnitude: 0.500000\n",
      "noise type: uniform magnitude: 0.100000\n",
      "noise type: uniform magnitude: 0.500000\n",
      "noise type: uniform magnitude: -0.100000\n",
      "noise type: uniform magnitude: -0.500000\n",
      "noise type: bernoulli magnitude: 0.100000\n",
      "noise type: bernoulli magnitude: 0.500000\n",
      "noise type: bernoulli magnitude: -0.100000\n",
      "noise type: bernoulli magnitude: -0.500000\n",
      "Method: Calibrated Confidence Score w/o PK Loss\n",
      "The artificial noise is exact.\n",
      "Noise Type: random, Model: svm, Level: medium\n",
      "############################################\n",
      "#                    0                     #\n",
      "############################################\n",
      "Use Encoding: 1\n",
      "CrossEntropy Loss: 0.000000 MSE Loss: 3.771279 Time elapsed: 3.273545 s\n",
      "CrossEntropy Loss: 0.000000 MSE Loss: 3.743377 Time elapsed: 0.812629 s\n"
     ]
    },
    {
     "name": "stderr",
     "output_type": "stream",
     "text": [
      "/opt/conda/lib/python3.7/site-packages/sklearn/svm/_base.py:947: ConvergenceWarning: Liblinear failed to converge, increase the number of iterations.\n",
      "  \"the number of iterations.\", ConvergenceWarning)\n"
     ]
    },
    {
     "name": "stdout",
     "output_type": "stream",
     "text": [
      "Method: Raw Feature w/o PK Loss\n",
      "Method: Raw Feature w/ PK Loss\n",
      "Method: PK Loss Only\n"
     ]
    },
    {
     "name": "stderr",
     "output_type": "stream",
     "text": [
      "/opt/conda/lib/python3.7/site-packages/sklearn/svm/_base.py:947: ConvergenceWarning: Liblinear failed to converge, increase the number of iterations.\n",
      "  \"the number of iterations.\", ConvergenceWarning)\n"
     ]
    },
    {
     "name": "stdout",
     "output_type": "stream",
     "text": [
      "0 / 11768\n",
      "588 / 11768\n",
      "1176 / 11768\n",
      "1764 / 11768\n",
      "2352 / 11768\n",
      "2940 / 11768\n",
      "3528 / 11768\n",
      "4116 / 11768\n",
      "4704 / 11768\n",
      "5292 / 11768\n",
      "5880 / 11768\n",
      "6468 / 11768\n",
      "7056 / 11768\n",
      "7644 / 11768\n",
      "8232 / 11768\n",
      "8820 / 11768\n",
      "9408 / 11768\n",
      "9996 / 11768\n",
      "10584 / 11768\n",
      "11172 / 11768\n",
      "11760 / 11768\n"
     ]
    },
    {
     "name": "stderr",
     "output_type": "stream",
     "text": [
      "/opt/conda/lib/python3.7/site-packages/sklearn/svm/_base.py:947: ConvergenceWarning: Liblinear failed to converge, increase the number of iterations.\n",
      "  \"the number of iterations.\", ConvergenceWarning)\n"
     ]
    },
    {
     "name": "stdout",
     "output_type": "stream",
     "text": [
      "0 / 2952\n",
      "147 / 2952\n",
      "294 / 2952\n",
      "441 / 2952\n",
      "588 / 2952\n",
      "735 / 2952\n",
      "882 / 2952\n",
      "1029 / 2952\n",
      "1176 / 2952\n",
      "1323 / 2952\n",
      "1470 / 2952\n",
      "1617 / 2952\n",
      "1764 / 2952\n",
      "1911 / 2952\n",
      "2058 / 2952\n",
      "2205 / 2952\n",
      "2352 / 2952\n",
      "2499 / 2952\n",
      "2646 / 2952\n",
      "2793 / 2952\n",
      "2940 / 2952\n",
      "Method: Nearest Neighbour w/o PK Loss\n",
      "RVAE w/ Raw Feature\n",
      "Method: MWOC w/o PK Loss\n"
     ]
    },
    {
     "name": "stderr",
     "output_type": "stream",
     "text": [
      "/opt/conda/lib/python3.7/site-packages/sklearn/svm/_base.py:947: ConvergenceWarning: Liblinear failed to converge, increase the number of iterations.\n",
      "  \"the number of iterations.\", ConvergenceWarning)\n"
     ]
    },
    {
     "name": "stdout",
     "output_type": "stream",
     "text": [
      "Method: MWOC w/ PK Loss\n"
     ]
    },
    {
     "name": "stderr",
     "output_type": "stream",
     "text": [
      "/opt/conda/lib/python3.7/site-packages/sklearn/svm/_base.py:947: ConvergenceWarning: Liblinear failed to converge, increase the number of iterations.\n",
      "  \"the number of iterations.\", ConvergenceWarning)\n"
     ]
    },
    {
     "name": "stdout",
     "output_type": "stream",
     "text": [
      "noise type: normal magnitude: 0.100000\n",
      "noise type: normal magnitude: 0.500000\n",
      "noise type: uniform magnitude: 0.100000\n",
      "noise type: uniform magnitude: 0.500000\n",
      "noise type: uniform magnitude: -0.100000\n",
      "noise type: uniform magnitude: -0.500000\n",
      "noise type: bernoulli magnitude: 0.100000\n",
      "noise type: bernoulli magnitude: 0.500000\n",
      "noise type: bernoulli magnitude: -0.100000\n",
      "noise type: bernoulli magnitude: -0.500000\n"
     ]
    },
    {
     "name": "stderr",
     "output_type": "stream",
     "text": [
      "/opt/conda/lib/python3.7/site-packages/sklearn/svm/_base.py:947: ConvergenceWarning: Liblinear failed to converge, increase the number of iterations.\n",
      "  \"the number of iterations.\", ConvergenceWarning)\n",
      "/opt/conda/lib/python3.7/site-packages/sklearn/svm/_base.py:947: ConvergenceWarning: Liblinear failed to converge, increase the number of iterations.\n",
      "  \"the number of iterations.\", ConvergenceWarning)\n",
      "/opt/conda/lib/python3.7/site-packages/sklearn/svm/_base.py:947: ConvergenceWarning: Liblinear failed to converge, increase the number of iterations.\n",
      "  \"the number of iterations.\", ConvergenceWarning)\n",
      "/opt/conda/lib/python3.7/site-packages/sklearn/svm/_base.py:947: ConvergenceWarning: Liblinear failed to converge, increase the number of iterations.\n",
      "  \"the number of iterations.\", ConvergenceWarning)\n",
      "/opt/conda/lib/python3.7/site-packages/sklearn/svm/_base.py:947: ConvergenceWarning: Liblinear failed to converge, increase the number of iterations.\n",
      "  \"the number of iterations.\", ConvergenceWarning)\n"
     ]
    },
    {
     "name": "stdout",
     "output_type": "stream",
     "text": [
      "Method: Calibrated Confidence Score w/o PK Loss\n",
      "############################################\n",
      "#                    1                     #\n",
      "############################################\n",
      "Use Encoding: 1\n",
      "CrossEntropy Loss: 0.000000 MSE Loss: 3.787667 Time elapsed: 3.280854 s\n",
      "CrossEntropy Loss: 0.000000 MSE Loss: 3.781838 Time elapsed: 0.809727 s\n"
     ]
    },
    {
     "name": "stderr",
     "output_type": "stream",
     "text": [
      "/opt/conda/lib/python3.7/site-packages/sklearn/svm/_base.py:947: ConvergenceWarning: Liblinear failed to converge, increase the number of iterations.\n",
      "  \"the number of iterations.\", ConvergenceWarning)\n"
     ]
    },
    {
     "name": "stdout",
     "output_type": "stream",
     "text": [
      "Method: Raw Feature w/o PK Loss\n",
      "Method: Raw Feature w/ PK Loss\n",
      "Method: PK Loss Only\n"
     ]
    },
    {
     "name": "stderr",
     "output_type": "stream",
     "text": [
      "/opt/conda/lib/python3.7/site-packages/sklearn/svm/_base.py:947: ConvergenceWarning: Liblinear failed to converge, increase the number of iterations.\n",
      "  \"the number of iterations.\", ConvergenceWarning)\n"
     ]
    },
    {
     "name": "stdout",
     "output_type": "stream",
     "text": [
      "0 / 11768\n",
      "588 / 11768\n",
      "1176 / 11768\n",
      "1764 / 11768\n",
      "2352 / 11768\n",
      "2940 / 11768\n",
      "3528 / 11768\n",
      "4116 / 11768\n",
      "4704 / 11768\n",
      "5292 / 11768\n",
      "5880 / 11768\n",
      "6468 / 11768\n",
      "7056 / 11768\n",
      "7644 / 11768\n",
      "8232 / 11768\n",
      "8820 / 11768\n",
      "9408 / 11768\n",
      "9996 / 11768\n",
      "10584 / 11768\n",
      "11172 / 11768\n",
      "11760 / 11768\n"
     ]
    },
    {
     "name": "stderr",
     "output_type": "stream",
     "text": [
      "/opt/conda/lib/python3.7/site-packages/sklearn/svm/_base.py:947: ConvergenceWarning: Liblinear failed to converge, increase the number of iterations.\n",
      "  \"the number of iterations.\", ConvergenceWarning)\n"
     ]
    },
    {
     "name": "stdout",
     "output_type": "stream",
     "text": [
      "0 / 2868\n",
      "143 / 2868\n",
      "286 / 2868\n",
      "429 / 2868\n",
      "572 / 2868\n",
      "715 / 2868\n",
      "858 / 2868\n",
      "1001 / 2868\n",
      "1144 / 2868\n",
      "1287 / 2868\n",
      "1430 / 2868\n",
      "1573 / 2868\n",
      "1716 / 2868\n",
      "1859 / 2868\n",
      "2002 / 2868\n",
      "2145 / 2868\n",
      "2288 / 2868\n",
      "2431 / 2868\n",
      "2574 / 2868\n",
      "2717 / 2868\n",
      "2860 / 2868\n",
      "Method: Nearest Neighbour w/o PK Loss\n",
      "RVAE w/ Raw Feature\n",
      "Method: MWOC w/o PK Loss\n"
     ]
    },
    {
     "name": "stderr",
     "output_type": "stream",
     "text": [
      "/opt/conda/lib/python3.7/site-packages/sklearn/svm/_base.py:947: ConvergenceWarning: Liblinear failed to converge, increase the number of iterations.\n",
      "  \"the number of iterations.\", ConvergenceWarning)\n"
     ]
    },
    {
     "name": "stdout",
     "output_type": "stream",
     "text": [
      "Method: MWOC w/ PK Loss\n"
     ]
    },
    {
     "name": "stderr",
     "output_type": "stream",
     "text": [
      "/opt/conda/lib/python3.7/site-packages/sklearn/svm/_base.py:947: ConvergenceWarning: Liblinear failed to converge, increase the number of iterations.\n",
      "  \"the number of iterations.\", ConvergenceWarning)\n"
     ]
    },
    {
     "name": "stdout",
     "output_type": "stream",
     "text": [
      "noise type: normal magnitude: 0.100000\n",
      "noise type: normal magnitude: 0.500000\n",
      "noise type: uniform magnitude: 0.100000\n",
      "noise type: uniform magnitude: 0.500000\n",
      "noise type: uniform magnitude: -0.100000\n",
      "noise type: uniform magnitude: -0.500000\n",
      "noise type: bernoulli magnitude: 0.100000\n",
      "noise type: bernoulli magnitude: 0.500000\n",
      "noise type: bernoulli magnitude: -0.100000\n",
      "noise type: bernoulli magnitude: -0.500000\n"
     ]
    },
    {
     "name": "stderr",
     "output_type": "stream",
     "text": [
      "/opt/conda/lib/python3.7/site-packages/sklearn/svm/_base.py:947: ConvergenceWarning: Liblinear failed to converge, increase the number of iterations.\n",
      "  \"the number of iterations.\", ConvergenceWarning)\n",
      "/opt/conda/lib/python3.7/site-packages/sklearn/svm/_base.py:947: ConvergenceWarning: Liblinear failed to converge, increase the number of iterations.\n",
      "  \"the number of iterations.\", ConvergenceWarning)\n",
      "/opt/conda/lib/python3.7/site-packages/sklearn/svm/_base.py:947: ConvergenceWarning: Liblinear failed to converge, increase the number of iterations.\n",
      "  \"the number of iterations.\", ConvergenceWarning)\n",
      "/opt/conda/lib/python3.7/site-packages/sklearn/svm/_base.py:947: ConvergenceWarning: Liblinear failed to converge, increase the number of iterations.\n",
      "  \"the number of iterations.\", ConvergenceWarning)\n",
      "/opt/conda/lib/python3.7/site-packages/sklearn/svm/_base.py:947: ConvergenceWarning: Liblinear failed to converge, increase the number of iterations.\n",
      "  \"the number of iterations.\", ConvergenceWarning)\n"
     ]
    },
    {
     "name": "stdout",
     "output_type": "stream",
     "text": [
      "Method: Calibrated Confidence Score w/o PK Loss\n",
      "############################################\n",
      "#                    2                     #\n",
      "############################################\n",
      "Use Encoding: 1\n",
      "CrossEntropy Loss: 0.000000 MSE Loss: 3.625851 Time elapsed: 3.256231 s\n",
      "CrossEntropy Loss: 0.000000 MSE Loss: 3.678129 Time elapsed: 0.802425 s\n"
     ]
    },
    {
     "name": "stderr",
     "output_type": "stream",
     "text": [
      "/opt/conda/lib/python3.7/site-packages/sklearn/svm/_base.py:947: ConvergenceWarning: Liblinear failed to converge, increase the number of iterations.\n",
      "  \"the number of iterations.\", ConvergenceWarning)\n"
     ]
    },
    {
     "name": "stdout",
     "output_type": "stream",
     "text": [
      "Method: Raw Feature w/o PK Loss\n",
      "Method: Raw Feature w/ PK Loss\n",
      "Method: PK Loss Only\n"
     ]
    },
    {
     "name": "stderr",
     "output_type": "stream",
     "text": [
      "/opt/conda/lib/python3.7/site-packages/sklearn/svm/_base.py:947: ConvergenceWarning: Liblinear failed to converge, increase the number of iterations.\n",
      "  \"the number of iterations.\", ConvergenceWarning)\n"
     ]
    },
    {
     "name": "stdout",
     "output_type": "stream",
     "text": [
      "0 / 11756\n",
      "587 / 11756\n",
      "1174 / 11756\n",
      "1761 / 11756\n",
      "2348 / 11756\n",
      "2935 / 11756\n",
      "3522 / 11756\n",
      "4109 / 11756\n",
      "4696 / 11756\n",
      "5283 / 11756\n",
      "5870 / 11756\n",
      "6457 / 11756\n",
      "7044 / 11756\n",
      "7631 / 11756\n",
      "8218 / 11756\n",
      "8805 / 11756\n",
      "9392 / 11756\n",
      "9979 / 11756\n",
      "10566 / 11756\n",
      "11153 / 11756\n",
      "11740 / 11756\n"
     ]
    },
    {
     "name": "stderr",
     "output_type": "stream",
     "text": [
      "/opt/conda/lib/python3.7/site-packages/sklearn/svm/_base.py:947: ConvergenceWarning: Liblinear failed to converge, increase the number of iterations.\n",
      "  \"the number of iterations.\", ConvergenceWarning)\n"
     ]
    },
    {
     "name": "stdout",
     "output_type": "stream",
     "text": [
      "0 / 2932\n",
      "146 / 2932\n",
      "292 / 2932\n",
      "438 / 2932\n",
      "584 / 2932\n",
      "730 / 2932\n",
      "876 / 2932\n",
      "1022 / 2932\n",
      "1168 / 2932\n",
      "1314 / 2932\n",
      "1460 / 2932\n",
      "1606 / 2932\n",
      "1752 / 2932\n",
      "1898 / 2932\n",
      "2044 / 2932\n",
      "2190 / 2932\n",
      "2336 / 2932\n",
      "2482 / 2932\n",
      "2628 / 2932\n",
      "2774 / 2932\n",
      "2920 / 2932\n",
      "Method: Nearest Neighbour w/o PK Loss\n",
      "RVAE w/ Raw Feature\n",
      "Method: MWOC w/o PK Loss\n"
     ]
    },
    {
     "name": "stderr",
     "output_type": "stream",
     "text": [
      "/opt/conda/lib/python3.7/site-packages/sklearn/svm/_base.py:947: ConvergenceWarning: Liblinear failed to converge, increase the number of iterations.\n",
      "  \"the number of iterations.\", ConvergenceWarning)\n"
     ]
    },
    {
     "name": "stdout",
     "output_type": "stream",
     "text": [
      "Method: MWOC w/ PK Loss\n"
     ]
    },
    {
     "name": "stderr",
     "output_type": "stream",
     "text": [
      "/opt/conda/lib/python3.7/site-packages/sklearn/svm/_base.py:947: ConvergenceWarning: Liblinear failed to converge, increase the number of iterations.\n",
      "  \"the number of iterations.\", ConvergenceWarning)\n"
     ]
    },
    {
     "name": "stdout",
     "output_type": "stream",
     "text": [
      "noise type: normal magnitude: 0.100000\n",
      "noise type: normal magnitude: 0.500000\n",
      "noise type: uniform magnitude: 0.100000\n",
      "noise type: uniform magnitude: 0.500000\n",
      "noise type: uniform magnitude: -0.100000\n",
      "noise type: uniform magnitude: -0.500000\n",
      "noise type: bernoulli magnitude: 0.100000\n",
      "noise type: bernoulli magnitude: 0.500000\n",
      "noise type: bernoulli magnitude: -0.100000\n",
      "noise type: bernoulli magnitude: -0.500000\n"
     ]
    },
    {
     "name": "stderr",
     "output_type": "stream",
     "text": [
      "/opt/conda/lib/python3.7/site-packages/sklearn/svm/_base.py:947: ConvergenceWarning: Liblinear failed to converge, increase the number of iterations.\n",
      "  \"the number of iterations.\", ConvergenceWarning)\n",
      "/opt/conda/lib/python3.7/site-packages/sklearn/svm/_base.py:947: ConvergenceWarning: Liblinear failed to converge, increase the number of iterations.\n",
      "  \"the number of iterations.\", ConvergenceWarning)\n",
      "/opt/conda/lib/python3.7/site-packages/sklearn/svm/_base.py:947: ConvergenceWarning: Liblinear failed to converge, increase the number of iterations.\n",
      "  \"the number of iterations.\", ConvergenceWarning)\n",
      "/opt/conda/lib/python3.7/site-packages/sklearn/svm/_base.py:947: ConvergenceWarning: Liblinear failed to converge, increase the number of iterations.\n",
      "  \"the number of iterations.\", ConvergenceWarning)\n",
      "/opt/conda/lib/python3.7/site-packages/sklearn/svm/_base.py:947: ConvergenceWarning: Liblinear failed to converge, increase the number of iterations.\n",
      "  \"the number of iterations.\", ConvergenceWarning)\n"
     ]
    },
    {
     "name": "stdout",
     "output_type": "stream",
     "text": [
      "Method: Calibrated Confidence Score w/o PK Loss\n",
      "############################################\n",
      "#                    3                     #\n",
      "############################################\n",
      "Use Encoding: 1\n",
      "CrossEntropy Loss: 0.000000 MSE Loss: 3.913237 Time elapsed: 3.286028 s\n",
      "CrossEntropy Loss: 0.000000 MSE Loss: 4.000282 Time elapsed: 0.836485 s\n"
     ]
    },
    {
     "name": "stderr",
     "output_type": "stream",
     "text": [
      "/opt/conda/lib/python3.7/site-packages/sklearn/svm/_base.py:947: ConvergenceWarning: Liblinear failed to converge, increase the number of iterations.\n",
      "  \"the number of iterations.\", ConvergenceWarning)\n"
     ]
    },
    {
     "name": "stdout",
     "output_type": "stream",
     "text": [
      "Method: Raw Feature w/o PK Loss\n",
      "Method: Raw Feature w/ PK Loss\n",
      "Method: PK Loss Only\n"
     ]
    },
    {
     "name": "stderr",
     "output_type": "stream",
     "text": [
      "/opt/conda/lib/python3.7/site-packages/sklearn/svm/_base.py:947: ConvergenceWarning: Liblinear failed to converge, increase the number of iterations.\n",
      "  \"the number of iterations.\", ConvergenceWarning)\n"
     ]
    },
    {
     "name": "stdout",
     "output_type": "stream",
     "text": [
      "0 / 11844\n",
      "592 / 11844\n",
      "1184 / 11844\n",
      "1776 / 11844\n",
      "2368 / 11844\n",
      "2960 / 11844\n",
      "3552 / 11844\n",
      "4144 / 11844\n",
      "4736 / 11844\n",
      "5328 / 11844\n",
      "5920 / 11844\n",
      "6512 / 11844\n",
      "7104 / 11844\n",
      "7696 / 11844\n",
      "8288 / 11844\n",
      "8880 / 11844\n",
      "9472 / 11844\n",
      "10064 / 11844\n",
      "10656 / 11844\n",
      "11248 / 11844\n",
      "11840 / 11844\n"
     ]
    },
    {
     "name": "stderr",
     "output_type": "stream",
     "text": [
      "/opt/conda/lib/python3.7/site-packages/sklearn/svm/_base.py:947: ConvergenceWarning: Liblinear failed to converge, increase the number of iterations.\n",
      "  \"the number of iterations.\", ConvergenceWarning)\n"
     ]
    },
    {
     "name": "stdout",
     "output_type": "stream",
     "text": [
      "0 / 2932\n",
      "146 / 2932\n",
      "292 / 2932\n",
      "438 / 2932\n",
      "584 / 2932\n",
      "730 / 2932\n",
      "876 / 2932\n",
      "1022 / 2932\n",
      "1168 / 2932\n",
      "1314 / 2932\n",
      "1460 / 2932\n",
      "1606 / 2932\n",
      "1752 / 2932\n",
      "1898 / 2932\n",
      "2044 / 2932\n",
      "2190 / 2932\n",
      "2336 / 2932\n",
      "2482 / 2932\n",
      "2628 / 2932\n",
      "2774 / 2932\n",
      "2920 / 2932\n",
      "Method: Nearest Neighbour w/o PK Loss\n",
      "RVAE w/ Raw Feature\n",
      "Method: MWOC w/o PK Loss\n"
     ]
    },
    {
     "name": "stderr",
     "output_type": "stream",
     "text": [
      "/opt/conda/lib/python3.7/site-packages/sklearn/svm/_base.py:947: ConvergenceWarning: Liblinear failed to converge, increase the number of iterations.\n",
      "  \"the number of iterations.\", ConvergenceWarning)\n"
     ]
    },
    {
     "name": "stdout",
     "output_type": "stream",
     "text": [
      "Method: MWOC w/ PK Loss\n"
     ]
    },
    {
     "name": "stderr",
     "output_type": "stream",
     "text": [
      "/opt/conda/lib/python3.7/site-packages/sklearn/svm/_base.py:947: ConvergenceWarning: Liblinear failed to converge, increase the number of iterations.\n",
      "  \"the number of iterations.\", ConvergenceWarning)\n"
     ]
    },
    {
     "name": "stdout",
     "output_type": "stream",
     "text": [
      "noise type: normal magnitude: 0.100000\n",
      "noise type: normal magnitude: 0.500000\n",
      "noise type: uniform magnitude: 0.100000\n",
      "noise type: uniform magnitude: 0.500000\n",
      "noise type: uniform magnitude: -0.100000\n",
      "noise type: uniform magnitude: -0.500000\n",
      "noise type: bernoulli magnitude: 0.100000\n",
      "noise type: bernoulli magnitude: 0.500000\n",
      "noise type: bernoulli magnitude: -0.100000\n",
      "noise type: bernoulli magnitude: -0.500000\n"
     ]
    },
    {
     "name": "stderr",
     "output_type": "stream",
     "text": [
      "/opt/conda/lib/python3.7/site-packages/sklearn/svm/_base.py:947: ConvergenceWarning: Liblinear failed to converge, increase the number of iterations.\n",
      "  \"the number of iterations.\", ConvergenceWarning)\n",
      "/opt/conda/lib/python3.7/site-packages/sklearn/svm/_base.py:947: ConvergenceWarning: Liblinear failed to converge, increase the number of iterations.\n",
      "  \"the number of iterations.\", ConvergenceWarning)\n",
      "/opt/conda/lib/python3.7/site-packages/sklearn/svm/_base.py:947: ConvergenceWarning: Liblinear failed to converge, increase the number of iterations.\n",
      "  \"the number of iterations.\", ConvergenceWarning)\n",
      "/opt/conda/lib/python3.7/site-packages/sklearn/svm/_base.py:947: ConvergenceWarning: Liblinear failed to converge, increase the number of iterations.\n",
      "  \"the number of iterations.\", ConvergenceWarning)\n",
      "/opt/conda/lib/python3.7/site-packages/sklearn/svm/_base.py:947: ConvergenceWarning: Liblinear failed to converge, increase the number of iterations.\n",
      "  \"the number of iterations.\", ConvergenceWarning)\n"
     ]
    },
    {
     "name": "stdout",
     "output_type": "stream",
     "text": [
      "Method: Calibrated Confidence Score w/o PK Loss\n",
      "############################################\n",
      "#                    4                     #\n",
      "############################################\n",
      "Use Encoding: 1\n",
      "CrossEntropy Loss: 0.000000 MSE Loss: 3.544318 Time elapsed: 3.267110 s\n",
      "CrossEntropy Loss: 0.000000 MSE Loss: 3.547342 Time elapsed: 0.814341 s\n"
     ]
    },
    {
     "name": "stderr",
     "output_type": "stream",
     "text": [
      "/opt/conda/lib/python3.7/site-packages/sklearn/svm/_base.py:947: ConvergenceWarning: Liblinear failed to converge, increase the number of iterations.\n",
      "  \"the number of iterations.\", ConvergenceWarning)\n"
     ]
    },
    {
     "name": "stdout",
     "output_type": "stream",
     "text": [
      "Method: Raw Feature w/o PK Loss\n",
      "Method: Raw Feature w/ PK Loss\n",
      "Method: PK Loss Only\n"
     ]
    },
    {
     "name": "stderr",
     "output_type": "stream",
     "text": [
      "/opt/conda/lib/python3.7/site-packages/sklearn/svm/_base.py:947: ConvergenceWarning: Liblinear failed to converge, increase the number of iterations.\n",
      "  \"the number of iterations.\", ConvergenceWarning)\n"
     ]
    },
    {
     "name": "stdout",
     "output_type": "stream",
     "text": [
      "0 / 11772\n",
      "588 / 11772\n",
      "1176 / 11772\n",
      "1764 / 11772\n",
      "2352 / 11772\n",
      "2940 / 11772\n",
      "3528 / 11772\n",
      "4116 / 11772\n",
      "4704 / 11772\n",
      "5292 / 11772\n",
      "5880 / 11772\n",
      "6468 / 11772\n",
      "7056 / 11772\n",
      "7644 / 11772\n",
      "8232 / 11772\n",
      "8820 / 11772\n",
      "9408 / 11772\n",
      "9996 / 11772\n",
      "10584 / 11772\n",
      "11172 / 11772\n",
      "11760 / 11772\n"
     ]
    },
    {
     "name": "stderr",
     "output_type": "stream",
     "text": [
      "/opt/conda/lib/python3.7/site-packages/sklearn/svm/_base.py:947: ConvergenceWarning: Liblinear failed to converge, increase the number of iterations.\n",
      "  \"the number of iterations.\", ConvergenceWarning)\n"
     ]
    },
    {
     "name": "stdout",
     "output_type": "stream",
     "text": [
      "0 / 2944\n",
      "147 / 2944\n",
      "294 / 2944\n",
      "441 / 2944\n",
      "588 / 2944\n",
      "735 / 2944\n",
      "882 / 2944\n",
      "1029 / 2944\n",
      "1176 / 2944\n",
      "1323 / 2944\n",
      "1470 / 2944\n",
      "1617 / 2944\n",
      "1764 / 2944\n",
      "1911 / 2944\n",
      "2058 / 2944\n",
      "2205 / 2944\n",
      "2352 / 2944\n",
      "2499 / 2944\n",
      "2646 / 2944\n",
      "2793 / 2944\n",
      "2940 / 2944\n",
      "Method: Nearest Neighbour w/o PK Loss\n",
      "RVAE w/ Raw Feature\n",
      "Method: MWOC w/o PK Loss\n"
     ]
    },
    {
     "name": "stderr",
     "output_type": "stream",
     "text": [
      "/opt/conda/lib/python3.7/site-packages/sklearn/svm/_base.py:947: ConvergenceWarning: Liblinear failed to converge, increase the number of iterations.\n",
      "  \"the number of iterations.\", ConvergenceWarning)\n"
     ]
    },
    {
     "name": "stdout",
     "output_type": "stream",
     "text": [
      "Method: MWOC w/ PK Loss\n"
     ]
    },
    {
     "name": "stderr",
     "output_type": "stream",
     "text": [
      "/opt/conda/lib/python3.7/site-packages/sklearn/svm/_base.py:947: ConvergenceWarning: Liblinear failed to converge, increase the number of iterations.\n",
      "  \"the number of iterations.\", ConvergenceWarning)\n"
     ]
    },
    {
     "name": "stdout",
     "output_type": "stream",
     "text": [
      "noise type: normal magnitude: 0.100000\n",
      "noise type: normal magnitude: 0.500000\n",
      "noise type: uniform magnitude: 0.100000\n",
      "noise type: uniform magnitude: 0.500000\n",
      "noise type: uniform magnitude: -0.100000\n",
      "noise type: uniform magnitude: -0.500000\n",
      "noise type: bernoulli magnitude: 0.100000\n",
      "noise type: bernoulli magnitude: 0.500000\n",
      "noise type: bernoulli magnitude: -0.100000\n",
      "noise type: bernoulli magnitude: -0.500000\n"
     ]
    },
    {
     "name": "stderr",
     "output_type": "stream",
     "text": [
      "/opt/conda/lib/python3.7/site-packages/sklearn/svm/_base.py:947: ConvergenceWarning: Liblinear failed to converge, increase the number of iterations.\n",
      "  \"the number of iterations.\", ConvergenceWarning)\n",
      "/opt/conda/lib/python3.7/site-packages/sklearn/svm/_base.py:947: ConvergenceWarning: Liblinear failed to converge, increase the number of iterations.\n",
      "  \"the number of iterations.\", ConvergenceWarning)\n",
      "/opt/conda/lib/python3.7/site-packages/sklearn/svm/_base.py:947: ConvergenceWarning: Liblinear failed to converge, increase the number of iterations.\n",
      "  \"the number of iterations.\", ConvergenceWarning)\n",
      "/opt/conda/lib/python3.7/site-packages/sklearn/svm/_base.py:947: ConvergenceWarning: Liblinear failed to converge, increase the number of iterations.\n",
      "  \"the number of iterations.\", ConvergenceWarning)\n",
      "/opt/conda/lib/python3.7/site-packages/sklearn/svm/_base.py:947: ConvergenceWarning: Liblinear failed to converge, increase the number of iterations.\n",
      "  \"the number of iterations.\", ConvergenceWarning)\n"
     ]
    },
    {
     "name": "stdout",
     "output_type": "stream",
     "text": [
      "Method: Calibrated Confidence Score w/o PK Loss\n",
      "The artificial noise is exact.\n",
      "Noise Type: random, Model: lr, Level: medium\n",
      "############################################\n",
      "#                    0                     #\n",
      "############################################\n",
      "Use Encoding: 1\n",
      "CrossEntropy Loss: 0.000000 MSE Loss: 3.803607 Time elapsed: 3.296521 s\n",
      "CrossEntropy Loss: 0.000000 MSE Loss: 3.734994 Time elapsed: 0.816041 s\n",
      "Method: Raw Feature w/o PK Loss\n",
      "Method: Raw Feature w/ PK Loss\n",
      "Method: PK Loss Only\n"
     ]
    },
    {
     "name": "stderr",
     "output_type": "stream",
     "text": [
      "/opt/conda/lib/python3.7/site-packages/sklearn/svm/_base.py:947: ConvergenceWarning: Liblinear failed to converge, increase the number of iterations.\n",
      "  \"the number of iterations.\", ConvergenceWarning)\n"
     ]
    },
    {
     "name": "stdout",
     "output_type": "stream",
     "text": [
      "0 / 11740\n",
      "587 / 11740\n",
      "1174 / 11740\n",
      "1761 / 11740\n",
      "2348 / 11740\n",
      "2935 / 11740\n",
      "3522 / 11740\n",
      "4109 / 11740\n",
      "4696 / 11740\n",
      "5283 / 11740\n",
      "5870 / 11740\n",
      "6457 / 11740\n",
      "7044 / 11740\n",
      "7631 / 11740\n",
      "8218 / 11740\n",
      "8805 / 11740\n",
      "9392 / 11740\n",
      "9979 / 11740\n",
      "10566 / 11740\n",
      "11153 / 11740\n"
     ]
    },
    {
     "name": "stderr",
     "output_type": "stream",
     "text": [
      "/opt/conda/lib/python3.7/site-packages/sklearn/svm/_base.py:947: ConvergenceWarning: Liblinear failed to converge, increase the number of iterations.\n",
      "  \"the number of iterations.\", ConvergenceWarning)\n"
     ]
    },
    {
     "name": "stdout",
     "output_type": "stream",
     "text": [
      "0 / 2964\n",
      "148 / 2964\n",
      "296 / 2964\n",
      "444 / 2964\n",
      "592 / 2964\n",
      "740 / 2964\n",
      "888 / 2964\n",
      "1036 / 2964\n",
      "1184 / 2964\n",
      "1332 / 2964\n",
      "1480 / 2964\n",
      "1628 / 2964\n",
      "1776 / 2964\n",
      "1924 / 2964\n",
      "2072 / 2964\n",
      "2220 / 2964\n",
      "2368 / 2964\n",
      "2516 / 2964\n",
      "2664 / 2964\n",
      "2812 / 2964\n",
      "2960 / 2964\n",
      "Method: Nearest Neighbour w/o PK Loss\n",
      "RVAE w/ Raw Feature\n",
      "Method: MWOC w/o PK Loss\n",
      "Method: MWOC w/ PK Loss\n"
     ]
    },
    {
     "name": "stderr",
     "output_type": "stream",
     "text": [
      "/opt/conda/lib/python3.7/site-packages/sklearn/linear_model/_logistic.py:940: ConvergenceWarning: lbfgs failed to converge (status=1):\n",
      "STOP: TOTAL NO. of ITERATIONS REACHED LIMIT.\n",
      "\n",
      "Increase the number of iterations (max_iter) or scale the data as shown in:\n",
      "    https://scikit-learn.org/stable/modules/preprocessing.html\n",
      "Please also refer to the documentation for alternative solver options:\n",
      "    https://scikit-learn.org/stable/modules/linear_model.html#logistic-regression\n",
      "  extra_warning_msg=_LOGISTIC_SOLVER_CONVERGENCE_MSG)\n"
     ]
    },
    {
     "name": "stdout",
     "output_type": "stream",
     "text": [
      "noise type: normal magnitude: 0.100000\n",
      "noise type: normal magnitude: 0.500000\n",
      "noise type: uniform magnitude: 0.100000\n",
      "noise type: uniform magnitude: 0.500000\n",
      "noise type: uniform magnitude: -0.100000\n",
      "noise type: uniform magnitude: -0.500000\n",
      "noise type: bernoulli magnitude: 0.100000\n",
      "noise type: bernoulli magnitude: 0.500000\n",
      "noise type: bernoulli magnitude: -0.100000\n",
      "noise type: bernoulli magnitude: -0.500000\n",
      "Method: Calibrated Confidence Score w/o PK Loss\n",
      "############################################\n",
      "#                    1                     #\n",
      "############################################\n",
      "Use Encoding: 1\n",
      "CrossEntropy Loss: 0.000000 MSE Loss: 3.777972 Time elapsed: 3.304176 s\n",
      "CrossEntropy Loss: 0.000000 MSE Loss: 3.908504 Time elapsed: 0.774323 s\n",
      "Method: Raw Feature w/o PK Loss\n",
      "Method: Raw Feature w/ PK Loss\n",
      "Method: PK Loss Only\n"
     ]
    },
    {
     "name": "stderr",
     "output_type": "stream",
     "text": [
      "/opt/conda/lib/python3.7/site-packages/sklearn/svm/_base.py:947: ConvergenceWarning: Liblinear failed to converge, increase the number of iterations.\n",
      "  \"the number of iterations.\", ConvergenceWarning)\n"
     ]
    },
    {
     "name": "stdout",
     "output_type": "stream",
     "text": [
      "0 / 11808\n",
      "590 / 11808\n",
      "1180 / 11808\n",
      "1770 / 11808\n",
      "2360 / 11808\n",
      "2950 / 11808\n",
      "3540 / 11808\n",
      "4130 / 11808\n",
      "4720 / 11808\n",
      "5310 / 11808\n",
      "5900 / 11808\n",
      "6490 / 11808\n",
      "7080 / 11808\n",
      "7670 / 11808\n",
      "8260 / 11808\n",
      "8850 / 11808\n",
      "9440 / 11808\n",
      "10030 / 11808\n",
      "10620 / 11808\n",
      "11210 / 11808\n",
      "11800 / 11808\n"
     ]
    },
    {
     "name": "stderr",
     "output_type": "stream",
     "text": [
      "/opt/conda/lib/python3.7/site-packages/sklearn/svm/_base.py:947: ConvergenceWarning: Liblinear failed to converge, increase the number of iterations.\n",
      "  \"the number of iterations.\", ConvergenceWarning)\n"
     ]
    },
    {
     "name": "stdout",
     "output_type": "stream",
     "text": [
      "0 / 2856\n",
      "142 / 2856\n",
      "284 / 2856\n",
      "426 / 2856\n",
      "568 / 2856\n",
      "710 / 2856\n",
      "852 / 2856\n",
      "994 / 2856\n",
      "1136 / 2856\n",
      "1278 / 2856\n",
      "1420 / 2856\n",
      "1562 / 2856\n",
      "1704 / 2856\n",
      "1846 / 2856\n",
      "1988 / 2856\n",
      "2130 / 2856\n",
      "2272 / 2856\n",
      "2414 / 2856\n",
      "2556 / 2856\n",
      "2698 / 2856\n",
      "2840 / 2856\n",
      "Method: Nearest Neighbour w/o PK Loss\n",
      "RVAE w/ Raw Feature\n",
      "Method: MWOC w/o PK Loss\n",
      "Method: MWOC w/ PK Loss\n"
     ]
    },
    {
     "name": "stderr",
     "output_type": "stream",
     "text": [
      "/opt/conda/lib/python3.7/site-packages/sklearn/linear_model/_logistic.py:940: ConvergenceWarning: lbfgs failed to converge (status=1):\n",
      "STOP: TOTAL NO. of ITERATIONS REACHED LIMIT.\n",
      "\n",
      "Increase the number of iterations (max_iter) or scale the data as shown in:\n",
      "    https://scikit-learn.org/stable/modules/preprocessing.html\n",
      "Please also refer to the documentation for alternative solver options:\n",
      "    https://scikit-learn.org/stable/modules/linear_model.html#logistic-regression\n",
      "  extra_warning_msg=_LOGISTIC_SOLVER_CONVERGENCE_MSG)\n"
     ]
    },
    {
     "name": "stdout",
     "output_type": "stream",
     "text": [
      "noise type: normal magnitude: 0.100000\n",
      "noise type: normal magnitude: 0.500000\n",
      "noise type: uniform magnitude: 0.100000\n",
      "noise type: uniform magnitude: 0.500000\n",
      "noise type: uniform magnitude: -0.100000\n",
      "noise type: uniform magnitude: -0.500000\n",
      "noise type: bernoulli magnitude: 0.100000\n",
      "noise type: bernoulli magnitude: 0.500000\n",
      "noise type: bernoulli magnitude: -0.100000\n",
      "noise type: bernoulli magnitude: -0.500000\n",
      "Method: Calibrated Confidence Score w/o PK Loss\n",
      "############################################\n",
      "#                    2                     #\n",
      "############################################\n",
      "Use Encoding: 1\n",
      "CrossEntropy Loss: 0.000000 MSE Loss: 3.650458 Time elapsed: 8.065425 s\n",
      "CrossEntropy Loss: 0.000000 MSE Loss: 3.710589 Time elapsed: 2.065103 s\n",
      "Method: Raw Feature w/o PK Loss\n",
      "Method: Raw Feature w/ PK Loss\n",
      "Method: PK Loss Only\n"
     ]
    },
    {
     "name": "stderr",
     "output_type": "stream",
     "text": [
      "/opt/conda/lib/python3.7/site-packages/sklearn/svm/_base.py:947: ConvergenceWarning: Liblinear failed to converge, increase the number of iterations.\n",
      "  \"the number of iterations.\", ConvergenceWarning)\n"
     ]
    },
    {
     "name": "stdout",
     "output_type": "stream",
     "text": [
      "0 / 11788\n",
      "589 / 11788\n",
      "1178 / 11788\n",
      "1767 / 11788\n",
      "2356 / 11788\n",
      "2945 / 11788\n",
      "3534 / 11788\n",
      "4123 / 11788\n",
      "4712 / 11788\n",
      "5301 / 11788\n",
      "5890 / 11788\n",
      "6479 / 11788\n",
      "7068 / 11788\n",
      "7657 / 11788\n",
      "8246 / 11788\n",
      "8835 / 11788\n",
      "9424 / 11788\n",
      "10013 / 11788\n",
      "10602 / 11788\n",
      "11191 / 11788\n",
      "11780 / 11788\n"
     ]
    },
    {
     "name": "stderr",
     "output_type": "stream",
     "text": [
      "/opt/conda/lib/python3.7/site-packages/sklearn/svm/_base.py:947: ConvergenceWarning: Liblinear failed to converge, increase the number of iterations.\n",
      "  \"the number of iterations.\", ConvergenceWarning)\n"
     ]
    },
    {
     "name": "stdout",
     "output_type": "stream",
     "text": [
      "0 / 2928\n",
      "146 / 2928\n",
      "292 / 2928\n",
      "438 / 2928\n",
      "584 / 2928\n",
      "730 / 2928\n",
      "876 / 2928\n",
      "1022 / 2928\n",
      "1168 / 2928\n",
      "1314 / 2928\n",
      "1460 / 2928\n",
      "1606 / 2928\n",
      "1752 / 2928\n",
      "1898 / 2928\n",
      "2044 / 2928\n",
      "2190 / 2928\n",
      "2336 / 2928\n",
      "2482 / 2928\n",
      "2628 / 2928\n",
      "2774 / 2928\n",
      "2920 / 2928\n",
      "Method: Nearest Neighbour w/o PK Loss\n",
      "RVAE w/ Raw Feature\n",
      "Method: MWOC w/o PK Loss\n",
      "Method: MWOC w/ PK Loss\n"
     ]
    },
    {
     "name": "stderr",
     "output_type": "stream",
     "text": [
      "/opt/conda/lib/python3.7/site-packages/sklearn/linear_model/_logistic.py:940: ConvergenceWarning: lbfgs failed to converge (status=1):\n",
      "STOP: TOTAL NO. of ITERATIONS REACHED LIMIT.\n",
      "\n",
      "Increase the number of iterations (max_iter) or scale the data as shown in:\n",
      "    https://scikit-learn.org/stable/modules/preprocessing.html\n",
      "Please also refer to the documentation for alternative solver options:\n",
      "    https://scikit-learn.org/stable/modules/linear_model.html#logistic-regression\n",
      "  extra_warning_msg=_LOGISTIC_SOLVER_CONVERGENCE_MSG)\n"
     ]
    },
    {
     "name": "stdout",
     "output_type": "stream",
     "text": [
      "noise type: normal magnitude: 0.100000\n",
      "noise type: normal magnitude: 0.500000\n",
      "noise type: uniform magnitude: 0.100000\n",
      "noise type: uniform magnitude: 0.500000\n",
      "noise type: uniform magnitude: -0.100000\n",
      "noise type: uniform magnitude: -0.500000\n",
      "noise type: bernoulli magnitude: 0.100000\n",
      "noise type: bernoulli magnitude: 0.500000\n",
      "noise type: bernoulli magnitude: -0.100000\n",
      "noise type: bernoulli magnitude: -0.500000\n",
      "Method: Calibrated Confidence Score w/o PK Loss\n",
      "############################################\n",
      "#                    3                     #\n",
      "############################################\n",
      "Use Encoding: 1\n",
      "CrossEntropy Loss: 0.000000 MSE Loss: 3.975487 Time elapsed: 3.270490 s\n",
      "CrossEntropy Loss: 0.000000 MSE Loss: 4.029637 Time elapsed: 0.814006 s\n",
      "Method: Raw Feature w/o PK Loss\n",
      "Method: Raw Feature w/ PK Loss\n",
      "Method: PK Loss Only\n"
     ]
    },
    {
     "name": "stderr",
     "output_type": "stream",
     "text": [
      "/opt/conda/lib/python3.7/site-packages/sklearn/svm/_base.py:947: ConvergenceWarning: Liblinear failed to converge, increase the number of iterations.\n",
      "  \"the number of iterations.\", ConvergenceWarning)\n"
     ]
    },
    {
     "name": "stdout",
     "output_type": "stream",
     "text": [
      "0 / 11828\n",
      "591 / 11828\n",
      "1182 / 11828\n",
      "1773 / 11828\n",
      "2364 / 11828\n",
      "2955 / 11828\n",
      "3546 / 11828\n",
      "4137 / 11828\n",
      "4728 / 11828\n",
      "5319 / 11828\n",
      "5910 / 11828\n",
      "6501 / 11828\n",
      "7092 / 11828\n",
      "7683 / 11828\n",
      "8274 / 11828\n",
      "8865 / 11828\n",
      "9456 / 11828\n",
      "10047 / 11828\n",
      "10638 / 11828\n",
      "11229 / 11828\n",
      "11820 / 11828\n"
     ]
    },
    {
     "name": "stderr",
     "output_type": "stream",
     "text": [
      "/opt/conda/lib/python3.7/site-packages/sklearn/svm/_base.py:947: ConvergenceWarning: Liblinear failed to converge, increase the number of iterations.\n",
      "  \"the number of iterations.\", ConvergenceWarning)\n"
     ]
    },
    {
     "name": "stdout",
     "output_type": "stream",
     "text": [
      "0 / 2932\n",
      "146 / 2932\n",
      "292 / 2932\n",
      "438 / 2932\n",
      "584 / 2932\n",
      "730 / 2932\n",
      "876 / 2932\n",
      "1022 / 2932\n",
      "1168 / 2932\n",
      "1314 / 2932\n",
      "1460 / 2932\n",
      "1606 / 2932\n",
      "1752 / 2932\n",
      "1898 / 2932\n",
      "2044 / 2932\n",
      "2190 / 2932\n",
      "2336 / 2932\n",
      "2482 / 2932\n",
      "2628 / 2932\n",
      "2774 / 2932\n",
      "2920 / 2932\n",
      "Method: Nearest Neighbour w/o PK Loss\n",
      "RVAE w/ Raw Feature\n",
      "Method: MWOC w/o PK Loss\n",
      "Method: MWOC w/ PK Loss\n"
     ]
    },
    {
     "name": "stderr",
     "output_type": "stream",
     "text": [
      "/opt/conda/lib/python3.7/site-packages/sklearn/linear_model/_logistic.py:940: ConvergenceWarning: lbfgs failed to converge (status=1):\n",
      "STOP: TOTAL NO. of ITERATIONS REACHED LIMIT.\n",
      "\n",
      "Increase the number of iterations (max_iter) or scale the data as shown in:\n",
      "    https://scikit-learn.org/stable/modules/preprocessing.html\n",
      "Please also refer to the documentation for alternative solver options:\n",
      "    https://scikit-learn.org/stable/modules/linear_model.html#logistic-regression\n",
      "  extra_warning_msg=_LOGISTIC_SOLVER_CONVERGENCE_MSG)\n"
     ]
    },
    {
     "name": "stdout",
     "output_type": "stream",
     "text": [
      "noise type: normal magnitude: 0.100000\n",
      "noise type: normal magnitude: 0.500000\n",
      "noise type: uniform magnitude: 0.100000\n",
      "noise type: uniform magnitude: 0.500000\n",
      "noise type: uniform magnitude: -0.100000\n",
      "noise type: uniform magnitude: -0.500000\n",
      "noise type: bernoulli magnitude: 0.100000\n",
      "noise type: bernoulli magnitude: 0.500000\n",
      "noise type: bernoulli magnitude: -0.100000\n",
      "noise type: bernoulli magnitude: -0.500000\n",
      "Method: Calibrated Confidence Score w/o PK Loss\n",
      "############################################\n",
      "#                    4                     #\n",
      "############################################\n",
      "Use Encoding: 1\n",
      "CrossEntropy Loss: 0.000000 MSE Loss: 3.626287 Time elapsed: 3.245845 s\n",
      "CrossEntropy Loss: 0.000000 MSE Loss: 3.556378 Time elapsed: 0.801931 s\n",
      "Method: Raw Feature w/o PK Loss\n",
      "Method: Raw Feature w/ PK Loss\n",
      "Method: PK Loss Only\n"
     ]
    },
    {
     "name": "stderr",
     "output_type": "stream",
     "text": [
      "/opt/conda/lib/python3.7/site-packages/sklearn/svm/_base.py:947: ConvergenceWarning: Liblinear failed to converge, increase the number of iterations.\n",
      "  \"the number of iterations.\", ConvergenceWarning)\n"
     ]
    },
    {
     "name": "stdout",
     "output_type": "stream",
     "text": [
      "0 / 11780\n",
      "589 / 11780\n",
      "1178 / 11780\n",
      "1767 / 11780\n",
      "2356 / 11780\n",
      "2945 / 11780\n",
      "3534 / 11780\n",
      "4123 / 11780\n",
      "4712 / 11780\n",
      "5301 / 11780\n",
      "5890 / 11780\n",
      "6479 / 11780\n",
      "7068 / 11780\n",
      "7657 / 11780\n",
      "8246 / 11780\n",
      "8835 / 11780\n",
      "9424 / 11780\n",
      "10013 / 11780\n",
      "10602 / 11780\n",
      "11191 / 11780\n"
     ]
    },
    {
     "name": "stderr",
     "output_type": "stream",
     "text": [
      "/opt/conda/lib/python3.7/site-packages/sklearn/svm/_base.py:947: ConvergenceWarning: Liblinear failed to converge, increase the number of iterations.\n",
      "  \"the number of iterations.\", ConvergenceWarning)\n"
     ]
    },
    {
     "name": "stdout",
     "output_type": "stream",
     "text": [
      "0 / 2936\n",
      "146 / 2936\n",
      "292 / 2936\n",
      "438 / 2936\n",
      "584 / 2936\n",
      "730 / 2936\n",
      "876 / 2936\n",
      "1022 / 2936\n",
      "1168 / 2936\n",
      "1314 / 2936\n",
      "1460 / 2936\n",
      "1606 / 2936\n",
      "1752 / 2936\n",
      "1898 / 2936\n",
      "2044 / 2936\n",
      "2190 / 2936\n",
      "2336 / 2936\n",
      "2482 / 2936\n",
      "2628 / 2936\n",
      "2774 / 2936\n",
      "2920 / 2936\n",
      "Method: Nearest Neighbour w/o PK Loss\n",
      "RVAE w/ Raw Feature\n",
      "Method: MWOC w/o PK Loss\n",
      "Method: MWOC w/ PK Loss\n"
     ]
    },
    {
     "name": "stderr",
     "output_type": "stream",
     "text": [
      "/opt/conda/lib/python3.7/site-packages/sklearn/linear_model/_logistic.py:940: ConvergenceWarning: lbfgs failed to converge (status=1):\n",
      "STOP: TOTAL NO. of ITERATIONS REACHED LIMIT.\n",
      "\n",
      "Increase the number of iterations (max_iter) or scale the data as shown in:\n",
      "    https://scikit-learn.org/stable/modules/preprocessing.html\n",
      "Please also refer to the documentation for alternative solver options:\n",
      "    https://scikit-learn.org/stable/modules/linear_model.html#logistic-regression\n",
      "  extra_warning_msg=_LOGISTIC_SOLVER_CONVERGENCE_MSG)\n"
     ]
    },
    {
     "name": "stdout",
     "output_type": "stream",
     "text": [
      "noise type: normal magnitude: 0.100000\n",
      "noise type: normal magnitude: 0.500000\n",
      "noise type: uniform magnitude: 0.100000\n",
      "noise type: uniform magnitude: 0.500000\n",
      "noise type: uniform magnitude: -0.100000\n",
      "noise type: uniform magnitude: -0.500000\n",
      "noise type: bernoulli magnitude: 0.100000\n",
      "noise type: bernoulli magnitude: 0.500000\n",
      "noise type: bernoulli magnitude: -0.100000\n",
      "noise type: bernoulli magnitude: -0.500000\n",
      "Method: Calibrated Confidence Score w/o PK Loss\n",
      "The artificial noise is exact.\n",
      "Noise Type: system, Model: nn, Level: medium\n",
      "############################################\n",
      "#                    0                     #\n",
      "############################################\n",
      "Use Encoding: 1\n",
      "CrossEntropy Loss: 0.000000 MSE Loss: 3.552904 Time elapsed: 10.895902 s\n",
      "CrossEntropy Loss: 0.000000 MSE Loss: 0.945915 Time elapsed: 2.474667 s\n",
      "Method: Raw Feature w/o PK Loss\n",
      "Method: Raw Feature w/ PK Loss\n",
      "Method: PK Loss Only\n"
     ]
    },
    {
     "name": "stderr",
     "output_type": "stream",
     "text": [
      "/opt/conda/lib/python3.7/site-packages/sklearn/svm/_base.py:947: ConvergenceWarning: Liblinear failed to converge, increase the number of iterations.\n",
      "  \"the number of iterations.\", ConvergenceWarning)\n"
     ]
    },
    {
     "name": "stdout",
     "output_type": "stream",
     "text": [
      "0 / 15316\n",
      "765 / 15316\n",
      "1530 / 15316\n",
      "2295 / 15316\n",
      "3060 / 15316\n",
      "3825 / 15316\n",
      "4590 / 15316\n",
      "5355 / 15316\n",
      "6120 / 15316\n",
      "6885 / 15316\n",
      "7650 / 15316\n",
      "8415 / 15316\n",
      "9180 / 15316\n",
      "9945 / 15316\n",
      "10710 / 15316\n",
      "11475 / 15316\n",
      "12240 / 15316\n",
      "13005 / 15316\n",
      "13770 / 15316\n",
      "14535 / 15316\n",
      "15300 / 15316\n"
     ]
    },
    {
     "name": "stderr",
     "output_type": "stream",
     "text": [
      "/opt/conda/lib/python3.7/site-packages/sklearn/svm/_base.py:947: ConvergenceWarning: Liblinear failed to converge, increase the number of iterations.\n",
      "  \"the number of iterations.\", ConvergenceWarning)\n"
     ]
    },
    {
     "name": "stdout",
     "output_type": "stream",
     "text": [
      "0 / 3104\n",
      "155 / 3104\n",
      "310 / 3104\n",
      "465 / 3104\n",
      "620 / 3104\n",
      "775 / 3104\n",
      "930 / 3104\n",
      "1085 / 3104\n",
      "1240 / 3104\n",
      "1395 / 3104\n",
      "1550 / 3104\n",
      "1705 / 3104\n",
      "1860 / 3104\n",
      "2015 / 3104\n",
      "2170 / 3104\n",
      "2325 / 3104\n",
      "2480 / 3104\n",
      "2635 / 3104\n",
      "2790 / 3104\n",
      "2945 / 3104\n",
      "3100 / 3104\n",
      "Method: Nearest Neighbour w/o PK Loss\n",
      "RVAE w/ Raw Feature\n",
      "Method: MWOC w/o PK Loss\n",
      "Method: MWOC w/ PK Loss\n",
      "noise type: normal magnitude: 0.100000\n",
      "noise type: normal magnitude: 0.500000\n",
      "noise type: uniform magnitude: 0.100000\n",
      "noise type: uniform magnitude: 0.500000\n",
      "noise type: uniform magnitude: -0.100000\n",
      "noise type: uniform magnitude: -0.500000\n",
      "noise type: bernoulli magnitude: 0.100000\n",
      "noise type: bernoulli magnitude: 0.500000\n",
      "noise type: bernoulli magnitude: -0.100000\n",
      "noise type: bernoulli magnitude: -0.500000\n",
      "Method: Calibrated Confidence Score w/o PK Loss\n",
      "############################################\n",
      "#                    1                     #\n",
      "############################################\n",
      "Use Encoding: 1\n",
      "CrossEntropy Loss: 0.000000 MSE Loss: 3.630508 Time elapsed: 4.368251 s\n",
      "CrossEntropy Loss: 0.000000 MSE Loss: 0.939231 Time elapsed: 1.019615 s\n",
      "Method: Raw Feature w/o PK Loss\n",
      "Method: Raw Feature w/ PK Loss\n",
      "Method: PK Loss Only\n"
     ]
    },
    {
     "name": "stderr",
     "output_type": "stream",
     "text": [
      "/opt/conda/lib/python3.7/site-packages/sklearn/svm/_base.py:947: ConvergenceWarning: Liblinear failed to converge, increase the number of iterations.\n",
      "  \"the number of iterations.\", ConvergenceWarning)\n"
     ]
    },
    {
     "name": "stdout",
     "output_type": "stream",
     "text": [
      "0 / 15136\n",
      "756 / 15136\n",
      "1512 / 15136\n",
      "2268 / 15136\n",
      "3024 / 15136\n",
      "3780 / 15136\n",
      "4536 / 15136\n",
      "5292 / 15136\n",
      "6048 / 15136\n",
      "6804 / 15136\n",
      "7560 / 15136\n",
      "8316 / 15136\n",
      "9072 / 15136\n",
      "9828 / 15136\n",
      "10584 / 15136\n",
      "11340 / 15136\n",
      "12096 / 15136\n",
      "12852 / 15136\n",
      "13608 / 15136\n",
      "14364 / 15136\n",
      "15120 / 15136\n"
     ]
    },
    {
     "name": "stderr",
     "output_type": "stream",
     "text": [
      "/opt/conda/lib/python3.7/site-packages/sklearn/svm/_base.py:947: ConvergenceWarning: Liblinear failed to converge, increase the number of iterations.\n",
      "  \"the number of iterations.\", ConvergenceWarning)\n"
     ]
    },
    {
     "name": "stdout",
     "output_type": "stream",
     "text": [
      "0 / 3076\n",
      "153 / 3076\n",
      "306 / 3076\n",
      "459 / 3076\n",
      "612 / 3076\n",
      "765 / 3076\n",
      "918 / 3076\n",
      "1071 / 3076\n",
      "1224 / 3076\n",
      "1377 / 3076\n",
      "1530 / 3076\n",
      "1683 / 3076\n",
      "1836 / 3076\n",
      "1989 / 3076\n",
      "2142 / 3076\n",
      "2295 / 3076\n",
      "2448 / 3076\n",
      "2601 / 3076\n",
      "2754 / 3076\n",
      "2907 / 3076\n",
      "3060 / 3076\n",
      "Method: Nearest Neighbour w/o PK Loss\n",
      "RVAE w/ Raw Feature\n",
      "Method: MWOC w/o PK Loss\n",
      "Method: MWOC w/ PK Loss\n",
      "noise type: normal magnitude: 0.100000\n",
      "noise type: normal magnitude: 0.500000\n",
      "noise type: uniform magnitude: 0.100000\n",
      "noise type: uniform magnitude: 0.500000\n",
      "noise type: uniform magnitude: -0.100000\n",
      "noise type: uniform magnitude: -0.500000\n",
      "noise type: bernoulli magnitude: 0.100000\n",
      "noise type: bernoulli magnitude: 0.500000\n",
      "noise type: bernoulli magnitude: -0.100000\n",
      "noise type: bernoulli magnitude: -0.500000\n",
      "Method: Calibrated Confidence Score w/o PK Loss\n",
      "############################################\n",
      "#                    2                     #\n",
      "############################################\n",
      "Use Encoding: 1\n",
      "CrossEntropy Loss: 0.000000 MSE Loss: 3.397494 Time elapsed: 4.049587 s\n",
      "CrossEntropy Loss: 0.000000 MSE Loss: 0.925062 Time elapsed: 0.817923 s\n",
      "Method: Raw Feature w/o PK Loss\n",
      "Method: Raw Feature w/ PK Loss\n",
      "Method: PK Loss Only\n"
     ]
    },
    {
     "name": "stderr",
     "output_type": "stream",
     "text": [
      "/opt/conda/lib/python3.7/site-packages/sklearn/svm/_base.py:947: ConvergenceWarning: Liblinear failed to converge, increase the number of iterations.\n",
      "  \"the number of iterations.\", ConvergenceWarning)\n"
     ]
    },
    {
     "name": "stdout",
     "output_type": "stream",
     "text": [
      "0 / 14968\n",
      "748 / 14968\n",
      "1496 / 14968\n",
      "2244 / 14968\n",
      "2992 / 14968\n",
      "3740 / 14968\n",
      "4488 / 14968\n",
      "5236 / 14968\n",
      "5984 / 14968\n",
      "6732 / 14968\n",
      "7480 / 14968\n",
      "8228 / 14968\n",
      "8976 / 14968\n",
      "9724 / 14968\n",
      "10472 / 14968\n",
      "11220 / 14968\n",
      "11968 / 14968\n",
      "12716 / 14968\n",
      "13464 / 14968\n",
      "14212 / 14968\n",
      "14960 / 14968\n"
     ]
    },
    {
     "name": "stderr",
     "output_type": "stream",
     "text": [
      "/opt/conda/lib/python3.7/site-packages/sklearn/svm/_base.py:947: ConvergenceWarning: Liblinear failed to converge, increase the number of iterations.\n",
      "  \"the number of iterations.\", ConvergenceWarning)\n"
     ]
    },
    {
     "name": "stdout",
     "output_type": "stream",
     "text": [
      "0 / 3000\n",
      "150 / 3000\n",
      "300 / 3000\n",
      "450 / 3000\n",
      "600 / 3000\n",
      "750 / 3000\n",
      "900 / 3000\n",
      "1050 / 3000\n",
      "1200 / 3000\n",
      "1350 / 3000\n",
      "1500 / 3000\n",
      "1650 / 3000\n",
      "1800 / 3000\n",
      "1950 / 3000\n",
      "2100 / 3000\n",
      "2250 / 3000\n",
      "2400 / 3000\n",
      "2550 / 3000\n",
      "2700 / 3000\n",
      "2850 / 3000\n",
      "Method: Nearest Neighbour w/o PK Loss\n",
      "RVAE w/ Raw Feature\n",
      "Method: MWOC w/o PK Loss\n",
      "Method: MWOC w/ PK Loss\n",
      "noise type: normal magnitude: 0.100000\n",
      "noise type: normal magnitude: 0.500000\n",
      "noise type: uniform magnitude: 0.100000\n",
      "noise type: uniform magnitude: 0.500000\n",
      "noise type: uniform magnitude: -0.100000\n",
      "noise type: uniform magnitude: -0.500000\n",
      "noise type: bernoulli magnitude: 0.100000\n",
      "noise type: bernoulli magnitude: 0.500000\n",
      "noise type: bernoulli magnitude: -0.100000\n",
      "noise type: bernoulli magnitude: -0.500000\n",
      "Method: Calibrated Confidence Score w/o PK Loss\n",
      "############################################\n",
      "#                    3                     #\n",
      "############################################\n",
      "Use Encoding: 1\n",
      "CrossEntropy Loss: 0.000000 MSE Loss: 3.660306 Time elapsed: 11.150161 s\n",
      "CrossEntropy Loss: 0.000000 MSE Loss: 1.050738 Time elapsed: 2.463279 s\n",
      "Method: Raw Feature w/o PK Loss\n",
      "Method: Raw Feature w/ PK Loss\n",
      "Method: PK Loss Only\n"
     ]
    },
    {
     "name": "stderr",
     "output_type": "stream",
     "text": [
      "/opt/conda/lib/python3.7/site-packages/sklearn/svm/_base.py:947: ConvergenceWarning: Liblinear failed to converge, increase the number of iterations.\n",
      "  \"the number of iterations.\", ConvergenceWarning)\n"
     ]
    },
    {
     "name": "stdout",
     "output_type": "stream",
     "text": [
      "0 / 15424\n",
      "771 / 15424\n",
      "1542 / 15424\n",
      "2313 / 15424\n",
      "3084 / 15424\n",
      "3855 / 15424\n",
      "4626 / 15424\n",
      "5397 / 15424\n",
      "6168 / 15424\n",
      "6939 / 15424\n",
      "7710 / 15424\n",
      "8481 / 15424\n",
      "9252 / 15424\n",
      "10023 / 15424\n",
      "10794 / 15424\n",
      "11565 / 15424\n",
      "12336 / 15424\n",
      "13107 / 15424\n",
      "13878 / 15424\n",
      "14649 / 15424\n",
      "15420 / 15424\n"
     ]
    },
    {
     "name": "stderr",
     "output_type": "stream",
     "text": [
      "/opt/conda/lib/python3.7/site-packages/sklearn/svm/_base.py:947: ConvergenceWarning: Liblinear failed to converge, increase the number of iterations.\n",
      "  \"the number of iterations.\", ConvergenceWarning)\n"
     ]
    },
    {
     "name": "stdout",
     "output_type": "stream",
     "text": [
      "0 / 3096\n",
      "154 / 3096\n",
      "308 / 3096\n",
      "462 / 3096\n",
      "616 / 3096\n",
      "770 / 3096\n",
      "924 / 3096\n",
      "1078 / 3096\n",
      "1232 / 3096\n",
      "1386 / 3096\n",
      "1540 / 3096\n",
      "1694 / 3096\n",
      "1848 / 3096\n",
      "2002 / 3096\n",
      "2156 / 3096\n",
      "2310 / 3096\n",
      "2464 / 3096\n",
      "2618 / 3096\n",
      "2772 / 3096\n",
      "2926 / 3096\n",
      "3080 / 3096\n",
      "Method: Nearest Neighbour w/o PK Loss\n",
      "RVAE w/ Raw Feature\n",
      "Method: MWOC w/o PK Loss\n",
      "Method: MWOC w/ PK Loss\n",
      "noise type: normal magnitude: 0.100000\n",
      "noise type: normal magnitude: 0.500000\n",
      "noise type: uniform magnitude: 0.100000\n",
      "noise type: uniform magnitude: 0.500000\n",
      "noise type: uniform magnitude: -0.100000\n",
      "noise type: uniform magnitude: -0.500000\n",
      "noise type: bernoulli magnitude: 0.100000\n",
      "noise type: bernoulli magnitude: 0.500000\n",
      "noise type: bernoulli magnitude: -0.100000\n",
      "noise type: bernoulli magnitude: -0.500000\n",
      "Method: Calibrated Confidence Score w/o PK Loss\n",
      "############################################\n",
      "#                    4                     #\n",
      "############################################\n",
      "Use Encoding: 1\n",
      "CrossEntropy Loss: 0.000000 MSE Loss: 3.397612 Time elapsed: 4.341024 s\n",
      "CrossEntropy Loss: 0.000000 MSE Loss: 0.932492 Time elapsed: 0.971915 s\n",
      "Method: Raw Feature w/o PK Loss\n",
      "Method: Raw Feature w/ PK Loss\n",
      "Method: PK Loss Only\n"
     ]
    },
    {
     "name": "stderr",
     "output_type": "stream",
     "text": [
      "/opt/conda/lib/python3.7/site-packages/sklearn/svm/_base.py:947: ConvergenceWarning: Liblinear failed to converge, increase the number of iterations.\n",
      "  \"the number of iterations.\", ConvergenceWarning)\n"
     ]
    },
    {
     "name": "stdout",
     "output_type": "stream",
     "text": [
      "0 / 15184\n",
      "759 / 15184\n",
      "1518 / 15184\n",
      "2277 / 15184\n",
      "3036 / 15184\n",
      "3795 / 15184\n",
      "4554 / 15184\n",
      "5313 / 15184\n",
      "6072 / 15184\n",
      "6831 / 15184\n",
      "7590 / 15184\n",
      "8349 / 15184\n",
      "9108 / 15184\n",
      "9867 / 15184\n",
      "10626 / 15184\n",
      "11385 / 15184\n",
      "12144 / 15184\n",
      "12903 / 15184\n",
      "13662 / 15184\n",
      "14421 / 15184\n",
      "15180 / 15184\n"
     ]
    },
    {
     "name": "stderr",
     "output_type": "stream",
     "text": [
      "/opt/conda/lib/python3.7/site-packages/sklearn/svm/_base.py:947: ConvergenceWarning: Liblinear failed to converge, increase the number of iterations.\n",
      "  \"the number of iterations.\", ConvergenceWarning)\n"
     ]
    },
    {
     "name": "stdout",
     "output_type": "stream",
     "text": [
      "0 / 3204\n",
      "160 / 3204\n",
      "320 / 3204\n",
      "480 / 3204\n",
      "640 / 3204\n",
      "800 / 3204\n",
      "960 / 3204\n",
      "1120 / 3204\n",
      "1280 / 3204\n",
      "1440 / 3204\n",
      "1600 / 3204\n",
      "1760 / 3204\n",
      "1920 / 3204\n",
      "2080 / 3204\n",
      "2240 / 3204\n",
      "2400 / 3204\n",
      "2560 / 3204\n",
      "2720 / 3204\n",
      "2880 / 3204\n",
      "3040 / 3204\n",
      "3200 / 3204\n",
      "Method: Nearest Neighbour w/o PK Loss\n",
      "RVAE w/ Raw Feature\n",
      "Method: MWOC w/o PK Loss\n",
      "Method: MWOC w/ PK Loss\n",
      "noise type: normal magnitude: 0.100000\n",
      "noise type: normal magnitude: 0.500000\n",
      "noise type: uniform magnitude: 0.100000\n",
      "noise type: uniform magnitude: 0.500000\n",
      "noise type: uniform magnitude: -0.100000\n",
      "noise type: uniform magnitude: -0.500000\n",
      "noise type: bernoulli magnitude: 0.100000\n",
      "noise type: bernoulli magnitude: 0.500000\n",
      "noise type: bernoulli magnitude: -0.100000\n",
      "noise type: bernoulli magnitude: -0.500000\n",
      "Method: Calibrated Confidence Score w/o PK Loss\n",
      "The artificial noise is exact.\n",
      "Noise Type: system, Model: svm, Level: medium\n",
      "############################################\n",
      "#                    0                     #\n",
      "############################################\n",
      "Use Encoding: 1\n",
      "CrossEntropy Loss: 0.000000 MSE Loss: 3.771279 Time elapsed: 7.869173 s\n",
      "CrossEntropy Loss: 0.000000 MSE Loss: 0.929405 Time elapsed: 2.073314 s\n"
     ]
    },
    {
     "name": "stderr",
     "output_type": "stream",
     "text": [
      "/opt/conda/lib/python3.7/site-packages/sklearn/svm/_base.py:947: ConvergenceWarning: Liblinear failed to converge, increase the number of iterations.\n",
      "  \"the number of iterations.\", ConvergenceWarning)\n"
     ]
    },
    {
     "name": "stdout",
     "output_type": "stream",
     "text": [
      "Method: Raw Feature w/o PK Loss\n",
      "Method: Raw Feature w/ PK Loss\n",
      "Method: PK Loss Only\n"
     ]
    },
    {
     "name": "stderr",
     "output_type": "stream",
     "text": [
      "/opt/conda/lib/python3.7/site-packages/sklearn/svm/_base.py:947: ConvergenceWarning: Liblinear failed to converge, increase the number of iterations.\n",
      "  \"the number of iterations.\", ConvergenceWarning)\n"
     ]
    },
    {
     "name": "stdout",
     "output_type": "stream",
     "text": [
      "0 / 11768\n",
      "588 / 11768\n",
      "1176 / 11768\n",
      "1764 / 11768\n",
      "2352 / 11768\n",
      "2940 / 11768\n",
      "3528 / 11768\n",
      "4116 / 11768\n",
      "4704 / 11768\n",
      "5292 / 11768\n",
      "5880 / 11768\n",
      "6468 / 11768\n",
      "7056 / 11768\n",
      "7644 / 11768\n",
      "8232 / 11768\n",
      "8820 / 11768\n",
      "9408 / 11768\n",
      "9996 / 11768\n",
      "10584 / 11768\n",
      "11172 / 11768\n",
      "11760 / 11768\n"
     ]
    },
    {
     "name": "stderr",
     "output_type": "stream",
     "text": [
      "/opt/conda/lib/python3.7/site-packages/sklearn/svm/_base.py:947: ConvergenceWarning: Liblinear failed to converge, increase the number of iterations.\n",
      "  \"the number of iterations.\", ConvergenceWarning)\n"
     ]
    },
    {
     "name": "stdout",
     "output_type": "stream",
     "text": [
      "0 / 2952\n",
      "147 / 2952\n",
      "294 / 2952\n",
      "441 / 2952\n",
      "588 / 2952\n",
      "735 / 2952\n",
      "882 / 2952\n",
      "1029 / 2952\n",
      "1176 / 2952\n",
      "1323 / 2952\n",
      "1470 / 2952\n",
      "1617 / 2952\n",
      "1764 / 2952\n",
      "1911 / 2952\n",
      "2058 / 2952\n",
      "2205 / 2952\n",
      "2352 / 2952\n",
      "2499 / 2952\n",
      "2646 / 2952\n",
      "2793 / 2952\n",
      "2940 / 2952\n",
      "Method: Nearest Neighbour w/o PK Loss\n",
      "RVAE w/ Raw Feature\n",
      "Method: MWOC w/o PK Loss\n"
     ]
    },
    {
     "name": "stderr",
     "output_type": "stream",
     "text": [
      "/opt/conda/lib/python3.7/site-packages/sklearn/svm/_base.py:947: ConvergenceWarning: Liblinear failed to converge, increase the number of iterations.\n",
      "  \"the number of iterations.\", ConvergenceWarning)\n"
     ]
    },
    {
     "name": "stdout",
     "output_type": "stream",
     "text": [
      "Method: MWOC w/ PK Loss\n"
     ]
    },
    {
     "name": "stderr",
     "output_type": "stream",
     "text": [
      "/opt/conda/lib/python3.7/site-packages/sklearn/svm/_base.py:947: ConvergenceWarning: Liblinear failed to converge, increase the number of iterations.\n",
      "  \"the number of iterations.\", ConvergenceWarning)\n"
     ]
    },
    {
     "name": "stdout",
     "output_type": "stream",
     "text": [
      "noise type: normal magnitude: 0.100000\n",
      "noise type: normal magnitude: 0.500000\n",
      "noise type: uniform magnitude: 0.100000\n",
      "noise type: uniform magnitude: 0.500000\n",
      "noise type: uniform magnitude: -0.100000\n",
      "noise type: uniform magnitude: -0.500000\n",
      "noise type: bernoulli magnitude: 0.100000\n",
      "noise type: bernoulli magnitude: 0.500000\n",
      "noise type: bernoulli magnitude: -0.100000\n",
      "noise type: bernoulli magnitude: -0.500000\n"
     ]
    },
    {
     "name": "stderr",
     "output_type": "stream",
     "text": [
      "/opt/conda/lib/python3.7/site-packages/sklearn/svm/_base.py:947: ConvergenceWarning: Liblinear failed to converge, increase the number of iterations.\n",
      "  \"the number of iterations.\", ConvergenceWarning)\n",
      "/opt/conda/lib/python3.7/site-packages/sklearn/svm/_base.py:947: ConvergenceWarning: Liblinear failed to converge, increase the number of iterations.\n",
      "  \"the number of iterations.\", ConvergenceWarning)\n",
      "/opt/conda/lib/python3.7/site-packages/sklearn/svm/_base.py:947: ConvergenceWarning: Liblinear failed to converge, increase the number of iterations.\n",
      "  \"the number of iterations.\", ConvergenceWarning)\n",
      "/opt/conda/lib/python3.7/site-packages/sklearn/svm/_base.py:947: ConvergenceWarning: Liblinear failed to converge, increase the number of iterations.\n",
      "  \"the number of iterations.\", ConvergenceWarning)\n",
      "/opt/conda/lib/python3.7/site-packages/sklearn/svm/_base.py:947: ConvergenceWarning: Liblinear failed to converge, increase the number of iterations.\n",
      "  \"the number of iterations.\", ConvergenceWarning)\n"
     ]
    },
    {
     "name": "stdout",
     "output_type": "stream",
     "text": [
      "Method: Calibrated Confidence Score w/o PK Loss\n",
      "############################################\n",
      "#                    1                     #\n",
      "############################################\n",
      "Use Encoding: 1\n",
      "CrossEntropy Loss: 0.000000 MSE Loss: 3.787667 Time elapsed: 3.247260 s\n",
      "CrossEntropy Loss: 0.000000 MSE Loss: 0.978231 Time elapsed: 0.805504 s\n"
     ]
    },
    {
     "name": "stderr",
     "output_type": "stream",
     "text": [
      "/opt/conda/lib/python3.7/site-packages/sklearn/svm/_base.py:947: ConvergenceWarning: Liblinear failed to converge, increase the number of iterations.\n",
      "  \"the number of iterations.\", ConvergenceWarning)\n"
     ]
    },
    {
     "name": "stdout",
     "output_type": "stream",
     "text": [
      "Method: Raw Feature w/o PK Loss\n",
      "Method: Raw Feature w/ PK Loss\n",
      "Method: PK Loss Only\n"
     ]
    },
    {
     "name": "stderr",
     "output_type": "stream",
     "text": [
      "/opt/conda/lib/python3.7/site-packages/sklearn/svm/_base.py:947: ConvergenceWarning: Liblinear failed to converge, increase the number of iterations.\n",
      "  \"the number of iterations.\", ConvergenceWarning)\n"
     ]
    },
    {
     "name": "stdout",
     "output_type": "stream",
     "text": [
      "0 / 11768\n",
      "588 / 11768\n",
      "1176 / 11768\n",
      "1764 / 11768\n",
      "2352 / 11768\n",
      "2940 / 11768\n",
      "3528 / 11768\n",
      "4116 / 11768\n",
      "4704 / 11768\n",
      "5292 / 11768\n",
      "5880 / 11768\n",
      "6468 / 11768\n",
      "7056 / 11768\n",
      "7644 / 11768\n",
      "8232 / 11768\n",
      "8820 / 11768\n",
      "9408 / 11768\n",
      "9996 / 11768\n",
      "10584 / 11768\n",
      "11172 / 11768\n",
      "11760 / 11768\n"
     ]
    },
    {
     "name": "stderr",
     "output_type": "stream",
     "text": [
      "/opt/conda/lib/python3.7/site-packages/sklearn/svm/_base.py:947: ConvergenceWarning: Liblinear failed to converge, increase the number of iterations.\n",
      "  \"the number of iterations.\", ConvergenceWarning)\n"
     ]
    },
    {
     "name": "stdout",
     "output_type": "stream",
     "text": [
      "0 / 2876\n",
      "143 / 2876\n",
      "286 / 2876\n",
      "429 / 2876\n",
      "572 / 2876\n",
      "715 / 2876\n",
      "858 / 2876\n",
      "1001 / 2876\n",
      "1144 / 2876\n",
      "1287 / 2876\n",
      "1430 / 2876\n",
      "1573 / 2876\n",
      "1716 / 2876\n",
      "1859 / 2876\n",
      "2002 / 2876\n",
      "2145 / 2876\n",
      "2288 / 2876\n",
      "2431 / 2876\n",
      "2574 / 2876\n",
      "2717 / 2876\n",
      "2860 / 2876\n",
      "Method: Nearest Neighbour w/o PK Loss\n",
      "RVAE w/ Raw Feature\n",
      "Method: MWOC w/o PK Loss\n"
     ]
    },
    {
     "name": "stderr",
     "output_type": "stream",
     "text": [
      "/opt/conda/lib/python3.7/site-packages/sklearn/svm/_base.py:947: ConvergenceWarning: Liblinear failed to converge, increase the number of iterations.\n",
      "  \"the number of iterations.\", ConvergenceWarning)\n"
     ]
    },
    {
     "name": "stdout",
     "output_type": "stream",
     "text": [
      "Method: MWOC w/ PK Loss\n"
     ]
    },
    {
     "name": "stderr",
     "output_type": "stream",
     "text": [
      "/opt/conda/lib/python3.7/site-packages/sklearn/svm/_base.py:947: ConvergenceWarning: Liblinear failed to converge, increase the number of iterations.\n",
      "  \"the number of iterations.\", ConvergenceWarning)\n"
     ]
    },
    {
     "name": "stdout",
     "output_type": "stream",
     "text": [
      "noise type: normal magnitude: 0.100000\n",
      "noise type: normal magnitude: 0.500000\n",
      "noise type: uniform magnitude: 0.100000\n",
      "noise type: uniform magnitude: 0.500000\n",
      "noise type: uniform magnitude: -0.100000\n",
      "noise type: uniform magnitude: -0.500000\n",
      "noise type: bernoulli magnitude: 0.100000\n",
      "noise type: bernoulli magnitude: 0.500000\n",
      "noise type: bernoulli magnitude: -0.100000\n",
      "noise type: bernoulli magnitude: -0.500000\n"
     ]
    },
    {
     "name": "stderr",
     "output_type": "stream",
     "text": [
      "/opt/conda/lib/python3.7/site-packages/sklearn/svm/_base.py:947: ConvergenceWarning: Liblinear failed to converge, increase the number of iterations.\n",
      "  \"the number of iterations.\", ConvergenceWarning)\n",
      "/opt/conda/lib/python3.7/site-packages/sklearn/svm/_base.py:947: ConvergenceWarning: Liblinear failed to converge, increase the number of iterations.\n",
      "  \"the number of iterations.\", ConvergenceWarning)\n",
      "/opt/conda/lib/python3.7/site-packages/sklearn/svm/_base.py:947: ConvergenceWarning: Liblinear failed to converge, increase the number of iterations.\n",
      "  \"the number of iterations.\", ConvergenceWarning)\n",
      "/opt/conda/lib/python3.7/site-packages/sklearn/svm/_base.py:947: ConvergenceWarning: Liblinear failed to converge, increase the number of iterations.\n",
      "  \"the number of iterations.\", ConvergenceWarning)\n",
      "/opt/conda/lib/python3.7/site-packages/sklearn/svm/_base.py:947: ConvergenceWarning: Liblinear failed to converge, increase the number of iterations.\n",
      "  \"the number of iterations.\", ConvergenceWarning)\n"
     ]
    },
    {
     "name": "stdout",
     "output_type": "stream",
     "text": [
      "Method: Calibrated Confidence Score w/o PK Loss\n",
      "############################################\n",
      "#                    2                     #\n",
      "############################################\n",
      "Use Encoding: 1\n",
      "CrossEntropy Loss: 0.000000 MSE Loss: 3.625851 Time elapsed: 3.308632 s\n",
      "CrossEntropy Loss: 0.000000 MSE Loss: 0.960537 Time elapsed: 0.807369 s\n"
     ]
    },
    {
     "name": "stderr",
     "output_type": "stream",
     "text": [
      "/opt/conda/lib/python3.7/site-packages/sklearn/svm/_base.py:947: ConvergenceWarning: Liblinear failed to converge, increase the number of iterations.\n",
      "  \"the number of iterations.\", ConvergenceWarning)\n"
     ]
    },
    {
     "name": "stdout",
     "output_type": "stream",
     "text": [
      "Method: Raw Feature w/o PK Loss\n",
      "Method: Raw Feature w/ PK Loss\n",
      "Method: PK Loss Only\n"
     ]
    },
    {
     "name": "stderr",
     "output_type": "stream",
     "text": [
      "/opt/conda/lib/python3.7/site-packages/sklearn/svm/_base.py:947: ConvergenceWarning: Liblinear failed to converge, increase the number of iterations.\n",
      "  \"the number of iterations.\", ConvergenceWarning)\n"
     ]
    },
    {
     "name": "stdout",
     "output_type": "stream",
     "text": [
      "0 / 11756\n",
      "587 / 11756\n",
      "1174 / 11756\n",
      "1761 / 11756\n",
      "2348 / 11756\n",
      "2935 / 11756\n",
      "3522 / 11756\n",
      "4109 / 11756\n",
      "4696 / 11756\n",
      "5283 / 11756\n",
      "5870 / 11756\n",
      "6457 / 11756\n",
      "7044 / 11756\n",
      "7631 / 11756\n",
      "8218 / 11756\n",
      "8805 / 11756\n",
      "9392 / 11756\n",
      "9979 / 11756\n",
      "10566 / 11756\n",
      "11153 / 11756\n",
      "11740 / 11756\n"
     ]
    },
    {
     "name": "stderr",
     "output_type": "stream",
     "text": [
      "/opt/conda/lib/python3.7/site-packages/sklearn/svm/_base.py:947: ConvergenceWarning: Liblinear failed to converge, increase the number of iterations.\n",
      "  \"the number of iterations.\", ConvergenceWarning)\n"
     ]
    },
    {
     "name": "stdout",
     "output_type": "stream",
     "text": [
      "0 / 2940\n",
      "147 / 2940\n",
      "294 / 2940\n",
      "441 / 2940\n",
      "588 / 2940\n",
      "735 / 2940\n",
      "882 / 2940\n",
      "1029 / 2940\n",
      "1176 / 2940\n",
      "1323 / 2940\n",
      "1470 / 2940\n",
      "1617 / 2940\n",
      "1764 / 2940\n",
      "1911 / 2940\n",
      "2058 / 2940\n",
      "2205 / 2940\n",
      "2352 / 2940\n",
      "2499 / 2940\n",
      "2646 / 2940\n",
      "2793 / 2940\n",
      "Method: Nearest Neighbour w/o PK Loss\n",
      "RVAE w/ Raw Feature\n",
      "Method: MWOC w/o PK Loss\n"
     ]
    },
    {
     "name": "stderr",
     "output_type": "stream",
     "text": [
      "/opt/conda/lib/python3.7/site-packages/sklearn/svm/_base.py:947: ConvergenceWarning: Liblinear failed to converge, increase the number of iterations.\n",
      "  \"the number of iterations.\", ConvergenceWarning)\n"
     ]
    },
    {
     "name": "stdout",
     "output_type": "stream",
     "text": [
      "Method: MWOC w/ PK Loss\n"
     ]
    },
    {
     "name": "stderr",
     "output_type": "stream",
     "text": [
      "/opt/conda/lib/python3.7/site-packages/sklearn/svm/_base.py:947: ConvergenceWarning: Liblinear failed to converge, increase the number of iterations.\n",
      "  \"the number of iterations.\", ConvergenceWarning)\n"
     ]
    },
    {
     "name": "stdout",
     "output_type": "stream",
     "text": [
      "noise type: normal magnitude: 0.100000\n",
      "noise type: normal magnitude: 0.500000\n",
      "noise type: uniform magnitude: 0.100000\n",
      "noise type: uniform magnitude: 0.500000\n",
      "noise type: uniform magnitude: -0.100000\n",
      "noise type: uniform magnitude: -0.500000\n",
      "noise type: bernoulli magnitude: 0.100000\n",
      "noise type: bernoulli magnitude: 0.500000\n",
      "noise type: bernoulli magnitude: -0.100000\n",
      "noise type: bernoulli magnitude: -0.500000\n"
     ]
    },
    {
     "name": "stderr",
     "output_type": "stream",
     "text": [
      "/opt/conda/lib/python3.7/site-packages/sklearn/svm/_base.py:947: ConvergenceWarning: Liblinear failed to converge, increase the number of iterations.\n",
      "  \"the number of iterations.\", ConvergenceWarning)\n",
      "/opt/conda/lib/python3.7/site-packages/sklearn/svm/_base.py:947: ConvergenceWarning: Liblinear failed to converge, increase the number of iterations.\n",
      "  \"the number of iterations.\", ConvergenceWarning)\n",
      "/opt/conda/lib/python3.7/site-packages/sklearn/svm/_base.py:947: ConvergenceWarning: Liblinear failed to converge, increase the number of iterations.\n",
      "  \"the number of iterations.\", ConvergenceWarning)\n",
      "/opt/conda/lib/python3.7/site-packages/sklearn/svm/_base.py:947: ConvergenceWarning: Liblinear failed to converge, increase the number of iterations.\n",
      "  \"the number of iterations.\", ConvergenceWarning)\n",
      "/opt/conda/lib/python3.7/site-packages/sklearn/svm/_base.py:947: ConvergenceWarning: Liblinear failed to converge, increase the number of iterations.\n",
      "  \"the number of iterations.\", ConvergenceWarning)\n"
     ]
    },
    {
     "name": "stdout",
     "output_type": "stream",
     "text": [
      "Method: Calibrated Confidence Score w/o PK Loss\n",
      "############################################\n",
      "#                    3                     #\n",
      "############################################\n",
      "Use Encoding: 1\n",
      "CrossEntropy Loss: 0.000000 MSE Loss: 3.913237 Time elapsed: 3.250790 s\n",
      "CrossEntropy Loss: 0.000000 MSE Loss: 0.968804 Time elapsed: 0.810223 s\n"
     ]
    },
    {
     "name": "stderr",
     "output_type": "stream",
     "text": [
      "/opt/conda/lib/python3.7/site-packages/sklearn/svm/_base.py:947: ConvergenceWarning: Liblinear failed to converge, increase the number of iterations.\n",
      "  \"the number of iterations.\", ConvergenceWarning)\n"
     ]
    },
    {
     "name": "stdout",
     "output_type": "stream",
     "text": [
      "Method: Raw Feature w/o PK Loss\n",
      "Method: Raw Feature w/ PK Loss\n",
      "Method: PK Loss Only\n"
     ]
    },
    {
     "name": "stderr",
     "output_type": "stream",
     "text": [
      "/opt/conda/lib/python3.7/site-packages/sklearn/svm/_base.py:947: ConvergenceWarning: Liblinear failed to converge, increase the number of iterations.\n",
      "  \"the number of iterations.\", ConvergenceWarning)\n"
     ]
    },
    {
     "name": "stdout",
     "output_type": "stream",
     "text": [
      "0 / 11844\n",
      "592 / 11844\n",
      "1184 / 11844\n",
      "1776 / 11844\n",
      "2368 / 11844\n",
      "2960 / 11844\n",
      "3552 / 11844\n",
      "4144 / 11844\n",
      "4736 / 11844\n",
      "5328 / 11844\n",
      "5920 / 11844\n",
      "6512 / 11844\n",
      "7104 / 11844\n",
      "7696 / 11844\n",
      "8288 / 11844\n",
      "8880 / 11844\n",
      "9472 / 11844\n",
      "10064 / 11844\n",
      "10656 / 11844\n",
      "11248 / 11844\n",
      "11840 / 11844\n"
     ]
    },
    {
     "name": "stderr",
     "output_type": "stream",
     "text": [
      "/opt/conda/lib/python3.7/site-packages/sklearn/svm/_base.py:947: ConvergenceWarning: Liblinear failed to converge, increase the number of iterations.\n",
      "  \"the number of iterations.\", ConvergenceWarning)\n"
     ]
    },
    {
     "name": "stdout",
     "output_type": "stream",
     "text": [
      "0 / 2924\n",
      "146 / 2924\n",
      "292 / 2924\n",
      "438 / 2924\n",
      "584 / 2924\n",
      "730 / 2924\n",
      "876 / 2924\n",
      "1022 / 2924\n",
      "1168 / 2924\n",
      "1314 / 2924\n",
      "1460 / 2924\n",
      "1606 / 2924\n",
      "1752 / 2924\n",
      "1898 / 2924\n",
      "2044 / 2924\n",
      "2190 / 2924\n",
      "2336 / 2924\n",
      "2482 / 2924\n",
      "2628 / 2924\n",
      "2774 / 2924\n",
      "2920 / 2924\n",
      "Method: Nearest Neighbour w/o PK Loss\n",
      "RVAE w/ Raw Feature\n",
      "Method: MWOC w/o PK Loss\n"
     ]
    },
    {
     "name": "stderr",
     "output_type": "stream",
     "text": [
      "/opt/conda/lib/python3.7/site-packages/sklearn/svm/_base.py:947: ConvergenceWarning: Liblinear failed to converge, increase the number of iterations.\n",
      "  \"the number of iterations.\", ConvergenceWarning)\n"
     ]
    },
    {
     "name": "stdout",
     "output_type": "stream",
     "text": [
      "Method: MWOC w/ PK Loss\n"
     ]
    },
    {
     "name": "stderr",
     "output_type": "stream",
     "text": [
      "/opt/conda/lib/python3.7/site-packages/sklearn/svm/_base.py:947: ConvergenceWarning: Liblinear failed to converge, increase the number of iterations.\n",
      "  \"the number of iterations.\", ConvergenceWarning)\n"
     ]
    },
    {
     "name": "stdout",
     "output_type": "stream",
     "text": [
      "noise type: normal magnitude: 0.100000\n",
      "noise type: normal magnitude: 0.500000\n",
      "noise type: uniform magnitude: 0.100000\n",
      "noise type: uniform magnitude: 0.500000\n",
      "noise type: uniform magnitude: -0.100000\n",
      "noise type: uniform magnitude: -0.500000\n",
      "noise type: bernoulli magnitude: 0.100000\n",
      "noise type: bernoulli magnitude: 0.500000\n",
      "noise type: bernoulli magnitude: -0.100000\n",
      "noise type: bernoulli magnitude: -0.500000\n"
     ]
    },
    {
     "name": "stderr",
     "output_type": "stream",
     "text": [
      "/opt/conda/lib/python3.7/site-packages/sklearn/svm/_base.py:947: ConvergenceWarning: Liblinear failed to converge, increase the number of iterations.\n",
      "  \"the number of iterations.\", ConvergenceWarning)\n",
      "/opt/conda/lib/python3.7/site-packages/sklearn/svm/_base.py:947: ConvergenceWarning: Liblinear failed to converge, increase the number of iterations.\n",
      "  \"the number of iterations.\", ConvergenceWarning)\n",
      "/opt/conda/lib/python3.7/site-packages/sklearn/svm/_base.py:947: ConvergenceWarning: Liblinear failed to converge, increase the number of iterations.\n",
      "  \"the number of iterations.\", ConvergenceWarning)\n",
      "/opt/conda/lib/python3.7/site-packages/sklearn/svm/_base.py:947: ConvergenceWarning: Liblinear failed to converge, increase the number of iterations.\n",
      "  \"the number of iterations.\", ConvergenceWarning)\n",
      "/opt/conda/lib/python3.7/site-packages/sklearn/svm/_base.py:947: ConvergenceWarning: Liblinear failed to converge, increase the number of iterations.\n",
      "  \"the number of iterations.\", ConvergenceWarning)\n"
     ]
    },
    {
     "name": "stdout",
     "output_type": "stream",
     "text": [
      "Method: Calibrated Confidence Score w/o PK Loss\n",
      "############################################\n",
      "#                    4                     #\n",
      "############################################\n",
      "Use Encoding: 1\n",
      "CrossEntropy Loss: 0.000000 MSE Loss: 3.544318 Time elapsed: 3.264625 s\n",
      "CrossEntropy Loss: 0.000000 MSE Loss: 0.912792 Time elapsed: 0.821454 s\n"
     ]
    },
    {
     "name": "stderr",
     "output_type": "stream",
     "text": [
      "/opt/conda/lib/python3.7/site-packages/sklearn/svm/_base.py:947: ConvergenceWarning: Liblinear failed to converge, increase the number of iterations.\n",
      "  \"the number of iterations.\", ConvergenceWarning)\n"
     ]
    },
    {
     "name": "stdout",
     "output_type": "stream",
     "text": [
      "Method: Raw Feature w/o PK Loss\n",
      "Method: Raw Feature w/ PK Loss\n",
      "Method: PK Loss Only\n"
     ]
    },
    {
     "name": "stderr",
     "output_type": "stream",
     "text": [
      "/opt/conda/lib/python3.7/site-packages/sklearn/svm/_base.py:947: ConvergenceWarning: Liblinear failed to converge, increase the number of iterations.\n",
      "  \"the number of iterations.\", ConvergenceWarning)\n"
     ]
    },
    {
     "name": "stdout",
     "output_type": "stream",
     "text": [
      "0 / 11772\n",
      "588 / 11772\n",
      "1176 / 11772\n",
      "1764 / 11772\n",
      "2352 / 11772\n",
      "2940 / 11772\n",
      "3528 / 11772\n",
      "4116 / 11772\n",
      "4704 / 11772\n",
      "5292 / 11772\n",
      "5880 / 11772\n",
      "6468 / 11772\n",
      "7056 / 11772\n",
      "7644 / 11772\n",
      "8232 / 11772\n",
      "8820 / 11772\n",
      "9408 / 11772\n",
      "9996 / 11772\n",
      "10584 / 11772\n",
      "11172 / 11772\n",
      "11760 / 11772\n"
     ]
    },
    {
     "name": "stderr",
     "output_type": "stream",
     "text": [
      "/opt/conda/lib/python3.7/site-packages/sklearn/svm/_base.py:947: ConvergenceWarning: Liblinear failed to converge, increase the number of iterations.\n",
      "  \"the number of iterations.\", ConvergenceWarning)\n"
     ]
    },
    {
     "name": "stdout",
     "output_type": "stream",
     "text": [
      "0 / 2944\n",
      "147 / 2944\n",
      "294 / 2944\n",
      "441 / 2944\n",
      "588 / 2944\n",
      "735 / 2944\n",
      "882 / 2944\n",
      "1029 / 2944\n",
      "1176 / 2944\n",
      "1323 / 2944\n",
      "1470 / 2944\n",
      "1617 / 2944\n",
      "1764 / 2944\n",
      "1911 / 2944\n",
      "2058 / 2944\n",
      "2205 / 2944\n",
      "2352 / 2944\n",
      "2499 / 2944\n",
      "2646 / 2944\n",
      "2793 / 2944\n",
      "2940 / 2944\n",
      "Method: Nearest Neighbour w/o PK Loss\n",
      "RVAE w/ Raw Feature\n",
      "Method: MWOC w/o PK Loss\n"
     ]
    },
    {
     "name": "stderr",
     "output_type": "stream",
     "text": [
      "/opt/conda/lib/python3.7/site-packages/sklearn/svm/_base.py:947: ConvergenceWarning: Liblinear failed to converge, increase the number of iterations.\n",
      "  \"the number of iterations.\", ConvergenceWarning)\n"
     ]
    },
    {
     "name": "stdout",
     "output_type": "stream",
     "text": [
      "Method: MWOC w/ PK Loss\n"
     ]
    },
    {
     "name": "stderr",
     "output_type": "stream",
     "text": [
      "/opt/conda/lib/python3.7/site-packages/sklearn/svm/_base.py:947: ConvergenceWarning: Liblinear failed to converge, increase the number of iterations.\n",
      "  \"the number of iterations.\", ConvergenceWarning)\n"
     ]
    },
    {
     "name": "stdout",
     "output_type": "stream",
     "text": [
      "noise type: normal magnitude: 0.100000\n",
      "noise type: normal magnitude: 0.500000\n",
      "noise type: uniform magnitude: 0.100000\n",
      "noise type: uniform magnitude: 0.500000\n",
      "noise type: uniform magnitude: -0.100000\n",
      "noise type: uniform magnitude: -0.500000\n",
      "noise type: bernoulli magnitude: 0.100000\n",
      "noise type: bernoulli magnitude: 0.500000\n",
      "noise type: bernoulli magnitude: -0.100000\n",
      "noise type: bernoulli magnitude: -0.500000\n"
     ]
    },
    {
     "name": "stderr",
     "output_type": "stream",
     "text": [
      "/opt/conda/lib/python3.7/site-packages/sklearn/svm/_base.py:947: ConvergenceWarning: Liblinear failed to converge, increase the number of iterations.\n",
      "  \"the number of iterations.\", ConvergenceWarning)\n",
      "/opt/conda/lib/python3.7/site-packages/sklearn/svm/_base.py:947: ConvergenceWarning: Liblinear failed to converge, increase the number of iterations.\n",
      "  \"the number of iterations.\", ConvergenceWarning)\n",
      "/opt/conda/lib/python3.7/site-packages/sklearn/svm/_base.py:947: ConvergenceWarning: Liblinear failed to converge, increase the number of iterations.\n",
      "  \"the number of iterations.\", ConvergenceWarning)\n",
      "/opt/conda/lib/python3.7/site-packages/sklearn/svm/_base.py:947: ConvergenceWarning: Liblinear failed to converge, increase the number of iterations.\n",
      "  \"the number of iterations.\", ConvergenceWarning)\n",
      "/opt/conda/lib/python3.7/site-packages/sklearn/svm/_base.py:947: ConvergenceWarning: Liblinear failed to converge, increase the number of iterations.\n",
      "  \"the number of iterations.\", ConvergenceWarning)\n"
     ]
    },
    {
     "name": "stdout",
     "output_type": "stream",
     "text": [
      "Method: Calibrated Confidence Score w/o PK Loss\n",
      "The artificial noise is exact.\n",
      "Noise Type: system, Model: lr, Level: medium\n",
      "############################################\n",
      "#                    0                     #\n",
      "############################################\n",
      "Use Encoding: 1\n",
      "CrossEntropy Loss: 0.000000 MSE Loss: 3.803607 Time elapsed: 3.270651 s\n",
      "CrossEntropy Loss: 0.000000 MSE Loss: 0.953959 Time elapsed: 0.822413 s\n",
      "Method: Raw Feature w/o PK Loss\n",
      "Method: Raw Feature w/ PK Loss\n",
      "Method: PK Loss Only\n"
     ]
    },
    {
     "name": "stderr",
     "output_type": "stream",
     "text": [
      "/opt/conda/lib/python3.7/site-packages/sklearn/svm/_base.py:947: ConvergenceWarning: Liblinear failed to converge, increase the number of iterations.\n",
      "  \"the number of iterations.\", ConvergenceWarning)\n"
     ]
    },
    {
     "name": "stdout",
     "output_type": "stream",
     "text": [
      "0 / 11740\n",
      "587 / 11740\n",
      "1174 / 11740\n",
      "1761 / 11740\n",
      "2348 / 11740\n",
      "2935 / 11740\n",
      "3522 / 11740\n",
      "4109 / 11740\n",
      "4696 / 11740\n",
      "5283 / 11740\n",
      "5870 / 11740\n",
      "6457 / 11740\n",
      "7044 / 11740\n",
      "7631 / 11740\n",
      "8218 / 11740\n",
      "8805 / 11740\n",
      "9392 / 11740\n",
      "9979 / 11740\n",
      "10566 / 11740\n",
      "11153 / 11740\n"
     ]
    },
    {
     "name": "stderr",
     "output_type": "stream",
     "text": [
      "/opt/conda/lib/python3.7/site-packages/sklearn/svm/_base.py:947: ConvergenceWarning: Liblinear failed to converge, increase the number of iterations.\n",
      "  \"the number of iterations.\", ConvergenceWarning)\n"
     ]
    },
    {
     "name": "stdout",
     "output_type": "stream",
     "text": [
      "0 / 2964\n",
      "148 / 2964\n",
      "296 / 2964\n",
      "444 / 2964\n",
      "592 / 2964\n",
      "740 / 2964\n",
      "888 / 2964\n",
      "1036 / 2964\n",
      "1184 / 2964\n",
      "1332 / 2964\n",
      "1480 / 2964\n",
      "1628 / 2964\n",
      "1776 / 2964\n",
      "1924 / 2964\n",
      "2072 / 2964\n",
      "2220 / 2964\n",
      "2368 / 2964\n",
      "2516 / 2964\n",
      "2664 / 2964\n",
      "2812 / 2964\n",
      "2960 / 2964\n",
      "Method: Nearest Neighbour w/o PK Loss\n",
      "RVAE w/ Raw Feature\n",
      "Method: MWOC w/o PK Loss\n",
      "Method: MWOC w/ PK Loss\n"
     ]
    },
    {
     "name": "stderr",
     "output_type": "stream",
     "text": [
      "/opt/conda/lib/python3.7/site-packages/sklearn/linear_model/_logistic.py:940: ConvergenceWarning: lbfgs failed to converge (status=1):\n",
      "STOP: TOTAL NO. of ITERATIONS REACHED LIMIT.\n",
      "\n",
      "Increase the number of iterations (max_iter) or scale the data as shown in:\n",
      "    https://scikit-learn.org/stable/modules/preprocessing.html\n",
      "Please also refer to the documentation for alternative solver options:\n",
      "    https://scikit-learn.org/stable/modules/linear_model.html#logistic-regression\n",
      "  extra_warning_msg=_LOGISTIC_SOLVER_CONVERGENCE_MSG)\n"
     ]
    },
    {
     "name": "stdout",
     "output_type": "stream",
     "text": [
      "noise type: normal magnitude: 0.100000\n",
      "noise type: normal magnitude: 0.500000\n",
      "noise type: uniform magnitude: 0.100000\n",
      "noise type: uniform magnitude: 0.500000\n",
      "noise type: uniform magnitude: -0.100000\n",
      "noise type: uniform magnitude: -0.500000\n",
      "noise type: bernoulli magnitude: 0.100000\n",
      "noise type: bernoulli magnitude: 0.500000\n",
      "noise type: bernoulli magnitude: -0.100000\n",
      "noise type: bernoulli magnitude: -0.500000\n",
      "Method: Calibrated Confidence Score w/o PK Loss\n",
      "############################################\n",
      "#                    1                     #\n",
      "############################################\n",
      "Use Encoding: 1\n",
      "CrossEntropy Loss: 0.000000 MSE Loss: 3.777972 Time elapsed: 3.305908 s\n",
      "CrossEntropy Loss: 0.000000 MSE Loss: 0.944657 Time elapsed: 0.798613 s\n",
      "Method: Raw Feature w/o PK Loss\n",
      "Method: Raw Feature w/ PK Loss\n",
      "Method: PK Loss Only\n"
     ]
    },
    {
     "name": "stderr",
     "output_type": "stream",
     "text": [
      "/opt/conda/lib/python3.7/site-packages/sklearn/svm/_base.py:947: ConvergenceWarning: Liblinear failed to converge, increase the number of iterations.\n",
      "  \"the number of iterations.\", ConvergenceWarning)\n"
     ]
    },
    {
     "name": "stdout",
     "output_type": "stream",
     "text": [
      "0 / 11808\n",
      "590 / 11808\n",
      "1180 / 11808\n",
      "1770 / 11808\n",
      "2360 / 11808\n",
      "2950 / 11808\n",
      "3540 / 11808\n",
      "4130 / 11808\n",
      "4720 / 11808\n",
      "5310 / 11808\n",
      "5900 / 11808\n",
      "6490 / 11808\n",
      "7080 / 11808\n",
      "7670 / 11808\n",
      "8260 / 11808\n",
      "8850 / 11808\n",
      "9440 / 11808\n",
      "10030 / 11808\n",
      "10620 / 11808\n",
      "11210 / 11808\n",
      "11800 / 11808\n"
     ]
    },
    {
     "name": "stderr",
     "output_type": "stream",
     "text": [
      "/opt/conda/lib/python3.7/site-packages/sklearn/svm/_base.py:947: ConvergenceWarning: Liblinear failed to converge, increase the number of iterations.\n",
      "  \"the number of iterations.\", ConvergenceWarning)\n"
     ]
    },
    {
     "name": "stdout",
     "output_type": "stream",
     "text": [
      "0 / 2856\n",
      "142 / 2856\n",
      "284 / 2856\n",
      "426 / 2856\n",
      "568 / 2856\n",
      "710 / 2856\n",
      "852 / 2856\n",
      "994 / 2856\n",
      "1136 / 2856\n",
      "1278 / 2856\n",
      "1420 / 2856\n",
      "1562 / 2856\n",
      "1704 / 2856\n",
      "1846 / 2856\n",
      "1988 / 2856\n",
      "2130 / 2856\n",
      "2272 / 2856\n",
      "2414 / 2856\n",
      "2556 / 2856\n",
      "2698 / 2856\n",
      "2840 / 2856\n",
      "Method: Nearest Neighbour w/o PK Loss\n",
      "RVAE w/ Raw Feature\n",
      "Method: MWOC w/o PK Loss\n",
      "Method: MWOC w/ PK Loss\n"
     ]
    },
    {
     "name": "stderr",
     "output_type": "stream",
     "text": [
      "/opt/conda/lib/python3.7/site-packages/sklearn/linear_model/_logistic.py:940: ConvergenceWarning: lbfgs failed to converge (status=1):\n",
      "STOP: TOTAL NO. of ITERATIONS REACHED LIMIT.\n",
      "\n",
      "Increase the number of iterations (max_iter) or scale the data as shown in:\n",
      "    https://scikit-learn.org/stable/modules/preprocessing.html\n",
      "Please also refer to the documentation for alternative solver options:\n",
      "    https://scikit-learn.org/stable/modules/linear_model.html#logistic-regression\n",
      "  extra_warning_msg=_LOGISTIC_SOLVER_CONVERGENCE_MSG)\n"
     ]
    },
    {
     "name": "stdout",
     "output_type": "stream",
     "text": [
      "noise type: normal magnitude: 0.100000\n",
      "noise type: normal magnitude: 0.500000\n",
      "noise type: uniform magnitude: 0.100000\n",
      "noise type: uniform magnitude: 0.500000\n",
      "noise type: uniform magnitude: -0.100000\n",
      "noise type: uniform magnitude: -0.500000\n",
      "noise type: bernoulli magnitude: 0.100000\n",
      "noise type: bernoulli magnitude: 0.500000\n",
      "noise type: bernoulli magnitude: -0.100000\n",
      "noise type: bernoulli magnitude: -0.500000\n",
      "Method: Calibrated Confidence Score w/o PK Loss\n",
      "############################################\n",
      "#                    2                     #\n",
      "############################################\n",
      "Use Encoding: 1\n",
      "CrossEntropy Loss: 0.000000 MSE Loss: 3.650458 Time elapsed: 3.269819 s\n",
      "CrossEntropy Loss: 0.000000 MSE Loss: 0.946117 Time elapsed: 0.805381 s\n",
      "Method: Raw Feature w/o PK Loss\n",
      "Method: Raw Feature w/ PK Loss\n",
      "Method: PK Loss Only\n"
     ]
    },
    {
     "name": "stderr",
     "output_type": "stream",
     "text": [
      "/opt/conda/lib/python3.7/site-packages/sklearn/svm/_base.py:947: ConvergenceWarning: Liblinear failed to converge, increase the number of iterations.\n",
      "  \"the number of iterations.\", ConvergenceWarning)\n"
     ]
    },
    {
     "name": "stdout",
     "output_type": "stream",
     "text": [
      "0 / 11788\n",
      "589 / 11788\n",
      "1178 / 11788\n",
      "1767 / 11788\n",
      "2356 / 11788\n",
      "2945 / 11788\n",
      "3534 / 11788\n",
      "4123 / 11788\n",
      "4712 / 11788\n",
      "5301 / 11788\n",
      "5890 / 11788\n",
      "6479 / 11788\n",
      "7068 / 11788\n",
      "7657 / 11788\n",
      "8246 / 11788\n",
      "8835 / 11788\n",
      "9424 / 11788\n",
      "10013 / 11788\n",
      "10602 / 11788\n",
      "11191 / 11788\n",
      "11780 / 11788\n"
     ]
    },
    {
     "name": "stderr",
     "output_type": "stream",
     "text": [
      "/opt/conda/lib/python3.7/site-packages/sklearn/svm/_base.py:947: ConvergenceWarning: Liblinear failed to converge, increase the number of iterations.\n",
      "  \"the number of iterations.\", ConvergenceWarning)\n"
     ]
    },
    {
     "name": "stdout",
     "output_type": "stream",
     "text": [
      "0 / 2928\n",
      "146 / 2928\n",
      "292 / 2928\n",
      "438 / 2928\n",
      "584 / 2928\n",
      "730 / 2928\n",
      "876 / 2928\n",
      "1022 / 2928\n",
      "1168 / 2928\n",
      "1314 / 2928\n",
      "1460 / 2928\n",
      "1606 / 2928\n",
      "1752 / 2928\n",
      "1898 / 2928\n",
      "2044 / 2928\n",
      "2190 / 2928\n",
      "2336 / 2928\n",
      "2482 / 2928\n",
      "2628 / 2928\n",
      "2774 / 2928\n",
      "2920 / 2928\n",
      "Method: Nearest Neighbour w/o PK Loss\n",
      "RVAE w/ Raw Feature\n",
      "Method: MWOC w/o PK Loss\n",
      "Method: MWOC w/ PK Loss\n"
     ]
    },
    {
     "name": "stderr",
     "output_type": "stream",
     "text": [
      "/opt/conda/lib/python3.7/site-packages/sklearn/linear_model/_logistic.py:940: ConvergenceWarning: lbfgs failed to converge (status=1):\n",
      "STOP: TOTAL NO. of ITERATIONS REACHED LIMIT.\n",
      "\n",
      "Increase the number of iterations (max_iter) or scale the data as shown in:\n",
      "    https://scikit-learn.org/stable/modules/preprocessing.html\n",
      "Please also refer to the documentation for alternative solver options:\n",
      "    https://scikit-learn.org/stable/modules/linear_model.html#logistic-regression\n",
      "  extra_warning_msg=_LOGISTIC_SOLVER_CONVERGENCE_MSG)\n"
     ]
    },
    {
     "name": "stdout",
     "output_type": "stream",
     "text": [
      "noise type: normal magnitude: 0.100000\n",
      "noise type: normal magnitude: 0.500000\n",
      "noise type: uniform magnitude: 0.100000\n",
      "noise type: uniform magnitude: 0.500000\n",
      "noise type: uniform magnitude: -0.100000\n",
      "noise type: uniform magnitude: -0.500000\n",
      "noise type: bernoulli magnitude: 0.100000\n",
      "noise type: bernoulli magnitude: 0.500000\n",
      "noise type: bernoulli magnitude: -0.100000\n",
      "noise type: bernoulli magnitude: -0.500000\n",
      "Method: Calibrated Confidence Score w/o PK Loss\n",
      "############################################\n",
      "#                    3                     #\n",
      "############################################\n",
      "Use Encoding: 1\n",
      "CrossEntropy Loss: 0.000000 MSE Loss: 3.975487 Time elapsed: 3.262990 s\n",
      "CrossEntropy Loss: 0.000000 MSE Loss: 0.946674 Time elapsed: 0.793042 s\n",
      "Method: Raw Feature w/o PK Loss\n",
      "Method: Raw Feature w/ PK Loss\n",
      "Method: PK Loss Only\n"
     ]
    },
    {
     "name": "stderr",
     "output_type": "stream",
     "text": [
      "/opt/conda/lib/python3.7/site-packages/sklearn/svm/_base.py:947: ConvergenceWarning: Liblinear failed to converge, increase the number of iterations.\n",
      "  \"the number of iterations.\", ConvergenceWarning)\n"
     ]
    },
    {
     "name": "stdout",
     "output_type": "stream",
     "text": [
      "0 / 11828\n",
      "591 / 11828\n",
      "1182 / 11828\n",
      "1773 / 11828\n",
      "2364 / 11828\n",
      "2955 / 11828\n",
      "3546 / 11828\n",
      "4137 / 11828\n",
      "4728 / 11828\n",
      "5319 / 11828\n",
      "5910 / 11828\n",
      "6501 / 11828\n",
      "7092 / 11828\n",
      "7683 / 11828\n",
      "8274 / 11828\n",
      "8865 / 11828\n",
      "9456 / 11828\n",
      "10047 / 11828\n",
      "10638 / 11828\n",
      "11229 / 11828\n",
      "11820 / 11828\n"
     ]
    },
    {
     "name": "stderr",
     "output_type": "stream",
     "text": [
      "/opt/conda/lib/python3.7/site-packages/sklearn/svm/_base.py:947: ConvergenceWarning: Liblinear failed to converge, increase the number of iterations.\n",
      "  \"the number of iterations.\", ConvergenceWarning)\n"
     ]
    },
    {
     "name": "stdout",
     "output_type": "stream",
     "text": [
      "0 / 2932\n",
      "146 / 2932\n",
      "292 / 2932\n",
      "438 / 2932\n",
      "584 / 2932\n",
      "730 / 2932\n",
      "876 / 2932\n",
      "1022 / 2932\n",
      "1168 / 2932\n",
      "1314 / 2932\n",
      "1460 / 2932\n",
      "1606 / 2932\n",
      "1752 / 2932\n",
      "1898 / 2932\n",
      "2044 / 2932\n",
      "2190 / 2932\n",
      "2336 / 2932\n",
      "2482 / 2932\n",
      "2628 / 2932\n",
      "2774 / 2932\n",
      "2920 / 2932\n",
      "Method: Nearest Neighbour w/o PK Loss\n",
      "RVAE w/ Raw Feature\n",
      "Method: MWOC w/o PK Loss\n",
      "Method: MWOC w/ PK Loss\n"
     ]
    },
    {
     "name": "stderr",
     "output_type": "stream",
     "text": [
      "/opt/conda/lib/python3.7/site-packages/sklearn/linear_model/_logistic.py:940: ConvergenceWarning: lbfgs failed to converge (status=1):\n",
      "STOP: TOTAL NO. of ITERATIONS REACHED LIMIT.\n",
      "\n",
      "Increase the number of iterations (max_iter) or scale the data as shown in:\n",
      "    https://scikit-learn.org/stable/modules/preprocessing.html\n",
      "Please also refer to the documentation for alternative solver options:\n",
      "    https://scikit-learn.org/stable/modules/linear_model.html#logistic-regression\n",
      "  extra_warning_msg=_LOGISTIC_SOLVER_CONVERGENCE_MSG)\n"
     ]
    },
    {
     "name": "stdout",
     "output_type": "stream",
     "text": [
      "noise type: normal magnitude: 0.100000\n",
      "noise type: normal magnitude: 0.500000\n",
      "noise type: uniform magnitude: 0.100000\n",
      "noise type: uniform magnitude: 0.500000\n",
      "noise type: uniform magnitude: -0.100000\n",
      "noise type: uniform magnitude: -0.500000\n",
      "noise type: bernoulli magnitude: 0.100000\n",
      "noise type: bernoulli magnitude: 0.500000\n",
      "noise type: bernoulli magnitude: -0.100000\n",
      "noise type: bernoulli magnitude: -0.500000\n",
      "Method: Calibrated Confidence Score w/o PK Loss\n",
      "############################################\n",
      "#                    4                     #\n",
      "############################################\n",
      "Use Encoding: 1\n",
      "CrossEntropy Loss: 0.000000 MSE Loss: 3.626287 Time elapsed: 3.240895 s\n",
      "CrossEntropy Loss: 0.000000 MSE Loss: 0.926175 Time elapsed: 0.805913 s\n",
      "Method: Raw Feature w/o PK Loss\n",
      "Method: Raw Feature w/ PK Loss\n",
      "Method: PK Loss Only\n"
     ]
    },
    {
     "name": "stderr",
     "output_type": "stream",
     "text": [
      "/opt/conda/lib/python3.7/site-packages/sklearn/svm/_base.py:947: ConvergenceWarning: Liblinear failed to converge, increase the number of iterations.\n",
      "  \"the number of iterations.\", ConvergenceWarning)\n"
     ]
    },
    {
     "name": "stdout",
     "output_type": "stream",
     "text": [
      "0 / 11780\n",
      "589 / 11780\n",
      "1178 / 11780\n",
      "1767 / 11780\n",
      "2356 / 11780\n",
      "2945 / 11780\n",
      "3534 / 11780\n",
      "4123 / 11780\n",
      "4712 / 11780\n",
      "5301 / 11780\n",
      "5890 / 11780\n",
      "6479 / 11780\n",
      "7068 / 11780\n",
      "7657 / 11780\n",
      "8246 / 11780\n",
      "8835 / 11780\n",
      "9424 / 11780\n",
      "10013 / 11780\n",
      "10602 / 11780\n",
      "11191 / 11780\n"
     ]
    },
    {
     "name": "stderr",
     "output_type": "stream",
     "text": [
      "/opt/conda/lib/python3.7/site-packages/sklearn/svm/_base.py:947: ConvergenceWarning: Liblinear failed to converge, increase the number of iterations.\n",
      "  \"the number of iterations.\", ConvergenceWarning)\n"
     ]
    },
    {
     "name": "stdout",
     "output_type": "stream",
     "text": [
      "0 / 2936\n",
      "146 / 2936\n",
      "292 / 2936\n",
      "438 / 2936\n",
      "584 / 2936\n",
      "730 / 2936\n",
      "876 / 2936\n",
      "1022 / 2936\n",
      "1168 / 2936\n",
      "1314 / 2936\n",
      "1460 / 2936\n",
      "1606 / 2936\n",
      "1752 / 2936\n",
      "1898 / 2936\n",
      "2044 / 2936\n",
      "2190 / 2936\n",
      "2336 / 2936\n",
      "2482 / 2936\n",
      "2628 / 2936\n",
      "2774 / 2936\n",
      "2920 / 2936\n",
      "Method: Nearest Neighbour w/o PK Loss\n",
      "RVAE w/ Raw Feature\n",
      "Method: MWOC w/o PK Loss\n",
      "Method: MWOC w/ PK Loss\n"
     ]
    },
    {
     "name": "stderr",
     "output_type": "stream",
     "text": [
      "/opt/conda/lib/python3.7/site-packages/sklearn/linear_model/_logistic.py:940: ConvergenceWarning: lbfgs failed to converge (status=1):\n",
      "STOP: TOTAL NO. of ITERATIONS REACHED LIMIT.\n",
      "\n",
      "Increase the number of iterations (max_iter) or scale the data as shown in:\n",
      "    https://scikit-learn.org/stable/modules/preprocessing.html\n",
      "Please also refer to the documentation for alternative solver options:\n",
      "    https://scikit-learn.org/stable/modules/linear_model.html#logistic-regression\n",
      "  extra_warning_msg=_LOGISTIC_SOLVER_CONVERGENCE_MSG)\n"
     ]
    },
    {
     "name": "stdout",
     "output_type": "stream",
     "text": [
      "noise type: normal magnitude: 0.100000\n",
      "noise type: normal magnitude: 0.500000\n",
      "noise type: uniform magnitude: 0.100000\n",
      "noise type: uniform magnitude: 0.500000\n",
      "noise type: uniform magnitude: -0.100000\n",
      "noise type: uniform magnitude: -0.500000\n",
      "noise type: bernoulli magnitude: 0.100000\n",
      "noise type: bernoulli magnitude: 0.500000\n",
      "noise type: bernoulli magnitude: -0.100000\n",
      "noise type: bernoulli magnitude: -0.500000\n",
      "Method: Calibrated Confidence Score w/o PK Loss\n",
      "The artificial noise is exact.\n",
      "Noise Type: adv, Model: nn, Level: medium\n",
      "############################################\n",
      "#                    0                     #\n",
      "############################################\n",
      "Use Encoding: 1\n",
      "CrossEntropy Loss: 0.000000 MSE Loss: 0.437834 Time elapsed: 8.522656 s\n",
      "CrossEntropy Loss: 0.000000 MSE Loss: 0.472903 Time elapsed: 0.450698 s\n",
      "Method: Raw Feature w/o PK Loss\n",
      "Method: Raw Feature w/ PK Loss\n",
      "Method: PK Loss Only\n"
     ]
    },
    {
     "name": "stderr",
     "output_type": "stream",
     "text": [
      "/opt/conda/lib/python3.7/site-packages/sklearn/svm/_base.py:947: ConvergenceWarning: Liblinear failed to converge, increase the number of iterations.\n",
      "  \"the number of iterations.\", ConvergenceWarning)\n"
     ]
    },
    {
     "name": "stdout",
     "output_type": "stream",
     "text": [
      "0 / 30632\n",
      "1531 / 30632\n",
      "3062 / 30632\n",
      "4593 / 30632\n",
      "6124 / 30632\n",
      "7655 / 30632\n",
      "9186 / 30632\n",
      "10717 / 30632\n",
      "12248 / 30632\n",
      "13779 / 30632\n",
      "15310 / 30632\n",
      "16841 / 30632\n",
      "18372 / 30632\n",
      "19903 / 30632\n",
      "21434 / 30632\n",
      "22965 / 30632\n",
      "24496 / 30632\n",
      "26027 / 30632\n",
      "27558 / 30632\n",
      "29089 / 30632\n",
      "30620 / 30632\n"
     ]
    },
    {
     "name": "stderr",
     "output_type": "stream",
     "text": [
      "/opt/conda/lib/python3.7/site-packages/sklearn/svm/_base.py:947: ConvergenceWarning: Liblinear failed to converge, increase the number of iterations.\n",
      "  \"the number of iterations.\", ConvergenceWarning)\n"
     ]
    },
    {
     "name": "stdout",
     "output_type": "stream",
     "text": [
      "0 / 1058\n",
      "52 / 1058\n",
      "104 / 1058\n",
      "156 / 1058\n",
      "208 / 1058\n",
      "260 / 1058\n",
      "312 / 1058\n",
      "364 / 1058\n",
      "416 / 1058\n",
      "468 / 1058\n",
      "520 / 1058\n",
      "572 / 1058\n",
      "624 / 1058\n",
      "676 / 1058\n",
      "728 / 1058\n",
      "780 / 1058\n",
      "832 / 1058\n",
      "884 / 1058\n",
      "936 / 1058\n",
      "988 / 1058\n",
      "1040 / 1058\n",
      "Method: Nearest Neighbour w/o PK Loss\n"
     ]
    },
    {
     "name": "stderr",
     "output_type": "stream",
     "text": [
      "/opt/conda/lib/python3.7/site-packages/sklearn/linear_model/_logistic.py:940: ConvergenceWarning: lbfgs failed to converge (status=1):\n",
      "STOP: TOTAL NO. of ITERATIONS REACHED LIMIT.\n",
      "\n",
      "Increase the number of iterations (max_iter) or scale the data as shown in:\n",
      "    https://scikit-learn.org/stable/modules/preprocessing.html\n",
      "Please also refer to the documentation for alternative solver options:\n",
      "    https://scikit-learn.org/stable/modules/linear_model.html#logistic-regression\n",
      "  extra_warning_msg=_LOGISTIC_SOLVER_CONVERGENCE_MSG)\n"
     ]
    },
    {
     "name": "stdout",
     "output_type": "stream",
     "text": [
      "RVAE w/ Raw Feature\n"
     ]
    },
    {
     "name": "stderr",
     "output_type": "stream",
     "text": [
      "/opt/conda/lib/python3.7/site-packages/sklearn/linear_model/_logistic.py:940: ConvergenceWarning: lbfgs failed to converge (status=1):\n",
      "STOP: TOTAL NO. of ITERATIONS REACHED LIMIT.\n",
      "\n",
      "Increase the number of iterations (max_iter) or scale the data as shown in:\n",
      "    https://scikit-learn.org/stable/modules/preprocessing.html\n",
      "Please also refer to the documentation for alternative solver options:\n",
      "    https://scikit-learn.org/stable/modules/linear_model.html#logistic-regression\n",
      "  extra_warning_msg=_LOGISTIC_SOLVER_CONVERGENCE_MSG)\n",
      "/opt/conda/lib/python3.7/site-packages/sklearn/linear_model/_logistic.py:940: ConvergenceWarning: lbfgs failed to converge (status=1):\n",
      "STOP: TOTAL NO. of ITERATIONS REACHED LIMIT.\n",
      "\n",
      "Increase the number of iterations (max_iter) or scale the data as shown in:\n",
      "    https://scikit-learn.org/stable/modules/preprocessing.html\n",
      "Please also refer to the documentation for alternative solver options:\n",
      "    https://scikit-learn.org/stable/modules/linear_model.html#logistic-regression\n",
      "  extra_warning_msg=_LOGISTIC_SOLVER_CONVERGENCE_MSG)\n"
     ]
    },
    {
     "name": "stdout",
     "output_type": "stream",
     "text": [
      "Method: MWOC w/o PK Loss\n",
      "Method: MWOC w/ PK Loss\n",
      "noise type: normal magnitude: 0.100000\n",
      "noise type: normal magnitude: 0.500000\n",
      "noise type: uniform magnitude: 0.100000\n",
      "noise type: uniform magnitude: 0.500000\n",
      "noise type: uniform magnitude: -0.100000\n",
      "noise type: uniform magnitude: -0.500000\n",
      "noise type: bernoulli magnitude: 0.100000\n",
      "noise type: bernoulli magnitude: 0.500000\n",
      "noise type: bernoulli magnitude: -0.100000\n",
      "noise type: bernoulli magnitude: -0.500000\n",
      "Method: Calibrated Confidence Score w/o PK Loss\n",
      "############################################\n",
      "#                    1                     #\n",
      "############################################\n",
      "Use Encoding: 1\n",
      "CrossEntropy Loss: 0.000000 MSE Loss: 0.460324 Time elapsed: 20.345188 s\n",
      "CrossEntropy Loss: 0.000000 MSE Loss: 0.484948 Time elapsed: 0.681591 s\n",
      "Method: Raw Feature w/o PK Loss\n",
      "Method: Raw Feature w/ PK Loss\n",
      "Method: PK Loss Only\n"
     ]
    },
    {
     "name": "stderr",
     "output_type": "stream",
     "text": [
      "/opt/conda/lib/python3.7/site-packages/sklearn/svm/_base.py:947: ConvergenceWarning: Liblinear failed to converge, increase the number of iterations.\n",
      "  \"the number of iterations.\", ConvergenceWarning)\n"
     ]
    },
    {
     "name": "stdout",
     "output_type": "stream",
     "text": [
      "0 / 30272\n",
      "1513 / 30272\n",
      "3026 / 30272\n",
      "4539 / 30272\n",
      "6052 / 30272\n",
      "7565 / 30272\n",
      "9078 / 30272\n",
      "10591 / 30272\n",
      "12104 / 30272\n",
      "13617 / 30272\n",
      "15130 / 30272\n",
      "16643 / 30272\n",
      "18156 / 30272\n",
      "19669 / 30272\n",
      "21182 / 30272\n",
      "22695 / 30272\n",
      "24208 / 30272\n",
      "25721 / 30272\n",
      "27234 / 30272\n",
      "28747 / 30272\n",
      "30260 / 30272\n"
     ]
    },
    {
     "name": "stderr",
     "output_type": "stream",
     "text": [
      "/opt/conda/lib/python3.7/site-packages/sklearn/svm/_base.py:947: ConvergenceWarning: Liblinear failed to converge, increase the number of iterations.\n",
      "  \"the number of iterations.\", ConvergenceWarning)\n"
     ]
    },
    {
     "name": "stdout",
     "output_type": "stream",
     "text": [
      "0 / 888\n",
      "44 / 888\n",
      "88 / 888\n",
      "132 / 888\n",
      "176 / 888\n",
      "220 / 888\n",
      "264 / 888\n",
      "308 / 888\n",
      "352 / 888\n",
      "396 / 888\n",
      "440 / 888\n",
      "484 / 888\n",
      "528 / 888\n",
      "572 / 888\n",
      "616 / 888\n",
      "660 / 888\n",
      "704 / 888\n",
      "748 / 888\n",
      "792 / 888\n",
      "836 / 888\n",
      "880 / 888\n",
      "Method: Nearest Neighbour w/o PK Loss\n"
     ]
    },
    {
     "name": "stderr",
     "output_type": "stream",
     "text": [
      "/opt/conda/lib/python3.7/site-packages/sklearn/linear_model/_logistic.py:940: ConvergenceWarning: lbfgs failed to converge (status=1):\n",
      "STOP: TOTAL NO. of ITERATIONS REACHED LIMIT.\n",
      "\n",
      "Increase the number of iterations (max_iter) or scale the data as shown in:\n",
      "    https://scikit-learn.org/stable/modules/preprocessing.html\n",
      "Please also refer to the documentation for alternative solver options:\n",
      "    https://scikit-learn.org/stable/modules/linear_model.html#logistic-regression\n",
      "  extra_warning_msg=_LOGISTIC_SOLVER_CONVERGENCE_MSG)\n",
      "/opt/conda/lib/python3.7/site-packages/sklearn/linear_model/_logistic.py:940: ConvergenceWarning: lbfgs failed to converge (status=1):\n",
      "STOP: TOTAL NO. of ITERATIONS REACHED LIMIT.\n",
      "\n",
      "Increase the number of iterations (max_iter) or scale the data as shown in:\n",
      "    https://scikit-learn.org/stable/modules/preprocessing.html\n",
      "Please also refer to the documentation for alternative solver options:\n",
      "    https://scikit-learn.org/stable/modules/linear_model.html#logistic-regression\n",
      "  extra_warning_msg=_LOGISTIC_SOLVER_CONVERGENCE_MSG)\n"
     ]
    },
    {
     "name": "stdout",
     "output_type": "stream",
     "text": [
      "RVAE w/ Raw Feature\n"
     ]
    },
    {
     "name": "stderr",
     "output_type": "stream",
     "text": [
      "/opt/conda/lib/python3.7/site-packages/sklearn/linear_model/_logistic.py:940: ConvergenceWarning: lbfgs failed to converge (status=1):\n",
      "STOP: TOTAL NO. of ITERATIONS REACHED LIMIT.\n",
      "\n",
      "Increase the number of iterations (max_iter) or scale the data as shown in:\n",
      "    https://scikit-learn.org/stable/modules/preprocessing.html\n",
      "Please also refer to the documentation for alternative solver options:\n",
      "    https://scikit-learn.org/stable/modules/linear_model.html#logistic-regression\n",
      "  extra_warning_msg=_LOGISTIC_SOLVER_CONVERGENCE_MSG)\n",
      "/opt/conda/lib/python3.7/site-packages/sklearn/linear_model/_logistic.py:940: ConvergenceWarning: lbfgs failed to converge (status=1):\n",
      "STOP: TOTAL NO. of ITERATIONS REACHED LIMIT.\n",
      "\n",
      "Increase the number of iterations (max_iter) or scale the data as shown in:\n",
      "    https://scikit-learn.org/stable/modules/preprocessing.html\n",
      "Please also refer to the documentation for alternative solver options:\n",
      "    https://scikit-learn.org/stable/modules/linear_model.html#logistic-regression\n",
      "  extra_warning_msg=_LOGISTIC_SOLVER_CONVERGENCE_MSG)\n"
     ]
    },
    {
     "name": "stdout",
     "output_type": "stream",
     "text": [
      "Method: MWOC w/o PK Loss\n",
      "Method: MWOC w/ PK Loss\n",
      "noise type: normal magnitude: 0.100000\n",
      "noise type: normal magnitude: 0.500000\n",
      "noise type: uniform magnitude: 0.100000\n",
      "noise type: uniform magnitude: 0.500000\n",
      "noise type: uniform magnitude: -0.100000\n",
      "noise type: uniform magnitude: -0.500000\n",
      "noise type: bernoulli magnitude: 0.100000\n",
      "noise type: bernoulli magnitude: 0.500000\n",
      "noise type: bernoulli magnitude: -0.100000\n",
      "noise type: bernoulli magnitude: -0.500000\n",
      "Method: Calibrated Confidence Score w/o PK Loss\n",
      "############################################\n",
      "#                    2                     #\n",
      "############################################\n",
      "Use Encoding: 1\n",
      "CrossEntropy Loss: 0.000000 MSE Loss: 0.461384 Time elapsed: 19.845577 s\n",
      "CrossEntropy Loss: 0.000000 MSE Loss: 0.438471 Time elapsed: 0.257251 s\n",
      "Method: Raw Feature w/o PK Loss\n",
      "Method: Raw Feature w/ PK Loss\n",
      "Method: PK Loss Only\n"
     ]
    },
    {
     "name": "stderr",
     "output_type": "stream",
     "text": [
      "/opt/conda/lib/python3.7/site-packages/sklearn/svm/_base.py:947: ConvergenceWarning: Liblinear failed to converge, increase the number of iterations.\n",
      "  \"the number of iterations.\", ConvergenceWarning)\n"
     ]
    },
    {
     "name": "stdout",
     "output_type": "stream",
     "text": [
      "0 / 29936\n",
      "1496 / 29936\n",
      "2992 / 29936\n",
      "4488 / 29936\n",
      "5984 / 29936\n",
      "7480 / 29936\n",
      "8976 / 29936\n",
      "10472 / 29936\n",
      "11968 / 29936\n",
      "13464 / 29936\n",
      "14960 / 29936\n",
      "16456 / 29936\n",
      "17952 / 29936\n",
      "19448 / 29936\n",
      "20944 / 29936\n",
      "22440 / 29936\n",
      "23936 / 29936\n",
      "25432 / 29936\n",
      "26928 / 29936\n",
      "28424 / 29936\n",
      "29920 / 29936\n"
     ]
    },
    {
     "name": "stderr",
     "output_type": "stream",
     "text": [
      "/opt/conda/lib/python3.7/site-packages/sklearn/svm/_base.py:947: ConvergenceWarning: Liblinear failed to converge, increase the number of iterations.\n",
      "  \"the number of iterations.\", ConvergenceWarning)\n"
     ]
    },
    {
     "name": "stdout",
     "output_type": "stream",
     "text": [
      "0 / 960\n",
      "48 / 960\n",
      "96 / 960\n",
      "144 / 960\n",
      "192 / 960\n",
      "240 / 960\n",
      "288 / 960\n",
      "336 / 960\n",
      "384 / 960\n",
      "432 / 960\n",
      "480 / 960\n",
      "528 / 960\n",
      "576 / 960\n",
      "624 / 960\n",
      "672 / 960\n",
      "720 / 960\n",
      "768 / 960\n",
      "816 / 960\n",
      "864 / 960\n",
      "912 / 960\n",
      "Method: Nearest Neighbour w/o PK Loss\n",
      "RVAE w/ Raw Feature\n"
     ]
    },
    {
     "name": "stderr",
     "output_type": "stream",
     "text": [
      "/opt/conda/lib/python3.7/site-packages/sklearn/linear_model/_logistic.py:940: ConvergenceWarning: lbfgs failed to converge (status=1):\n",
      "STOP: TOTAL NO. of ITERATIONS REACHED LIMIT.\n",
      "\n",
      "Increase the number of iterations (max_iter) or scale the data as shown in:\n",
      "    https://scikit-learn.org/stable/modules/preprocessing.html\n",
      "Please also refer to the documentation for alternative solver options:\n",
      "    https://scikit-learn.org/stable/modules/linear_model.html#logistic-regression\n",
      "  extra_warning_msg=_LOGISTIC_SOLVER_CONVERGENCE_MSG)\n",
      "/opt/conda/lib/python3.7/site-packages/sklearn/linear_model/_logistic.py:940: ConvergenceWarning: lbfgs failed to converge (status=1):\n",
      "STOP: TOTAL NO. of ITERATIONS REACHED LIMIT.\n",
      "\n",
      "Increase the number of iterations (max_iter) or scale the data as shown in:\n",
      "    https://scikit-learn.org/stable/modules/preprocessing.html\n",
      "Please also refer to the documentation for alternative solver options:\n",
      "    https://scikit-learn.org/stable/modules/linear_model.html#logistic-regression\n",
      "  extra_warning_msg=_LOGISTIC_SOLVER_CONVERGENCE_MSG)\n"
     ]
    },
    {
     "name": "stdout",
     "output_type": "stream",
     "text": [
      "Method: MWOC w/o PK Loss\n",
      "Method: MWOC w/ PK Loss\n",
      "noise type: normal magnitude: 0.100000\n",
      "noise type: normal magnitude: 0.500000\n",
      "noise type: uniform magnitude: 0.100000\n",
      "noise type: uniform magnitude: 0.500000\n",
      "noise type: uniform magnitude: -0.100000\n",
      "noise type: uniform magnitude: -0.500000\n",
      "noise type: bernoulli magnitude: 0.100000\n",
      "noise type: bernoulli magnitude: 0.500000\n",
      "noise type: bernoulli magnitude: -0.100000\n",
      "noise type: bernoulli magnitude: -0.500000\n",
      "Method: Calibrated Confidence Score w/o PK Loss\n",
      "############################################\n",
      "#                    3                     #\n",
      "############################################\n",
      "Use Encoding: 1\n",
      "CrossEntropy Loss: 0.000000 MSE Loss: 0.443207 Time elapsed: 12.676623 s\n",
      "CrossEntropy Loss: 0.000000 MSE Loss: 0.428552 Time elapsed: 1.025966 s\n",
      "Method: Raw Feature w/o PK Loss\n",
      "Method: Raw Feature w/ PK Loss\n",
      "Method: PK Loss Only\n"
     ]
    },
    {
     "name": "stderr",
     "output_type": "stream",
     "text": [
      "/opt/conda/lib/python3.7/site-packages/sklearn/svm/_base.py:947: ConvergenceWarning: Liblinear failed to converge, increase the number of iterations.\n",
      "  \"the number of iterations.\", ConvergenceWarning)\n"
     ]
    },
    {
     "name": "stdout",
     "output_type": "stream",
     "text": [
      "0 / 30848\n",
      "1542 / 30848\n",
      "3084 / 30848\n",
      "4626 / 30848\n",
      "6168 / 30848\n",
      "7710 / 30848\n",
      "9252 / 30848\n",
      "10794 / 30848\n",
      "12336 / 30848\n",
      "13878 / 30848\n",
      "15420 / 30848\n",
      "16962 / 30848\n",
      "18504 / 30848\n",
      "20046 / 30848\n",
      "21588 / 30848\n",
      "23130 / 30848\n",
      "24672 / 30848\n",
      "26214 / 30848\n",
      "27756 / 30848\n",
      "29298 / 30848\n",
      "30840 / 30848\n"
     ]
    },
    {
     "name": "stderr",
     "output_type": "stream",
     "text": [
      "/opt/conda/lib/python3.7/site-packages/sklearn/svm/_base.py:947: ConvergenceWarning: Liblinear failed to converge, increase the number of iterations.\n",
      "  \"the number of iterations.\", ConvergenceWarning)\n"
     ]
    },
    {
     "name": "stdout",
     "output_type": "stream",
     "text": [
      "0 / 1016\n",
      "50 / 1016\n",
      "100 / 1016\n",
      "150 / 1016\n",
      "200 / 1016\n",
      "250 / 1016\n",
      "300 / 1016\n",
      "350 / 1016\n",
      "400 / 1016\n",
      "450 / 1016\n",
      "500 / 1016\n",
      "550 / 1016\n",
      "600 / 1016\n",
      "650 / 1016\n",
      "700 / 1016\n",
      "750 / 1016\n",
      "800 / 1016\n",
      "850 / 1016\n",
      "900 / 1016\n",
      "950 / 1016\n",
      "1000 / 1016\n",
      "Method: Nearest Neighbour w/o PK Loss\n"
     ]
    },
    {
     "name": "stderr",
     "output_type": "stream",
     "text": [
      "/opt/conda/lib/python3.7/site-packages/sklearn/linear_model/_logistic.py:940: ConvergenceWarning: lbfgs failed to converge (status=1):\n",
      "STOP: TOTAL NO. of ITERATIONS REACHED LIMIT.\n",
      "\n",
      "Increase the number of iterations (max_iter) or scale the data as shown in:\n",
      "    https://scikit-learn.org/stable/modules/preprocessing.html\n",
      "Please also refer to the documentation for alternative solver options:\n",
      "    https://scikit-learn.org/stable/modules/linear_model.html#logistic-regression\n",
      "  extra_warning_msg=_LOGISTIC_SOLVER_CONVERGENCE_MSG)\n"
     ]
    },
    {
     "name": "stdout",
     "output_type": "stream",
     "text": [
      "RVAE w/ Raw Feature\n"
     ]
    },
    {
     "name": "stderr",
     "output_type": "stream",
     "text": [
      "/opt/conda/lib/python3.7/site-packages/sklearn/linear_model/_logistic.py:940: ConvergenceWarning: lbfgs failed to converge (status=1):\n",
      "STOP: TOTAL NO. of ITERATIONS REACHED LIMIT.\n",
      "\n",
      "Increase the number of iterations (max_iter) or scale the data as shown in:\n",
      "    https://scikit-learn.org/stable/modules/preprocessing.html\n",
      "Please also refer to the documentation for alternative solver options:\n",
      "    https://scikit-learn.org/stable/modules/linear_model.html#logistic-regression\n",
      "  extra_warning_msg=_LOGISTIC_SOLVER_CONVERGENCE_MSG)\n",
      "/opt/conda/lib/python3.7/site-packages/sklearn/linear_model/_logistic.py:940: ConvergenceWarning: lbfgs failed to converge (status=1):\n",
      "STOP: TOTAL NO. of ITERATIONS REACHED LIMIT.\n",
      "\n",
      "Increase the number of iterations (max_iter) or scale the data as shown in:\n",
      "    https://scikit-learn.org/stable/modules/preprocessing.html\n",
      "Please also refer to the documentation for alternative solver options:\n",
      "    https://scikit-learn.org/stable/modules/linear_model.html#logistic-regression\n",
      "  extra_warning_msg=_LOGISTIC_SOLVER_CONVERGENCE_MSG)\n"
     ]
    },
    {
     "name": "stdout",
     "output_type": "stream",
     "text": [
      "Method: MWOC w/o PK Loss\n",
      "Method: MWOC w/ PK Loss\n",
      "noise type: normal magnitude: 0.100000\n",
      "noise type: normal magnitude: 0.500000\n",
      "noise type: uniform magnitude: 0.100000\n",
      "noise type: uniform magnitude: 0.500000\n",
      "noise type: uniform magnitude: -0.100000\n",
      "noise type: uniform magnitude: -0.500000\n",
      "noise type: bernoulli magnitude: 0.100000\n",
      "noise type: bernoulli magnitude: 0.500000\n",
      "noise type: bernoulli magnitude: -0.100000\n",
      "noise type: bernoulli magnitude: -0.500000\n",
      "Method: Calibrated Confidence Score w/o PK Loss\n",
      "############################################\n",
      "#                    4                     #\n",
      "############################################\n",
      "Use Encoding: 1\n",
      "CrossEntropy Loss: 0.000000 MSE Loss: 0.433433 Time elapsed: 21.926077 s\n",
      "CrossEntropy Loss: 0.000000 MSE Loss: 0.426543 Time elapsed: 0.684519 s\n",
      "Method: Raw Feature w/o PK Loss\n",
      "Method: Raw Feature w/ PK Loss\n",
      "Method: PK Loss Only\n"
     ]
    },
    {
     "name": "stderr",
     "output_type": "stream",
     "text": [
      "/opt/conda/lib/python3.7/site-packages/sklearn/svm/_base.py:947: ConvergenceWarning: Liblinear failed to converge, increase the number of iterations.\n",
      "  \"the number of iterations.\", ConvergenceWarning)\n"
     ]
    },
    {
     "name": "stdout",
     "output_type": "stream",
     "text": [
      "0 / 30368\n",
      "1518 / 30368\n",
      "3036 / 30368\n",
      "4554 / 30368\n",
      "6072 / 30368\n",
      "7590 / 30368\n",
      "9108 / 30368\n",
      "10626 / 30368\n",
      "12144 / 30368\n",
      "13662 / 30368\n",
      "15180 / 30368\n",
      "16698 / 30368\n",
      "18216 / 30368\n",
      "19734 / 30368\n",
      "21252 / 30368\n",
      "22770 / 30368\n",
      "24288 / 30368\n",
      "25806 / 30368\n",
      "27324 / 30368\n",
      "28842 / 30368\n",
      "30360 / 30368\n"
     ]
    },
    {
     "name": "stderr",
     "output_type": "stream",
     "text": [
      "/opt/conda/lib/python3.7/site-packages/sklearn/svm/_base.py:947: ConvergenceWarning: Liblinear failed to converge, increase the number of iterations.\n",
      "  \"the number of iterations.\", ConvergenceWarning)\n"
     ]
    },
    {
     "name": "stdout",
     "output_type": "stream",
     "text": [
      "0 / 992\n",
      "49 / 992\n",
      "98 / 992\n",
      "147 / 992\n",
      "196 / 992\n",
      "245 / 992\n",
      "294 / 992\n",
      "343 / 992\n",
      "392 / 992\n",
      "441 / 992\n",
      "490 / 992\n",
      "539 / 992\n",
      "588 / 992\n",
      "637 / 992\n",
      "686 / 992\n",
      "735 / 992\n",
      "784 / 992\n",
      "833 / 992\n",
      "882 / 992\n",
      "931 / 992\n",
      "980 / 992\n",
      "Method: Nearest Neighbour w/o PK Loss\n"
     ]
    },
    {
     "name": "stderr",
     "output_type": "stream",
     "text": [
      "/opt/conda/lib/python3.7/site-packages/sklearn/linear_model/_logistic.py:940: ConvergenceWarning: lbfgs failed to converge (status=1):\n",
      "STOP: TOTAL NO. of ITERATIONS REACHED LIMIT.\n",
      "\n",
      "Increase the number of iterations (max_iter) or scale the data as shown in:\n",
      "    https://scikit-learn.org/stable/modules/preprocessing.html\n",
      "Please also refer to the documentation for alternative solver options:\n",
      "    https://scikit-learn.org/stable/modules/linear_model.html#logistic-regression\n",
      "  extra_warning_msg=_LOGISTIC_SOLVER_CONVERGENCE_MSG)\n",
      "/opt/conda/lib/python3.7/site-packages/sklearn/linear_model/_logistic.py:940: ConvergenceWarning: lbfgs failed to converge (status=1):\n",
      "STOP: TOTAL NO. of ITERATIONS REACHED LIMIT.\n",
      "\n",
      "Increase the number of iterations (max_iter) or scale the data as shown in:\n",
      "    https://scikit-learn.org/stable/modules/preprocessing.html\n",
      "Please also refer to the documentation for alternative solver options:\n",
      "    https://scikit-learn.org/stable/modules/linear_model.html#logistic-regression\n",
      "  extra_warning_msg=_LOGISTIC_SOLVER_CONVERGENCE_MSG)\n"
     ]
    },
    {
     "name": "stdout",
     "output_type": "stream",
     "text": [
      "RVAE w/ Raw Feature\n"
     ]
    },
    {
     "name": "stderr",
     "output_type": "stream",
     "text": [
      "/opt/conda/lib/python3.7/site-packages/sklearn/linear_model/_logistic.py:940: ConvergenceWarning: lbfgs failed to converge (status=1):\n",
      "STOP: TOTAL NO. of ITERATIONS REACHED LIMIT.\n",
      "\n",
      "Increase the number of iterations (max_iter) or scale the data as shown in:\n",
      "    https://scikit-learn.org/stable/modules/preprocessing.html\n",
      "Please also refer to the documentation for alternative solver options:\n",
      "    https://scikit-learn.org/stable/modules/linear_model.html#logistic-regression\n",
      "  extra_warning_msg=_LOGISTIC_SOLVER_CONVERGENCE_MSG)\n",
      "/opt/conda/lib/python3.7/site-packages/sklearn/linear_model/_logistic.py:940: ConvergenceWarning: lbfgs failed to converge (status=1):\n",
      "STOP: TOTAL NO. of ITERATIONS REACHED LIMIT.\n",
      "\n",
      "Increase the number of iterations (max_iter) or scale the data as shown in:\n",
      "    https://scikit-learn.org/stable/modules/preprocessing.html\n",
      "Please also refer to the documentation for alternative solver options:\n",
      "    https://scikit-learn.org/stable/modules/linear_model.html#logistic-regression\n",
      "  extra_warning_msg=_LOGISTIC_SOLVER_CONVERGENCE_MSG)\n"
     ]
    },
    {
     "name": "stdout",
     "output_type": "stream",
     "text": [
      "Method: MWOC w/o PK Loss\n",
      "Method: MWOC w/ PK Loss\n",
      "noise type: normal magnitude: 0.100000\n",
      "noise type: normal magnitude: 0.500000\n",
      "noise type: uniform magnitude: 0.100000\n",
      "noise type: uniform magnitude: 0.500000\n",
      "noise type: uniform magnitude: -0.100000\n",
      "noise type: uniform magnitude: -0.500000\n",
      "noise type: bernoulli magnitude: 0.100000\n",
      "noise type: bernoulli magnitude: 0.500000\n",
      "noise type: bernoulli magnitude: -0.100000\n",
      "noise type: bernoulli magnitude: -0.500000\n",
      "Method: Calibrated Confidence Score w/o PK Loss\n",
      "Noise Type: adv, Model: svm, Level: medium\n",
      "############################################\n",
      "#                    0                     #\n",
      "############################################\n",
      "Use Encoding: 1\n",
      "CrossEntropy Loss: 0.000000 MSE Loss: 0.466365 Time elapsed: 6.536572 s\n",
      "CrossEntropy Loss: 0.000000 MSE Loss: 0.501525 Time elapsed: 0.156858 s\n"
     ]
    },
    {
     "name": "stderr",
     "output_type": "stream",
     "text": [
      "/opt/conda/lib/python3.7/site-packages/sklearn/svm/_base.py:947: ConvergenceWarning: Liblinear failed to converge, increase the number of iterations.\n",
      "  \"the number of iterations.\", ConvergenceWarning)\n"
     ]
    },
    {
     "name": "stdout",
     "output_type": "stream",
     "text": [
      "Method: Raw Feature w/o PK Loss\n",
      "Method: Raw Feature w/ PK Loss\n",
      "Method: PK Loss Only\n"
     ]
    },
    {
     "name": "stderr",
     "output_type": "stream",
     "text": [
      "/opt/conda/lib/python3.7/site-packages/sklearn/svm/_base.py:947: ConvergenceWarning: Liblinear failed to converge, increase the number of iterations.\n",
      "  \"the number of iterations.\", ConvergenceWarning)\n"
     ]
    },
    {
     "name": "stdout",
     "output_type": "stream",
     "text": [
      "0 / 23528\n",
      "1176 / 23528\n",
      "2352 / 23528\n",
      "3528 / 23528\n",
      "4704 / 23528\n",
      "5880 / 23528\n",
      "7056 / 23528\n",
      "8232 / 23528\n",
      "9408 / 23528\n",
      "10584 / 23528\n",
      "11760 / 23528\n",
      "12936 / 23528\n",
      "14112 / 23528\n",
      "15288 / 23528\n",
      "16464 / 23528\n",
      "17640 / 23528\n",
      "18816 / 23528\n",
      "19992 / 23528\n",
      "21168 / 23528\n",
      "22344 / 23528\n",
      "23520 / 23528\n"
     ]
    },
    {
     "name": "stderr",
     "output_type": "stream",
     "text": [
      "/opt/conda/lib/python3.7/site-packages/sklearn/svm/_base.py:947: ConvergenceWarning: Liblinear failed to converge, increase the number of iterations.\n",
      "  \"the number of iterations.\", ConvergenceWarning)\n"
     ]
    },
    {
     "name": "stdout",
     "output_type": "stream",
     "text": [
      "0 / 434\n",
      "21 / 434\n",
      "42 / 434\n",
      "63 / 434\n",
      "84 / 434\n",
      "105 / 434\n",
      "126 / 434\n",
      "147 / 434\n",
      "168 / 434\n",
      "189 / 434\n",
      "210 / 434\n",
      "231 / 434\n",
      "252 / 434\n",
      "273 / 434\n",
      "294 / 434\n",
      "315 / 434\n",
      "336 / 434\n",
      "357 / 434\n",
      "378 / 434\n",
      "399 / 434\n",
      "420 / 434\n",
      "Method: Nearest Neighbour w/o PK Loss\n"
     ]
    },
    {
     "name": "stderr",
     "output_type": "stream",
     "text": [
      "/opt/conda/lib/python3.7/site-packages/sklearn/linear_model/_logistic.py:940: ConvergenceWarning: lbfgs failed to converge (status=1):\n",
      "STOP: TOTAL NO. of ITERATIONS REACHED LIMIT.\n",
      "\n",
      "Increase the number of iterations (max_iter) or scale the data as shown in:\n",
      "    https://scikit-learn.org/stable/modules/preprocessing.html\n",
      "Please also refer to the documentation for alternative solver options:\n",
      "    https://scikit-learn.org/stable/modules/linear_model.html#logistic-regression\n",
      "  extra_warning_msg=_LOGISTIC_SOLVER_CONVERGENCE_MSG)\n"
     ]
    },
    {
     "name": "stdout",
     "output_type": "stream",
     "text": [
      "RVAE w/ Raw Feature\n"
     ]
    },
    {
     "name": "stderr",
     "output_type": "stream",
     "text": [
      "/opt/conda/lib/python3.7/site-packages/sklearn/linear_model/_logistic.py:940: ConvergenceWarning: lbfgs failed to converge (status=1):\n",
      "STOP: TOTAL NO. of ITERATIONS REACHED LIMIT.\n",
      "\n",
      "Increase the number of iterations (max_iter) or scale the data as shown in:\n",
      "    https://scikit-learn.org/stable/modules/preprocessing.html\n",
      "Please also refer to the documentation for alternative solver options:\n",
      "    https://scikit-learn.org/stable/modules/linear_model.html#logistic-regression\n",
      "  extra_warning_msg=_LOGISTIC_SOLVER_CONVERGENCE_MSG)\n",
      "/opt/conda/lib/python3.7/site-packages/sklearn/linear_model/_logistic.py:940: ConvergenceWarning: lbfgs failed to converge (status=1):\n",
      "STOP: TOTAL NO. of ITERATIONS REACHED LIMIT.\n",
      "\n",
      "Increase the number of iterations (max_iter) or scale the data as shown in:\n",
      "    https://scikit-learn.org/stable/modules/preprocessing.html\n",
      "Please also refer to the documentation for alternative solver options:\n",
      "    https://scikit-learn.org/stable/modules/linear_model.html#logistic-regression\n",
      "  extra_warning_msg=_LOGISTIC_SOLVER_CONVERGENCE_MSG)\n"
     ]
    },
    {
     "name": "stdout",
     "output_type": "stream",
     "text": [
      "Method: MWOC w/o PK Loss\n"
     ]
    },
    {
     "name": "stderr",
     "output_type": "stream",
     "text": [
      "/opt/conda/lib/python3.7/site-packages/sklearn/svm/_base.py:947: ConvergenceWarning: Liblinear failed to converge, increase the number of iterations.\n",
      "  \"the number of iterations.\", ConvergenceWarning)\n"
     ]
    },
    {
     "name": "stdout",
     "output_type": "stream",
     "text": [
      "Method: MWOC w/ PK Loss\n"
     ]
    },
    {
     "name": "stderr",
     "output_type": "stream",
     "text": [
      "/opt/conda/lib/python3.7/site-packages/sklearn/svm/_base.py:947: ConvergenceWarning: Liblinear failed to converge, increase the number of iterations.\n",
      "  \"the number of iterations.\", ConvergenceWarning)\n"
     ]
    },
    {
     "name": "stdout",
     "output_type": "stream",
     "text": [
      "noise type: normal magnitude: 0.100000\n",
      "noise type: normal magnitude: 0.500000\n",
      "noise type: uniform magnitude: 0.100000\n",
      "noise type: uniform magnitude: 0.500000\n",
      "noise type: uniform magnitude: -0.100000\n",
      "noise type: uniform magnitude: -0.500000\n",
      "noise type: bernoulli magnitude: 0.100000\n",
      "noise type: bernoulli magnitude: 0.500000\n",
      "noise type: bernoulli magnitude: -0.100000\n",
      "noise type: bernoulli magnitude: -0.500000\n"
     ]
    },
    {
     "name": "stderr",
     "output_type": "stream",
     "text": [
      "/opt/conda/lib/python3.7/site-packages/sklearn/svm/_base.py:947: ConvergenceWarning: Liblinear failed to converge, increase the number of iterations.\n",
      "  \"the number of iterations.\", ConvergenceWarning)\n",
      "/opt/conda/lib/python3.7/site-packages/sklearn/svm/_base.py:947: ConvergenceWarning: Liblinear failed to converge, increase the number of iterations.\n",
      "  \"the number of iterations.\", ConvergenceWarning)\n",
      "/opt/conda/lib/python3.7/site-packages/sklearn/svm/_base.py:947: ConvergenceWarning: Liblinear failed to converge, increase the number of iterations.\n",
      "  \"the number of iterations.\", ConvergenceWarning)\n",
      "/opt/conda/lib/python3.7/site-packages/sklearn/svm/_base.py:947: ConvergenceWarning: Liblinear failed to converge, increase the number of iterations.\n",
      "  \"the number of iterations.\", ConvergenceWarning)\n",
      "/opt/conda/lib/python3.7/site-packages/sklearn/svm/_base.py:947: ConvergenceWarning: Liblinear failed to converge, increase the number of iterations.\n",
      "  \"the number of iterations.\", ConvergenceWarning)\n"
     ]
    },
    {
     "name": "stdout",
     "output_type": "stream",
     "text": [
      "Method: Calibrated Confidence Score w/o PK Loss\n",
      "############################################\n",
      "#                    1                     #\n",
      "############################################\n",
      "Use Encoding: 1\n",
      "CrossEntropy Loss: 0.000000 MSE Loss: 0.479771 Time elapsed: 6.440826 s\n",
      "CrossEntropy Loss: 0.000000 MSE Loss: 0.475615 Time elapsed: 0.147960 s\n"
     ]
    },
    {
     "name": "stderr",
     "output_type": "stream",
     "text": [
      "/opt/conda/lib/python3.7/site-packages/sklearn/svm/_base.py:947: ConvergenceWarning: Liblinear failed to converge, increase the number of iterations.\n",
      "  \"the number of iterations.\", ConvergenceWarning)\n"
     ]
    },
    {
     "name": "stdout",
     "output_type": "stream",
     "text": [
      "Method: Raw Feature w/o PK Loss\n",
      "Method: Raw Feature w/ PK Loss\n"
     ]
    },
    {
     "name": "stderr",
     "output_type": "stream",
     "text": [
      "/opt/conda/lib/python3.7/site-packages/sklearn/linear_model/_logistic.py:940: ConvergenceWarning: lbfgs failed to converge (status=1):\n",
      "STOP: TOTAL NO. of ITERATIONS REACHED LIMIT.\n",
      "\n",
      "Increase the number of iterations (max_iter) or scale the data as shown in:\n",
      "    https://scikit-learn.org/stable/modules/preprocessing.html\n",
      "Please also refer to the documentation for alternative solver options:\n",
      "    https://scikit-learn.org/stable/modules/linear_model.html#logistic-regression\n",
      "  extra_warning_msg=_LOGISTIC_SOLVER_CONVERGENCE_MSG)\n"
     ]
    },
    {
     "name": "stdout",
     "output_type": "stream",
     "text": [
      "Method: PK Loss Only\n"
     ]
    },
    {
     "name": "stderr",
     "output_type": "stream",
     "text": [
      "/opt/conda/lib/python3.7/site-packages/sklearn/svm/_base.py:947: ConvergenceWarning: Liblinear failed to converge, increase the number of iterations.\n",
      "  \"the number of iterations.\", ConvergenceWarning)\n"
     ]
    },
    {
     "name": "stdout",
     "output_type": "stream",
     "text": [
      "0 / 23540\n",
      "1177 / 23540\n",
      "2354 / 23540\n",
      "3531 / 23540\n",
      "4708 / 23540\n",
      "5885 / 23540\n",
      "7062 / 23540\n",
      "8239 / 23540\n",
      "9416 / 23540\n",
      "10593 / 23540\n",
      "11770 / 23540\n",
      "12947 / 23540\n",
      "14124 / 23540\n",
      "15301 / 23540\n",
      "16478 / 23540\n",
      "17655 / 23540\n",
      "18832 / 23540\n",
      "20009 / 23540\n",
      "21186 / 23540\n",
      "22363 / 23540\n"
     ]
    },
    {
     "name": "stderr",
     "output_type": "stream",
     "text": [
      "/opt/conda/lib/python3.7/site-packages/sklearn/svm/_base.py:947: ConvergenceWarning: Liblinear failed to converge, increase the number of iterations.\n",
      "  \"the number of iterations.\", ConvergenceWarning)\n"
     ]
    },
    {
     "name": "stdout",
     "output_type": "stream",
     "text": [
      "0 / 412\n",
      "20 / 412\n",
      "40 / 412\n",
      "60 / 412\n",
      "80 / 412\n",
      "100 / 412\n",
      "120 / 412\n",
      "140 / 412\n",
      "160 / 412\n",
      "180 / 412\n",
      "200 / 412\n",
      "220 / 412\n",
      "240 / 412\n",
      "260 / 412\n",
      "280 / 412\n",
      "300 / 412\n",
      "320 / 412\n",
      "340 / 412\n",
      "360 / 412\n",
      "380 / 412\n",
      "400 / 412\n",
      "Method: Nearest Neighbour w/o PK Loss\n"
     ]
    },
    {
     "name": "stderr",
     "output_type": "stream",
     "text": [
      "/opt/conda/lib/python3.7/site-packages/sklearn/linear_model/_logistic.py:940: ConvergenceWarning: lbfgs failed to converge (status=1):\n",
      "STOP: TOTAL NO. of ITERATIONS REACHED LIMIT.\n",
      "\n",
      "Increase the number of iterations (max_iter) or scale the data as shown in:\n",
      "    https://scikit-learn.org/stable/modules/preprocessing.html\n",
      "Please also refer to the documentation for alternative solver options:\n",
      "    https://scikit-learn.org/stable/modules/linear_model.html#logistic-regression\n",
      "  extra_warning_msg=_LOGISTIC_SOLVER_CONVERGENCE_MSG)\n",
      "/opt/conda/lib/python3.7/site-packages/sklearn/linear_model/_logistic.py:940: ConvergenceWarning: lbfgs failed to converge (status=1):\n",
      "STOP: TOTAL NO. of ITERATIONS REACHED LIMIT.\n",
      "\n",
      "Increase the number of iterations (max_iter) or scale the data as shown in:\n",
      "    https://scikit-learn.org/stable/modules/preprocessing.html\n",
      "Please also refer to the documentation for alternative solver options:\n",
      "    https://scikit-learn.org/stable/modules/linear_model.html#logistic-regression\n",
      "  extra_warning_msg=_LOGISTIC_SOLVER_CONVERGENCE_MSG)\n"
     ]
    },
    {
     "name": "stdout",
     "output_type": "stream",
     "text": [
      "RVAE w/ Raw Feature\n"
     ]
    },
    {
     "name": "stderr",
     "output_type": "stream",
     "text": [
      "/opt/conda/lib/python3.7/site-packages/sklearn/linear_model/_logistic.py:940: ConvergenceWarning: lbfgs failed to converge (status=1):\n",
      "STOP: TOTAL NO. of ITERATIONS REACHED LIMIT.\n",
      "\n",
      "Increase the number of iterations (max_iter) or scale the data as shown in:\n",
      "    https://scikit-learn.org/stable/modules/preprocessing.html\n",
      "Please also refer to the documentation for alternative solver options:\n",
      "    https://scikit-learn.org/stable/modules/linear_model.html#logistic-regression\n",
      "  extra_warning_msg=_LOGISTIC_SOLVER_CONVERGENCE_MSG)\n",
      "/opt/conda/lib/python3.7/site-packages/sklearn/linear_model/_logistic.py:940: ConvergenceWarning: lbfgs failed to converge (status=1):\n",
      "STOP: TOTAL NO. of ITERATIONS REACHED LIMIT.\n",
      "\n",
      "Increase the number of iterations (max_iter) or scale the data as shown in:\n",
      "    https://scikit-learn.org/stable/modules/preprocessing.html\n",
      "Please also refer to the documentation for alternative solver options:\n",
      "    https://scikit-learn.org/stable/modules/linear_model.html#logistic-regression\n",
      "  extra_warning_msg=_LOGISTIC_SOLVER_CONVERGENCE_MSG)\n"
     ]
    },
    {
     "name": "stdout",
     "output_type": "stream",
     "text": [
      "Method: MWOC w/o PK Loss\n"
     ]
    },
    {
     "name": "stderr",
     "output_type": "stream",
     "text": [
      "/opt/conda/lib/python3.7/site-packages/sklearn/svm/_base.py:947: ConvergenceWarning: Liblinear failed to converge, increase the number of iterations.\n",
      "  \"the number of iterations.\", ConvergenceWarning)\n"
     ]
    },
    {
     "name": "stdout",
     "output_type": "stream",
     "text": [
      "Method: MWOC w/ PK Loss\n"
     ]
    },
    {
     "name": "stderr",
     "output_type": "stream",
     "text": [
      "/opt/conda/lib/python3.7/site-packages/sklearn/svm/_base.py:947: ConvergenceWarning: Liblinear failed to converge, increase the number of iterations.\n",
      "  \"the number of iterations.\", ConvergenceWarning)\n"
     ]
    },
    {
     "name": "stdout",
     "output_type": "stream",
     "text": [
      "noise type: normal magnitude: 0.100000\n",
      "noise type: normal magnitude: 0.500000\n",
      "noise type: uniform magnitude: 0.100000\n",
      "noise type: uniform magnitude: 0.500000\n",
      "noise type: uniform magnitude: -0.100000\n",
      "noise type: uniform magnitude: -0.500000\n",
      "noise type: bernoulli magnitude: 0.100000\n",
      "noise type: bernoulli magnitude: 0.500000\n",
      "noise type: bernoulli magnitude: -0.100000\n",
      "noise type: bernoulli magnitude: -0.500000\n"
     ]
    },
    {
     "name": "stderr",
     "output_type": "stream",
     "text": [
      "/opt/conda/lib/python3.7/site-packages/sklearn/svm/_base.py:947: ConvergenceWarning: Liblinear failed to converge, increase the number of iterations.\n",
      "  \"the number of iterations.\", ConvergenceWarning)\n",
      "/opt/conda/lib/python3.7/site-packages/sklearn/svm/_base.py:947: ConvergenceWarning: Liblinear failed to converge, increase the number of iterations.\n",
      "  \"the number of iterations.\", ConvergenceWarning)\n",
      "/opt/conda/lib/python3.7/site-packages/sklearn/svm/_base.py:947: ConvergenceWarning: Liblinear failed to converge, increase the number of iterations.\n",
      "  \"the number of iterations.\", ConvergenceWarning)\n",
      "/opt/conda/lib/python3.7/site-packages/sklearn/svm/_base.py:947: ConvergenceWarning: Liblinear failed to converge, increase the number of iterations.\n",
      "  \"the number of iterations.\", ConvergenceWarning)\n",
      "/opt/conda/lib/python3.7/site-packages/sklearn/svm/_base.py:947: ConvergenceWarning: Liblinear failed to converge, increase the number of iterations.\n",
      "  \"the number of iterations.\", ConvergenceWarning)\n"
     ]
    },
    {
     "name": "stdout",
     "output_type": "stream",
     "text": [
      "Method: Calibrated Confidence Score w/o PK Loss\n",
      "############################################\n",
      "#                    2                     #\n",
      "############################################\n",
      "Use Encoding: 1\n",
      "CrossEntropy Loss: 0.000000 MSE Loss: 0.475289 Time elapsed: 16.849793 s\n",
      "CrossEntropy Loss: 0.000000 MSE Loss: 0.508913 Time elapsed: 0.421269 s\n"
     ]
    },
    {
     "name": "stderr",
     "output_type": "stream",
     "text": [
      "/opt/conda/lib/python3.7/site-packages/sklearn/svm/_base.py:947: ConvergenceWarning: Liblinear failed to converge, increase the number of iterations.\n",
      "  \"the number of iterations.\", ConvergenceWarning)\n"
     ]
    },
    {
     "name": "stdout",
     "output_type": "stream",
     "text": [
      "Method: Raw Feature w/o PK Loss\n",
      "Method: Raw Feature w/ PK Loss\n",
      "Method: PK Loss Only\n"
     ]
    },
    {
     "name": "stderr",
     "output_type": "stream",
     "text": [
      "/opt/conda/lib/python3.7/site-packages/sklearn/svm/_base.py:947: ConvergenceWarning: Liblinear failed to converge, increase the number of iterations.\n",
      "  \"the number of iterations.\", ConvergenceWarning)\n"
     ]
    },
    {
     "name": "stdout",
     "output_type": "stream",
     "text": [
      "0 / 23524\n",
      "1176 / 23524\n",
      "2352 / 23524\n",
      "3528 / 23524\n",
      "4704 / 23524\n",
      "5880 / 23524\n",
      "7056 / 23524\n",
      "8232 / 23524\n",
      "9408 / 23524\n",
      "10584 / 23524\n",
      "11760 / 23524\n",
      "12936 / 23524\n",
      "14112 / 23524\n",
      "15288 / 23524\n",
      "16464 / 23524\n",
      "17640 / 23524\n",
      "18816 / 23524\n",
      "19992 / 23524\n",
      "21168 / 23524\n",
      "22344 / 23524\n",
      "23520 / 23524\n"
     ]
    },
    {
     "name": "stderr",
     "output_type": "stream",
     "text": [
      "/opt/conda/lib/python3.7/site-packages/sklearn/svm/_base.py:947: ConvergenceWarning: Liblinear failed to converge, increase the number of iterations.\n",
      "  \"the number of iterations.\", ConvergenceWarning)\n"
     ]
    },
    {
     "name": "stdout",
     "output_type": "stream",
     "text": [
      "0 / 414\n",
      "20 / 414\n",
      "40 / 414\n",
      "60 / 414\n",
      "80 / 414\n",
      "100 / 414\n",
      "120 / 414\n",
      "140 / 414\n",
      "160 / 414\n",
      "180 / 414\n",
      "200 / 414\n",
      "220 / 414\n",
      "240 / 414\n",
      "260 / 414\n",
      "280 / 414\n",
      "300 / 414\n",
      "320 / 414\n",
      "340 / 414\n",
      "360 / 414\n",
      "380 / 414\n",
      "400 / 414\n",
      "Method: Nearest Neighbour w/o PK Loss\n"
     ]
    },
    {
     "name": "stderr",
     "output_type": "stream",
     "text": [
      "/opt/conda/lib/python3.7/site-packages/sklearn/linear_model/_logistic.py:940: ConvergenceWarning: lbfgs failed to converge (status=1):\n",
      "STOP: TOTAL NO. of ITERATIONS REACHED LIMIT.\n",
      "\n",
      "Increase the number of iterations (max_iter) or scale the data as shown in:\n",
      "    https://scikit-learn.org/stable/modules/preprocessing.html\n",
      "Please also refer to the documentation for alternative solver options:\n",
      "    https://scikit-learn.org/stable/modules/linear_model.html#logistic-regression\n",
      "  extra_warning_msg=_LOGISTIC_SOLVER_CONVERGENCE_MSG)\n"
     ]
    },
    {
     "name": "stdout",
     "output_type": "stream",
     "text": [
      "RVAE w/ Raw Feature\n"
     ]
    },
    {
     "name": "stderr",
     "output_type": "stream",
     "text": [
      "/opt/conda/lib/python3.7/site-packages/sklearn/linear_model/_logistic.py:940: ConvergenceWarning: lbfgs failed to converge (status=1):\n",
      "STOP: TOTAL NO. of ITERATIONS REACHED LIMIT.\n",
      "\n",
      "Increase the number of iterations (max_iter) or scale the data as shown in:\n",
      "    https://scikit-learn.org/stable/modules/preprocessing.html\n",
      "Please also refer to the documentation for alternative solver options:\n",
      "    https://scikit-learn.org/stable/modules/linear_model.html#logistic-regression\n",
      "  extra_warning_msg=_LOGISTIC_SOLVER_CONVERGENCE_MSG)\n",
      "/opt/conda/lib/python3.7/site-packages/sklearn/linear_model/_logistic.py:940: ConvergenceWarning: lbfgs failed to converge (status=1):\n",
      "STOP: TOTAL NO. of ITERATIONS REACHED LIMIT.\n",
      "\n",
      "Increase the number of iterations (max_iter) or scale the data as shown in:\n",
      "    https://scikit-learn.org/stable/modules/preprocessing.html\n",
      "Please also refer to the documentation for alternative solver options:\n",
      "    https://scikit-learn.org/stable/modules/linear_model.html#logistic-regression\n",
      "  extra_warning_msg=_LOGISTIC_SOLVER_CONVERGENCE_MSG)\n"
     ]
    },
    {
     "name": "stdout",
     "output_type": "stream",
     "text": [
      "Method: MWOC w/o PK Loss\n"
     ]
    },
    {
     "name": "stderr",
     "output_type": "stream",
     "text": [
      "/opt/conda/lib/python3.7/site-packages/sklearn/svm/_base.py:947: ConvergenceWarning: Liblinear failed to converge, increase the number of iterations.\n",
      "  \"the number of iterations.\", ConvergenceWarning)\n"
     ]
    },
    {
     "name": "stdout",
     "output_type": "stream",
     "text": [
      "Method: MWOC w/ PK Loss\n"
     ]
    },
    {
     "name": "stderr",
     "output_type": "stream",
     "text": [
      "/opt/conda/lib/python3.7/site-packages/sklearn/svm/_base.py:947: ConvergenceWarning: Liblinear failed to converge, increase the number of iterations.\n",
      "  \"the number of iterations.\", ConvergenceWarning)\n"
     ]
    },
    {
     "name": "stdout",
     "output_type": "stream",
     "text": [
      "noise type: normal magnitude: 0.100000\n",
      "noise type: normal magnitude: 0.500000\n",
      "noise type: uniform magnitude: 0.100000\n",
      "noise type: uniform magnitude: 0.500000\n",
      "noise type: uniform magnitude: -0.100000\n",
      "noise type: uniform magnitude: -0.500000\n",
      "noise type: bernoulli magnitude: 0.100000\n",
      "noise type: bernoulli magnitude: 0.500000\n",
      "noise type: bernoulli magnitude: -0.100000\n",
      "noise type: bernoulli magnitude: -0.500000\n"
     ]
    },
    {
     "name": "stderr",
     "output_type": "stream",
     "text": [
      "/opt/conda/lib/python3.7/site-packages/sklearn/svm/_base.py:947: ConvergenceWarning: Liblinear failed to converge, increase the number of iterations.\n",
      "  \"the number of iterations.\", ConvergenceWarning)\n",
      "/opt/conda/lib/python3.7/site-packages/sklearn/svm/_base.py:947: ConvergenceWarning: Liblinear failed to converge, increase the number of iterations.\n",
      "  \"the number of iterations.\", ConvergenceWarning)\n",
      "/opt/conda/lib/python3.7/site-packages/sklearn/svm/_base.py:947: ConvergenceWarning: Liblinear failed to converge, increase the number of iterations.\n",
      "  \"the number of iterations.\", ConvergenceWarning)\n",
      "/opt/conda/lib/python3.7/site-packages/sklearn/svm/_base.py:947: ConvergenceWarning: Liblinear failed to converge, increase the number of iterations.\n",
      "  \"the number of iterations.\", ConvergenceWarning)\n",
      "/opt/conda/lib/python3.7/site-packages/sklearn/svm/_base.py:947: ConvergenceWarning: Liblinear failed to converge, increase the number of iterations.\n",
      "  \"the number of iterations.\", ConvergenceWarning)\n"
     ]
    },
    {
     "name": "stdout",
     "output_type": "stream",
     "text": [
      "Method: Calibrated Confidence Score w/o PK Loss\n",
      "############################################\n",
      "#                    3                     #\n",
      "############################################\n",
      "Use Encoding: 1\n",
      "CrossEntropy Loss: 0.000000 MSE Loss: 0.492547 Time elapsed: 6.483817 s\n",
      "CrossEntropy Loss: 0.000000 MSE Loss: 0.504142 Time elapsed: 0.180180 s\n"
     ]
    },
    {
     "name": "stderr",
     "output_type": "stream",
     "text": [
      "/opt/conda/lib/python3.7/site-packages/sklearn/svm/_base.py:947: ConvergenceWarning: Liblinear failed to converge, increase the number of iterations.\n",
      "  \"the number of iterations.\", ConvergenceWarning)\n"
     ]
    },
    {
     "name": "stdout",
     "output_type": "stream",
     "text": [
      "Method: Raw Feature w/o PK Loss\n",
      "Method: Raw Feature w/ PK Loss\n",
      "Method: PK Loss Only\n"
     ]
    },
    {
     "name": "stderr",
     "output_type": "stream",
     "text": [
      "/opt/conda/lib/python3.7/site-packages/sklearn/svm/_base.py:947: ConvergenceWarning: Liblinear failed to converge, increase the number of iterations.\n",
      "  \"the number of iterations.\", ConvergenceWarning)\n"
     ]
    },
    {
     "name": "stdout",
     "output_type": "stream",
     "text": [
      "0 / 23692\n",
      "1184 / 23692\n",
      "2368 / 23692\n",
      "3552 / 23692\n",
      "4736 / 23692\n",
      "5920 / 23692\n",
      "7104 / 23692\n",
      "8288 / 23692\n",
      "9472 / 23692\n",
      "10656 / 23692\n",
      "11840 / 23692\n",
      "13024 / 23692\n",
      "14208 / 23692\n",
      "15392 / 23692\n",
      "16576 / 23692\n",
      "17760 / 23692\n",
      "18944 / 23692\n",
      "20128 / 23692\n",
      "21312 / 23692\n",
      "22496 / 23692\n",
      "23680 / 23692\n"
     ]
    },
    {
     "name": "stderr",
     "output_type": "stream",
     "text": [
      "/opt/conda/lib/python3.7/site-packages/sklearn/svm/_base.py:947: ConvergenceWarning: Liblinear failed to converge, increase the number of iterations.\n",
      "  \"the number of iterations.\", ConvergenceWarning)\n"
     ]
    },
    {
     "name": "stdout",
     "output_type": "stream",
     "text": [
      "0 / 428\n",
      "21 / 428\n",
      "42 / 428\n",
      "63 / 428\n",
      "84 / 428\n",
      "105 / 428\n",
      "126 / 428\n",
      "147 / 428\n",
      "168 / 428\n",
      "189 / 428\n",
      "210 / 428\n",
      "231 / 428\n",
      "252 / 428\n",
      "273 / 428\n",
      "294 / 428\n",
      "315 / 428\n",
      "336 / 428\n",
      "357 / 428\n",
      "378 / 428\n",
      "399 / 428\n",
      "420 / 428\n",
      "Method: Nearest Neighbour w/o PK Loss\n"
     ]
    },
    {
     "name": "stderr",
     "output_type": "stream",
     "text": [
      "/opt/conda/lib/python3.7/site-packages/sklearn/linear_model/_logistic.py:940: ConvergenceWarning: lbfgs failed to converge (status=1):\n",
      "STOP: TOTAL NO. of ITERATIONS REACHED LIMIT.\n",
      "\n",
      "Increase the number of iterations (max_iter) or scale the data as shown in:\n",
      "    https://scikit-learn.org/stable/modules/preprocessing.html\n",
      "Please also refer to the documentation for alternative solver options:\n",
      "    https://scikit-learn.org/stable/modules/linear_model.html#logistic-regression\n",
      "  extra_warning_msg=_LOGISTIC_SOLVER_CONVERGENCE_MSG)\n",
      "/opt/conda/lib/python3.7/site-packages/sklearn/linear_model/_logistic.py:940: ConvergenceWarning: lbfgs failed to converge (status=1):\n",
      "STOP: TOTAL NO. of ITERATIONS REACHED LIMIT.\n",
      "\n",
      "Increase the number of iterations (max_iter) or scale the data as shown in:\n",
      "    https://scikit-learn.org/stable/modules/preprocessing.html\n",
      "Please also refer to the documentation for alternative solver options:\n",
      "    https://scikit-learn.org/stable/modules/linear_model.html#logistic-regression\n",
      "  extra_warning_msg=_LOGISTIC_SOLVER_CONVERGENCE_MSG)\n"
     ]
    },
    {
     "name": "stdout",
     "output_type": "stream",
     "text": [
      "RVAE w/ Raw Feature\n"
     ]
    },
    {
     "name": "stderr",
     "output_type": "stream",
     "text": [
      "/opt/conda/lib/python3.7/site-packages/sklearn/linear_model/_logistic.py:940: ConvergenceWarning: lbfgs failed to converge (status=1):\n",
      "STOP: TOTAL NO. of ITERATIONS REACHED LIMIT.\n",
      "\n",
      "Increase the number of iterations (max_iter) or scale the data as shown in:\n",
      "    https://scikit-learn.org/stable/modules/preprocessing.html\n",
      "Please also refer to the documentation for alternative solver options:\n",
      "    https://scikit-learn.org/stable/modules/linear_model.html#logistic-regression\n",
      "  extra_warning_msg=_LOGISTIC_SOLVER_CONVERGENCE_MSG)\n",
      "/opt/conda/lib/python3.7/site-packages/sklearn/linear_model/_logistic.py:940: ConvergenceWarning: lbfgs failed to converge (status=1):\n",
      "STOP: TOTAL NO. of ITERATIONS REACHED LIMIT.\n",
      "\n",
      "Increase the number of iterations (max_iter) or scale the data as shown in:\n",
      "    https://scikit-learn.org/stable/modules/preprocessing.html\n",
      "Please also refer to the documentation for alternative solver options:\n",
      "    https://scikit-learn.org/stable/modules/linear_model.html#logistic-regression\n",
      "  extra_warning_msg=_LOGISTIC_SOLVER_CONVERGENCE_MSG)\n"
     ]
    },
    {
     "name": "stdout",
     "output_type": "stream",
     "text": [
      "Method: MWOC w/o PK Loss\n"
     ]
    },
    {
     "name": "stderr",
     "output_type": "stream",
     "text": [
      "/opt/conda/lib/python3.7/site-packages/sklearn/svm/_base.py:947: ConvergenceWarning: Liblinear failed to converge, increase the number of iterations.\n",
      "  \"the number of iterations.\", ConvergenceWarning)\n"
     ]
    },
    {
     "name": "stdout",
     "output_type": "stream",
     "text": [
      "Method: MWOC w/ PK Loss\n"
     ]
    },
    {
     "name": "stderr",
     "output_type": "stream",
     "text": [
      "/opt/conda/lib/python3.7/site-packages/sklearn/svm/_base.py:947: ConvergenceWarning: Liblinear failed to converge, increase the number of iterations.\n",
      "  \"the number of iterations.\", ConvergenceWarning)\n"
     ]
    },
    {
     "name": "stdout",
     "output_type": "stream",
     "text": [
      "noise type: normal magnitude: 0.100000\n",
      "noise type: normal magnitude: 0.500000\n",
      "noise type: uniform magnitude: 0.100000\n",
      "noise type: uniform magnitude: 0.500000\n",
      "noise type: uniform magnitude: -0.100000\n",
      "noise type: uniform magnitude: -0.500000\n",
      "noise type: bernoulli magnitude: 0.100000\n",
      "noise type: bernoulli magnitude: 0.500000\n",
      "noise type: bernoulli magnitude: -0.100000\n",
      "noise type: bernoulli magnitude: -0.500000\n"
     ]
    },
    {
     "name": "stderr",
     "output_type": "stream",
     "text": [
      "/opt/conda/lib/python3.7/site-packages/sklearn/svm/_base.py:947: ConvergenceWarning: Liblinear failed to converge, increase the number of iterations.\n",
      "  \"the number of iterations.\", ConvergenceWarning)\n",
      "/opt/conda/lib/python3.7/site-packages/sklearn/svm/_base.py:947: ConvergenceWarning: Liblinear failed to converge, increase the number of iterations.\n",
      "  \"the number of iterations.\", ConvergenceWarning)\n",
      "/opt/conda/lib/python3.7/site-packages/sklearn/svm/_base.py:947: ConvergenceWarning: Liblinear failed to converge, increase the number of iterations.\n",
      "  \"the number of iterations.\", ConvergenceWarning)\n",
      "/opt/conda/lib/python3.7/site-packages/sklearn/svm/_base.py:947: ConvergenceWarning: Liblinear failed to converge, increase the number of iterations.\n",
      "  \"the number of iterations.\", ConvergenceWarning)\n",
      "/opt/conda/lib/python3.7/site-packages/sklearn/svm/_base.py:947: ConvergenceWarning: Liblinear failed to converge, increase the number of iterations.\n",
      "  \"the number of iterations.\", ConvergenceWarning)\n"
     ]
    },
    {
     "name": "stdout",
     "output_type": "stream",
     "text": [
      "Method: Calibrated Confidence Score w/o PK Loss\n",
      "############################################\n",
      "#                    4                     #\n",
      "############################################\n",
      "Use Encoding: 1\n",
      "CrossEntropy Loss: 0.000000 MSE Loss: 0.448718 Time elapsed: 6.419506 s\n",
      "CrossEntropy Loss: 0.000000 MSE Loss: 0.499450 Time elapsed: 0.147240 s\n"
     ]
    },
    {
     "name": "stderr",
     "output_type": "stream",
     "text": [
      "/opt/conda/lib/python3.7/site-packages/sklearn/svm/_base.py:947: ConvergenceWarning: Liblinear failed to converge, increase the number of iterations.\n",
      "  \"the number of iterations.\", ConvergenceWarning)\n"
     ]
    },
    {
     "name": "stdout",
     "output_type": "stream",
     "text": [
      "Method: Raw Feature w/o PK Loss\n",
      "Method: Raw Feature w/ PK Loss\n"
     ]
    },
    {
     "name": "stderr",
     "output_type": "stream",
     "text": [
      "/opt/conda/lib/python3.7/site-packages/sklearn/linear_model/_logistic.py:940: ConvergenceWarning: lbfgs failed to converge (status=1):\n",
      "STOP: TOTAL NO. of ITERATIONS REACHED LIMIT.\n",
      "\n",
      "Increase the number of iterations (max_iter) or scale the data as shown in:\n",
      "    https://scikit-learn.org/stable/modules/preprocessing.html\n",
      "Please also refer to the documentation for alternative solver options:\n",
      "    https://scikit-learn.org/stable/modules/linear_model.html#logistic-regression\n",
      "  extra_warning_msg=_LOGISTIC_SOLVER_CONVERGENCE_MSG)\n"
     ]
    },
    {
     "name": "stdout",
     "output_type": "stream",
     "text": [
      "Method: PK Loss Only\n"
     ]
    },
    {
     "name": "stderr",
     "output_type": "stream",
     "text": [
      "/opt/conda/lib/python3.7/site-packages/sklearn/svm/_base.py:947: ConvergenceWarning: Liblinear failed to converge, increase the number of iterations.\n",
      "  \"the number of iterations.\", ConvergenceWarning)\n"
     ]
    },
    {
     "name": "stdout",
     "output_type": "stream",
     "text": [
      "0 / 23556\n",
      "1177 / 23556\n",
      "2354 / 23556\n",
      "3531 / 23556\n",
      "4708 / 23556\n",
      "5885 / 23556\n",
      "7062 / 23556\n",
      "8239 / 23556\n",
      "9416 / 23556\n",
      "10593 / 23556\n",
      "11770 / 23556\n",
      "12947 / 23556\n",
      "14124 / 23556\n",
      "15301 / 23556\n",
      "16478 / 23556\n",
      "17655 / 23556\n",
      "18832 / 23556\n",
      "20009 / 23556\n",
      "21186 / 23556\n",
      "22363 / 23556\n",
      "23540 / 23556\n"
     ]
    },
    {
     "name": "stderr",
     "output_type": "stream",
     "text": [
      "/opt/conda/lib/python3.7/site-packages/sklearn/svm/_base.py:947: ConvergenceWarning: Liblinear failed to converge, increase the number of iterations.\n",
      "  \"the number of iterations.\", ConvergenceWarning)\n"
     ]
    },
    {
     "name": "stdout",
     "output_type": "stream",
     "text": [
      "0 / 370\n",
      "18 / 370\n",
      "36 / 370\n",
      "54 / 370\n",
      "72 / 370\n",
      "90 / 370\n",
      "108 / 370\n",
      "126 / 370\n",
      "144 / 370\n",
      "162 / 370\n",
      "180 / 370\n",
      "198 / 370\n",
      "216 / 370\n",
      "234 / 370\n",
      "252 / 370\n",
      "270 / 370\n",
      "288 / 370\n",
      "306 / 370\n",
      "324 / 370\n",
      "342 / 370\n",
      "360 / 370\n",
      "Method: Nearest Neighbour w/o PK Loss\n"
     ]
    },
    {
     "name": "stderr",
     "output_type": "stream",
     "text": [
      "/opt/conda/lib/python3.7/site-packages/sklearn/linear_model/_logistic.py:940: ConvergenceWarning: lbfgs failed to converge (status=1):\n",
      "STOP: TOTAL NO. of ITERATIONS REACHED LIMIT.\n",
      "\n",
      "Increase the number of iterations (max_iter) or scale the data as shown in:\n",
      "    https://scikit-learn.org/stable/modules/preprocessing.html\n",
      "Please also refer to the documentation for alternative solver options:\n",
      "    https://scikit-learn.org/stable/modules/linear_model.html#logistic-regression\n",
      "  extra_warning_msg=_LOGISTIC_SOLVER_CONVERGENCE_MSG)\n",
      "/opt/conda/lib/python3.7/site-packages/sklearn/linear_model/_logistic.py:940: ConvergenceWarning: lbfgs failed to converge (status=1):\n",
      "STOP: TOTAL NO. of ITERATIONS REACHED LIMIT.\n",
      "\n",
      "Increase the number of iterations (max_iter) or scale the data as shown in:\n",
      "    https://scikit-learn.org/stable/modules/preprocessing.html\n",
      "Please also refer to the documentation for alternative solver options:\n",
      "    https://scikit-learn.org/stable/modules/linear_model.html#logistic-regression\n",
      "  extra_warning_msg=_LOGISTIC_SOLVER_CONVERGENCE_MSG)\n"
     ]
    },
    {
     "name": "stdout",
     "output_type": "stream",
     "text": [
      "RVAE w/ Raw Feature\n"
     ]
    },
    {
     "name": "stderr",
     "output_type": "stream",
     "text": [
      "/opt/conda/lib/python3.7/site-packages/sklearn/linear_model/_logistic.py:940: ConvergenceWarning: lbfgs failed to converge (status=1):\n",
      "STOP: TOTAL NO. of ITERATIONS REACHED LIMIT.\n",
      "\n",
      "Increase the number of iterations (max_iter) or scale the data as shown in:\n",
      "    https://scikit-learn.org/stable/modules/preprocessing.html\n",
      "Please also refer to the documentation for alternative solver options:\n",
      "    https://scikit-learn.org/stable/modules/linear_model.html#logistic-regression\n",
      "  extra_warning_msg=_LOGISTIC_SOLVER_CONVERGENCE_MSG)\n",
      "/opt/conda/lib/python3.7/site-packages/sklearn/linear_model/_logistic.py:940: ConvergenceWarning: lbfgs failed to converge (status=1):\n",
      "STOP: TOTAL NO. of ITERATIONS REACHED LIMIT.\n",
      "\n",
      "Increase the number of iterations (max_iter) or scale the data as shown in:\n",
      "    https://scikit-learn.org/stable/modules/preprocessing.html\n",
      "Please also refer to the documentation for alternative solver options:\n",
      "    https://scikit-learn.org/stable/modules/linear_model.html#logistic-regression\n",
      "  extra_warning_msg=_LOGISTIC_SOLVER_CONVERGENCE_MSG)\n"
     ]
    },
    {
     "name": "stdout",
     "output_type": "stream",
     "text": [
      "Method: MWOC w/o PK Loss\n"
     ]
    },
    {
     "name": "stderr",
     "output_type": "stream",
     "text": [
      "/opt/conda/lib/python3.7/site-packages/sklearn/svm/_base.py:947: ConvergenceWarning: Liblinear failed to converge, increase the number of iterations.\n",
      "  \"the number of iterations.\", ConvergenceWarning)\n"
     ]
    },
    {
     "name": "stdout",
     "output_type": "stream",
     "text": [
      "Method: MWOC w/ PK Loss\n"
     ]
    },
    {
     "name": "stderr",
     "output_type": "stream",
     "text": [
      "/opt/conda/lib/python3.7/site-packages/sklearn/svm/_base.py:947: ConvergenceWarning: Liblinear failed to converge, increase the number of iterations.\n",
      "  \"the number of iterations.\", ConvergenceWarning)\n"
     ]
    },
    {
     "name": "stdout",
     "output_type": "stream",
     "text": [
      "noise type: normal magnitude: 0.100000\n",
      "noise type: normal magnitude: 0.500000\n",
      "noise type: uniform magnitude: 0.100000\n",
      "noise type: uniform magnitude: 0.500000\n",
      "noise type: uniform magnitude: -0.100000\n",
      "noise type: uniform magnitude: -0.500000\n",
      "noise type: bernoulli magnitude: 0.100000\n",
      "noise type: bernoulli magnitude: 0.500000\n",
      "noise type: bernoulli magnitude: -0.100000\n",
      "noise type: bernoulli magnitude: -0.500000\n"
     ]
    },
    {
     "name": "stderr",
     "output_type": "stream",
     "text": [
      "/opt/conda/lib/python3.7/site-packages/sklearn/svm/_base.py:947: ConvergenceWarning: Liblinear failed to converge, increase the number of iterations.\n",
      "  \"the number of iterations.\", ConvergenceWarning)\n",
      "/opt/conda/lib/python3.7/site-packages/sklearn/svm/_base.py:947: ConvergenceWarning: Liblinear failed to converge, increase the number of iterations.\n",
      "  \"the number of iterations.\", ConvergenceWarning)\n",
      "/opt/conda/lib/python3.7/site-packages/sklearn/svm/_base.py:947: ConvergenceWarning: Liblinear failed to converge, increase the number of iterations.\n",
      "  \"the number of iterations.\", ConvergenceWarning)\n",
      "/opt/conda/lib/python3.7/site-packages/sklearn/svm/_base.py:947: ConvergenceWarning: Liblinear failed to converge, increase the number of iterations.\n",
      "  \"the number of iterations.\", ConvergenceWarning)\n",
      "/opt/conda/lib/python3.7/site-packages/sklearn/svm/_base.py:947: ConvergenceWarning: Liblinear failed to converge, increase the number of iterations.\n",
      "  \"the number of iterations.\", ConvergenceWarning)\n"
     ]
    },
    {
     "name": "stdout",
     "output_type": "stream",
     "text": [
      "Method: Calibrated Confidence Score w/o PK Loss\n",
      "Noise Type: adv, Model: lr, Level: medium\n",
      "############################################\n",
      "#                    0                     #\n",
      "############################################\n",
      "Use Encoding: 1\n",
      "CrossEntropy Loss: 0.000000 MSE Loss: 0.448969 Time elapsed: 16.660931 s\n",
      "CrossEntropy Loss: 0.000000 MSE Loss: 0.432566 Time elapsed: 0.430197 s\n",
      "Method: Raw Feature w/o PK Loss\n",
      "Method: Raw Feature w/ PK Loss\n"
     ]
    },
    {
     "name": "stderr",
     "output_type": "stream",
     "text": [
      "/opt/conda/lib/python3.7/site-packages/sklearn/linear_model/_logistic.py:940: ConvergenceWarning: lbfgs failed to converge (status=1):\n",
      "STOP: TOTAL NO. of ITERATIONS REACHED LIMIT.\n",
      "\n",
      "Increase the number of iterations (max_iter) or scale the data as shown in:\n",
      "    https://scikit-learn.org/stable/modules/preprocessing.html\n",
      "Please also refer to the documentation for alternative solver options:\n",
      "    https://scikit-learn.org/stable/modules/linear_model.html#logistic-regression\n",
      "  extra_warning_msg=_LOGISTIC_SOLVER_CONVERGENCE_MSG)\n"
     ]
    },
    {
     "name": "stdout",
     "output_type": "stream",
     "text": [
      "Method: PK Loss Only\n"
     ]
    },
    {
     "name": "stderr",
     "output_type": "stream",
     "text": [
      "/opt/conda/lib/python3.7/site-packages/sklearn/svm/_base.py:947: ConvergenceWarning: Liblinear failed to converge, increase the number of iterations.\n",
      "  \"the number of iterations.\", ConvergenceWarning)\n"
     ]
    },
    {
     "name": "stdout",
     "output_type": "stream",
     "text": [
      "0 / 23480\n",
      "1174 / 23480\n",
      "2348 / 23480\n",
      "3522 / 23480\n",
      "4696 / 23480\n",
      "5870 / 23480\n",
      "7044 / 23480\n",
      "8218 / 23480\n",
      "9392 / 23480\n",
      "10566 / 23480\n",
      "11740 / 23480\n",
      "12914 / 23480\n",
      "14088 / 23480\n",
      "15262 / 23480\n",
      "16436 / 23480\n",
      "17610 / 23480\n",
      "18784 / 23480\n",
      "19958 / 23480\n",
      "21132 / 23480\n",
      "22306 / 23480\n"
     ]
    },
    {
     "name": "stderr",
     "output_type": "stream",
     "text": [
      "/opt/conda/lib/python3.7/site-packages/sklearn/svm/_base.py:947: ConvergenceWarning: Liblinear failed to converge, increase the number of iterations.\n",
      "  \"the number of iterations.\", ConvergenceWarning)\n"
     ]
    },
    {
     "name": "stdout",
     "output_type": "stream",
     "text": [
      "0 / 440\n",
      "22 / 440\n",
      "44 / 440\n",
      "66 / 440\n",
      "88 / 440\n",
      "110 / 440\n",
      "132 / 440\n",
      "154 / 440\n",
      "176 / 440\n",
      "198 / 440\n",
      "220 / 440\n",
      "242 / 440\n",
      "264 / 440\n",
      "286 / 440\n",
      "308 / 440\n",
      "330 / 440\n",
      "352 / 440\n",
      "374 / 440\n",
      "396 / 440\n",
      "418 / 440\n",
      "Method: Nearest Neighbour w/o PK Loss\n"
     ]
    },
    {
     "name": "stderr",
     "output_type": "stream",
     "text": [
      "/opt/conda/lib/python3.7/site-packages/sklearn/linear_model/_logistic.py:940: ConvergenceWarning: lbfgs failed to converge (status=1):\n",
      "STOP: TOTAL NO. of ITERATIONS REACHED LIMIT.\n",
      "\n",
      "Increase the number of iterations (max_iter) or scale the data as shown in:\n",
      "    https://scikit-learn.org/stable/modules/preprocessing.html\n",
      "Please also refer to the documentation for alternative solver options:\n",
      "    https://scikit-learn.org/stable/modules/linear_model.html#logistic-regression\n",
      "  extra_warning_msg=_LOGISTIC_SOLVER_CONVERGENCE_MSG)\n",
      "/opt/conda/lib/python3.7/site-packages/sklearn/linear_model/_logistic.py:940: ConvergenceWarning: lbfgs failed to converge (status=1):\n",
      "STOP: TOTAL NO. of ITERATIONS REACHED LIMIT.\n",
      "\n",
      "Increase the number of iterations (max_iter) or scale the data as shown in:\n",
      "    https://scikit-learn.org/stable/modules/preprocessing.html\n",
      "Please also refer to the documentation for alternative solver options:\n",
      "    https://scikit-learn.org/stable/modules/linear_model.html#logistic-regression\n",
      "  extra_warning_msg=_LOGISTIC_SOLVER_CONVERGENCE_MSG)\n"
     ]
    },
    {
     "name": "stdout",
     "output_type": "stream",
     "text": [
      "RVAE w/ Raw Feature\n"
     ]
    },
    {
     "name": "stderr",
     "output_type": "stream",
     "text": [
      "/opt/conda/lib/python3.7/site-packages/sklearn/linear_model/_logistic.py:940: ConvergenceWarning: lbfgs failed to converge (status=1):\n",
      "STOP: TOTAL NO. of ITERATIONS REACHED LIMIT.\n",
      "\n",
      "Increase the number of iterations (max_iter) or scale the data as shown in:\n",
      "    https://scikit-learn.org/stable/modules/preprocessing.html\n",
      "Please also refer to the documentation for alternative solver options:\n",
      "    https://scikit-learn.org/stable/modules/linear_model.html#logistic-regression\n",
      "  extra_warning_msg=_LOGISTIC_SOLVER_CONVERGENCE_MSG)\n",
      "/opt/conda/lib/python3.7/site-packages/sklearn/linear_model/_logistic.py:940: ConvergenceWarning: lbfgs failed to converge (status=1):\n",
      "STOP: TOTAL NO. of ITERATIONS REACHED LIMIT.\n",
      "\n",
      "Increase the number of iterations (max_iter) or scale the data as shown in:\n",
      "    https://scikit-learn.org/stable/modules/preprocessing.html\n",
      "Please also refer to the documentation for alternative solver options:\n",
      "    https://scikit-learn.org/stable/modules/linear_model.html#logistic-regression\n",
      "  extra_warning_msg=_LOGISTIC_SOLVER_CONVERGENCE_MSG)\n"
     ]
    },
    {
     "name": "stdout",
     "output_type": "stream",
     "text": [
      "Method: MWOC w/o PK Loss\n",
      "Method: MWOC w/ PK Loss\n"
     ]
    },
    {
     "name": "stderr",
     "output_type": "stream",
     "text": [
      "/opt/conda/lib/python3.7/site-packages/sklearn/linear_model/_logistic.py:940: ConvergenceWarning: lbfgs failed to converge (status=1):\n",
      "STOP: TOTAL NO. of ITERATIONS REACHED LIMIT.\n",
      "\n",
      "Increase the number of iterations (max_iter) or scale the data as shown in:\n",
      "    https://scikit-learn.org/stable/modules/preprocessing.html\n",
      "Please also refer to the documentation for alternative solver options:\n",
      "    https://scikit-learn.org/stable/modules/linear_model.html#logistic-regression\n",
      "  extra_warning_msg=_LOGISTIC_SOLVER_CONVERGENCE_MSG)\n"
     ]
    },
    {
     "name": "stdout",
     "output_type": "stream",
     "text": [
      "noise type: normal magnitude: 0.100000\n",
      "noise type: normal magnitude: 0.500000\n",
      "noise type: uniform magnitude: 0.100000\n",
      "noise type: uniform magnitude: 0.500000\n",
      "noise type: uniform magnitude: -0.100000\n",
      "noise type: uniform magnitude: -0.500000\n",
      "noise type: bernoulli magnitude: 0.100000\n",
      "noise type: bernoulli magnitude: 0.500000\n",
      "noise type: bernoulli magnitude: -0.100000\n",
      "noise type: bernoulli magnitude: -0.500000\n",
      "Method: Calibrated Confidence Score w/o PK Loss\n",
      "############################################\n",
      "#                    1                     #\n",
      "############################################\n",
      "Use Encoding: 1\n",
      "CrossEntropy Loss: 0.000000 MSE Loss: 0.466140 Time elapsed: 16.996430 s\n",
      "CrossEntropy Loss: 0.000000 MSE Loss: 0.431804 Time elapsed: 0.426672 s\n",
      "Method: Raw Feature w/o PK Loss\n",
      "Method: Raw Feature w/ PK Loss\n"
     ]
    },
    {
     "name": "stderr",
     "output_type": "stream",
     "text": [
      "/opt/conda/lib/python3.7/site-packages/sklearn/linear_model/_logistic.py:940: ConvergenceWarning: lbfgs failed to converge (status=1):\n",
      "STOP: TOTAL NO. of ITERATIONS REACHED LIMIT.\n",
      "\n",
      "Increase the number of iterations (max_iter) or scale the data as shown in:\n",
      "    https://scikit-learn.org/stable/modules/preprocessing.html\n",
      "Please also refer to the documentation for alternative solver options:\n",
      "    https://scikit-learn.org/stable/modules/linear_model.html#logistic-regression\n",
      "  extra_warning_msg=_LOGISTIC_SOLVER_CONVERGENCE_MSG)\n"
     ]
    },
    {
     "name": "stdout",
     "output_type": "stream",
     "text": [
      "Method: PK Loss Only\n"
     ]
    },
    {
     "name": "stderr",
     "output_type": "stream",
     "text": [
      "/opt/conda/lib/python3.7/site-packages/sklearn/svm/_base.py:947: ConvergenceWarning: Liblinear failed to converge, increase the number of iterations.\n",
      "  \"the number of iterations.\", ConvergenceWarning)\n"
     ]
    },
    {
     "name": "stdout",
     "output_type": "stream",
     "text": [
      "0 / 23616\n",
      "1180 / 23616\n",
      "2360 / 23616\n",
      "3540 / 23616\n",
      "4720 / 23616\n",
      "5900 / 23616\n",
      "7080 / 23616\n",
      "8260 / 23616\n",
      "9440 / 23616\n",
      "10620 / 23616\n",
      "11800 / 23616\n",
      "12980 / 23616\n",
      "14160 / 23616\n",
      "15340 / 23616\n",
      "16520 / 23616\n",
      "17700 / 23616\n",
      "18880 / 23616\n",
      "20060 / 23616\n",
      "21240 / 23616\n",
      "22420 / 23616\n",
      "23600 / 23616\n"
     ]
    },
    {
     "name": "stderr",
     "output_type": "stream",
     "text": [
      "/opt/conda/lib/python3.7/site-packages/sklearn/svm/_base.py:947: ConvergenceWarning: Liblinear failed to converge, increase the number of iterations.\n",
      "  \"the number of iterations.\", ConvergenceWarning)\n"
     ]
    },
    {
     "name": "stdout",
     "output_type": "stream",
     "text": [
      "0 / 416\n",
      "20 / 416\n",
      "40 / 416\n",
      "60 / 416\n",
      "80 / 416\n",
      "100 / 416\n",
      "120 / 416\n",
      "140 / 416\n",
      "160 / 416\n",
      "180 / 416\n",
      "200 / 416\n",
      "220 / 416\n",
      "240 / 416\n",
      "260 / 416\n",
      "280 / 416\n",
      "300 / 416\n",
      "320 / 416\n",
      "340 / 416\n",
      "360 / 416\n",
      "380 / 416\n",
      "400 / 416\n",
      "Method: Nearest Neighbour w/o PK Loss\n"
     ]
    },
    {
     "name": "stderr",
     "output_type": "stream",
     "text": [
      "/opt/conda/lib/python3.7/site-packages/sklearn/linear_model/_logistic.py:940: ConvergenceWarning: lbfgs failed to converge (status=1):\n",
      "STOP: TOTAL NO. of ITERATIONS REACHED LIMIT.\n",
      "\n",
      "Increase the number of iterations (max_iter) or scale the data as shown in:\n",
      "    https://scikit-learn.org/stable/modules/preprocessing.html\n",
      "Please also refer to the documentation for alternative solver options:\n",
      "    https://scikit-learn.org/stable/modules/linear_model.html#logistic-regression\n",
      "  extra_warning_msg=_LOGISTIC_SOLVER_CONVERGENCE_MSG)\n"
     ]
    },
    {
     "name": "stdout",
     "output_type": "stream",
     "text": [
      "RVAE w/ Raw Feature\n"
     ]
    },
    {
     "name": "stderr",
     "output_type": "stream",
     "text": [
      "/opt/conda/lib/python3.7/site-packages/sklearn/linear_model/_logistic.py:940: ConvergenceWarning: lbfgs failed to converge (status=1):\n",
      "STOP: TOTAL NO. of ITERATIONS REACHED LIMIT.\n",
      "\n",
      "Increase the number of iterations (max_iter) or scale the data as shown in:\n",
      "    https://scikit-learn.org/stable/modules/preprocessing.html\n",
      "Please also refer to the documentation for alternative solver options:\n",
      "    https://scikit-learn.org/stable/modules/linear_model.html#logistic-regression\n",
      "  extra_warning_msg=_LOGISTIC_SOLVER_CONVERGENCE_MSG)\n",
      "/opt/conda/lib/python3.7/site-packages/sklearn/linear_model/_logistic.py:940: ConvergenceWarning: lbfgs failed to converge (status=1):\n",
      "STOP: TOTAL NO. of ITERATIONS REACHED LIMIT.\n",
      "\n",
      "Increase the number of iterations (max_iter) or scale the data as shown in:\n",
      "    https://scikit-learn.org/stable/modules/preprocessing.html\n",
      "Please also refer to the documentation for alternative solver options:\n",
      "    https://scikit-learn.org/stable/modules/linear_model.html#logistic-regression\n",
      "  extra_warning_msg=_LOGISTIC_SOLVER_CONVERGENCE_MSG)\n"
     ]
    },
    {
     "name": "stdout",
     "output_type": "stream",
     "text": [
      "Method: MWOC w/o PK Loss\n",
      "Method: MWOC w/ PK Loss\n"
     ]
    },
    {
     "name": "stderr",
     "output_type": "stream",
     "text": [
      "/opt/conda/lib/python3.7/site-packages/sklearn/linear_model/_logistic.py:940: ConvergenceWarning: lbfgs failed to converge (status=1):\n",
      "STOP: TOTAL NO. of ITERATIONS REACHED LIMIT.\n",
      "\n",
      "Increase the number of iterations (max_iter) or scale the data as shown in:\n",
      "    https://scikit-learn.org/stable/modules/preprocessing.html\n",
      "Please also refer to the documentation for alternative solver options:\n",
      "    https://scikit-learn.org/stable/modules/linear_model.html#logistic-regression\n",
      "  extra_warning_msg=_LOGISTIC_SOLVER_CONVERGENCE_MSG)\n"
     ]
    },
    {
     "name": "stdout",
     "output_type": "stream",
     "text": [
      "noise type: normal magnitude: 0.100000\n",
      "noise type: normal magnitude: 0.500000\n",
      "noise type: uniform magnitude: 0.100000\n",
      "noise type: uniform magnitude: 0.500000\n",
      "noise type: uniform magnitude: -0.100000\n",
      "noise type: uniform magnitude: -0.500000\n",
      "noise type: bernoulli magnitude: 0.100000\n",
      "noise type: bernoulli magnitude: 0.500000\n",
      "noise type: bernoulli magnitude: -0.100000\n",
      "noise type: bernoulli magnitude: -0.500000\n",
      "Method: Calibrated Confidence Score w/o PK Loss\n",
      "############################################\n",
      "#                    2                     #\n",
      "############################################\n",
      "Use Encoding: 1\n",
      "CrossEntropy Loss: 0.000000 MSE Loss: 0.479598 Time elapsed: 6.563165 s\n",
      "CrossEntropy Loss: 0.000000 MSE Loss: 0.517935 Time elapsed: 0.149207 s\n",
      "Method: Raw Feature w/o PK Loss\n",
      "Method: Raw Feature w/ PK Loss\n"
     ]
    },
    {
     "name": "stderr",
     "output_type": "stream",
     "text": [
      "/opt/conda/lib/python3.7/site-packages/sklearn/linear_model/_logistic.py:940: ConvergenceWarning: lbfgs failed to converge (status=1):\n",
      "STOP: TOTAL NO. of ITERATIONS REACHED LIMIT.\n",
      "\n",
      "Increase the number of iterations (max_iter) or scale the data as shown in:\n",
      "    https://scikit-learn.org/stable/modules/preprocessing.html\n",
      "Please also refer to the documentation for alternative solver options:\n",
      "    https://scikit-learn.org/stable/modules/linear_model.html#logistic-regression\n",
      "  extra_warning_msg=_LOGISTIC_SOLVER_CONVERGENCE_MSG)\n"
     ]
    },
    {
     "name": "stdout",
     "output_type": "stream",
     "text": [
      "Method: PK Loss Only\n"
     ]
    },
    {
     "name": "stderr",
     "output_type": "stream",
     "text": [
      "/opt/conda/lib/python3.7/site-packages/sklearn/svm/_base.py:947: ConvergenceWarning: Liblinear failed to converge, increase the number of iterations.\n",
      "  \"the number of iterations.\", ConvergenceWarning)\n"
     ]
    },
    {
     "name": "stdout",
     "output_type": "stream",
     "text": [
      "0 / 23576\n",
      "1178 / 23576\n",
      "2356 / 23576\n",
      "3534 / 23576\n",
      "4712 / 23576\n",
      "5890 / 23576\n",
      "7068 / 23576\n",
      "8246 / 23576\n",
      "9424 / 23576\n",
      "10602 / 23576\n",
      "11780 / 23576\n",
      "12958 / 23576\n",
      "14136 / 23576\n",
      "15314 / 23576\n",
      "16492 / 23576\n",
      "17670 / 23576\n",
      "18848 / 23576\n",
      "20026 / 23576\n",
      "21204 / 23576\n",
      "22382 / 23576\n",
      "23560 / 23576\n"
     ]
    },
    {
     "name": "stderr",
     "output_type": "stream",
     "text": [
      "/opt/conda/lib/python3.7/site-packages/sklearn/svm/_base.py:947: ConvergenceWarning: Liblinear failed to converge, increase the number of iterations.\n",
      "  \"the number of iterations.\", ConvergenceWarning)\n"
     ]
    },
    {
     "name": "stdout",
     "output_type": "stream",
     "text": [
      "0 / 398\n",
      "19 / 398\n",
      "38 / 398\n",
      "57 / 398\n",
      "76 / 398\n",
      "95 / 398\n",
      "114 / 398\n",
      "133 / 398\n",
      "152 / 398\n",
      "171 / 398\n",
      "190 / 398\n",
      "209 / 398\n",
      "228 / 398\n",
      "247 / 398\n",
      "266 / 398\n",
      "285 / 398\n",
      "304 / 398\n",
      "323 / 398\n",
      "342 / 398\n",
      "361 / 398\n",
      "380 / 398\n",
      "Method: Nearest Neighbour w/o PK Loss\n"
     ]
    },
    {
     "name": "stderr",
     "output_type": "stream",
     "text": [
      "/opt/conda/lib/python3.7/site-packages/sklearn/linear_model/_logistic.py:940: ConvergenceWarning: lbfgs failed to converge (status=1):\n",
      "STOP: TOTAL NO. of ITERATIONS REACHED LIMIT.\n",
      "\n",
      "Increase the number of iterations (max_iter) or scale the data as shown in:\n",
      "    https://scikit-learn.org/stable/modules/preprocessing.html\n",
      "Please also refer to the documentation for alternative solver options:\n",
      "    https://scikit-learn.org/stable/modules/linear_model.html#logistic-regression\n",
      "  extra_warning_msg=_LOGISTIC_SOLVER_CONVERGENCE_MSG)\n",
      "/opt/conda/lib/python3.7/site-packages/sklearn/linear_model/_logistic.py:940: ConvergenceWarning: lbfgs failed to converge (status=1):\n",
      "STOP: TOTAL NO. of ITERATIONS REACHED LIMIT.\n",
      "\n",
      "Increase the number of iterations (max_iter) or scale the data as shown in:\n",
      "    https://scikit-learn.org/stable/modules/preprocessing.html\n",
      "Please also refer to the documentation for alternative solver options:\n",
      "    https://scikit-learn.org/stable/modules/linear_model.html#logistic-regression\n",
      "  extra_warning_msg=_LOGISTIC_SOLVER_CONVERGENCE_MSG)\n"
     ]
    },
    {
     "name": "stdout",
     "output_type": "stream",
     "text": [
      "RVAE w/ Raw Feature\n"
     ]
    },
    {
     "name": "stderr",
     "output_type": "stream",
     "text": [
      "/opt/conda/lib/python3.7/site-packages/sklearn/linear_model/_logistic.py:940: ConvergenceWarning: lbfgs failed to converge (status=1):\n",
      "STOP: TOTAL NO. of ITERATIONS REACHED LIMIT.\n",
      "\n",
      "Increase the number of iterations (max_iter) or scale the data as shown in:\n",
      "    https://scikit-learn.org/stable/modules/preprocessing.html\n",
      "Please also refer to the documentation for alternative solver options:\n",
      "    https://scikit-learn.org/stable/modules/linear_model.html#logistic-regression\n",
      "  extra_warning_msg=_LOGISTIC_SOLVER_CONVERGENCE_MSG)\n",
      "/opt/conda/lib/python3.7/site-packages/sklearn/linear_model/_logistic.py:940: ConvergenceWarning: lbfgs failed to converge (status=1):\n",
      "STOP: TOTAL NO. of ITERATIONS REACHED LIMIT.\n",
      "\n",
      "Increase the number of iterations (max_iter) or scale the data as shown in:\n",
      "    https://scikit-learn.org/stable/modules/preprocessing.html\n",
      "Please also refer to the documentation for alternative solver options:\n",
      "    https://scikit-learn.org/stable/modules/linear_model.html#logistic-regression\n",
      "  extra_warning_msg=_LOGISTIC_SOLVER_CONVERGENCE_MSG)\n"
     ]
    },
    {
     "name": "stdout",
     "output_type": "stream",
     "text": [
      "Method: MWOC w/o PK Loss\n",
      "Method: MWOC w/ PK Loss\n"
     ]
    },
    {
     "name": "stderr",
     "output_type": "stream",
     "text": [
      "/opt/conda/lib/python3.7/site-packages/sklearn/linear_model/_logistic.py:940: ConvergenceWarning: lbfgs failed to converge (status=1):\n",
      "STOP: TOTAL NO. of ITERATIONS REACHED LIMIT.\n",
      "\n",
      "Increase the number of iterations (max_iter) or scale the data as shown in:\n",
      "    https://scikit-learn.org/stable/modules/preprocessing.html\n",
      "Please also refer to the documentation for alternative solver options:\n",
      "    https://scikit-learn.org/stable/modules/linear_model.html#logistic-regression\n",
      "  extra_warning_msg=_LOGISTIC_SOLVER_CONVERGENCE_MSG)\n"
     ]
    },
    {
     "name": "stdout",
     "output_type": "stream",
     "text": [
      "noise type: normal magnitude: 0.100000\n",
      "noise type: normal magnitude: 0.500000\n",
      "noise type: uniform magnitude: 0.100000\n",
      "noise type: uniform magnitude: 0.500000\n",
      "noise type: uniform magnitude: -0.100000\n",
      "noise type: uniform magnitude: -0.500000\n",
      "noise type: bernoulli magnitude: 0.100000\n",
      "noise type: bernoulli magnitude: 0.500000\n",
      "noise type: bernoulli magnitude: -0.100000\n",
      "noise type: bernoulli magnitude: -0.500000\n",
      "Method: Calibrated Confidence Score w/o PK Loss\n",
      "############################################\n",
      "#                    3                     #\n",
      "############################################\n",
      "Use Encoding: 1\n",
      "CrossEntropy Loss: 0.000000 MSE Loss: 0.488160 Time elapsed: 16.822212 s\n",
      "CrossEntropy Loss: 0.000000 MSE Loss: 0.490740 Time elapsed: 0.423495 s\n",
      "Method: Raw Feature w/o PK Loss\n",
      "Method: Raw Feature w/ PK Loss\n"
     ]
    },
    {
     "name": "stderr",
     "output_type": "stream",
     "text": [
      "/opt/conda/lib/python3.7/site-packages/sklearn/linear_model/_logistic.py:940: ConvergenceWarning: lbfgs failed to converge (status=1):\n",
      "STOP: TOTAL NO. of ITERATIONS REACHED LIMIT.\n",
      "\n",
      "Increase the number of iterations (max_iter) or scale the data as shown in:\n",
      "    https://scikit-learn.org/stable/modules/preprocessing.html\n",
      "Please also refer to the documentation for alternative solver options:\n",
      "    https://scikit-learn.org/stable/modules/linear_model.html#logistic-regression\n",
      "  extra_warning_msg=_LOGISTIC_SOLVER_CONVERGENCE_MSG)\n"
     ]
    },
    {
     "name": "stdout",
     "output_type": "stream",
     "text": [
      "Method: PK Loss Only\n"
     ]
    },
    {
     "name": "stderr",
     "output_type": "stream",
     "text": [
      "/opt/conda/lib/python3.7/site-packages/sklearn/svm/_base.py:947: ConvergenceWarning: Liblinear failed to converge, increase the number of iterations.\n",
      "  \"the number of iterations.\", ConvergenceWarning)\n"
     ]
    },
    {
     "name": "stdout",
     "output_type": "stream",
     "text": [
      "0 / 23656\n",
      "1182 / 23656\n",
      "2364 / 23656\n",
      "3546 / 23656\n",
      "4728 / 23656\n",
      "5910 / 23656\n",
      "7092 / 23656\n",
      "8274 / 23656\n",
      "9456 / 23656\n",
      "10638 / 23656\n",
      "11820 / 23656\n",
      "13002 / 23656\n",
      "14184 / 23656\n",
      "15366 / 23656\n",
      "16548 / 23656\n",
      "17730 / 23656\n",
      "18912 / 23656\n",
      "20094 / 23656\n",
      "21276 / 23656\n",
      "22458 / 23656\n",
      "23640 / 23656\n"
     ]
    },
    {
     "name": "stderr",
     "output_type": "stream",
     "text": [
      "/opt/conda/lib/python3.7/site-packages/sklearn/svm/_base.py:947: ConvergenceWarning: Liblinear failed to converge, increase the number of iterations.\n",
      "  \"the number of iterations.\", ConvergenceWarning)\n"
     ]
    },
    {
     "name": "stdout",
     "output_type": "stream",
     "text": [
      "0 / 432\n",
      "21 / 432\n",
      "42 / 432\n",
      "63 / 432\n",
      "84 / 432\n",
      "105 / 432\n",
      "126 / 432\n",
      "147 / 432\n",
      "168 / 432\n",
      "189 / 432\n",
      "210 / 432\n",
      "231 / 432\n",
      "252 / 432\n",
      "273 / 432\n",
      "294 / 432\n",
      "315 / 432\n",
      "336 / 432\n",
      "357 / 432\n",
      "378 / 432\n",
      "399 / 432\n",
      "420 / 432\n",
      "Method: Nearest Neighbour w/o PK Loss\n"
     ]
    },
    {
     "name": "stderr",
     "output_type": "stream",
     "text": [
      "/opt/conda/lib/python3.7/site-packages/sklearn/linear_model/_logistic.py:940: ConvergenceWarning: lbfgs failed to converge (status=1):\n",
      "STOP: TOTAL NO. of ITERATIONS REACHED LIMIT.\n",
      "\n",
      "Increase the number of iterations (max_iter) or scale the data as shown in:\n",
      "    https://scikit-learn.org/stable/modules/preprocessing.html\n",
      "Please also refer to the documentation for alternative solver options:\n",
      "    https://scikit-learn.org/stable/modules/linear_model.html#logistic-regression\n",
      "  extra_warning_msg=_LOGISTIC_SOLVER_CONVERGENCE_MSG)\n"
     ]
    },
    {
     "name": "stdout",
     "output_type": "stream",
     "text": [
      "RVAE w/ Raw Feature\n"
     ]
    },
    {
     "name": "stderr",
     "output_type": "stream",
     "text": [
      "/opt/conda/lib/python3.7/site-packages/sklearn/linear_model/_logistic.py:940: ConvergenceWarning: lbfgs failed to converge (status=1):\n",
      "STOP: TOTAL NO. of ITERATIONS REACHED LIMIT.\n",
      "\n",
      "Increase the number of iterations (max_iter) or scale the data as shown in:\n",
      "    https://scikit-learn.org/stable/modules/preprocessing.html\n",
      "Please also refer to the documentation for alternative solver options:\n",
      "    https://scikit-learn.org/stable/modules/linear_model.html#logistic-regression\n",
      "  extra_warning_msg=_LOGISTIC_SOLVER_CONVERGENCE_MSG)\n",
      "/opt/conda/lib/python3.7/site-packages/sklearn/linear_model/_logistic.py:940: ConvergenceWarning: lbfgs failed to converge (status=1):\n",
      "STOP: TOTAL NO. of ITERATIONS REACHED LIMIT.\n",
      "\n",
      "Increase the number of iterations (max_iter) or scale the data as shown in:\n",
      "    https://scikit-learn.org/stable/modules/preprocessing.html\n",
      "Please also refer to the documentation for alternative solver options:\n",
      "    https://scikit-learn.org/stable/modules/linear_model.html#logistic-regression\n",
      "  extra_warning_msg=_LOGISTIC_SOLVER_CONVERGENCE_MSG)\n"
     ]
    },
    {
     "name": "stdout",
     "output_type": "stream",
     "text": [
      "Method: MWOC w/o PK Loss\n",
      "Method: MWOC w/ PK Loss\n"
     ]
    },
    {
     "name": "stderr",
     "output_type": "stream",
     "text": [
      "/opt/conda/lib/python3.7/site-packages/sklearn/linear_model/_logistic.py:940: ConvergenceWarning: lbfgs failed to converge (status=1):\n",
      "STOP: TOTAL NO. of ITERATIONS REACHED LIMIT.\n",
      "\n",
      "Increase the number of iterations (max_iter) or scale the data as shown in:\n",
      "    https://scikit-learn.org/stable/modules/preprocessing.html\n",
      "Please also refer to the documentation for alternative solver options:\n",
      "    https://scikit-learn.org/stable/modules/linear_model.html#logistic-regression\n",
      "  extra_warning_msg=_LOGISTIC_SOLVER_CONVERGENCE_MSG)\n"
     ]
    },
    {
     "name": "stdout",
     "output_type": "stream",
     "text": [
      "noise type: normal magnitude: 0.100000\n",
      "noise type: normal magnitude: 0.500000\n",
      "noise type: uniform magnitude: 0.100000\n",
      "noise type: uniform magnitude: 0.500000\n",
      "noise type: uniform magnitude: -0.100000\n",
      "noise type: uniform magnitude: -0.500000\n",
      "noise type: bernoulli magnitude: 0.100000\n",
      "noise type: bernoulli magnitude: 0.500000\n",
      "noise type: bernoulli magnitude: -0.100000\n",
      "noise type: bernoulli magnitude: -0.500000\n",
      "Method: Calibrated Confidence Score w/o PK Loss\n",
      "############################################\n",
      "#                    4                     #\n",
      "############################################\n",
      "Use Encoding: 1\n",
      "CrossEntropy Loss: 0.000000 MSE Loss: 0.441402 Time elapsed: 16.952773 s\n",
      "CrossEntropy Loss: 0.000000 MSE Loss: 0.448599 Time elapsed: 0.382986 s\n",
      "Method: Raw Feature w/o PK Loss\n",
      "Method: Raw Feature w/ PK Loss\n"
     ]
    },
    {
     "name": "stderr",
     "output_type": "stream",
     "text": [
      "/opt/conda/lib/python3.7/site-packages/sklearn/linear_model/_logistic.py:940: ConvergenceWarning: lbfgs failed to converge (status=1):\n",
      "STOP: TOTAL NO. of ITERATIONS REACHED LIMIT.\n",
      "\n",
      "Increase the number of iterations (max_iter) or scale the data as shown in:\n",
      "    https://scikit-learn.org/stable/modules/preprocessing.html\n",
      "Please also refer to the documentation for alternative solver options:\n",
      "    https://scikit-learn.org/stable/modules/linear_model.html#logistic-regression\n",
      "  extra_warning_msg=_LOGISTIC_SOLVER_CONVERGENCE_MSG)\n"
     ]
    },
    {
     "name": "stdout",
     "output_type": "stream",
     "text": [
      "Method: PK Loss Only\n"
     ]
    },
    {
     "name": "stderr",
     "output_type": "stream",
     "text": [
      "/opt/conda/lib/python3.7/site-packages/sklearn/svm/_base.py:947: ConvergenceWarning: Liblinear failed to converge, increase the number of iterations.\n",
      "  \"the number of iterations.\", ConvergenceWarning)\n"
     ]
    },
    {
     "name": "stdout",
     "output_type": "stream",
     "text": [
      "0 / 23560\n",
      "1178 / 23560\n",
      "2356 / 23560\n",
      "3534 / 23560\n",
      "4712 / 23560\n",
      "5890 / 23560\n",
      "7068 / 23560\n",
      "8246 / 23560\n",
      "9424 / 23560\n",
      "10602 / 23560\n",
      "11780 / 23560\n",
      "12958 / 23560\n",
      "14136 / 23560\n",
      "15314 / 23560\n",
      "16492 / 23560\n",
      "17670 / 23560\n",
      "18848 / 23560\n",
      "20026 / 23560\n",
      "21204 / 23560\n",
      "22382 / 23560\n"
     ]
    },
    {
     "name": "stderr",
     "output_type": "stream",
     "text": [
      "/opt/conda/lib/python3.7/site-packages/sklearn/svm/_base.py:947: ConvergenceWarning: Liblinear failed to converge, increase the number of iterations.\n",
      "  \"the number of iterations.\", ConvergenceWarning)\n"
     ]
    },
    {
     "name": "stdout",
     "output_type": "stream",
     "text": [
      "0 / 366\n",
      "18 / 366\n",
      "36 / 366\n",
      "54 / 366\n",
      "72 / 366\n",
      "90 / 366\n",
      "108 / 366\n",
      "126 / 366\n",
      "144 / 366\n",
      "162 / 366\n",
      "180 / 366\n",
      "198 / 366\n",
      "216 / 366\n",
      "234 / 366\n",
      "252 / 366\n",
      "270 / 366\n",
      "288 / 366\n",
      "306 / 366\n",
      "324 / 366\n",
      "342 / 366\n",
      "360 / 366\n",
      "Method: Nearest Neighbour w/o PK Loss\n"
     ]
    },
    {
     "name": "stderr",
     "output_type": "stream",
     "text": [
      "/opt/conda/lib/python3.7/site-packages/sklearn/linear_model/_logistic.py:940: ConvergenceWarning: lbfgs failed to converge (status=1):\n",
      "STOP: TOTAL NO. of ITERATIONS REACHED LIMIT.\n",
      "\n",
      "Increase the number of iterations (max_iter) or scale the data as shown in:\n",
      "    https://scikit-learn.org/stable/modules/preprocessing.html\n",
      "Please also refer to the documentation for alternative solver options:\n",
      "    https://scikit-learn.org/stable/modules/linear_model.html#logistic-regression\n",
      "  extra_warning_msg=_LOGISTIC_SOLVER_CONVERGENCE_MSG)\n",
      "/opt/conda/lib/python3.7/site-packages/sklearn/linear_model/_logistic.py:940: ConvergenceWarning: lbfgs failed to converge (status=1):\n",
      "STOP: TOTAL NO. of ITERATIONS REACHED LIMIT.\n",
      "\n",
      "Increase the number of iterations (max_iter) or scale the data as shown in:\n",
      "    https://scikit-learn.org/stable/modules/preprocessing.html\n",
      "Please also refer to the documentation for alternative solver options:\n",
      "    https://scikit-learn.org/stable/modules/linear_model.html#logistic-regression\n",
      "  extra_warning_msg=_LOGISTIC_SOLVER_CONVERGENCE_MSG)\n"
     ]
    },
    {
     "name": "stdout",
     "output_type": "stream",
     "text": [
      "RVAE w/ Raw Feature\n"
     ]
    },
    {
     "name": "stderr",
     "output_type": "stream",
     "text": [
      "/opt/conda/lib/python3.7/site-packages/sklearn/linear_model/_logistic.py:940: ConvergenceWarning: lbfgs failed to converge (status=1):\n",
      "STOP: TOTAL NO. of ITERATIONS REACHED LIMIT.\n",
      "\n",
      "Increase the number of iterations (max_iter) or scale the data as shown in:\n",
      "    https://scikit-learn.org/stable/modules/preprocessing.html\n",
      "Please also refer to the documentation for alternative solver options:\n",
      "    https://scikit-learn.org/stable/modules/linear_model.html#logistic-regression\n",
      "  extra_warning_msg=_LOGISTIC_SOLVER_CONVERGENCE_MSG)\n",
      "/opt/conda/lib/python3.7/site-packages/sklearn/linear_model/_logistic.py:940: ConvergenceWarning: lbfgs failed to converge (status=1):\n",
      "STOP: TOTAL NO. of ITERATIONS REACHED LIMIT.\n",
      "\n",
      "Increase the number of iterations (max_iter) or scale the data as shown in:\n",
      "    https://scikit-learn.org/stable/modules/preprocessing.html\n",
      "Please also refer to the documentation for alternative solver options:\n",
      "    https://scikit-learn.org/stable/modules/linear_model.html#logistic-regression\n",
      "  extra_warning_msg=_LOGISTIC_SOLVER_CONVERGENCE_MSG)\n"
     ]
    },
    {
     "name": "stdout",
     "output_type": "stream",
     "text": [
      "Method: MWOC w/o PK Loss\n",
      "Method: MWOC w/ PK Loss\n"
     ]
    },
    {
     "name": "stderr",
     "output_type": "stream",
     "text": [
      "/opt/conda/lib/python3.7/site-packages/sklearn/linear_model/_logistic.py:940: ConvergenceWarning: lbfgs failed to converge (status=1):\n",
      "STOP: TOTAL NO. of ITERATIONS REACHED LIMIT.\n",
      "\n",
      "Increase the number of iterations (max_iter) or scale the data as shown in:\n",
      "    https://scikit-learn.org/stable/modules/preprocessing.html\n",
      "Please also refer to the documentation for alternative solver options:\n",
      "    https://scikit-learn.org/stable/modules/linear_model.html#logistic-regression\n",
      "  extra_warning_msg=_LOGISTIC_SOLVER_CONVERGENCE_MSG)\n"
     ]
    },
    {
     "name": "stdout",
     "output_type": "stream",
     "text": [
      "noise type: normal magnitude: 0.100000\n",
      "noise type: normal magnitude: 0.500000\n",
      "noise type: uniform magnitude: 0.100000\n",
      "noise type: uniform magnitude: 0.500000\n",
      "noise type: uniform magnitude: -0.100000\n",
      "noise type: uniform magnitude: -0.500000\n",
      "noise type: bernoulli magnitude: 0.100000\n",
      "noise type: bernoulli magnitude: 0.500000\n",
      "noise type: bernoulli magnitude: -0.100000\n",
      "noise type: bernoulli magnitude: -0.500000\n",
      "Method: Calibrated Confidence Score w/o PK Loss\n",
      "Noise Type: adv, Model: nn, Level: medium\n",
      "############################################\n",
      "#                    0                     #\n",
      "############################################\n",
      "Use Encoding: 1\n",
      "CrossEntropy Loss: 0.000000 MSE Loss: 0.438977 Time elapsed: 8.489031 s\n",
      "CrossEntropy Loss: 0.000000 MSE Loss: 0.475952 Time elapsed: 0.434050 s\n",
      "Method: Raw Feature w/o PK Loss\n",
      "Method: Raw Feature w/ PK Loss\n",
      "Method: PK Loss Only\n"
     ]
    },
    {
     "name": "stderr",
     "output_type": "stream",
     "text": [
      "/opt/conda/lib/python3.7/site-packages/sklearn/svm/_base.py:947: ConvergenceWarning: Liblinear failed to converge, increase the number of iterations.\n",
      "  \"the number of iterations.\", ConvergenceWarning)\n"
     ]
    },
    {
     "name": "stdout",
     "output_type": "stream",
     "text": [
      "0 / 30632\n",
      "1531 / 30632\n",
      "3062 / 30632\n",
      "4593 / 30632\n",
      "6124 / 30632\n",
      "7655 / 30632\n",
      "9186 / 30632\n",
      "10717 / 30632\n",
      "12248 / 30632\n",
      "13779 / 30632\n",
      "15310 / 30632\n",
      "16841 / 30632\n",
      "18372 / 30632\n",
      "19903 / 30632\n",
      "21434 / 30632\n",
      "22965 / 30632\n",
      "24496 / 30632\n",
      "26027 / 30632\n",
      "27558 / 30632\n",
      "29089 / 30632\n",
      "30620 / 30632\n"
     ]
    },
    {
     "name": "stderr",
     "output_type": "stream",
     "text": [
      "/opt/conda/lib/python3.7/site-packages/sklearn/svm/_base.py:947: ConvergenceWarning: Liblinear failed to converge, increase the number of iterations.\n",
      "  \"the number of iterations.\", ConvergenceWarning)\n"
     ]
    },
    {
     "name": "stdout",
     "output_type": "stream",
     "text": [
      "0 / 1058\n",
      "52 / 1058\n",
      "104 / 1058\n",
      "156 / 1058\n",
      "208 / 1058\n",
      "260 / 1058\n",
      "312 / 1058\n",
      "364 / 1058\n",
      "416 / 1058\n",
      "468 / 1058\n",
      "520 / 1058\n",
      "572 / 1058\n",
      "624 / 1058\n",
      "676 / 1058\n",
      "728 / 1058\n",
      "780 / 1058\n",
      "832 / 1058\n",
      "884 / 1058\n",
      "936 / 1058\n",
      "988 / 1058\n",
      "1040 / 1058\n",
      "Method: Nearest Neighbour w/o PK Loss\n",
      "RVAE w/ Raw Feature\n"
     ]
    },
    {
     "name": "stderr",
     "output_type": "stream",
     "text": [
      "/opt/conda/lib/python3.7/site-packages/sklearn/linear_model/_logistic.py:940: ConvergenceWarning: lbfgs failed to converge (status=1):\n",
      "STOP: TOTAL NO. of ITERATIONS REACHED LIMIT.\n",
      "\n",
      "Increase the number of iterations (max_iter) or scale the data as shown in:\n",
      "    https://scikit-learn.org/stable/modules/preprocessing.html\n",
      "Please also refer to the documentation for alternative solver options:\n",
      "    https://scikit-learn.org/stable/modules/linear_model.html#logistic-regression\n",
      "  extra_warning_msg=_LOGISTIC_SOLVER_CONVERGENCE_MSG)\n",
      "/opt/conda/lib/python3.7/site-packages/sklearn/linear_model/_logistic.py:940: ConvergenceWarning: lbfgs failed to converge (status=1):\n",
      "STOP: TOTAL NO. of ITERATIONS REACHED LIMIT.\n",
      "\n",
      "Increase the number of iterations (max_iter) or scale the data as shown in:\n",
      "    https://scikit-learn.org/stable/modules/preprocessing.html\n",
      "Please also refer to the documentation for alternative solver options:\n",
      "    https://scikit-learn.org/stable/modules/linear_model.html#logistic-regression\n",
      "  extra_warning_msg=_LOGISTIC_SOLVER_CONVERGENCE_MSG)\n"
     ]
    },
    {
     "name": "stdout",
     "output_type": "stream",
     "text": [
      "Method: MWOC w/o PK Loss\n",
      "Method: MWOC w/ PK Loss\n",
      "noise type: normal magnitude: 0.100000\n",
      "noise type: normal magnitude: 0.500000\n",
      "noise type: uniform magnitude: 0.100000\n",
      "noise type: uniform magnitude: 0.500000\n",
      "noise type: uniform magnitude: -0.100000\n",
      "noise type: uniform magnitude: -0.500000\n",
      "noise type: bernoulli magnitude: 0.100000\n",
      "noise type: bernoulli magnitude: 0.500000\n",
      "noise type: bernoulli magnitude: -0.100000\n",
      "noise type: bernoulli magnitude: -0.500000\n",
      "Method: Calibrated Confidence Score w/o PK Loss\n",
      "############################################\n",
      "#                    1                     #\n",
      "############################################\n",
      "Use Encoding: 1\n",
      "CrossEntropy Loss: 0.000000 MSE Loss: 0.461669 Time elapsed: 19.684606 s\n",
      "CrossEntropy Loss: 0.000000 MSE Loss: 0.440673 Time elapsed: 0.545621 s\n",
      "Method: Raw Feature w/o PK Loss\n",
      "Method: Raw Feature w/ PK Loss\n",
      "Method: PK Loss Only\n"
     ]
    },
    {
     "name": "stderr",
     "output_type": "stream",
     "text": [
      "/opt/conda/lib/python3.7/site-packages/sklearn/svm/_base.py:947: ConvergenceWarning: Liblinear failed to converge, increase the number of iterations.\n",
      "  \"the number of iterations.\", ConvergenceWarning)\n"
     ]
    },
    {
     "name": "stdout",
     "output_type": "stream",
     "text": [
      "0 / 30272\n",
      "1513 / 30272\n",
      "3026 / 30272\n",
      "4539 / 30272\n",
      "6052 / 30272\n",
      "7565 / 30272\n",
      "9078 / 30272\n",
      "10591 / 30272\n",
      "12104 / 30272\n",
      "13617 / 30272\n",
      "15130 / 30272\n",
      "16643 / 30272\n",
      "18156 / 30272\n",
      "19669 / 30272\n",
      "21182 / 30272\n",
      "22695 / 30272\n",
      "24208 / 30272\n",
      "25721 / 30272\n",
      "27234 / 30272\n",
      "28747 / 30272\n",
      "30260 / 30272\n"
     ]
    },
    {
     "name": "stderr",
     "output_type": "stream",
     "text": [
      "/opt/conda/lib/python3.7/site-packages/sklearn/svm/_base.py:947: ConvergenceWarning: Liblinear failed to converge, increase the number of iterations.\n",
      "  \"the number of iterations.\", ConvergenceWarning)\n"
     ]
    },
    {
     "name": "stdout",
     "output_type": "stream",
     "text": [
      "0 / 888\n",
      "44 / 888\n",
      "88 / 888\n",
      "132 / 888\n",
      "176 / 888\n",
      "220 / 888\n",
      "264 / 888\n",
      "308 / 888\n",
      "352 / 888\n",
      "396 / 888\n",
      "440 / 888\n",
      "484 / 888\n",
      "528 / 888\n",
      "572 / 888\n",
      "616 / 888\n",
      "660 / 888\n",
      "704 / 888\n",
      "748 / 888\n",
      "792 / 888\n",
      "836 / 888\n",
      "880 / 888\n",
      "Method: Nearest Neighbour w/o PK Loss\n"
     ]
    },
    {
     "name": "stderr",
     "output_type": "stream",
     "text": [
      "/opt/conda/lib/python3.7/site-packages/sklearn/linear_model/_logistic.py:940: ConvergenceWarning: lbfgs failed to converge (status=1):\n",
      "STOP: TOTAL NO. of ITERATIONS REACHED LIMIT.\n",
      "\n",
      "Increase the number of iterations (max_iter) or scale the data as shown in:\n",
      "    https://scikit-learn.org/stable/modules/preprocessing.html\n",
      "Please also refer to the documentation for alternative solver options:\n",
      "    https://scikit-learn.org/stable/modules/linear_model.html#logistic-regression\n",
      "  extra_warning_msg=_LOGISTIC_SOLVER_CONVERGENCE_MSG)\n"
     ]
    },
    {
     "name": "stdout",
     "output_type": "stream",
     "text": [
      "RVAE w/ Raw Feature\n"
     ]
    },
    {
     "name": "stderr",
     "output_type": "stream",
     "text": [
      "/opt/conda/lib/python3.7/site-packages/sklearn/linear_model/_logistic.py:940: ConvergenceWarning: lbfgs failed to converge (status=1):\n",
      "STOP: TOTAL NO. of ITERATIONS REACHED LIMIT.\n",
      "\n",
      "Increase the number of iterations (max_iter) or scale the data as shown in:\n",
      "    https://scikit-learn.org/stable/modules/preprocessing.html\n",
      "Please also refer to the documentation for alternative solver options:\n",
      "    https://scikit-learn.org/stable/modules/linear_model.html#logistic-regression\n",
      "  extra_warning_msg=_LOGISTIC_SOLVER_CONVERGENCE_MSG)\n",
      "/opt/conda/lib/python3.7/site-packages/sklearn/linear_model/_logistic.py:940: ConvergenceWarning: lbfgs failed to converge (status=1):\n",
      "STOP: TOTAL NO. of ITERATIONS REACHED LIMIT.\n",
      "\n",
      "Increase the number of iterations (max_iter) or scale the data as shown in:\n",
      "    https://scikit-learn.org/stable/modules/preprocessing.html\n",
      "Please also refer to the documentation for alternative solver options:\n",
      "    https://scikit-learn.org/stable/modules/linear_model.html#logistic-regression\n",
      "  extra_warning_msg=_LOGISTIC_SOLVER_CONVERGENCE_MSG)\n"
     ]
    },
    {
     "name": "stdout",
     "output_type": "stream",
     "text": [
      "Method: MWOC w/o PK Loss\n",
      "Method: MWOC w/ PK Loss\n",
      "noise type: normal magnitude: 0.100000\n",
      "noise type: normal magnitude: 0.500000\n",
      "noise type: uniform magnitude: 0.100000\n",
      "noise type: uniform magnitude: 0.500000\n",
      "noise type: uniform magnitude: -0.100000\n",
      "noise type: uniform magnitude: -0.500000\n",
      "noise type: bernoulli magnitude: 0.100000\n",
      "noise type: bernoulli magnitude: 0.500000\n",
      "noise type: bernoulli magnitude: -0.100000\n",
      "noise type: bernoulli magnitude: -0.500000\n",
      "Method: Calibrated Confidence Score w/o PK Loss\n",
      "############################################\n",
      "#                    2                     #\n",
      "############################################\n",
      "Use Encoding: 1\n",
      "CrossEntropy Loss: 0.000000 MSE Loss: 0.461361 Time elapsed: 20.736075 s\n",
      "CrossEntropy Loss: 0.000000 MSE Loss: 0.439312 Time elapsed: 0.672450 s\n",
      "Method: Raw Feature w/o PK Loss\n",
      "Method: Raw Feature w/ PK Loss\n",
      "Method: PK Loss Only\n"
     ]
    },
    {
     "name": "stderr",
     "output_type": "stream",
     "text": [
      "/opt/conda/lib/python3.7/site-packages/sklearn/svm/_base.py:947: ConvergenceWarning: Liblinear failed to converge, increase the number of iterations.\n",
      "  \"the number of iterations.\", ConvergenceWarning)\n"
     ]
    },
    {
     "name": "stdout",
     "output_type": "stream",
     "text": [
      "0 / 29936\n",
      "1496 / 29936\n",
      "2992 / 29936\n",
      "4488 / 29936\n",
      "5984 / 29936\n",
      "7480 / 29936\n",
      "8976 / 29936\n",
      "10472 / 29936\n",
      "11968 / 29936\n",
      "13464 / 29936\n",
      "14960 / 29936\n",
      "16456 / 29936\n",
      "17952 / 29936\n",
      "19448 / 29936\n",
      "20944 / 29936\n",
      "22440 / 29936\n",
      "23936 / 29936\n",
      "25432 / 29936\n",
      "26928 / 29936\n",
      "28424 / 29936\n",
      "29920 / 29936\n"
     ]
    },
    {
     "name": "stderr",
     "output_type": "stream",
     "text": [
      "/opt/conda/lib/python3.7/site-packages/sklearn/svm/_base.py:947: ConvergenceWarning: Liblinear failed to converge, increase the number of iterations.\n",
      "  \"the number of iterations.\", ConvergenceWarning)\n"
     ]
    },
    {
     "name": "stdout",
     "output_type": "stream",
     "text": [
      "0 / 960\n",
      "48 / 960\n",
      "96 / 960\n",
      "144 / 960\n",
      "192 / 960\n",
      "240 / 960\n",
      "288 / 960\n",
      "336 / 960\n",
      "384 / 960\n",
      "432 / 960\n",
      "480 / 960\n",
      "528 / 960\n",
      "576 / 960\n",
      "624 / 960\n",
      "672 / 960\n",
      "720 / 960\n",
      "768 / 960\n",
      "816 / 960\n",
      "864 / 960\n",
      "912 / 960\n",
      "Method: Nearest Neighbour w/o PK Loss\n"
     ]
    },
    {
     "name": "stderr",
     "output_type": "stream",
     "text": [
      "/opt/conda/lib/python3.7/site-packages/sklearn/linear_model/_logistic.py:940: ConvergenceWarning: lbfgs failed to converge (status=1):\n",
      "STOP: TOTAL NO. of ITERATIONS REACHED LIMIT.\n",
      "\n",
      "Increase the number of iterations (max_iter) or scale the data as shown in:\n",
      "    https://scikit-learn.org/stable/modules/preprocessing.html\n",
      "Please also refer to the documentation for alternative solver options:\n",
      "    https://scikit-learn.org/stable/modules/linear_model.html#logistic-regression\n",
      "  extra_warning_msg=_LOGISTIC_SOLVER_CONVERGENCE_MSG)\n",
      "/opt/conda/lib/python3.7/site-packages/sklearn/linear_model/_logistic.py:940: ConvergenceWarning: lbfgs failed to converge (status=1):\n",
      "STOP: TOTAL NO. of ITERATIONS REACHED LIMIT.\n",
      "\n",
      "Increase the number of iterations (max_iter) or scale the data as shown in:\n",
      "    https://scikit-learn.org/stable/modules/preprocessing.html\n",
      "Please also refer to the documentation for alternative solver options:\n",
      "    https://scikit-learn.org/stable/modules/linear_model.html#logistic-regression\n",
      "  extra_warning_msg=_LOGISTIC_SOLVER_CONVERGENCE_MSG)\n"
     ]
    },
    {
     "name": "stdout",
     "output_type": "stream",
     "text": [
      "RVAE w/ Raw Feature\n"
     ]
    },
    {
     "name": "stderr",
     "output_type": "stream",
     "text": [
      "/opt/conda/lib/python3.7/site-packages/sklearn/linear_model/_logistic.py:940: ConvergenceWarning: lbfgs failed to converge (status=1):\n",
      "STOP: TOTAL NO. of ITERATIONS REACHED LIMIT.\n",
      "\n",
      "Increase the number of iterations (max_iter) or scale the data as shown in:\n",
      "    https://scikit-learn.org/stable/modules/preprocessing.html\n",
      "Please also refer to the documentation for alternative solver options:\n",
      "    https://scikit-learn.org/stable/modules/linear_model.html#logistic-regression\n",
      "  extra_warning_msg=_LOGISTIC_SOLVER_CONVERGENCE_MSG)\n",
      "/opt/conda/lib/python3.7/site-packages/sklearn/linear_model/_logistic.py:940: ConvergenceWarning: lbfgs failed to converge (status=1):\n",
      "STOP: TOTAL NO. of ITERATIONS REACHED LIMIT.\n",
      "\n",
      "Increase the number of iterations (max_iter) or scale the data as shown in:\n",
      "    https://scikit-learn.org/stable/modules/preprocessing.html\n",
      "Please also refer to the documentation for alternative solver options:\n",
      "    https://scikit-learn.org/stable/modules/linear_model.html#logistic-regression\n",
      "  extra_warning_msg=_LOGISTIC_SOLVER_CONVERGENCE_MSG)\n"
     ]
    },
    {
     "name": "stdout",
     "output_type": "stream",
     "text": [
      "Method: MWOC w/o PK Loss\n",
      "Method: MWOC w/ PK Loss\n",
      "noise type: normal magnitude: 0.100000\n",
      "noise type: normal magnitude: 0.500000\n",
      "noise type: uniform magnitude: 0.100000\n",
      "noise type: uniform magnitude: 0.500000\n",
      "noise type: uniform magnitude: -0.100000\n",
      "noise type: uniform magnitude: -0.500000\n",
      "noise type: bernoulli magnitude: 0.100000\n",
      "noise type: bernoulli magnitude: 0.500000\n",
      "noise type: bernoulli magnitude: -0.100000\n",
      "noise type: bernoulli magnitude: -0.500000\n",
      "Method: Calibrated Confidence Score w/o PK Loss\n",
      "############################################\n",
      "#                    3                     #\n",
      "############################################\n",
      "Use Encoding: 1\n",
      "CrossEntropy Loss: 0.000000 MSE Loss: 0.446311 Time elapsed: 8.585825 s\n",
      "CrossEntropy Loss: 0.000000 MSE Loss: 0.423205 Time elapsed: 0.442800 s\n",
      "Method: Raw Feature w/o PK Loss\n",
      "Method: Raw Feature w/ PK Loss\n",
      "Method: PK Loss Only\n"
     ]
    },
    {
     "name": "stderr",
     "output_type": "stream",
     "text": [
      "/opt/conda/lib/python3.7/site-packages/sklearn/svm/_base.py:947: ConvergenceWarning: Liblinear failed to converge, increase the number of iterations.\n",
      "  \"the number of iterations.\", ConvergenceWarning)\n"
     ]
    },
    {
     "name": "stdout",
     "output_type": "stream",
     "text": [
      "0 / 30848\n",
      "1542 / 30848\n",
      "3084 / 30848\n",
      "4626 / 30848\n",
      "6168 / 30848\n",
      "7710 / 30848\n",
      "9252 / 30848\n",
      "10794 / 30848\n",
      "12336 / 30848\n",
      "13878 / 30848\n",
      "15420 / 30848\n",
      "16962 / 30848\n",
      "18504 / 30848\n",
      "20046 / 30848\n",
      "21588 / 30848\n",
      "23130 / 30848\n",
      "24672 / 30848\n",
      "26214 / 30848\n",
      "27756 / 30848\n",
      "29298 / 30848\n",
      "30840 / 30848\n"
     ]
    },
    {
     "name": "stderr",
     "output_type": "stream",
     "text": [
      "/opt/conda/lib/python3.7/site-packages/sklearn/svm/_base.py:947: ConvergenceWarning: Liblinear failed to converge, increase the number of iterations.\n",
      "  \"the number of iterations.\", ConvergenceWarning)\n"
     ]
    },
    {
     "name": "stdout",
     "output_type": "stream",
     "text": [
      "0 / 1016\n",
      "50 / 1016\n",
      "100 / 1016\n",
      "150 / 1016\n",
      "200 / 1016\n",
      "250 / 1016\n",
      "300 / 1016\n",
      "350 / 1016\n",
      "400 / 1016\n",
      "450 / 1016\n",
      "500 / 1016\n",
      "550 / 1016\n",
      "600 / 1016\n",
      "650 / 1016\n",
      "700 / 1016\n",
      "750 / 1016\n",
      "800 / 1016\n",
      "850 / 1016\n",
      "900 / 1016\n",
      "950 / 1016\n",
      "1000 / 1016\n",
      "Method: Nearest Neighbour w/o PK Loss\n"
     ]
    },
    {
     "name": "stderr",
     "output_type": "stream",
     "text": [
      "/opt/conda/lib/python3.7/site-packages/sklearn/linear_model/_logistic.py:940: ConvergenceWarning: lbfgs failed to converge (status=1):\n",
      "STOP: TOTAL NO. of ITERATIONS REACHED LIMIT.\n",
      "\n",
      "Increase the number of iterations (max_iter) or scale the data as shown in:\n",
      "    https://scikit-learn.org/stable/modules/preprocessing.html\n",
      "Please also refer to the documentation for alternative solver options:\n",
      "    https://scikit-learn.org/stable/modules/linear_model.html#logistic-regression\n",
      "  extra_warning_msg=_LOGISTIC_SOLVER_CONVERGENCE_MSG)\n"
     ]
    },
    {
     "name": "stdout",
     "output_type": "stream",
     "text": [
      "RVAE w/ Raw Feature\n"
     ]
    },
    {
     "name": "stderr",
     "output_type": "stream",
     "text": [
      "/opt/conda/lib/python3.7/site-packages/sklearn/linear_model/_logistic.py:940: ConvergenceWarning: lbfgs failed to converge (status=1):\n",
      "STOP: TOTAL NO. of ITERATIONS REACHED LIMIT.\n",
      "\n",
      "Increase the number of iterations (max_iter) or scale the data as shown in:\n",
      "    https://scikit-learn.org/stable/modules/preprocessing.html\n",
      "Please also refer to the documentation for alternative solver options:\n",
      "    https://scikit-learn.org/stable/modules/linear_model.html#logistic-regression\n",
      "  extra_warning_msg=_LOGISTIC_SOLVER_CONVERGENCE_MSG)\n",
      "/opt/conda/lib/python3.7/site-packages/sklearn/linear_model/_logistic.py:940: ConvergenceWarning: lbfgs failed to converge (status=1):\n",
      "STOP: TOTAL NO. of ITERATIONS REACHED LIMIT.\n",
      "\n",
      "Increase the number of iterations (max_iter) or scale the data as shown in:\n",
      "    https://scikit-learn.org/stable/modules/preprocessing.html\n",
      "Please also refer to the documentation for alternative solver options:\n",
      "    https://scikit-learn.org/stable/modules/linear_model.html#logistic-regression\n",
      "  extra_warning_msg=_LOGISTIC_SOLVER_CONVERGENCE_MSG)\n"
     ]
    },
    {
     "name": "stdout",
     "output_type": "stream",
     "text": [
      "Method: MWOC w/o PK Loss\n",
      "Method: MWOC w/ PK Loss\n",
      "noise type: normal magnitude: 0.100000\n",
      "noise type: normal magnitude: 0.500000\n",
      "noise type: uniform magnitude: 0.100000\n",
      "noise type: uniform magnitude: 0.500000\n",
      "noise type: uniform magnitude: -0.100000\n",
      "noise type: uniform magnitude: -0.500000\n",
      "noise type: bernoulli magnitude: 0.100000\n",
      "noise type: bernoulli magnitude: 0.500000\n",
      "noise type: bernoulli magnitude: -0.100000\n",
      "noise type: bernoulli magnitude: -0.500000\n",
      "Method: Calibrated Confidence Score w/o PK Loss\n",
      "############################################\n",
      "#                    4                     #\n",
      "############################################\n",
      "Use Encoding: 1\n",
      "CrossEntropy Loss: 0.000000 MSE Loss: 0.435682 Time elapsed: 21.644038 s\n",
      "CrossEntropy Loss: 0.000000 MSE Loss: 0.435941 Time elapsed: 0.706947 s\n",
      "Method: Raw Feature w/o PK Loss\n",
      "Method: Raw Feature w/ PK Loss\n",
      "Method: PK Loss Only\n"
     ]
    },
    {
     "name": "stderr",
     "output_type": "stream",
     "text": [
      "/opt/conda/lib/python3.7/site-packages/sklearn/svm/_base.py:947: ConvergenceWarning: Liblinear failed to converge, increase the number of iterations.\n",
      "  \"the number of iterations.\", ConvergenceWarning)\n"
     ]
    },
    {
     "name": "stdout",
     "output_type": "stream",
     "text": [
      "0 / 30368\n",
      "1518 / 30368\n",
      "3036 / 30368\n",
      "4554 / 30368\n",
      "6072 / 30368\n",
      "7590 / 30368\n",
      "9108 / 30368\n",
      "10626 / 30368\n",
      "12144 / 30368\n",
      "13662 / 30368\n",
      "15180 / 30368\n",
      "16698 / 30368\n",
      "18216 / 30368\n",
      "19734 / 30368\n",
      "21252 / 30368\n",
      "22770 / 30368\n",
      "24288 / 30368\n",
      "25806 / 30368\n",
      "27324 / 30368\n",
      "28842 / 30368\n",
      "30360 / 30368\n"
     ]
    },
    {
     "name": "stderr",
     "output_type": "stream",
     "text": [
      "/opt/conda/lib/python3.7/site-packages/sklearn/svm/_base.py:947: ConvergenceWarning: Liblinear failed to converge, increase the number of iterations.\n",
      "  \"the number of iterations.\", ConvergenceWarning)\n"
     ]
    },
    {
     "name": "stdout",
     "output_type": "stream",
     "text": [
      "0 / 992\n",
      "49 / 992\n",
      "98 / 992\n",
      "147 / 992\n",
      "196 / 992\n",
      "245 / 992\n",
      "294 / 992\n",
      "343 / 992\n",
      "392 / 992\n",
      "441 / 992\n",
      "490 / 992\n",
      "539 / 992\n",
      "588 / 992\n",
      "637 / 992\n",
      "686 / 992\n",
      "735 / 992\n",
      "784 / 992\n",
      "833 / 992\n",
      "882 / 992\n",
      "931 / 992\n",
      "980 / 992\n",
      "Method: Nearest Neighbour w/o PK Loss\n"
     ]
    },
    {
     "name": "stderr",
     "output_type": "stream",
     "text": [
      "/opt/conda/lib/python3.7/site-packages/sklearn/linear_model/_logistic.py:940: ConvergenceWarning: lbfgs failed to converge (status=1):\n",
      "STOP: TOTAL NO. of ITERATIONS REACHED LIMIT.\n",
      "\n",
      "Increase the number of iterations (max_iter) or scale the data as shown in:\n",
      "    https://scikit-learn.org/stable/modules/preprocessing.html\n",
      "Please also refer to the documentation for alternative solver options:\n",
      "    https://scikit-learn.org/stable/modules/linear_model.html#logistic-regression\n",
      "  extra_warning_msg=_LOGISTIC_SOLVER_CONVERGENCE_MSG)\n",
      "/opt/conda/lib/python3.7/site-packages/sklearn/linear_model/_logistic.py:940: ConvergenceWarning: lbfgs failed to converge (status=1):\n",
      "STOP: TOTAL NO. of ITERATIONS REACHED LIMIT.\n",
      "\n",
      "Increase the number of iterations (max_iter) or scale the data as shown in:\n",
      "    https://scikit-learn.org/stable/modules/preprocessing.html\n",
      "Please also refer to the documentation for alternative solver options:\n",
      "    https://scikit-learn.org/stable/modules/linear_model.html#logistic-regression\n",
      "  extra_warning_msg=_LOGISTIC_SOLVER_CONVERGENCE_MSG)\n"
     ]
    },
    {
     "name": "stdout",
     "output_type": "stream",
     "text": [
      "RVAE w/ Raw Feature\n"
     ]
    },
    {
     "name": "stderr",
     "output_type": "stream",
     "text": [
      "/opt/conda/lib/python3.7/site-packages/sklearn/linear_model/_logistic.py:940: ConvergenceWarning: lbfgs failed to converge (status=1):\n",
      "STOP: TOTAL NO. of ITERATIONS REACHED LIMIT.\n",
      "\n",
      "Increase the number of iterations (max_iter) or scale the data as shown in:\n",
      "    https://scikit-learn.org/stable/modules/preprocessing.html\n",
      "Please also refer to the documentation for alternative solver options:\n",
      "    https://scikit-learn.org/stable/modules/linear_model.html#logistic-regression\n",
      "  extra_warning_msg=_LOGISTIC_SOLVER_CONVERGENCE_MSG)\n",
      "/opt/conda/lib/python3.7/site-packages/sklearn/linear_model/_logistic.py:940: ConvergenceWarning: lbfgs failed to converge (status=1):\n",
      "STOP: TOTAL NO. of ITERATIONS REACHED LIMIT.\n",
      "\n",
      "Increase the number of iterations (max_iter) or scale the data as shown in:\n",
      "    https://scikit-learn.org/stable/modules/preprocessing.html\n",
      "Please also refer to the documentation for alternative solver options:\n",
      "    https://scikit-learn.org/stable/modules/linear_model.html#logistic-regression\n",
      "  extra_warning_msg=_LOGISTIC_SOLVER_CONVERGENCE_MSG)\n"
     ]
    },
    {
     "name": "stdout",
     "output_type": "stream",
     "text": [
      "Method: MWOC w/o PK Loss\n",
      "Method: MWOC w/ PK Loss\n",
      "noise type: normal magnitude: 0.100000\n",
      "noise type: normal magnitude: 0.500000\n",
      "noise type: uniform magnitude: 0.100000\n",
      "noise type: uniform magnitude: 0.500000\n",
      "noise type: uniform magnitude: -0.100000\n",
      "noise type: uniform magnitude: -0.500000\n",
      "noise type: bernoulli magnitude: 0.100000\n",
      "noise type: bernoulli magnitude: 0.500000\n",
      "noise type: bernoulli magnitude: -0.100000\n",
      "noise type: bernoulli magnitude: -0.500000\n",
      "Method: Calibrated Confidence Score w/o PK Loss\n",
      "Noise Type: adv, Model: svm, Level: medium\n",
      "############################################\n",
      "#                    0                     #\n",
      "############################################\n",
      "Use Encoding: 1\n",
      "CrossEntropy Loss: 0.000000 MSE Loss: 0.466596 Time elapsed: 6.483377 s\n",
      "CrossEntropy Loss: 0.000000 MSE Loss: 0.501242 Time elapsed: 0.146869 s\n"
     ]
    },
    {
     "name": "stderr",
     "output_type": "stream",
     "text": [
      "/opt/conda/lib/python3.7/site-packages/sklearn/svm/_base.py:947: ConvergenceWarning: Liblinear failed to converge, increase the number of iterations.\n",
      "  \"the number of iterations.\", ConvergenceWarning)\n"
     ]
    },
    {
     "name": "stdout",
     "output_type": "stream",
     "text": [
      "Method: Raw Feature w/o PK Loss\n",
      "Method: Raw Feature w/ PK Loss\n"
     ]
    },
    {
     "name": "stderr",
     "output_type": "stream",
     "text": [
      "/opt/conda/lib/python3.7/site-packages/sklearn/linear_model/_logistic.py:940: ConvergenceWarning: lbfgs failed to converge (status=1):\n",
      "STOP: TOTAL NO. of ITERATIONS REACHED LIMIT.\n",
      "\n",
      "Increase the number of iterations (max_iter) or scale the data as shown in:\n",
      "    https://scikit-learn.org/stable/modules/preprocessing.html\n",
      "Please also refer to the documentation for alternative solver options:\n",
      "    https://scikit-learn.org/stable/modules/linear_model.html#logistic-regression\n",
      "  extra_warning_msg=_LOGISTIC_SOLVER_CONVERGENCE_MSG)\n"
     ]
    },
    {
     "name": "stdout",
     "output_type": "stream",
     "text": [
      "Method: PK Loss Only\n"
     ]
    },
    {
     "name": "stderr",
     "output_type": "stream",
     "text": [
      "/opt/conda/lib/python3.7/site-packages/sklearn/svm/_base.py:947: ConvergenceWarning: Liblinear failed to converge, increase the number of iterations.\n",
      "  \"the number of iterations.\", ConvergenceWarning)\n"
     ]
    },
    {
     "name": "stdout",
     "output_type": "stream",
     "text": [
      "0 / 23528\n",
      "1176 / 23528\n",
      "2352 / 23528\n",
      "3528 / 23528\n",
      "4704 / 23528\n",
      "5880 / 23528\n",
      "7056 / 23528\n",
      "8232 / 23528\n",
      "9408 / 23528\n",
      "10584 / 23528\n",
      "11760 / 23528\n",
      "12936 / 23528\n",
      "14112 / 23528\n",
      "15288 / 23528\n",
      "16464 / 23528\n",
      "17640 / 23528\n",
      "18816 / 23528\n",
      "19992 / 23528\n",
      "21168 / 23528\n",
      "22344 / 23528\n",
      "23520 / 23528\n"
     ]
    },
    {
     "name": "stderr",
     "output_type": "stream",
     "text": [
      "/opt/conda/lib/python3.7/site-packages/sklearn/svm/_base.py:947: ConvergenceWarning: Liblinear failed to converge, increase the number of iterations.\n",
      "  \"the number of iterations.\", ConvergenceWarning)\n"
     ]
    },
    {
     "name": "stdout",
     "output_type": "stream",
     "text": [
      "0 / 434\n",
      "21 / 434\n",
      "42 / 434\n",
      "63 / 434\n",
      "84 / 434\n",
      "105 / 434\n",
      "126 / 434\n",
      "147 / 434\n",
      "168 / 434\n",
      "189 / 434\n",
      "210 / 434\n",
      "231 / 434\n",
      "252 / 434\n",
      "273 / 434\n",
      "294 / 434\n",
      "315 / 434\n",
      "336 / 434\n",
      "357 / 434\n",
      "378 / 434\n",
      "399 / 434\n",
      "420 / 434\n",
      "Method: Nearest Neighbour w/o PK Loss\n"
     ]
    },
    {
     "name": "stderr",
     "output_type": "stream",
     "text": [
      "/opt/conda/lib/python3.7/site-packages/sklearn/linear_model/_logistic.py:940: ConvergenceWarning: lbfgs failed to converge (status=1):\n",
      "STOP: TOTAL NO. of ITERATIONS REACHED LIMIT.\n",
      "\n",
      "Increase the number of iterations (max_iter) or scale the data as shown in:\n",
      "    https://scikit-learn.org/stable/modules/preprocessing.html\n",
      "Please also refer to the documentation for alternative solver options:\n",
      "    https://scikit-learn.org/stable/modules/linear_model.html#logistic-regression\n",
      "  extra_warning_msg=_LOGISTIC_SOLVER_CONVERGENCE_MSG)\n",
      "/opt/conda/lib/python3.7/site-packages/sklearn/linear_model/_logistic.py:940: ConvergenceWarning: lbfgs failed to converge (status=1):\n",
      "STOP: TOTAL NO. of ITERATIONS REACHED LIMIT.\n",
      "\n",
      "Increase the number of iterations (max_iter) or scale the data as shown in:\n",
      "    https://scikit-learn.org/stable/modules/preprocessing.html\n",
      "Please also refer to the documentation for alternative solver options:\n",
      "    https://scikit-learn.org/stable/modules/linear_model.html#logistic-regression\n",
      "  extra_warning_msg=_LOGISTIC_SOLVER_CONVERGENCE_MSG)\n"
     ]
    },
    {
     "name": "stdout",
     "output_type": "stream",
     "text": [
      "RVAE w/ Raw Feature\n"
     ]
    },
    {
     "name": "stderr",
     "output_type": "stream",
     "text": [
      "/opt/conda/lib/python3.7/site-packages/sklearn/linear_model/_logistic.py:940: ConvergenceWarning: lbfgs failed to converge (status=1):\n",
      "STOP: TOTAL NO. of ITERATIONS REACHED LIMIT.\n",
      "\n",
      "Increase the number of iterations (max_iter) or scale the data as shown in:\n",
      "    https://scikit-learn.org/stable/modules/preprocessing.html\n",
      "Please also refer to the documentation for alternative solver options:\n",
      "    https://scikit-learn.org/stable/modules/linear_model.html#logistic-regression\n",
      "  extra_warning_msg=_LOGISTIC_SOLVER_CONVERGENCE_MSG)\n",
      "/opt/conda/lib/python3.7/site-packages/sklearn/linear_model/_logistic.py:940: ConvergenceWarning: lbfgs failed to converge (status=1):\n",
      "STOP: TOTAL NO. of ITERATIONS REACHED LIMIT.\n",
      "\n",
      "Increase the number of iterations (max_iter) or scale the data as shown in:\n",
      "    https://scikit-learn.org/stable/modules/preprocessing.html\n",
      "Please also refer to the documentation for alternative solver options:\n",
      "    https://scikit-learn.org/stable/modules/linear_model.html#logistic-regression\n",
      "  extra_warning_msg=_LOGISTIC_SOLVER_CONVERGENCE_MSG)\n"
     ]
    },
    {
     "name": "stdout",
     "output_type": "stream",
     "text": [
      "Method: MWOC w/o PK Loss\n"
     ]
    },
    {
     "name": "stderr",
     "output_type": "stream",
     "text": [
      "/opt/conda/lib/python3.7/site-packages/sklearn/svm/_base.py:947: ConvergenceWarning: Liblinear failed to converge, increase the number of iterations.\n",
      "  \"the number of iterations.\", ConvergenceWarning)\n"
     ]
    },
    {
     "name": "stdout",
     "output_type": "stream",
     "text": [
      "Method: MWOC w/ PK Loss\n"
     ]
    },
    {
     "name": "stderr",
     "output_type": "stream",
     "text": [
      "/opt/conda/lib/python3.7/site-packages/sklearn/svm/_base.py:947: ConvergenceWarning: Liblinear failed to converge, increase the number of iterations.\n",
      "  \"the number of iterations.\", ConvergenceWarning)\n"
     ]
    },
    {
     "name": "stdout",
     "output_type": "stream",
     "text": [
      "noise type: normal magnitude: 0.100000\n",
      "noise type: normal magnitude: 0.500000\n",
      "noise type: uniform magnitude: 0.100000\n",
      "noise type: uniform magnitude: 0.500000\n",
      "noise type: uniform magnitude: -0.100000\n",
      "noise type: uniform magnitude: -0.500000\n",
      "noise type: bernoulli magnitude: 0.100000\n",
      "noise type: bernoulli magnitude: 0.500000\n",
      "noise type: bernoulli magnitude: -0.100000\n",
      "noise type: bernoulli magnitude: -0.500000\n"
     ]
    },
    {
     "name": "stderr",
     "output_type": "stream",
     "text": [
      "/opt/conda/lib/python3.7/site-packages/sklearn/svm/_base.py:947: ConvergenceWarning: Liblinear failed to converge, increase the number of iterations.\n",
      "  \"the number of iterations.\", ConvergenceWarning)\n",
      "/opt/conda/lib/python3.7/site-packages/sklearn/svm/_base.py:947: ConvergenceWarning: Liblinear failed to converge, increase the number of iterations.\n",
      "  \"the number of iterations.\", ConvergenceWarning)\n",
      "/opt/conda/lib/python3.7/site-packages/sklearn/svm/_base.py:947: ConvergenceWarning: Liblinear failed to converge, increase the number of iterations.\n",
      "  \"the number of iterations.\", ConvergenceWarning)\n",
      "/opt/conda/lib/python3.7/site-packages/sklearn/svm/_base.py:947: ConvergenceWarning: Liblinear failed to converge, increase the number of iterations.\n",
      "  \"the number of iterations.\", ConvergenceWarning)\n",
      "/opt/conda/lib/python3.7/site-packages/sklearn/svm/_base.py:947: ConvergenceWarning: Liblinear failed to converge, increase the number of iterations.\n",
      "  \"the number of iterations.\", ConvergenceWarning)\n"
     ]
    },
    {
     "name": "stdout",
     "output_type": "stream",
     "text": [
      "Method: Calibrated Confidence Score w/o PK Loss\n",
      "############################################\n",
      "#                    1                     #\n",
      "############################################\n",
      "Use Encoding: 1\n",
      "CrossEntropy Loss: 0.000000 MSE Loss: 0.479327 Time elapsed: 6.482283 s\n",
      "CrossEntropy Loss: 0.000000 MSE Loss: 0.481830 Time elapsed: 0.156231 s\n"
     ]
    },
    {
     "name": "stderr",
     "output_type": "stream",
     "text": [
      "/opt/conda/lib/python3.7/site-packages/sklearn/svm/_base.py:947: ConvergenceWarning: Liblinear failed to converge, increase the number of iterations.\n",
      "  \"the number of iterations.\", ConvergenceWarning)\n"
     ]
    },
    {
     "name": "stdout",
     "output_type": "stream",
     "text": [
      "Method: Raw Feature w/o PK Loss\n",
      "Method: Raw Feature w/ PK Loss\n"
     ]
    },
    {
     "name": "stderr",
     "output_type": "stream",
     "text": [
      "/opt/conda/lib/python3.7/site-packages/sklearn/linear_model/_logistic.py:940: ConvergenceWarning: lbfgs failed to converge (status=1):\n",
      "STOP: TOTAL NO. of ITERATIONS REACHED LIMIT.\n",
      "\n",
      "Increase the number of iterations (max_iter) or scale the data as shown in:\n",
      "    https://scikit-learn.org/stable/modules/preprocessing.html\n",
      "Please also refer to the documentation for alternative solver options:\n",
      "    https://scikit-learn.org/stable/modules/linear_model.html#logistic-regression\n",
      "  extra_warning_msg=_LOGISTIC_SOLVER_CONVERGENCE_MSG)\n",
      "/opt/conda/lib/python3.7/site-packages/sklearn/linear_model/_logistic.py:940: ConvergenceWarning: lbfgs failed to converge (status=1):\n",
      "STOP: TOTAL NO. of ITERATIONS REACHED LIMIT.\n",
      "\n",
      "Increase the number of iterations (max_iter) or scale the data as shown in:\n",
      "    https://scikit-learn.org/stable/modules/preprocessing.html\n",
      "Please also refer to the documentation for alternative solver options:\n",
      "    https://scikit-learn.org/stable/modules/linear_model.html#logistic-regression\n",
      "  extra_warning_msg=_LOGISTIC_SOLVER_CONVERGENCE_MSG)\n"
     ]
    },
    {
     "name": "stdout",
     "output_type": "stream",
     "text": [
      "Method: PK Loss Only\n"
     ]
    },
    {
     "name": "stderr",
     "output_type": "stream",
     "text": [
      "/opt/conda/lib/python3.7/site-packages/sklearn/svm/_base.py:947: ConvergenceWarning: Liblinear failed to converge, increase the number of iterations.\n",
      "  \"the number of iterations.\", ConvergenceWarning)\n"
     ]
    },
    {
     "name": "stdout",
     "output_type": "stream",
     "text": [
      "0 / 23540\n",
      "1177 / 23540\n",
      "2354 / 23540\n",
      "3531 / 23540\n",
      "4708 / 23540\n",
      "5885 / 23540\n",
      "7062 / 23540\n",
      "8239 / 23540\n",
      "9416 / 23540\n",
      "10593 / 23540\n",
      "11770 / 23540\n",
      "12947 / 23540\n",
      "14124 / 23540\n",
      "15301 / 23540\n",
      "16478 / 23540\n",
      "17655 / 23540\n",
      "18832 / 23540\n",
      "20009 / 23540\n",
      "21186 / 23540\n",
      "22363 / 23540\n"
     ]
    },
    {
     "name": "stderr",
     "output_type": "stream",
     "text": [
      "/opt/conda/lib/python3.7/site-packages/sklearn/svm/_base.py:947: ConvergenceWarning: Liblinear failed to converge, increase the number of iterations.\n",
      "  \"the number of iterations.\", ConvergenceWarning)\n"
     ]
    },
    {
     "name": "stdout",
     "output_type": "stream",
     "text": [
      "0 / 412\n",
      "20 / 412\n",
      "40 / 412\n",
      "60 / 412\n",
      "80 / 412\n",
      "100 / 412\n",
      "120 / 412\n",
      "140 / 412\n",
      "160 / 412\n",
      "180 / 412\n",
      "200 / 412\n",
      "220 / 412\n",
      "240 / 412\n",
      "260 / 412\n",
      "280 / 412\n",
      "300 / 412\n",
      "320 / 412\n",
      "340 / 412\n",
      "360 / 412\n",
      "380 / 412\n",
      "400 / 412\n",
      "Method: Nearest Neighbour w/o PK Loss\n"
     ]
    },
    {
     "name": "stderr",
     "output_type": "stream",
     "text": [
      "/opt/conda/lib/python3.7/site-packages/sklearn/linear_model/_logistic.py:940: ConvergenceWarning: lbfgs failed to converge (status=1):\n",
      "STOP: TOTAL NO. of ITERATIONS REACHED LIMIT.\n",
      "\n",
      "Increase the number of iterations (max_iter) or scale the data as shown in:\n",
      "    https://scikit-learn.org/stable/modules/preprocessing.html\n",
      "Please also refer to the documentation for alternative solver options:\n",
      "    https://scikit-learn.org/stable/modules/linear_model.html#logistic-regression\n",
      "  extra_warning_msg=_LOGISTIC_SOLVER_CONVERGENCE_MSG)\n",
      "/opt/conda/lib/python3.7/site-packages/sklearn/linear_model/_logistic.py:940: ConvergenceWarning: lbfgs failed to converge (status=1):\n",
      "STOP: TOTAL NO. of ITERATIONS REACHED LIMIT.\n",
      "\n",
      "Increase the number of iterations (max_iter) or scale the data as shown in:\n",
      "    https://scikit-learn.org/stable/modules/preprocessing.html\n",
      "Please also refer to the documentation for alternative solver options:\n",
      "    https://scikit-learn.org/stable/modules/linear_model.html#logistic-regression\n",
      "  extra_warning_msg=_LOGISTIC_SOLVER_CONVERGENCE_MSG)\n"
     ]
    },
    {
     "name": "stdout",
     "output_type": "stream",
     "text": [
      "RVAE w/ Raw Feature\n"
     ]
    },
    {
     "name": "stderr",
     "output_type": "stream",
     "text": [
      "/opt/conda/lib/python3.7/site-packages/sklearn/linear_model/_logistic.py:940: ConvergenceWarning: lbfgs failed to converge (status=1):\n",
      "STOP: TOTAL NO. of ITERATIONS REACHED LIMIT.\n",
      "\n",
      "Increase the number of iterations (max_iter) or scale the data as shown in:\n",
      "    https://scikit-learn.org/stable/modules/preprocessing.html\n",
      "Please also refer to the documentation for alternative solver options:\n",
      "    https://scikit-learn.org/stable/modules/linear_model.html#logistic-regression\n",
      "  extra_warning_msg=_LOGISTIC_SOLVER_CONVERGENCE_MSG)\n",
      "/opt/conda/lib/python3.7/site-packages/sklearn/linear_model/_logistic.py:940: ConvergenceWarning: lbfgs failed to converge (status=1):\n",
      "STOP: TOTAL NO. of ITERATIONS REACHED LIMIT.\n",
      "\n",
      "Increase the number of iterations (max_iter) or scale the data as shown in:\n",
      "    https://scikit-learn.org/stable/modules/preprocessing.html\n",
      "Please also refer to the documentation for alternative solver options:\n",
      "    https://scikit-learn.org/stable/modules/linear_model.html#logistic-regression\n",
      "  extra_warning_msg=_LOGISTIC_SOLVER_CONVERGENCE_MSG)\n"
     ]
    },
    {
     "name": "stdout",
     "output_type": "stream",
     "text": [
      "Method: MWOC w/o PK Loss\n"
     ]
    },
    {
     "name": "stderr",
     "output_type": "stream",
     "text": [
      "/opt/conda/lib/python3.7/site-packages/sklearn/svm/_base.py:947: ConvergenceWarning: Liblinear failed to converge, increase the number of iterations.\n",
      "  \"the number of iterations.\", ConvergenceWarning)\n"
     ]
    },
    {
     "name": "stdout",
     "output_type": "stream",
     "text": [
      "Method: MWOC w/ PK Loss\n"
     ]
    },
    {
     "name": "stderr",
     "output_type": "stream",
     "text": [
      "/opt/conda/lib/python3.7/site-packages/sklearn/svm/_base.py:947: ConvergenceWarning: Liblinear failed to converge, increase the number of iterations.\n",
      "  \"the number of iterations.\", ConvergenceWarning)\n"
     ]
    },
    {
     "name": "stdout",
     "output_type": "stream",
     "text": [
      "noise type: normal magnitude: 0.100000\n",
      "noise type: normal magnitude: 0.500000\n",
      "noise type: uniform magnitude: 0.100000\n",
      "noise type: uniform magnitude: 0.500000\n",
      "noise type: uniform magnitude: -0.100000\n",
      "noise type: uniform magnitude: -0.500000\n",
      "noise type: bernoulli magnitude: 0.100000\n",
      "noise type: bernoulli magnitude: 0.500000\n",
      "noise type: bernoulli magnitude: -0.100000\n",
      "noise type: bernoulli magnitude: -0.500000\n"
     ]
    },
    {
     "name": "stderr",
     "output_type": "stream",
     "text": [
      "/opt/conda/lib/python3.7/site-packages/sklearn/svm/_base.py:947: ConvergenceWarning: Liblinear failed to converge, increase the number of iterations.\n",
      "  \"the number of iterations.\", ConvergenceWarning)\n",
      "/opt/conda/lib/python3.7/site-packages/sklearn/svm/_base.py:947: ConvergenceWarning: Liblinear failed to converge, increase the number of iterations.\n",
      "  \"the number of iterations.\", ConvergenceWarning)\n",
      "/opt/conda/lib/python3.7/site-packages/sklearn/svm/_base.py:947: ConvergenceWarning: Liblinear failed to converge, increase the number of iterations.\n",
      "  \"the number of iterations.\", ConvergenceWarning)\n",
      "/opt/conda/lib/python3.7/site-packages/sklearn/svm/_base.py:947: ConvergenceWarning: Liblinear failed to converge, increase the number of iterations.\n",
      "  \"the number of iterations.\", ConvergenceWarning)\n",
      "/opt/conda/lib/python3.7/site-packages/sklearn/svm/_base.py:947: ConvergenceWarning: Liblinear failed to converge, increase the number of iterations.\n",
      "  \"the number of iterations.\", ConvergenceWarning)\n"
     ]
    },
    {
     "name": "stdout",
     "output_type": "stream",
     "text": [
      "Method: Calibrated Confidence Score w/o PK Loss\n",
      "############################################\n",
      "#                    2                     #\n",
      "############################################\n",
      "Use Encoding: 1\n",
      "CrossEntropy Loss: 0.000000 MSE Loss: 0.478254 Time elapsed: 16.773957 s\n",
      "CrossEntropy Loss: 0.000000 MSE Loss: 0.496450 Time elapsed: 0.424836 s\n"
     ]
    },
    {
     "name": "stderr",
     "output_type": "stream",
     "text": [
      "/opt/conda/lib/python3.7/site-packages/sklearn/svm/_base.py:947: ConvergenceWarning: Liblinear failed to converge, increase the number of iterations.\n",
      "  \"the number of iterations.\", ConvergenceWarning)\n"
     ]
    },
    {
     "name": "stdout",
     "output_type": "stream",
     "text": [
      "Method: Raw Feature w/o PK Loss\n",
      "Method: Raw Feature w/ PK Loss\n",
      "Method: PK Loss Only\n"
     ]
    },
    {
     "name": "stderr",
     "output_type": "stream",
     "text": [
      "/opt/conda/lib/python3.7/site-packages/sklearn/svm/_base.py:947: ConvergenceWarning: Liblinear failed to converge, increase the number of iterations.\n",
      "  \"the number of iterations.\", ConvergenceWarning)\n"
     ]
    },
    {
     "name": "stdout",
     "output_type": "stream",
     "text": [
      "0 / 23524\n",
      "1176 / 23524\n",
      "2352 / 23524\n",
      "3528 / 23524\n",
      "4704 / 23524\n",
      "5880 / 23524\n",
      "7056 / 23524\n",
      "8232 / 23524\n",
      "9408 / 23524\n",
      "10584 / 23524\n",
      "11760 / 23524\n",
      "12936 / 23524\n",
      "14112 / 23524\n",
      "15288 / 23524\n",
      "16464 / 23524\n",
      "17640 / 23524\n",
      "18816 / 23524\n",
      "19992 / 23524\n",
      "21168 / 23524\n",
      "22344 / 23524\n",
      "23520 / 23524\n"
     ]
    },
    {
     "name": "stderr",
     "output_type": "stream",
     "text": [
      "/opt/conda/lib/python3.7/site-packages/sklearn/svm/_base.py:947: ConvergenceWarning: Liblinear failed to converge, increase the number of iterations.\n",
      "  \"the number of iterations.\", ConvergenceWarning)\n"
     ]
    },
    {
     "name": "stdout",
     "output_type": "stream",
     "text": [
      "0 / 414\n",
      "20 / 414\n",
      "40 / 414\n",
      "60 / 414\n",
      "80 / 414\n",
      "100 / 414\n",
      "120 / 414\n",
      "140 / 414\n",
      "160 / 414\n",
      "180 / 414\n",
      "200 / 414\n",
      "220 / 414\n",
      "240 / 414\n",
      "260 / 414\n",
      "280 / 414\n",
      "300 / 414\n",
      "320 / 414\n",
      "340 / 414\n",
      "360 / 414\n",
      "380 / 414\n",
      "400 / 414\n",
      "Method: Nearest Neighbour w/o PK Loss\n"
     ]
    },
    {
     "name": "stderr",
     "output_type": "stream",
     "text": [
      "/opt/conda/lib/python3.7/site-packages/sklearn/linear_model/_logistic.py:940: ConvergenceWarning: lbfgs failed to converge (status=1):\n",
      "STOP: TOTAL NO. of ITERATIONS REACHED LIMIT.\n",
      "\n",
      "Increase the number of iterations (max_iter) or scale the data as shown in:\n",
      "    https://scikit-learn.org/stable/modules/preprocessing.html\n",
      "Please also refer to the documentation for alternative solver options:\n",
      "    https://scikit-learn.org/stable/modules/linear_model.html#logistic-regression\n",
      "  extra_warning_msg=_LOGISTIC_SOLVER_CONVERGENCE_MSG)\n",
      "/opt/conda/lib/python3.7/site-packages/sklearn/linear_model/_logistic.py:940: ConvergenceWarning: lbfgs failed to converge (status=1):\n",
      "STOP: TOTAL NO. of ITERATIONS REACHED LIMIT.\n",
      "\n",
      "Increase the number of iterations (max_iter) or scale the data as shown in:\n",
      "    https://scikit-learn.org/stable/modules/preprocessing.html\n",
      "Please also refer to the documentation for alternative solver options:\n",
      "    https://scikit-learn.org/stable/modules/linear_model.html#logistic-regression\n",
      "  extra_warning_msg=_LOGISTIC_SOLVER_CONVERGENCE_MSG)\n"
     ]
    },
    {
     "name": "stdout",
     "output_type": "stream",
     "text": [
      "RVAE w/ Raw Feature\n"
     ]
    },
    {
     "name": "stderr",
     "output_type": "stream",
     "text": [
      "/opt/conda/lib/python3.7/site-packages/sklearn/linear_model/_logistic.py:940: ConvergenceWarning: lbfgs failed to converge (status=1):\n",
      "STOP: TOTAL NO. of ITERATIONS REACHED LIMIT.\n",
      "\n",
      "Increase the number of iterations (max_iter) or scale the data as shown in:\n",
      "    https://scikit-learn.org/stable/modules/preprocessing.html\n",
      "Please also refer to the documentation for alternative solver options:\n",
      "    https://scikit-learn.org/stable/modules/linear_model.html#logistic-regression\n",
      "  extra_warning_msg=_LOGISTIC_SOLVER_CONVERGENCE_MSG)\n",
      "/opt/conda/lib/python3.7/site-packages/sklearn/linear_model/_logistic.py:940: ConvergenceWarning: lbfgs failed to converge (status=1):\n",
      "STOP: TOTAL NO. of ITERATIONS REACHED LIMIT.\n",
      "\n",
      "Increase the number of iterations (max_iter) or scale the data as shown in:\n",
      "    https://scikit-learn.org/stable/modules/preprocessing.html\n",
      "Please also refer to the documentation for alternative solver options:\n",
      "    https://scikit-learn.org/stable/modules/linear_model.html#logistic-regression\n",
      "  extra_warning_msg=_LOGISTIC_SOLVER_CONVERGENCE_MSG)\n"
     ]
    },
    {
     "name": "stdout",
     "output_type": "stream",
     "text": [
      "Method: MWOC w/o PK Loss\n"
     ]
    },
    {
     "name": "stderr",
     "output_type": "stream",
     "text": [
      "/opt/conda/lib/python3.7/site-packages/sklearn/svm/_base.py:947: ConvergenceWarning: Liblinear failed to converge, increase the number of iterations.\n",
      "  \"the number of iterations.\", ConvergenceWarning)\n"
     ]
    },
    {
     "name": "stdout",
     "output_type": "stream",
     "text": [
      "Method: MWOC w/ PK Loss\n"
     ]
    },
    {
     "name": "stderr",
     "output_type": "stream",
     "text": [
      "/opt/conda/lib/python3.7/site-packages/sklearn/svm/_base.py:947: ConvergenceWarning: Liblinear failed to converge, increase the number of iterations.\n",
      "  \"the number of iterations.\", ConvergenceWarning)\n"
     ]
    },
    {
     "name": "stdout",
     "output_type": "stream",
     "text": [
      "noise type: normal magnitude: 0.100000\n",
      "noise type: normal magnitude: 0.500000\n",
      "noise type: uniform magnitude: 0.100000\n",
      "noise type: uniform magnitude: 0.500000\n",
      "noise type: uniform magnitude: -0.100000\n",
      "noise type: uniform magnitude: -0.500000\n",
      "noise type: bernoulli magnitude: 0.100000\n",
      "noise type: bernoulli magnitude: 0.500000\n",
      "noise type: bernoulli magnitude: -0.100000\n",
      "noise type: bernoulli magnitude: -0.500000\n"
     ]
    },
    {
     "name": "stderr",
     "output_type": "stream",
     "text": [
      "/opt/conda/lib/python3.7/site-packages/sklearn/svm/_base.py:947: ConvergenceWarning: Liblinear failed to converge, increase the number of iterations.\n",
      "  \"the number of iterations.\", ConvergenceWarning)\n",
      "/opt/conda/lib/python3.7/site-packages/sklearn/svm/_base.py:947: ConvergenceWarning: Liblinear failed to converge, increase the number of iterations.\n",
      "  \"the number of iterations.\", ConvergenceWarning)\n",
      "/opt/conda/lib/python3.7/site-packages/sklearn/svm/_base.py:947: ConvergenceWarning: Liblinear failed to converge, increase the number of iterations.\n",
      "  \"the number of iterations.\", ConvergenceWarning)\n",
      "/opt/conda/lib/python3.7/site-packages/sklearn/svm/_base.py:947: ConvergenceWarning: Liblinear failed to converge, increase the number of iterations.\n",
      "  \"the number of iterations.\", ConvergenceWarning)\n",
      "/opt/conda/lib/python3.7/site-packages/sklearn/svm/_base.py:947: ConvergenceWarning: Liblinear failed to converge, increase the number of iterations.\n",
      "  \"the number of iterations.\", ConvergenceWarning)\n"
     ]
    },
    {
     "name": "stdout",
     "output_type": "stream",
     "text": [
      "Method: Calibrated Confidence Score w/o PK Loss\n",
      "############################################\n",
      "#                    3                     #\n",
      "############################################\n",
      "Use Encoding: 1\n",
      "CrossEntropy Loss: 0.000000 MSE Loss: 0.491604 Time elapsed: 17.034816 s\n",
      "CrossEntropy Loss: 0.000000 MSE Loss: 0.510086 Time elapsed: 0.391985 s\n"
     ]
    },
    {
     "name": "stderr",
     "output_type": "stream",
     "text": [
      "/opt/conda/lib/python3.7/site-packages/sklearn/svm/_base.py:947: ConvergenceWarning: Liblinear failed to converge, increase the number of iterations.\n",
      "  \"the number of iterations.\", ConvergenceWarning)\n"
     ]
    },
    {
     "name": "stdout",
     "output_type": "stream",
     "text": [
      "Method: Raw Feature w/o PK Loss\n",
      "Method: Raw Feature w/ PK Loss\n",
      "Method: PK Loss Only\n"
     ]
    },
    {
     "name": "stderr",
     "output_type": "stream",
     "text": [
      "/opt/conda/lib/python3.7/site-packages/sklearn/svm/_base.py:947: ConvergenceWarning: Liblinear failed to converge, increase the number of iterations.\n",
      "  \"the number of iterations.\", ConvergenceWarning)\n"
     ]
    },
    {
     "name": "stdout",
     "output_type": "stream",
     "text": [
      "0 / 23692\n",
      "1184 / 23692\n",
      "2368 / 23692\n",
      "3552 / 23692\n",
      "4736 / 23692\n",
      "5920 / 23692\n",
      "7104 / 23692\n",
      "8288 / 23692\n",
      "9472 / 23692\n",
      "10656 / 23692\n",
      "11840 / 23692\n",
      "13024 / 23692\n",
      "14208 / 23692\n",
      "15392 / 23692\n",
      "16576 / 23692\n",
      "17760 / 23692\n",
      "18944 / 23692\n",
      "20128 / 23692\n",
      "21312 / 23692\n",
      "22496 / 23692\n",
      "23680 / 23692\n"
     ]
    },
    {
     "name": "stderr",
     "output_type": "stream",
     "text": [
      "/opt/conda/lib/python3.7/site-packages/sklearn/svm/_base.py:947: ConvergenceWarning: Liblinear failed to converge, increase the number of iterations.\n",
      "  \"the number of iterations.\", ConvergenceWarning)\n"
     ]
    },
    {
     "name": "stdout",
     "output_type": "stream",
     "text": [
      "0 / 428\n",
      "21 / 428\n",
      "42 / 428\n",
      "63 / 428\n",
      "84 / 428\n",
      "105 / 428\n",
      "126 / 428\n",
      "147 / 428\n",
      "168 / 428\n",
      "189 / 428\n",
      "210 / 428\n",
      "231 / 428\n",
      "252 / 428\n",
      "273 / 428\n",
      "294 / 428\n",
      "315 / 428\n",
      "336 / 428\n",
      "357 / 428\n",
      "378 / 428\n",
      "399 / 428\n",
      "420 / 428\n",
      "Method: Nearest Neighbour w/o PK Loss\n"
     ]
    },
    {
     "name": "stderr",
     "output_type": "stream",
     "text": [
      "/opt/conda/lib/python3.7/site-packages/sklearn/linear_model/_logistic.py:940: ConvergenceWarning: lbfgs failed to converge (status=1):\n",
      "STOP: TOTAL NO. of ITERATIONS REACHED LIMIT.\n",
      "\n",
      "Increase the number of iterations (max_iter) or scale the data as shown in:\n",
      "    https://scikit-learn.org/stable/modules/preprocessing.html\n",
      "Please also refer to the documentation for alternative solver options:\n",
      "    https://scikit-learn.org/stable/modules/linear_model.html#logistic-regression\n",
      "  extra_warning_msg=_LOGISTIC_SOLVER_CONVERGENCE_MSG)\n",
      "/opt/conda/lib/python3.7/site-packages/sklearn/linear_model/_logistic.py:940: ConvergenceWarning: lbfgs failed to converge (status=1):\n",
      "STOP: TOTAL NO. of ITERATIONS REACHED LIMIT.\n",
      "\n",
      "Increase the number of iterations (max_iter) or scale the data as shown in:\n",
      "    https://scikit-learn.org/stable/modules/preprocessing.html\n",
      "Please also refer to the documentation for alternative solver options:\n",
      "    https://scikit-learn.org/stable/modules/linear_model.html#logistic-regression\n",
      "  extra_warning_msg=_LOGISTIC_SOLVER_CONVERGENCE_MSG)\n"
     ]
    },
    {
     "name": "stdout",
     "output_type": "stream",
     "text": [
      "RVAE w/ Raw Feature\n"
     ]
    },
    {
     "name": "stderr",
     "output_type": "stream",
     "text": [
      "/opt/conda/lib/python3.7/site-packages/sklearn/linear_model/_logistic.py:940: ConvergenceWarning: lbfgs failed to converge (status=1):\n",
      "STOP: TOTAL NO. of ITERATIONS REACHED LIMIT.\n",
      "\n",
      "Increase the number of iterations (max_iter) or scale the data as shown in:\n",
      "    https://scikit-learn.org/stable/modules/preprocessing.html\n",
      "Please also refer to the documentation for alternative solver options:\n",
      "    https://scikit-learn.org/stable/modules/linear_model.html#logistic-regression\n",
      "  extra_warning_msg=_LOGISTIC_SOLVER_CONVERGENCE_MSG)\n",
      "/opt/conda/lib/python3.7/site-packages/sklearn/linear_model/_logistic.py:940: ConvergenceWarning: lbfgs failed to converge (status=1):\n",
      "STOP: TOTAL NO. of ITERATIONS REACHED LIMIT.\n",
      "\n",
      "Increase the number of iterations (max_iter) or scale the data as shown in:\n",
      "    https://scikit-learn.org/stable/modules/preprocessing.html\n",
      "Please also refer to the documentation for alternative solver options:\n",
      "    https://scikit-learn.org/stable/modules/linear_model.html#logistic-regression\n",
      "  extra_warning_msg=_LOGISTIC_SOLVER_CONVERGENCE_MSG)\n"
     ]
    },
    {
     "name": "stdout",
     "output_type": "stream",
     "text": [
      "Method: MWOC w/o PK Loss\n"
     ]
    },
    {
     "name": "stderr",
     "output_type": "stream",
     "text": [
      "/opt/conda/lib/python3.7/site-packages/sklearn/svm/_base.py:947: ConvergenceWarning: Liblinear failed to converge, increase the number of iterations.\n",
      "  \"the number of iterations.\", ConvergenceWarning)\n"
     ]
    },
    {
     "name": "stdout",
     "output_type": "stream",
     "text": [
      "Method: MWOC w/ PK Loss\n"
     ]
    },
    {
     "name": "stderr",
     "output_type": "stream",
     "text": [
      "/opt/conda/lib/python3.7/site-packages/sklearn/svm/_base.py:947: ConvergenceWarning: Liblinear failed to converge, increase the number of iterations.\n",
      "  \"the number of iterations.\", ConvergenceWarning)\n"
     ]
    },
    {
     "name": "stdout",
     "output_type": "stream",
     "text": [
      "noise type: normal magnitude: 0.100000\n",
      "noise type: normal magnitude: 0.500000\n",
      "noise type: uniform magnitude: 0.100000\n",
      "noise type: uniform magnitude: 0.500000\n",
      "noise type: uniform magnitude: -0.100000\n",
      "noise type: uniform magnitude: -0.500000\n",
      "noise type: bernoulli magnitude: 0.100000\n",
      "noise type: bernoulli magnitude: 0.500000\n",
      "noise type: bernoulli magnitude: -0.100000\n",
      "noise type: bernoulli magnitude: -0.500000\n"
     ]
    },
    {
     "name": "stderr",
     "output_type": "stream",
     "text": [
      "/opt/conda/lib/python3.7/site-packages/sklearn/svm/_base.py:947: ConvergenceWarning: Liblinear failed to converge, increase the number of iterations.\n",
      "  \"the number of iterations.\", ConvergenceWarning)\n",
      "/opt/conda/lib/python3.7/site-packages/sklearn/svm/_base.py:947: ConvergenceWarning: Liblinear failed to converge, increase the number of iterations.\n",
      "  \"the number of iterations.\", ConvergenceWarning)\n",
      "/opt/conda/lib/python3.7/site-packages/sklearn/svm/_base.py:947: ConvergenceWarning: Liblinear failed to converge, increase the number of iterations.\n",
      "  \"the number of iterations.\", ConvergenceWarning)\n",
      "/opt/conda/lib/python3.7/site-packages/sklearn/svm/_base.py:947: ConvergenceWarning: Liblinear failed to converge, increase the number of iterations.\n",
      "  \"the number of iterations.\", ConvergenceWarning)\n",
      "/opt/conda/lib/python3.7/site-packages/sklearn/svm/_base.py:947: ConvergenceWarning: Liblinear failed to converge, increase the number of iterations.\n",
      "  \"the number of iterations.\", ConvergenceWarning)\n"
     ]
    },
    {
     "name": "stdout",
     "output_type": "stream",
     "text": [
      "Method: Calibrated Confidence Score w/o PK Loss\n",
      "############################################\n",
      "#                    4                     #\n",
      "############################################\n",
      "Use Encoding: 1\n",
      "CrossEntropy Loss: 0.000000 MSE Loss: 0.452043 Time elapsed: 6.530187 s\n",
      "CrossEntropy Loss: 0.000000 MSE Loss: 0.486330 Time elapsed: 0.146985 s\n"
     ]
    },
    {
     "name": "stderr",
     "output_type": "stream",
     "text": [
      "/opt/conda/lib/python3.7/site-packages/sklearn/svm/_base.py:947: ConvergenceWarning: Liblinear failed to converge, increase the number of iterations.\n",
      "  \"the number of iterations.\", ConvergenceWarning)\n"
     ]
    },
    {
     "name": "stdout",
     "output_type": "stream",
     "text": [
      "Method: Raw Feature w/o PK Loss\n",
      "Method: Raw Feature w/ PK Loss\n",
      "Method: PK Loss Only\n"
     ]
    },
    {
     "name": "stderr",
     "output_type": "stream",
     "text": [
      "/opt/conda/lib/python3.7/site-packages/sklearn/svm/_base.py:947: ConvergenceWarning: Liblinear failed to converge, increase the number of iterations.\n",
      "  \"the number of iterations.\", ConvergenceWarning)\n"
     ]
    },
    {
     "name": "stdout",
     "output_type": "stream",
     "text": [
      "0 / 23556\n",
      "1177 / 23556\n",
      "2354 / 23556\n",
      "3531 / 23556\n",
      "4708 / 23556\n",
      "5885 / 23556\n",
      "7062 / 23556\n",
      "8239 / 23556\n",
      "9416 / 23556\n",
      "10593 / 23556\n",
      "11770 / 23556\n",
      "12947 / 23556\n",
      "14124 / 23556\n",
      "15301 / 23556\n",
      "16478 / 23556\n",
      "17655 / 23556\n",
      "18832 / 23556\n",
      "20009 / 23556\n",
      "21186 / 23556\n",
      "22363 / 23556\n",
      "23540 / 23556\n"
     ]
    },
    {
     "name": "stderr",
     "output_type": "stream",
     "text": [
      "/opt/conda/lib/python3.7/site-packages/sklearn/svm/_base.py:947: ConvergenceWarning: Liblinear failed to converge, increase the number of iterations.\n",
      "  \"the number of iterations.\", ConvergenceWarning)\n"
     ]
    },
    {
     "name": "stdout",
     "output_type": "stream",
     "text": [
      "0 / 370\n",
      "18 / 370\n",
      "36 / 370\n",
      "54 / 370\n",
      "72 / 370\n",
      "90 / 370\n",
      "108 / 370\n",
      "126 / 370\n",
      "144 / 370\n",
      "162 / 370\n",
      "180 / 370\n",
      "198 / 370\n",
      "216 / 370\n",
      "234 / 370\n",
      "252 / 370\n",
      "270 / 370\n",
      "288 / 370\n",
      "306 / 370\n",
      "324 / 370\n",
      "342 / 370\n",
      "360 / 370\n",
      "Method: Nearest Neighbour w/o PK Loss\n"
     ]
    },
    {
     "name": "stderr",
     "output_type": "stream",
     "text": [
      "/opt/conda/lib/python3.7/site-packages/sklearn/linear_model/_logistic.py:940: ConvergenceWarning: lbfgs failed to converge (status=1):\n",
      "STOP: TOTAL NO. of ITERATIONS REACHED LIMIT.\n",
      "\n",
      "Increase the number of iterations (max_iter) or scale the data as shown in:\n",
      "    https://scikit-learn.org/stable/modules/preprocessing.html\n",
      "Please also refer to the documentation for alternative solver options:\n",
      "    https://scikit-learn.org/stable/modules/linear_model.html#logistic-regression\n",
      "  extra_warning_msg=_LOGISTIC_SOLVER_CONVERGENCE_MSG)\n",
      "/opt/conda/lib/python3.7/site-packages/sklearn/linear_model/_logistic.py:940: ConvergenceWarning: lbfgs failed to converge (status=1):\n",
      "STOP: TOTAL NO. of ITERATIONS REACHED LIMIT.\n",
      "\n",
      "Increase the number of iterations (max_iter) or scale the data as shown in:\n",
      "    https://scikit-learn.org/stable/modules/preprocessing.html\n",
      "Please also refer to the documentation for alternative solver options:\n",
      "    https://scikit-learn.org/stable/modules/linear_model.html#logistic-regression\n",
      "  extra_warning_msg=_LOGISTIC_SOLVER_CONVERGENCE_MSG)\n"
     ]
    },
    {
     "name": "stdout",
     "output_type": "stream",
     "text": [
      "RVAE w/ Raw Feature\n"
     ]
    },
    {
     "name": "stderr",
     "output_type": "stream",
     "text": [
      "/opt/conda/lib/python3.7/site-packages/sklearn/linear_model/_logistic.py:940: ConvergenceWarning: lbfgs failed to converge (status=1):\n",
      "STOP: TOTAL NO. of ITERATIONS REACHED LIMIT.\n",
      "\n",
      "Increase the number of iterations (max_iter) or scale the data as shown in:\n",
      "    https://scikit-learn.org/stable/modules/preprocessing.html\n",
      "Please also refer to the documentation for alternative solver options:\n",
      "    https://scikit-learn.org/stable/modules/linear_model.html#logistic-regression\n",
      "  extra_warning_msg=_LOGISTIC_SOLVER_CONVERGENCE_MSG)\n",
      "/opt/conda/lib/python3.7/site-packages/sklearn/linear_model/_logistic.py:940: ConvergenceWarning: lbfgs failed to converge (status=1):\n",
      "STOP: TOTAL NO. of ITERATIONS REACHED LIMIT.\n",
      "\n",
      "Increase the number of iterations (max_iter) or scale the data as shown in:\n",
      "    https://scikit-learn.org/stable/modules/preprocessing.html\n",
      "Please also refer to the documentation for alternative solver options:\n",
      "    https://scikit-learn.org/stable/modules/linear_model.html#logistic-regression\n",
      "  extra_warning_msg=_LOGISTIC_SOLVER_CONVERGENCE_MSG)\n"
     ]
    },
    {
     "name": "stdout",
     "output_type": "stream",
     "text": [
      "Method: MWOC w/o PK Loss\n"
     ]
    },
    {
     "name": "stderr",
     "output_type": "stream",
     "text": [
      "/opt/conda/lib/python3.7/site-packages/sklearn/svm/_base.py:947: ConvergenceWarning: Liblinear failed to converge, increase the number of iterations.\n",
      "  \"the number of iterations.\", ConvergenceWarning)\n"
     ]
    },
    {
     "name": "stdout",
     "output_type": "stream",
     "text": [
      "Method: MWOC w/ PK Loss\n"
     ]
    },
    {
     "name": "stderr",
     "output_type": "stream",
     "text": [
      "/opt/conda/lib/python3.7/site-packages/sklearn/svm/_base.py:947: ConvergenceWarning: Liblinear failed to converge, increase the number of iterations.\n",
      "  \"the number of iterations.\", ConvergenceWarning)\n"
     ]
    },
    {
     "name": "stdout",
     "output_type": "stream",
     "text": [
      "noise type: normal magnitude: 0.100000\n",
      "noise type: normal magnitude: 0.500000\n",
      "noise type: uniform magnitude: 0.100000\n",
      "noise type: uniform magnitude: 0.500000\n",
      "noise type: uniform magnitude: -0.100000\n",
      "noise type: uniform magnitude: -0.500000\n",
      "noise type: bernoulli magnitude: 0.100000\n",
      "noise type: bernoulli magnitude: 0.500000\n",
      "noise type: bernoulli magnitude: -0.100000\n",
      "noise type: bernoulli magnitude: -0.500000\n"
     ]
    },
    {
     "name": "stderr",
     "output_type": "stream",
     "text": [
      "/opt/conda/lib/python3.7/site-packages/sklearn/svm/_base.py:947: ConvergenceWarning: Liblinear failed to converge, increase the number of iterations.\n",
      "  \"the number of iterations.\", ConvergenceWarning)\n",
      "/opt/conda/lib/python3.7/site-packages/sklearn/svm/_base.py:947: ConvergenceWarning: Liblinear failed to converge, increase the number of iterations.\n",
      "  \"the number of iterations.\", ConvergenceWarning)\n",
      "/opt/conda/lib/python3.7/site-packages/sklearn/svm/_base.py:947: ConvergenceWarning: Liblinear failed to converge, increase the number of iterations.\n",
      "  \"the number of iterations.\", ConvergenceWarning)\n",
      "/opt/conda/lib/python3.7/site-packages/sklearn/svm/_base.py:947: ConvergenceWarning: Liblinear failed to converge, increase the number of iterations.\n",
      "  \"the number of iterations.\", ConvergenceWarning)\n",
      "/opt/conda/lib/python3.7/site-packages/sklearn/svm/_base.py:947: ConvergenceWarning: Liblinear failed to converge, increase the number of iterations.\n",
      "  \"the number of iterations.\", ConvergenceWarning)\n"
     ]
    },
    {
     "name": "stdout",
     "output_type": "stream",
     "text": [
      "Method: Calibrated Confidence Score w/o PK Loss\n",
      "Noise Type: adv, Model: lr, Level: medium\n",
      "############################################\n",
      "#                    0                     #\n",
      "############################################\n",
      "Use Encoding: 1\n",
      "CrossEntropy Loss: 0.000000 MSE Loss: 0.453590 Time elapsed: 6.429442 s\n",
      "CrossEntropy Loss: 0.000000 MSE Loss: 0.449695 Time elapsed: 0.184266 s\n",
      "Method: Raw Feature w/o PK Loss\n",
      "Method: Raw Feature w/ PK Loss\n"
     ]
    },
    {
     "name": "stderr",
     "output_type": "stream",
     "text": [
      "/opt/conda/lib/python3.7/site-packages/sklearn/linear_model/_logistic.py:940: ConvergenceWarning: lbfgs failed to converge (status=1):\n",
      "STOP: TOTAL NO. of ITERATIONS REACHED LIMIT.\n",
      "\n",
      "Increase the number of iterations (max_iter) or scale the data as shown in:\n",
      "    https://scikit-learn.org/stable/modules/preprocessing.html\n",
      "Please also refer to the documentation for alternative solver options:\n",
      "    https://scikit-learn.org/stable/modules/linear_model.html#logistic-regression\n",
      "  extra_warning_msg=_LOGISTIC_SOLVER_CONVERGENCE_MSG)\n"
     ]
    },
    {
     "name": "stdout",
     "output_type": "stream",
     "text": [
      "Method: PK Loss Only\n"
     ]
    },
    {
     "name": "stderr",
     "output_type": "stream",
     "text": [
      "/opt/conda/lib/python3.7/site-packages/sklearn/svm/_base.py:947: ConvergenceWarning: Liblinear failed to converge, increase the number of iterations.\n",
      "  \"the number of iterations.\", ConvergenceWarning)\n"
     ]
    },
    {
     "name": "stdout",
     "output_type": "stream",
     "text": [
      "0 / 23480\n",
      "1174 / 23480\n",
      "2348 / 23480\n",
      "3522 / 23480\n",
      "4696 / 23480\n",
      "5870 / 23480\n",
      "7044 / 23480\n",
      "8218 / 23480\n",
      "9392 / 23480\n",
      "10566 / 23480\n",
      "11740 / 23480\n",
      "12914 / 23480\n",
      "14088 / 23480\n",
      "15262 / 23480\n",
      "16436 / 23480\n",
      "17610 / 23480\n",
      "18784 / 23480\n",
      "19958 / 23480\n",
      "21132 / 23480\n",
      "22306 / 23480\n"
     ]
    },
    {
     "name": "stderr",
     "output_type": "stream",
     "text": [
      "/opt/conda/lib/python3.7/site-packages/sklearn/svm/_base.py:947: ConvergenceWarning: Liblinear failed to converge, increase the number of iterations.\n",
      "  \"the number of iterations.\", ConvergenceWarning)\n"
     ]
    },
    {
     "name": "stdout",
     "output_type": "stream",
     "text": [
      "0 / 440\n",
      "22 / 440\n",
      "44 / 440\n",
      "66 / 440\n",
      "88 / 440\n",
      "110 / 440\n",
      "132 / 440\n",
      "154 / 440\n",
      "176 / 440\n",
      "198 / 440\n",
      "220 / 440\n",
      "242 / 440\n",
      "264 / 440\n",
      "286 / 440\n",
      "308 / 440\n",
      "330 / 440\n",
      "352 / 440\n",
      "374 / 440\n",
      "396 / 440\n",
      "418 / 440\n",
      "Method: Nearest Neighbour w/o PK Loss\n"
     ]
    },
    {
     "name": "stderr",
     "output_type": "stream",
     "text": [
      "/opt/conda/lib/python3.7/site-packages/sklearn/linear_model/_logistic.py:940: ConvergenceWarning: lbfgs failed to converge (status=1):\n",
      "STOP: TOTAL NO. of ITERATIONS REACHED LIMIT.\n",
      "\n",
      "Increase the number of iterations (max_iter) or scale the data as shown in:\n",
      "    https://scikit-learn.org/stable/modules/preprocessing.html\n",
      "Please also refer to the documentation for alternative solver options:\n",
      "    https://scikit-learn.org/stable/modules/linear_model.html#logistic-regression\n",
      "  extra_warning_msg=_LOGISTIC_SOLVER_CONVERGENCE_MSG)\n",
      "/opt/conda/lib/python3.7/site-packages/sklearn/linear_model/_logistic.py:940: ConvergenceWarning: lbfgs failed to converge (status=1):\n",
      "STOP: TOTAL NO. of ITERATIONS REACHED LIMIT.\n",
      "\n",
      "Increase the number of iterations (max_iter) or scale the data as shown in:\n",
      "    https://scikit-learn.org/stable/modules/preprocessing.html\n",
      "Please also refer to the documentation for alternative solver options:\n",
      "    https://scikit-learn.org/stable/modules/linear_model.html#logistic-regression\n",
      "  extra_warning_msg=_LOGISTIC_SOLVER_CONVERGENCE_MSG)\n"
     ]
    },
    {
     "name": "stdout",
     "output_type": "stream",
     "text": [
      "RVAE w/ Raw Feature\n"
     ]
    },
    {
     "name": "stderr",
     "output_type": "stream",
     "text": [
      "/opt/conda/lib/python3.7/site-packages/sklearn/linear_model/_logistic.py:940: ConvergenceWarning: lbfgs failed to converge (status=1):\n",
      "STOP: TOTAL NO. of ITERATIONS REACHED LIMIT.\n",
      "\n",
      "Increase the number of iterations (max_iter) or scale the data as shown in:\n",
      "    https://scikit-learn.org/stable/modules/preprocessing.html\n",
      "Please also refer to the documentation for alternative solver options:\n",
      "    https://scikit-learn.org/stable/modules/linear_model.html#logistic-regression\n",
      "  extra_warning_msg=_LOGISTIC_SOLVER_CONVERGENCE_MSG)\n",
      "/opt/conda/lib/python3.7/site-packages/sklearn/linear_model/_logistic.py:940: ConvergenceWarning: lbfgs failed to converge (status=1):\n",
      "STOP: TOTAL NO. of ITERATIONS REACHED LIMIT.\n",
      "\n",
      "Increase the number of iterations (max_iter) or scale the data as shown in:\n",
      "    https://scikit-learn.org/stable/modules/preprocessing.html\n",
      "Please also refer to the documentation for alternative solver options:\n",
      "    https://scikit-learn.org/stable/modules/linear_model.html#logistic-regression\n",
      "  extra_warning_msg=_LOGISTIC_SOLVER_CONVERGENCE_MSG)\n"
     ]
    },
    {
     "name": "stdout",
     "output_type": "stream",
     "text": [
      "Method: MWOC w/o PK Loss\n",
      "Method: MWOC w/ PK Loss\n"
     ]
    },
    {
     "name": "stderr",
     "output_type": "stream",
     "text": [
      "/opt/conda/lib/python3.7/site-packages/sklearn/linear_model/_logistic.py:940: ConvergenceWarning: lbfgs failed to converge (status=1):\n",
      "STOP: TOTAL NO. of ITERATIONS REACHED LIMIT.\n",
      "\n",
      "Increase the number of iterations (max_iter) or scale the data as shown in:\n",
      "    https://scikit-learn.org/stable/modules/preprocessing.html\n",
      "Please also refer to the documentation for alternative solver options:\n",
      "    https://scikit-learn.org/stable/modules/linear_model.html#logistic-regression\n",
      "  extra_warning_msg=_LOGISTIC_SOLVER_CONVERGENCE_MSG)\n"
     ]
    },
    {
     "name": "stdout",
     "output_type": "stream",
     "text": [
      "noise type: normal magnitude: 0.100000\n",
      "noise type: normal magnitude: 0.500000\n",
      "noise type: uniform magnitude: 0.100000\n",
      "noise type: uniform magnitude: 0.500000\n",
      "noise type: uniform magnitude: -0.100000\n",
      "noise type: uniform magnitude: -0.500000\n",
      "noise type: bernoulli magnitude: 0.100000\n",
      "noise type: bernoulli magnitude: 0.500000\n",
      "noise type: bernoulli magnitude: -0.100000\n",
      "noise type: bernoulli magnitude: -0.500000\n",
      "Method: Calibrated Confidence Score w/o PK Loss\n",
      "############################################\n",
      "#                    1                     #\n",
      "############################################\n",
      "Use Encoding: 1\n",
      "CrossEntropy Loss: 0.000000 MSE Loss: 0.468684 Time elapsed: 17.018140 s\n",
      "CrossEntropy Loss: 0.000000 MSE Loss: 0.447465 Time elapsed: 0.429929 s\n",
      "Method: Raw Feature w/o PK Loss\n",
      "Method: Raw Feature w/ PK Loss\n"
     ]
    },
    {
     "name": "stderr",
     "output_type": "stream",
     "text": [
      "/opt/conda/lib/python3.7/site-packages/sklearn/linear_model/_logistic.py:940: ConvergenceWarning: lbfgs failed to converge (status=1):\n",
      "STOP: TOTAL NO. of ITERATIONS REACHED LIMIT.\n",
      "\n",
      "Increase the number of iterations (max_iter) or scale the data as shown in:\n",
      "    https://scikit-learn.org/stable/modules/preprocessing.html\n",
      "Please also refer to the documentation for alternative solver options:\n",
      "    https://scikit-learn.org/stable/modules/linear_model.html#logistic-regression\n",
      "  extra_warning_msg=_LOGISTIC_SOLVER_CONVERGENCE_MSG)\n"
     ]
    },
    {
     "name": "stdout",
     "output_type": "stream",
     "text": [
      "Method: PK Loss Only\n"
     ]
    },
    {
     "name": "stderr",
     "output_type": "stream",
     "text": [
      "/opt/conda/lib/python3.7/site-packages/sklearn/svm/_base.py:947: ConvergenceWarning: Liblinear failed to converge, increase the number of iterations.\n",
      "  \"the number of iterations.\", ConvergenceWarning)\n"
     ]
    },
    {
     "name": "stdout",
     "output_type": "stream",
     "text": [
      "0 / 23616\n",
      "1180 / 23616\n",
      "2360 / 23616\n",
      "3540 / 23616\n",
      "4720 / 23616\n",
      "5900 / 23616\n",
      "7080 / 23616\n",
      "8260 / 23616\n",
      "9440 / 23616\n",
      "10620 / 23616\n",
      "11800 / 23616\n",
      "12980 / 23616\n",
      "14160 / 23616\n",
      "15340 / 23616\n",
      "16520 / 23616\n",
      "17700 / 23616\n",
      "18880 / 23616\n",
      "20060 / 23616\n",
      "21240 / 23616\n",
      "22420 / 23616\n",
      "23600 / 23616\n"
     ]
    },
    {
     "name": "stderr",
     "output_type": "stream",
     "text": [
      "/opt/conda/lib/python3.7/site-packages/sklearn/svm/_base.py:947: ConvergenceWarning: Liblinear failed to converge, increase the number of iterations.\n",
      "  \"the number of iterations.\", ConvergenceWarning)\n"
     ]
    },
    {
     "name": "stdout",
     "output_type": "stream",
     "text": [
      "0 / 416\n",
      "20 / 416\n",
      "40 / 416\n",
      "60 / 416\n",
      "80 / 416\n",
      "100 / 416\n",
      "120 / 416\n",
      "140 / 416\n",
      "160 / 416\n",
      "180 / 416\n",
      "200 / 416\n",
      "220 / 416\n",
      "240 / 416\n",
      "260 / 416\n",
      "280 / 416\n",
      "300 / 416\n",
      "320 / 416\n",
      "340 / 416\n",
      "360 / 416\n",
      "380 / 416\n",
      "400 / 416\n",
      "Method: Nearest Neighbour w/o PK Loss\n"
     ]
    },
    {
     "name": "stderr",
     "output_type": "stream",
     "text": [
      "/opt/conda/lib/python3.7/site-packages/sklearn/linear_model/_logistic.py:940: ConvergenceWarning: lbfgs failed to converge (status=1):\n",
      "STOP: TOTAL NO. of ITERATIONS REACHED LIMIT.\n",
      "\n",
      "Increase the number of iterations (max_iter) or scale the data as shown in:\n",
      "    https://scikit-learn.org/stable/modules/preprocessing.html\n",
      "Please also refer to the documentation for alternative solver options:\n",
      "    https://scikit-learn.org/stable/modules/linear_model.html#logistic-regression\n",
      "  extra_warning_msg=_LOGISTIC_SOLVER_CONVERGENCE_MSG)\n",
      "/opt/conda/lib/python3.7/site-packages/sklearn/linear_model/_logistic.py:940: ConvergenceWarning: lbfgs failed to converge (status=1):\n",
      "STOP: TOTAL NO. of ITERATIONS REACHED LIMIT.\n",
      "\n",
      "Increase the number of iterations (max_iter) or scale the data as shown in:\n",
      "    https://scikit-learn.org/stable/modules/preprocessing.html\n",
      "Please also refer to the documentation for alternative solver options:\n",
      "    https://scikit-learn.org/stable/modules/linear_model.html#logistic-regression\n",
      "  extra_warning_msg=_LOGISTIC_SOLVER_CONVERGENCE_MSG)\n"
     ]
    },
    {
     "name": "stdout",
     "output_type": "stream",
     "text": [
      "RVAE w/ Raw Feature\n"
     ]
    },
    {
     "name": "stderr",
     "output_type": "stream",
     "text": [
      "/opt/conda/lib/python3.7/site-packages/sklearn/linear_model/_logistic.py:940: ConvergenceWarning: lbfgs failed to converge (status=1):\n",
      "STOP: TOTAL NO. of ITERATIONS REACHED LIMIT.\n",
      "\n",
      "Increase the number of iterations (max_iter) or scale the data as shown in:\n",
      "    https://scikit-learn.org/stable/modules/preprocessing.html\n",
      "Please also refer to the documentation for alternative solver options:\n",
      "    https://scikit-learn.org/stable/modules/linear_model.html#logistic-regression\n",
      "  extra_warning_msg=_LOGISTIC_SOLVER_CONVERGENCE_MSG)\n",
      "/opt/conda/lib/python3.7/site-packages/sklearn/linear_model/_logistic.py:940: ConvergenceWarning: lbfgs failed to converge (status=1):\n",
      "STOP: TOTAL NO. of ITERATIONS REACHED LIMIT.\n",
      "\n",
      "Increase the number of iterations (max_iter) or scale the data as shown in:\n",
      "    https://scikit-learn.org/stable/modules/preprocessing.html\n",
      "Please also refer to the documentation for alternative solver options:\n",
      "    https://scikit-learn.org/stable/modules/linear_model.html#logistic-regression\n",
      "  extra_warning_msg=_LOGISTIC_SOLVER_CONVERGENCE_MSG)\n"
     ]
    },
    {
     "name": "stdout",
     "output_type": "stream",
     "text": [
      "Method: MWOC w/o PK Loss\n",
      "Method: MWOC w/ PK Loss\n"
     ]
    },
    {
     "name": "stderr",
     "output_type": "stream",
     "text": [
      "/opt/conda/lib/python3.7/site-packages/sklearn/linear_model/_logistic.py:940: ConvergenceWarning: lbfgs failed to converge (status=1):\n",
      "STOP: TOTAL NO. of ITERATIONS REACHED LIMIT.\n",
      "\n",
      "Increase the number of iterations (max_iter) or scale the data as shown in:\n",
      "    https://scikit-learn.org/stable/modules/preprocessing.html\n",
      "Please also refer to the documentation for alternative solver options:\n",
      "    https://scikit-learn.org/stable/modules/linear_model.html#logistic-regression\n",
      "  extra_warning_msg=_LOGISTIC_SOLVER_CONVERGENCE_MSG)\n"
     ]
    },
    {
     "name": "stdout",
     "output_type": "stream",
     "text": [
      "noise type: normal magnitude: 0.100000\n",
      "noise type: normal magnitude: 0.500000\n",
      "noise type: uniform magnitude: 0.100000\n",
      "noise type: uniform magnitude: 0.500000\n",
      "noise type: uniform magnitude: -0.100000\n",
      "noise type: uniform magnitude: -0.500000\n",
      "noise type: bernoulli magnitude: 0.100000\n",
      "noise type: bernoulli magnitude: 0.500000\n",
      "noise type: bernoulli magnitude: -0.100000\n",
      "noise type: bernoulli magnitude: -0.500000\n",
      "Method: Calibrated Confidence Score w/o PK Loss\n",
      "############################################\n",
      "#                    2                     #\n",
      "############################################\n",
      "Use Encoding: 1\n",
      "CrossEntropy Loss: 0.000000 MSE Loss: 0.475552 Time elapsed: 6.476628 s\n",
      "CrossEntropy Loss: 0.000000 MSE Loss: 0.547348 Time elapsed: 0.161847 s\n",
      "Method: Raw Feature w/o PK Loss\n",
      "Method: Raw Feature w/ PK Loss\n",
      "Method: PK Loss Only\n"
     ]
    },
    {
     "name": "stderr",
     "output_type": "stream",
     "text": [
      "/opt/conda/lib/python3.7/site-packages/sklearn/svm/_base.py:947: ConvergenceWarning: Liblinear failed to converge, increase the number of iterations.\n",
      "  \"the number of iterations.\", ConvergenceWarning)\n"
     ]
    },
    {
     "name": "stdout",
     "output_type": "stream",
     "text": [
      "0 / 23576\n",
      "1178 / 23576\n",
      "2356 / 23576\n",
      "3534 / 23576\n",
      "4712 / 23576\n",
      "5890 / 23576\n",
      "7068 / 23576\n",
      "8246 / 23576\n",
      "9424 / 23576\n",
      "10602 / 23576\n",
      "11780 / 23576\n",
      "12958 / 23576\n",
      "14136 / 23576\n",
      "15314 / 23576\n",
      "16492 / 23576\n",
      "17670 / 23576\n",
      "18848 / 23576\n",
      "20026 / 23576\n",
      "21204 / 23576\n",
      "22382 / 23576\n",
      "23560 / 23576\n"
     ]
    },
    {
     "name": "stderr",
     "output_type": "stream",
     "text": [
      "/opt/conda/lib/python3.7/site-packages/sklearn/svm/_base.py:947: ConvergenceWarning: Liblinear failed to converge, increase the number of iterations.\n",
      "  \"the number of iterations.\", ConvergenceWarning)\n"
     ]
    },
    {
     "name": "stdout",
     "output_type": "stream",
     "text": [
      "0 / 398\n",
      "19 / 398\n",
      "38 / 398\n",
      "57 / 398\n",
      "76 / 398\n",
      "95 / 398\n",
      "114 / 398\n",
      "133 / 398\n",
      "152 / 398\n",
      "171 / 398\n",
      "190 / 398\n",
      "209 / 398\n",
      "228 / 398\n",
      "247 / 398\n",
      "266 / 398\n",
      "285 / 398\n",
      "304 / 398\n",
      "323 / 398\n",
      "342 / 398\n",
      "361 / 398\n",
      "380 / 398\n",
      "Method: Nearest Neighbour w/o PK Loss\n"
     ]
    },
    {
     "name": "stderr",
     "output_type": "stream",
     "text": [
      "/opt/conda/lib/python3.7/site-packages/sklearn/linear_model/_logistic.py:940: ConvergenceWarning: lbfgs failed to converge (status=1):\n",
      "STOP: TOTAL NO. of ITERATIONS REACHED LIMIT.\n",
      "\n",
      "Increase the number of iterations (max_iter) or scale the data as shown in:\n",
      "    https://scikit-learn.org/stable/modules/preprocessing.html\n",
      "Please also refer to the documentation for alternative solver options:\n",
      "    https://scikit-learn.org/stable/modules/linear_model.html#logistic-regression\n",
      "  extra_warning_msg=_LOGISTIC_SOLVER_CONVERGENCE_MSG)\n",
      "/opt/conda/lib/python3.7/site-packages/sklearn/linear_model/_logistic.py:940: ConvergenceWarning: lbfgs failed to converge (status=1):\n",
      "STOP: TOTAL NO. of ITERATIONS REACHED LIMIT.\n",
      "\n",
      "Increase the number of iterations (max_iter) or scale the data as shown in:\n",
      "    https://scikit-learn.org/stable/modules/preprocessing.html\n",
      "Please also refer to the documentation for alternative solver options:\n",
      "    https://scikit-learn.org/stable/modules/linear_model.html#logistic-regression\n",
      "  extra_warning_msg=_LOGISTIC_SOLVER_CONVERGENCE_MSG)\n"
     ]
    },
    {
     "name": "stdout",
     "output_type": "stream",
     "text": [
      "RVAE w/ Raw Feature\n"
     ]
    },
    {
     "name": "stderr",
     "output_type": "stream",
     "text": [
      "/opt/conda/lib/python3.7/site-packages/sklearn/linear_model/_logistic.py:940: ConvergenceWarning: lbfgs failed to converge (status=1):\n",
      "STOP: TOTAL NO. of ITERATIONS REACHED LIMIT.\n",
      "\n",
      "Increase the number of iterations (max_iter) or scale the data as shown in:\n",
      "    https://scikit-learn.org/stable/modules/preprocessing.html\n",
      "Please also refer to the documentation for alternative solver options:\n",
      "    https://scikit-learn.org/stable/modules/linear_model.html#logistic-regression\n",
      "  extra_warning_msg=_LOGISTIC_SOLVER_CONVERGENCE_MSG)\n",
      "/opt/conda/lib/python3.7/site-packages/sklearn/linear_model/_logistic.py:940: ConvergenceWarning: lbfgs failed to converge (status=1):\n",
      "STOP: TOTAL NO. of ITERATIONS REACHED LIMIT.\n",
      "\n",
      "Increase the number of iterations (max_iter) or scale the data as shown in:\n",
      "    https://scikit-learn.org/stable/modules/preprocessing.html\n",
      "Please also refer to the documentation for alternative solver options:\n",
      "    https://scikit-learn.org/stable/modules/linear_model.html#logistic-regression\n",
      "  extra_warning_msg=_LOGISTIC_SOLVER_CONVERGENCE_MSG)\n"
     ]
    },
    {
     "name": "stdout",
     "output_type": "stream",
     "text": [
      "Method: MWOC w/o PK Loss\n",
      "Method: MWOC w/ PK Loss\n"
     ]
    },
    {
     "name": "stderr",
     "output_type": "stream",
     "text": [
      "/opt/conda/lib/python3.7/site-packages/sklearn/linear_model/_logistic.py:940: ConvergenceWarning: lbfgs failed to converge (status=1):\n",
      "STOP: TOTAL NO. of ITERATIONS REACHED LIMIT.\n",
      "\n",
      "Increase the number of iterations (max_iter) or scale the data as shown in:\n",
      "    https://scikit-learn.org/stable/modules/preprocessing.html\n",
      "Please also refer to the documentation for alternative solver options:\n",
      "    https://scikit-learn.org/stable/modules/linear_model.html#logistic-regression\n",
      "  extra_warning_msg=_LOGISTIC_SOLVER_CONVERGENCE_MSG)\n"
     ]
    },
    {
     "name": "stdout",
     "output_type": "stream",
     "text": [
      "noise type: normal magnitude: 0.100000\n",
      "noise type: normal magnitude: 0.500000\n",
      "noise type: uniform magnitude: 0.100000\n",
      "noise type: uniform magnitude: 0.500000\n",
      "noise type: uniform magnitude: -0.100000\n",
      "noise type: uniform magnitude: -0.500000\n",
      "noise type: bernoulli magnitude: 0.100000\n",
      "noise type: bernoulli magnitude: 0.500000\n",
      "noise type: bernoulli magnitude: -0.100000\n",
      "noise type: bernoulli magnitude: -0.500000\n",
      "Method: Calibrated Confidence Score w/o PK Loss\n",
      "############################################\n",
      "#                    3                     #\n",
      "############################################\n",
      "Use Encoding: 1\n",
      "CrossEntropy Loss: 0.000000 MSE Loss: 0.492652 Time elapsed: 6.474460 s\n",
      "CrossEntropy Loss: 0.000000 MSE Loss: 0.520126 Time elapsed: 0.165061 s\n",
      "Method: Raw Feature w/o PK Loss\n",
      "Method: Raw Feature w/ PK Loss\n"
     ]
    },
    {
     "name": "stderr",
     "output_type": "stream",
     "text": [
      "/opt/conda/lib/python3.7/site-packages/sklearn/linear_model/_logistic.py:940: ConvergenceWarning: lbfgs failed to converge (status=1):\n",
      "STOP: TOTAL NO. of ITERATIONS REACHED LIMIT.\n",
      "\n",
      "Increase the number of iterations (max_iter) or scale the data as shown in:\n",
      "    https://scikit-learn.org/stable/modules/preprocessing.html\n",
      "Please also refer to the documentation for alternative solver options:\n",
      "    https://scikit-learn.org/stable/modules/linear_model.html#logistic-regression\n",
      "  extra_warning_msg=_LOGISTIC_SOLVER_CONVERGENCE_MSG)\n",
      "/opt/conda/lib/python3.7/site-packages/sklearn/linear_model/_logistic.py:940: ConvergenceWarning: lbfgs failed to converge (status=1):\n",
      "STOP: TOTAL NO. of ITERATIONS REACHED LIMIT.\n",
      "\n",
      "Increase the number of iterations (max_iter) or scale the data as shown in:\n",
      "    https://scikit-learn.org/stable/modules/preprocessing.html\n",
      "Please also refer to the documentation for alternative solver options:\n",
      "    https://scikit-learn.org/stable/modules/linear_model.html#logistic-regression\n",
      "  extra_warning_msg=_LOGISTIC_SOLVER_CONVERGENCE_MSG)\n"
     ]
    },
    {
     "name": "stdout",
     "output_type": "stream",
     "text": [
      "Method: PK Loss Only\n"
     ]
    },
    {
     "name": "stderr",
     "output_type": "stream",
     "text": [
      "/opt/conda/lib/python3.7/site-packages/sklearn/svm/_base.py:947: ConvergenceWarning: Liblinear failed to converge, increase the number of iterations.\n",
      "  \"the number of iterations.\", ConvergenceWarning)\n"
     ]
    },
    {
     "name": "stdout",
     "output_type": "stream",
     "text": [
      "0 / 23656\n",
      "1182 / 23656\n",
      "2364 / 23656\n",
      "3546 / 23656\n",
      "4728 / 23656\n",
      "5910 / 23656\n",
      "7092 / 23656\n",
      "8274 / 23656\n",
      "9456 / 23656\n",
      "10638 / 23656\n",
      "11820 / 23656\n",
      "13002 / 23656\n",
      "14184 / 23656\n",
      "15366 / 23656\n",
      "16548 / 23656\n",
      "17730 / 23656\n",
      "18912 / 23656\n",
      "20094 / 23656\n",
      "21276 / 23656\n",
      "22458 / 23656\n",
      "23640 / 23656\n"
     ]
    },
    {
     "name": "stderr",
     "output_type": "stream",
     "text": [
      "/opt/conda/lib/python3.7/site-packages/sklearn/svm/_base.py:947: ConvergenceWarning: Liblinear failed to converge, increase the number of iterations.\n",
      "  \"the number of iterations.\", ConvergenceWarning)\n"
     ]
    },
    {
     "name": "stdout",
     "output_type": "stream",
     "text": [
      "0 / 432\n",
      "21 / 432\n",
      "42 / 432\n",
      "63 / 432\n",
      "84 / 432\n",
      "105 / 432\n",
      "126 / 432\n",
      "147 / 432\n",
      "168 / 432\n",
      "189 / 432\n",
      "210 / 432\n",
      "231 / 432\n",
      "252 / 432\n",
      "273 / 432\n",
      "294 / 432\n",
      "315 / 432\n",
      "336 / 432\n",
      "357 / 432\n",
      "378 / 432\n",
      "399 / 432\n",
      "420 / 432\n",
      "Method: Nearest Neighbour w/o PK Loss\n"
     ]
    },
    {
     "name": "stderr",
     "output_type": "stream",
     "text": [
      "/opt/conda/lib/python3.7/site-packages/sklearn/linear_model/_logistic.py:940: ConvergenceWarning: lbfgs failed to converge (status=1):\n",
      "STOP: TOTAL NO. of ITERATIONS REACHED LIMIT.\n",
      "\n",
      "Increase the number of iterations (max_iter) or scale the data as shown in:\n",
      "    https://scikit-learn.org/stable/modules/preprocessing.html\n",
      "Please also refer to the documentation for alternative solver options:\n",
      "    https://scikit-learn.org/stable/modules/linear_model.html#logistic-regression\n",
      "  extra_warning_msg=_LOGISTIC_SOLVER_CONVERGENCE_MSG)\n"
     ]
    },
    {
     "name": "stdout",
     "output_type": "stream",
     "text": [
      "RVAE w/ Raw Feature\n"
     ]
    },
    {
     "name": "stderr",
     "output_type": "stream",
     "text": [
      "/opt/conda/lib/python3.7/site-packages/sklearn/linear_model/_logistic.py:940: ConvergenceWarning: lbfgs failed to converge (status=1):\n",
      "STOP: TOTAL NO. of ITERATIONS REACHED LIMIT.\n",
      "\n",
      "Increase the number of iterations (max_iter) or scale the data as shown in:\n",
      "    https://scikit-learn.org/stable/modules/preprocessing.html\n",
      "Please also refer to the documentation for alternative solver options:\n",
      "    https://scikit-learn.org/stable/modules/linear_model.html#logistic-regression\n",
      "  extra_warning_msg=_LOGISTIC_SOLVER_CONVERGENCE_MSG)\n",
      "/opt/conda/lib/python3.7/site-packages/sklearn/linear_model/_logistic.py:940: ConvergenceWarning: lbfgs failed to converge (status=1):\n",
      "STOP: TOTAL NO. of ITERATIONS REACHED LIMIT.\n",
      "\n",
      "Increase the number of iterations (max_iter) or scale the data as shown in:\n",
      "    https://scikit-learn.org/stable/modules/preprocessing.html\n",
      "Please also refer to the documentation for alternative solver options:\n",
      "    https://scikit-learn.org/stable/modules/linear_model.html#logistic-regression\n",
      "  extra_warning_msg=_LOGISTIC_SOLVER_CONVERGENCE_MSG)\n"
     ]
    },
    {
     "name": "stdout",
     "output_type": "stream",
     "text": [
      "Method: MWOC w/o PK Loss\n",
      "Method: MWOC w/ PK Loss\n"
     ]
    },
    {
     "name": "stderr",
     "output_type": "stream",
     "text": [
      "/opt/conda/lib/python3.7/site-packages/sklearn/linear_model/_logistic.py:940: ConvergenceWarning: lbfgs failed to converge (status=1):\n",
      "STOP: TOTAL NO. of ITERATIONS REACHED LIMIT.\n",
      "\n",
      "Increase the number of iterations (max_iter) or scale the data as shown in:\n",
      "    https://scikit-learn.org/stable/modules/preprocessing.html\n",
      "Please also refer to the documentation for alternative solver options:\n",
      "    https://scikit-learn.org/stable/modules/linear_model.html#logistic-regression\n",
      "  extra_warning_msg=_LOGISTIC_SOLVER_CONVERGENCE_MSG)\n"
     ]
    },
    {
     "name": "stdout",
     "output_type": "stream",
     "text": [
      "noise type: normal magnitude: 0.100000\n",
      "noise type: normal magnitude: 0.500000\n",
      "noise type: uniform magnitude: 0.100000\n",
      "noise type: uniform magnitude: 0.500000\n",
      "noise type: uniform magnitude: -0.100000\n",
      "noise type: uniform magnitude: -0.500000\n",
      "noise type: bernoulli magnitude: 0.100000\n",
      "noise type: bernoulli magnitude: 0.500000\n",
      "noise type: bernoulli magnitude: -0.100000\n",
      "noise type: bernoulli magnitude: -0.500000\n",
      "Method: Calibrated Confidence Score w/o PK Loss\n",
      "############################################\n",
      "#                    4                     #\n",
      "############################################\n",
      "Use Encoding: 1\n",
      "CrossEntropy Loss: 0.000000 MSE Loss: 0.438961 Time elapsed: 17.004009 s\n",
      "CrossEntropy Loss: 0.000000 MSE Loss: 0.480327 Time elapsed: 0.407649 s\n",
      "Method: Raw Feature w/o PK Loss\n",
      "Method: Raw Feature w/ PK Loss\n"
     ]
    },
    {
     "name": "stderr",
     "output_type": "stream",
     "text": [
      "/opt/conda/lib/python3.7/site-packages/sklearn/linear_model/_logistic.py:940: ConvergenceWarning: lbfgs failed to converge (status=1):\n",
      "STOP: TOTAL NO. of ITERATIONS REACHED LIMIT.\n",
      "\n",
      "Increase the number of iterations (max_iter) or scale the data as shown in:\n",
      "    https://scikit-learn.org/stable/modules/preprocessing.html\n",
      "Please also refer to the documentation for alternative solver options:\n",
      "    https://scikit-learn.org/stable/modules/linear_model.html#logistic-regression\n",
      "  extra_warning_msg=_LOGISTIC_SOLVER_CONVERGENCE_MSG)\n"
     ]
    },
    {
     "name": "stdout",
     "output_type": "stream",
     "text": [
      "Method: PK Loss Only\n"
     ]
    },
    {
     "name": "stderr",
     "output_type": "stream",
     "text": [
      "/opt/conda/lib/python3.7/site-packages/sklearn/svm/_base.py:947: ConvergenceWarning: Liblinear failed to converge, increase the number of iterations.\n",
      "  \"the number of iterations.\", ConvergenceWarning)\n"
     ]
    },
    {
     "name": "stdout",
     "output_type": "stream",
     "text": [
      "0 / 23560\n",
      "1178 / 23560\n",
      "2356 / 23560\n",
      "3534 / 23560\n",
      "4712 / 23560\n",
      "5890 / 23560\n",
      "7068 / 23560\n",
      "8246 / 23560\n",
      "9424 / 23560\n",
      "10602 / 23560\n",
      "11780 / 23560\n",
      "12958 / 23560\n",
      "14136 / 23560\n",
      "15314 / 23560\n",
      "16492 / 23560\n",
      "17670 / 23560\n",
      "18848 / 23560\n",
      "20026 / 23560\n",
      "21204 / 23560\n",
      "22382 / 23560\n"
     ]
    },
    {
     "name": "stderr",
     "output_type": "stream",
     "text": [
      "/opt/conda/lib/python3.7/site-packages/sklearn/svm/_base.py:947: ConvergenceWarning: Liblinear failed to converge, increase the number of iterations.\n",
      "  \"the number of iterations.\", ConvergenceWarning)\n"
     ]
    },
    {
     "name": "stdout",
     "output_type": "stream",
     "text": [
      "0 / 366\n",
      "18 / 366\n",
      "36 / 366\n",
      "54 / 366\n",
      "72 / 366\n",
      "90 / 366\n",
      "108 / 366\n",
      "126 / 366\n",
      "144 / 366\n",
      "162 / 366\n",
      "180 / 366\n",
      "198 / 366\n",
      "216 / 366\n",
      "234 / 366\n",
      "252 / 366\n",
      "270 / 366\n",
      "288 / 366\n",
      "306 / 366\n",
      "324 / 366\n",
      "342 / 366\n",
      "360 / 366\n",
      "Method: Nearest Neighbour w/o PK Loss\n"
     ]
    },
    {
     "name": "stderr",
     "output_type": "stream",
     "text": [
      "/opt/conda/lib/python3.7/site-packages/sklearn/linear_model/_logistic.py:940: ConvergenceWarning: lbfgs failed to converge (status=1):\n",
      "STOP: TOTAL NO. of ITERATIONS REACHED LIMIT.\n",
      "\n",
      "Increase the number of iterations (max_iter) or scale the data as shown in:\n",
      "    https://scikit-learn.org/stable/modules/preprocessing.html\n",
      "Please also refer to the documentation for alternative solver options:\n",
      "    https://scikit-learn.org/stable/modules/linear_model.html#logistic-regression\n",
      "  extra_warning_msg=_LOGISTIC_SOLVER_CONVERGENCE_MSG)\n"
     ]
    },
    {
     "name": "stdout",
     "output_type": "stream",
     "text": [
      "RVAE w/ Raw Feature\n"
     ]
    },
    {
     "name": "stderr",
     "output_type": "stream",
     "text": [
      "/opt/conda/lib/python3.7/site-packages/sklearn/linear_model/_logistic.py:940: ConvergenceWarning: lbfgs failed to converge (status=1):\n",
      "STOP: TOTAL NO. of ITERATIONS REACHED LIMIT.\n",
      "\n",
      "Increase the number of iterations (max_iter) or scale the data as shown in:\n",
      "    https://scikit-learn.org/stable/modules/preprocessing.html\n",
      "Please also refer to the documentation for alternative solver options:\n",
      "    https://scikit-learn.org/stable/modules/linear_model.html#logistic-regression\n",
      "  extra_warning_msg=_LOGISTIC_SOLVER_CONVERGENCE_MSG)\n",
      "/opt/conda/lib/python3.7/site-packages/sklearn/linear_model/_logistic.py:940: ConvergenceWarning: lbfgs failed to converge (status=1):\n",
      "STOP: TOTAL NO. of ITERATIONS REACHED LIMIT.\n",
      "\n",
      "Increase the number of iterations (max_iter) or scale the data as shown in:\n",
      "    https://scikit-learn.org/stable/modules/preprocessing.html\n",
      "Please also refer to the documentation for alternative solver options:\n",
      "    https://scikit-learn.org/stable/modules/linear_model.html#logistic-regression\n",
      "  extra_warning_msg=_LOGISTIC_SOLVER_CONVERGENCE_MSG)\n"
     ]
    },
    {
     "name": "stdout",
     "output_type": "stream",
     "text": [
      "Method: MWOC w/o PK Loss\n",
      "Method: MWOC w/ PK Loss\n"
     ]
    },
    {
     "name": "stderr",
     "output_type": "stream",
     "text": [
      "/opt/conda/lib/python3.7/site-packages/sklearn/linear_model/_logistic.py:940: ConvergenceWarning: lbfgs failed to converge (status=1):\n",
      "STOP: TOTAL NO. of ITERATIONS REACHED LIMIT.\n",
      "\n",
      "Increase the number of iterations (max_iter) or scale the data as shown in:\n",
      "    https://scikit-learn.org/stable/modules/preprocessing.html\n",
      "Please also refer to the documentation for alternative solver options:\n",
      "    https://scikit-learn.org/stable/modules/linear_model.html#logistic-regression\n",
      "  extra_warning_msg=_LOGISTIC_SOLVER_CONVERGENCE_MSG)\n"
     ]
    },
    {
     "name": "stdout",
     "output_type": "stream",
     "text": [
      "noise type: normal magnitude: 0.100000\n",
      "noise type: normal magnitude: 0.500000\n",
      "noise type: uniform magnitude: 0.100000\n",
      "noise type: uniform magnitude: 0.500000\n",
      "noise type: uniform magnitude: -0.100000\n",
      "noise type: uniform magnitude: -0.500000\n",
      "noise type: bernoulli magnitude: 0.100000\n",
      "noise type: bernoulli magnitude: 0.500000\n",
      "noise type: bernoulli magnitude: -0.100000\n",
      "noise type: bernoulli magnitude: -0.500000\n",
      "Method: Calibrated Confidence Score w/o PK Loss\n"
     ]
    }
   ],
   "source": [
    "evaluateTestTime(dataset, level='medium', runAdv=runAdv, mix_artificial=False)"
   ]
  },
  {
   "cell_type": "code",
   "execution_count": 9,
   "metadata": {},
   "outputs": [
    {
     "name": "stdout",
     "output_type": "stream",
     "text": [
      "F1 Scores of Victim Sample Detection\n",
      "---------------------------------------------\n",
      "Noise Type: random\n",
      "Downstream Model: nn\n",
      "RF: 0.7054 RVAE: 0.7403 RVAE+: 0.7732 CCS: 0.5849 KNN: 0.6661 TOAO: 0.5481 MWOC: 0.7787 Picket: 0.7665  \n",
      "& 0.7054 & 0.7403 & 0.7732 & 0.5849 & 0.6661 & 0.5481 & 0.7787 & 0.7665  \n",
      "Downstream Model: svm\n",
      "RF: 0.7807 RVAE: 0.8046 RVAE+: 0.8327 CCS: 0.6663 KNN: 0.6778 TOAO: 0.5979 MWOC: 0.7574 Picket: 0.8298  \n",
      "& 0.7807 & 0.8046 & 0.8327 & 0.6663 & 0.6778 & 0.5979 & 0.7574 & 0.8298  \n",
      "Downstream Model: lr\n",
      "RF: 0.7791 RVAE: 0.8058 RVAE+: 0.8305 CCS: 0.6667 KNN: 0.6755 TOAO: 0.7047 MWOC: 0.7483 Picket: 0.8335  \n",
      "& 0.7791 & 0.8058 & 0.8305 & 0.6667 & 0.6755 & 0.7047 & 0.7483 & 0.8335  \n",
      "---------------------------------------------\n",
      "Noise Type: system\n",
      "Downstream Model: nn\n",
      "RF: 0.6629 RVAE: 0.2177 RVAE+: 0.3795 CCS: 0.6876 KNN: 0.6661 TOAO: 0.3826 MWOC: 0.4811 Picket: 0.4436  \n",
      "& 0.6629 & 0.2177 & 0.3795 & 0.6876 & 0.6661 & 0.3826 & 0.4811 & 0.4436  \n",
      "Downstream Model: svm\n",
      "RF: 0.6090 RVAE: 0.1308 RVAE+: 0.4277 CCS: 0.6667 KNN: 0.6085 TOAO: 0.4347 MWOC: 0.7794 Picket: 0.5521  \n",
      "& 0.6090 & 0.1308 & 0.4277 & 0.6667 & 0.6085 & 0.4347 & 0.7794 & 0.5521  \n",
      "Downstream Model: lr\n",
      "RF: 0.5944 RVAE: 0.1106 RVAE+: 0.3764 CCS: 0.6667 KNN: 0.6347 TOAO: 0.2722 MWOC: 0.7974 Picket: 0.5245  \n",
      "& 0.5944 & 0.1106 & 0.3764 & 0.6667 & 0.6347 & 0.2722 & 0.7974 & 0.5245  \n",
      "---------------------------------------------\n",
      "Noise Type: adv\n",
      "Downstream Model: nn\n",
      "RF: 0.7812 RVAE: 0.6914 RVAE+: 0.7802 CCS: 0.5903 KNN: 0.6659 TOAO: 0.6665 MWOC: 0.5687 Picket: 0.7790  \n",
      "& 0.7812 & 0.6914 & 0.7802 & 0.5903 & 0.6659 & 0.6665 & 0.5687 & 0.7790  \n",
      "Downstream Model: svm\n",
      "RF: 0.8710 RVAE: 0.6972 RVAE+: 0.8750 CCS: 0.6140 KNN: 0.6670 TOAO: 0.6579 MWOC: 0.8011 Picket: 0.8812  \n",
      "& 0.8710 & 0.6972 & 0.8750 & 0.6140 & 0.6670 & 0.6579 & 0.8011 & 0.8812  \n",
      "Downstream Model: lr\n",
      "RF: 0.8490 RVAE: 0.6939 RVAE+: 0.8579 CCS: 0.5985 KNN: 0.6655 TOAO: 0.6375 MWOC: 0.7677 Picket: 0.8646  \n",
      "& 0.8490 & 0.6939 & 0.8579 & 0.5985 & 0.6655 & 0.6375 & 0.7677 & 0.8646  \n"
     ]
    }
   ],
   "source": [
    "printResTestTimeExact(dataset, level='medium', \n",
    "                      ntype_group = (['random', 'system', 'adv'] if runAdv else ['random', 'system']))"
   ]
  },
  {
   "cell_type": "code",
   "execution_count": null,
   "metadata": {},
   "outputs": [],
   "source": []
  }
 ],
 "metadata": {
  "kernelspec": {
   "display_name": "Python 3",
   "language": "python",
   "name": "python3"
  },
  "language_info": {
   "codemirror_mode": {
    "name": "ipython",
    "version": 3
   },
   "file_extension": ".py",
   "mimetype": "text/x-python",
   "name": "python",
   "nbconvert_exporter": "python",
   "pygments_lexer": "ipython3",
   "version": "3.7.6"
  }
 },
 "nbformat": 4,
 "nbformat_minor": 4
}
